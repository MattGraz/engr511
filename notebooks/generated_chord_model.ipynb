{
 "cells": [
  {
   "cell_type": "code",
   "execution_count": 1,
   "metadata": {},
   "outputs": [
    {
     "name": "stderr",
     "output_type": "stream",
     "text": [
      "Using TensorFlow backend.\n"
     ]
    }
   ],
   "source": [
    "from tqdm import tqdm_notebook as tqdm\n",
    "import matplotlib.pyplot as plt\n",
    "from glob import glob\n",
    "import pandas as pd\n",
    "import numpy as np\n",
    "import librosa\n",
    "from livelossplot import PlotLossesKeras"
   ]
  },
  {
   "cell_type": "code",
   "execution_count": 2,
   "metadata": {},
   "outputs": [],
   "source": [
    "from keras.models import Model\n",
    "from keras.layers import Input, Dense, Softmax, Dropout, BatchNormalization, Activation\n",
    "\n",
    "from keras.utils import to_categorical\n",
    "\n",
    "from sklearn.preprocessing import LabelEncoder\n",
    "\n",
    "import keras"
   ]
  },
  {
   "cell_type": "markdown",
   "metadata": {},
   "source": [
    "# Preprocessing\n",
    "\n",
    "From generated chords, get the following:\n",
    "\n",
    "- Chord name (A, B, C, D...)\n",
    "- Chord type (major, minor, dimishished, diminished 7, etc.)\n",
    "- instrument type"
   ]
  },
  {
   "cell_type": "code",
   "execution_count": 3,
   "metadata": {},
   "outputs": [],
   "source": [
    "chord_filenames = glob(\"data/nsynth-train/generated_chords/*.wav\")"
   ]
  },
  {
   "cell_type": "code",
   "execution_count": 4,
   "metadata": {},
   "outputs": [
    {
     "data": {
      "text/plain": [
       "240056"
      ]
     },
     "execution_count": 4,
     "metadata": {},
     "output_type": "execute_result"
    }
   ],
   "source": [
    "len(chord_filenames)"
   ]
  },
  {
   "cell_type": "code",
   "execution_count": 5,
   "metadata": {},
   "outputs": [],
   "source": [
    "from collections import namedtuple\n",
    "def get_chord_metadata_from_filename(filename):\n",
    "    filename = filename.split(\"/\")[-1]\n",
    "    metadata_data = filename.split(\"_\")\n",
    "    meta = namedtuple(\"metadata\", \"chord_name chord_name_base chord_type instrument_family instrument_source\")\n",
    "    out = meta(chord_name=metadata_data[0],\n",
    "               chord_name_base=''.join([i for i in metadata_data[0] if not i.isdigit()]),\n",
    "               chord_type=metadata_data[1],\n",
    "               instrument_family=metadata_data[2],\n",
    "               instrument_source=metadata_data[3])\n",
    "    \n",
    "    return out"
   ]
  },
  {
   "cell_type": "code",
   "execution_count": 6,
   "metadata": {},
   "outputs": [
    {
     "data": {
      "application/vnd.jupyter.widget-view+json": {
       "model_id": "cf1d69acf2444c7b91dd84a5ebbf0801",
       "version_major": 2,
       "version_minor": 0
      },
      "text/plain": [
       "HBox(children=(IntProgress(value=0, max=240056), HTML(value='')))"
      ]
     },
     "metadata": {},
     "output_type": "display_data"
    },
    {
     "name": "stdout",
     "output_type": "stream",
     "text": [
      "\n"
     ]
    }
   ],
   "source": [
    "# Get metadata from each filename\n",
    "metadata = [get_chord_metadata_from_filename(file) for file in tqdm(chord_filenames)]"
   ]
  },
  {
   "cell_type": "code",
   "execution_count": 7,
   "metadata": {},
   "outputs": [],
   "source": [
    "metadata_df = pd.DataFrame.from_records(metadata)\n",
    "metadata_df.columns = [\"chord_name\", \"chord_name_base\", \"chord_type\", \"instrument_family\", \"instrument_source\"]\n",
    "metadata_df['filename'] = chord_filenames"
   ]
  },
  {
   "cell_type": "code",
   "execution_count": 8,
   "metadata": {
    "scrolled": true
   },
   "outputs": [
    {
     "data": {
      "text/html": [
       "<div>\n",
       "<style scoped>\n",
       "    .dataframe tbody tr th:only-of-type {\n",
       "        vertical-align: middle;\n",
       "    }\n",
       "\n",
       "    .dataframe tbody tr th {\n",
       "        vertical-align: top;\n",
       "    }\n",
       "\n",
       "    .dataframe thead th {\n",
       "        text-align: right;\n",
       "    }\n",
       "</style>\n",
       "<table border=\"1\" class=\"dataframe\">\n",
       "  <thead>\n",
       "    <tr style=\"text-align: right;\">\n",
       "      <th></th>\n",
       "      <th>chord_name</th>\n",
       "      <th>chord_name_base</th>\n",
       "      <th>chord_type</th>\n",
       "      <th>instrument_family</th>\n",
       "      <th>instrument_source</th>\n",
       "      <th>filename</th>\n",
       "    </tr>\n",
       "  </thead>\n",
       "  <tbody>\n",
       "    <tr>\n",
       "      <th>0</th>\n",
       "      <td>G#5</td>\n",
       "      <td>G#</td>\n",
       "      <td>min7</td>\n",
       "      <td>string</td>\n",
       "      <td>acoustic</td>\n",
       "      <td>data/nsynth-train/generated_chords/G#5_min7_st...</td>\n",
       "    </tr>\n",
       "    <tr>\n",
       "      <th>1</th>\n",
       "      <td>G5</td>\n",
       "      <td>G</td>\n",
       "      <td>sus2</td>\n",
       "      <td>string</td>\n",
       "      <td>acoustic</td>\n",
       "      <td>data/nsynth-train/generated_chords/G5_sus2_str...</td>\n",
       "    </tr>\n",
       "    <tr>\n",
       "      <th>2</th>\n",
       "      <td>G6</td>\n",
       "      <td>G</td>\n",
       "      <td>maj</td>\n",
       "      <td>string</td>\n",
       "      <td>acoustic</td>\n",
       "      <td>data/nsynth-train/generated_chords/G6_maj_stri...</td>\n",
       "    </tr>\n",
       "    <tr>\n",
       "      <th>3</th>\n",
       "      <td>D6</td>\n",
       "      <td>D</td>\n",
       "      <td>open5</td>\n",
       "      <td>string</td>\n",
       "      <td>acoustic</td>\n",
       "      <td>data/nsynth-train/generated_chords/D6_open5_st...</td>\n",
       "    </tr>\n",
       "    <tr>\n",
       "      <th>4</th>\n",
       "      <td>A6</td>\n",
       "      <td>A</td>\n",
       "      <td>min7</td>\n",
       "      <td>string</td>\n",
       "      <td>acoustic</td>\n",
       "      <td>data/nsynth-train/generated_chords/A6_min7_str...</td>\n",
       "    </tr>\n",
       "    <tr>\n",
       "      <th>5</th>\n",
       "      <td>A5</td>\n",
       "      <td>A</td>\n",
       "      <td>min</td>\n",
       "      <td>keyboard</td>\n",
       "      <td>acoustic</td>\n",
       "      <td>data/nsynth-train/generated_chords/A5_min_keyb...</td>\n",
       "    </tr>\n",
       "    <tr>\n",
       "      <th>6</th>\n",
       "      <td>F#6</td>\n",
       "      <td>F#</td>\n",
       "      <td>min</td>\n",
       "      <td>keyboard</td>\n",
       "      <td>acoustic</td>\n",
       "      <td>data/nsynth-train/generated_chords/F#6_min_key...</td>\n",
       "    </tr>\n",
       "    <tr>\n",
       "      <th>7</th>\n",
       "      <td>B7</td>\n",
       "      <td>B</td>\n",
       "      <td>maj</td>\n",
       "      <td>guitar</td>\n",
       "      <td>acoustic</td>\n",
       "      <td>data/nsynth-train/generated_chords/B7_maj_guit...</td>\n",
       "    </tr>\n",
       "    <tr>\n",
       "      <th>8</th>\n",
       "      <td>D6</td>\n",
       "      <td>D</td>\n",
       "      <td>sus4</td>\n",
       "      <td>guitar</td>\n",
       "      <td>acoustic</td>\n",
       "      <td>data/nsynth-train/generated_chords/D6_sus4_gui...</td>\n",
       "    </tr>\n",
       "    <tr>\n",
       "      <th>9</th>\n",
       "      <td>G2</td>\n",
       "      <td>G</td>\n",
       "      <td>aug7</td>\n",
       "      <td>keyboard</td>\n",
       "      <td>acoustic</td>\n",
       "      <td>data/nsynth-train/generated_chords/G2_aug7_key...</td>\n",
       "    </tr>\n",
       "    <tr>\n",
       "      <th>10</th>\n",
       "      <td>C#6</td>\n",
       "      <td>C#</td>\n",
       "      <td>sus4</td>\n",
       "      <td>string</td>\n",
       "      <td>acoustic</td>\n",
       "      <td>data/nsynth-train/generated_chords/C#6_sus4_st...</td>\n",
       "    </tr>\n",
       "    <tr>\n",
       "      <th>11</th>\n",
       "      <td>E5</td>\n",
       "      <td>E</td>\n",
       "      <td>min7</td>\n",
       "      <td>guitar</td>\n",
       "      <td>acoustic</td>\n",
       "      <td>data/nsynth-train/generated_chords/E5_min7_gui...</td>\n",
       "    </tr>\n",
       "    <tr>\n",
       "      <th>12</th>\n",
       "      <td>D#4</td>\n",
       "      <td>D#</td>\n",
       "      <td>open5</td>\n",
       "      <td>keyboard</td>\n",
       "      <td>acoustic</td>\n",
       "      <td>data/nsynth-train/generated_chords/D#4_open5_k...</td>\n",
       "    </tr>\n",
       "    <tr>\n",
       "      <th>13</th>\n",
       "      <td>E3</td>\n",
       "      <td>E</td>\n",
       "      <td>sus2</td>\n",
       "      <td>bass</td>\n",
       "      <td>acoustic</td>\n",
       "      <td>data/nsynth-train/generated_chords/E3_sus2_bas...</td>\n",
       "    </tr>\n",
       "    <tr>\n",
       "      <th>14</th>\n",
       "      <td>C#6</td>\n",
       "      <td>C#</td>\n",
       "      <td>sus2</td>\n",
       "      <td>string</td>\n",
       "      <td>acoustic</td>\n",
       "      <td>data/nsynth-train/generated_chords/C#6_sus2_st...</td>\n",
       "    </tr>\n",
       "    <tr>\n",
       "      <th>15</th>\n",
       "      <td>E4</td>\n",
       "      <td>E</td>\n",
       "      <td>maj7</td>\n",
       "      <td>guitar</td>\n",
       "      <td>acoustic</td>\n",
       "      <td>data/nsynth-train/generated_chords/E4_maj7_gui...</td>\n",
       "    </tr>\n",
       "    <tr>\n",
       "      <th>16</th>\n",
       "      <td>D5</td>\n",
       "      <td>D</td>\n",
       "      <td>open5</td>\n",
       "      <td>string</td>\n",
       "      <td>acoustic</td>\n",
       "      <td>data/nsynth-train/generated_chords/D5_open5_st...</td>\n",
       "    </tr>\n",
       "    <tr>\n",
       "      <th>17</th>\n",
       "      <td>G#2</td>\n",
       "      <td>G#</td>\n",
       "      <td>min</td>\n",
       "      <td>keyboard</td>\n",
       "      <td>acoustic</td>\n",
       "      <td>data/nsynth-train/generated_chords/G#2_min_key...</td>\n",
       "    </tr>\n",
       "    <tr>\n",
       "      <th>18</th>\n",
       "      <td>C#5</td>\n",
       "      <td>C#</td>\n",
       "      <td>open5</td>\n",
       "      <td>guitar</td>\n",
       "      <td>acoustic</td>\n",
       "      <td>data/nsynth-train/generated_chords/C#5_open5_g...</td>\n",
       "    </tr>\n",
       "    <tr>\n",
       "      <th>19</th>\n",
       "      <td>D#6</td>\n",
       "      <td>D#</td>\n",
       "      <td>dim7</td>\n",
       "      <td>keyboard</td>\n",
       "      <td>acoustic</td>\n",
       "      <td>data/nsynth-train/generated_chords/D#6_dim7_ke...</td>\n",
       "    </tr>\n",
       "    <tr>\n",
       "      <th>20</th>\n",
       "      <td>D2</td>\n",
       "      <td>D</td>\n",
       "      <td>maj</td>\n",
       "      <td>keyboard</td>\n",
       "      <td>acoustic</td>\n",
       "      <td>data/nsynth-train/generated_chords/D2_maj_keyb...</td>\n",
       "    </tr>\n",
       "    <tr>\n",
       "      <th>21</th>\n",
       "      <td>F#4</td>\n",
       "      <td>F#</td>\n",
       "      <td>maj</td>\n",
       "      <td>guitar</td>\n",
       "      <td>acoustic</td>\n",
       "      <td>data/nsynth-train/generated_chords/F#4_maj_gui...</td>\n",
       "    </tr>\n",
       "    <tr>\n",
       "      <th>22</th>\n",
       "      <td>D3</td>\n",
       "      <td>D</td>\n",
       "      <td>min7</td>\n",
       "      <td>string</td>\n",
       "      <td>acoustic</td>\n",
       "      <td>data/nsynth-train/generated_chords/D3_min7_str...</td>\n",
       "    </tr>\n",
       "    <tr>\n",
       "      <th>23</th>\n",
       "      <td>C5</td>\n",
       "      <td>C</td>\n",
       "      <td>sus4</td>\n",
       "      <td>string</td>\n",
       "      <td>acoustic</td>\n",
       "      <td>data/nsynth-train/generated_chords/C5_sus4_str...</td>\n",
       "    </tr>\n",
       "    <tr>\n",
       "      <th>24</th>\n",
       "      <td>G7</td>\n",
       "      <td>G</td>\n",
       "      <td>aug7</td>\n",
       "      <td>guitar</td>\n",
       "      <td>acoustic</td>\n",
       "      <td>data/nsynth-train/generated_chords/G7_aug7_gui...</td>\n",
       "    </tr>\n",
       "    <tr>\n",
       "      <th>25</th>\n",
       "      <td>F#6</td>\n",
       "      <td>F#</td>\n",
       "      <td>maj</td>\n",
       "      <td>string</td>\n",
       "      <td>acoustic</td>\n",
       "      <td>data/nsynth-train/generated_chords/F#6_maj_str...</td>\n",
       "    </tr>\n",
       "    <tr>\n",
       "      <th>26</th>\n",
       "      <td>D5</td>\n",
       "      <td>D</td>\n",
       "      <td>sus4</td>\n",
       "      <td>string</td>\n",
       "      <td>acoustic</td>\n",
       "      <td>data/nsynth-train/generated_chords/D5_sus4_str...</td>\n",
       "    </tr>\n",
       "    <tr>\n",
       "      <th>27</th>\n",
       "      <td>F3</td>\n",
       "      <td>F</td>\n",
       "      <td>aug</td>\n",
       "      <td>string</td>\n",
       "      <td>acoustic</td>\n",
       "      <td>data/nsynth-train/generated_chords/F3_aug_stri...</td>\n",
       "    </tr>\n",
       "    <tr>\n",
       "      <th>28</th>\n",
       "      <td>A1</td>\n",
       "      <td>A</td>\n",
       "      <td>maj7</td>\n",
       "      <td>keyboard</td>\n",
       "      <td>acoustic</td>\n",
       "      <td>data/nsynth-train/generated_chords/A1_maj7_key...</td>\n",
       "    </tr>\n",
       "    <tr>\n",
       "      <th>29</th>\n",
       "      <td>A5</td>\n",
       "      <td>A</td>\n",
       "      <td>min7</td>\n",
       "      <td>guitar</td>\n",
       "      <td>acoustic</td>\n",
       "      <td>data/nsynth-train/generated_chords/A5_min7_gui...</td>\n",
       "    </tr>\n",
       "    <tr>\n",
       "      <th>...</th>\n",
       "      <td>...</td>\n",
       "      <td>...</td>\n",
       "      <td>...</td>\n",
       "      <td>...</td>\n",
       "      <td>...</td>\n",
       "      <td>...</td>\n",
       "    </tr>\n",
       "    <tr>\n",
       "      <th>240026</th>\n",
       "      <td>F#7</td>\n",
       "      <td>F#</td>\n",
       "      <td>maj</td>\n",
       "      <td>guitar</td>\n",
       "      <td>acoustic</td>\n",
       "      <td>data/nsynth-train/generated_chords/F#7_maj_gui...</td>\n",
       "    </tr>\n",
       "    <tr>\n",
       "      <th>240027</th>\n",
       "      <td>C#6</td>\n",
       "      <td>C#</td>\n",
       "      <td>open5</td>\n",
       "      <td>guitar</td>\n",
       "      <td>acoustic</td>\n",
       "      <td>data/nsynth-train/generated_chords/C#6_open5_g...</td>\n",
       "    </tr>\n",
       "    <tr>\n",
       "      <th>240028</th>\n",
       "      <td>F5</td>\n",
       "      <td>F</td>\n",
       "      <td>maj</td>\n",
       "      <td>keyboard</td>\n",
       "      <td>acoustic</td>\n",
       "      <td>data/nsynth-train/generated_chords/F5_maj_keyb...</td>\n",
       "    </tr>\n",
       "    <tr>\n",
       "      <th>240029</th>\n",
       "      <td>B7</td>\n",
       "      <td>B</td>\n",
       "      <td>sus2</td>\n",
       "      <td>keyboard</td>\n",
       "      <td>acoustic</td>\n",
       "      <td>data/nsynth-train/generated_chords/B7_sus2_key...</td>\n",
       "    </tr>\n",
       "    <tr>\n",
       "      <th>240030</th>\n",
       "      <td>C3</td>\n",
       "      <td>C</td>\n",
       "      <td>maj7</td>\n",
       "      <td>keyboard</td>\n",
       "      <td>acoustic</td>\n",
       "      <td>data/nsynth-train/generated_chords/C3_maj7_key...</td>\n",
       "    </tr>\n",
       "    <tr>\n",
       "      <th>240031</th>\n",
       "      <td>D#6</td>\n",
       "      <td>D#</td>\n",
       "      <td>open5</td>\n",
       "      <td>keyboard</td>\n",
       "      <td>acoustic</td>\n",
       "      <td>data/nsynth-train/generated_chords/D#6_open5_k...</td>\n",
       "    </tr>\n",
       "    <tr>\n",
       "      <th>240032</th>\n",
       "      <td>G#5</td>\n",
       "      <td>G#</td>\n",
       "      <td>min7</td>\n",
       "      <td>string</td>\n",
       "      <td>acoustic</td>\n",
       "      <td>data/nsynth-train/generated_chords/G#5_min7_st...</td>\n",
       "    </tr>\n",
       "    <tr>\n",
       "      <th>240033</th>\n",
       "      <td>E4</td>\n",
       "      <td>E</td>\n",
       "      <td>min</td>\n",
       "      <td>keyboard</td>\n",
       "      <td>acoustic</td>\n",
       "      <td>data/nsynth-train/generated_chords/E4_min_keyb...</td>\n",
       "    </tr>\n",
       "    <tr>\n",
       "      <th>240034</th>\n",
       "      <td>C#4</td>\n",
       "      <td>C#</td>\n",
       "      <td>m7dim5</td>\n",
       "      <td>keyboard</td>\n",
       "      <td>acoustic</td>\n",
       "      <td>data/nsynth-train/generated_chords/C#4_m7dim5_...</td>\n",
       "    </tr>\n",
       "    <tr>\n",
       "      <th>240035</th>\n",
       "      <td>F4</td>\n",
       "      <td>F</td>\n",
       "      <td>maj7</td>\n",
       "      <td>guitar</td>\n",
       "      <td>acoustic</td>\n",
       "      <td>data/nsynth-train/generated_chords/F4_maj7_gui...</td>\n",
       "    </tr>\n",
       "    <tr>\n",
       "      <th>240036</th>\n",
       "      <td>C#6</td>\n",
       "      <td>C#</td>\n",
       "      <td>sus4</td>\n",
       "      <td>string</td>\n",
       "      <td>acoustic</td>\n",
       "      <td>data/nsynth-train/generated_chords/C#6_sus4_st...</td>\n",
       "    </tr>\n",
       "    <tr>\n",
       "      <th>240037</th>\n",
       "      <td>F#2</td>\n",
       "      <td>F#</td>\n",
       "      <td>maj</td>\n",
       "      <td>guitar</td>\n",
       "      <td>acoustic</td>\n",
       "      <td>data/nsynth-train/generated_chords/F#2_maj_gui...</td>\n",
       "    </tr>\n",
       "    <tr>\n",
       "      <th>240038</th>\n",
       "      <td>D#6</td>\n",
       "      <td>D#</td>\n",
       "      <td>min</td>\n",
       "      <td>keyboard</td>\n",
       "      <td>acoustic</td>\n",
       "      <td>data/nsynth-train/generated_chords/D#6_min_key...</td>\n",
       "    </tr>\n",
       "    <tr>\n",
       "      <th>240039</th>\n",
       "      <td>C#3</td>\n",
       "      <td>C#</td>\n",
       "      <td>sus2</td>\n",
       "      <td>string</td>\n",
       "      <td>acoustic</td>\n",
       "      <td>data/nsynth-train/generated_chords/C#3_sus2_st...</td>\n",
       "    </tr>\n",
       "    <tr>\n",
       "      <th>240040</th>\n",
       "      <td>A#6</td>\n",
       "      <td>A#</td>\n",
       "      <td>dim7</td>\n",
       "      <td>guitar</td>\n",
       "      <td>acoustic</td>\n",
       "      <td>data/nsynth-train/generated_chords/A#6_dim7_gu...</td>\n",
       "    </tr>\n",
       "    <tr>\n",
       "      <th>240041</th>\n",
       "      <td>B6</td>\n",
       "      <td>B</td>\n",
       "      <td>min7</td>\n",
       "      <td>string</td>\n",
       "      <td>acoustic</td>\n",
       "      <td>data/nsynth-train/generated_chords/B6_min7_str...</td>\n",
       "    </tr>\n",
       "    <tr>\n",
       "      <th>240042</th>\n",
       "      <td>D5</td>\n",
       "      <td>D</td>\n",
       "      <td>open5</td>\n",
       "      <td>string</td>\n",
       "      <td>acoustic</td>\n",
       "      <td>data/nsynth-train/generated_chords/D5_open5_st...</td>\n",
       "    </tr>\n",
       "    <tr>\n",
       "      <th>240043</th>\n",
       "      <td>D8</td>\n",
       "      <td>D</td>\n",
       "      <td>min7</td>\n",
       "      <td>guitar</td>\n",
       "      <td>acoustic</td>\n",
       "      <td>data/nsynth-train/generated_chords/D8_min7_gui...</td>\n",
       "    </tr>\n",
       "    <tr>\n",
       "      <th>240044</th>\n",
       "      <td>E4</td>\n",
       "      <td>E</td>\n",
       "      <td>min</td>\n",
       "      <td>guitar</td>\n",
       "      <td>acoustic</td>\n",
       "      <td>data/nsynth-train/generated_chords/E4_min_guit...</td>\n",
       "    </tr>\n",
       "    <tr>\n",
       "      <th>240045</th>\n",
       "      <td>C5</td>\n",
       "      <td>C</td>\n",
       "      <td>sus2</td>\n",
       "      <td>keyboard</td>\n",
       "      <td>acoustic</td>\n",
       "      <td>data/nsynth-train/generated_chords/C5_sus2_key...</td>\n",
       "    </tr>\n",
       "    <tr>\n",
       "      <th>240046</th>\n",
       "      <td>G6</td>\n",
       "      <td>G</td>\n",
       "      <td>sus4</td>\n",
       "      <td>guitar</td>\n",
       "      <td>acoustic</td>\n",
       "      <td>data/nsynth-train/generated_chords/G6_sus4_gui...</td>\n",
       "    </tr>\n",
       "    <tr>\n",
       "      <th>240047</th>\n",
       "      <td>B1</td>\n",
       "      <td>B</td>\n",
       "      <td>maj7</td>\n",
       "      <td>keyboard</td>\n",
       "      <td>acoustic</td>\n",
       "      <td>data/nsynth-train/generated_chords/B1_maj7_key...</td>\n",
       "    </tr>\n",
       "    <tr>\n",
       "      <th>240048</th>\n",
       "      <td>D#4</td>\n",
       "      <td>D#</td>\n",
       "      <td>sus4</td>\n",
       "      <td>guitar</td>\n",
       "      <td>acoustic</td>\n",
       "      <td>data/nsynth-train/generated_chords/D#4_sus4_gu...</td>\n",
       "    </tr>\n",
       "    <tr>\n",
       "      <th>240049</th>\n",
       "      <td>G#5</td>\n",
       "      <td>G#</td>\n",
       "      <td>dim7</td>\n",
       "      <td>keyboard</td>\n",
       "      <td>acoustic</td>\n",
       "      <td>data/nsynth-train/generated_chords/G#5_dim7_ke...</td>\n",
       "    </tr>\n",
       "    <tr>\n",
       "      <th>240050</th>\n",
       "      <td>B6</td>\n",
       "      <td>B</td>\n",
       "      <td>m7dim5</td>\n",
       "      <td>guitar</td>\n",
       "      <td>acoustic</td>\n",
       "      <td>data/nsynth-train/generated_chords/B6_m7dim5_g...</td>\n",
       "    </tr>\n",
       "    <tr>\n",
       "      <th>240051</th>\n",
       "      <td>C5</td>\n",
       "      <td>C</td>\n",
       "      <td>sus4</td>\n",
       "      <td>string</td>\n",
       "      <td>acoustic</td>\n",
       "      <td>data/nsynth-train/generated_chords/C5_sus4_str...</td>\n",
       "    </tr>\n",
       "    <tr>\n",
       "      <th>240052</th>\n",
       "      <td>G7</td>\n",
       "      <td>G</td>\n",
       "      <td>maj</td>\n",
       "      <td>guitar</td>\n",
       "      <td>acoustic</td>\n",
       "      <td>data/nsynth-train/generated_chords/G7_maj_guit...</td>\n",
       "    </tr>\n",
       "    <tr>\n",
       "      <th>240053</th>\n",
       "      <td>A3</td>\n",
       "      <td>A</td>\n",
       "      <td>sus4</td>\n",
       "      <td>guitar</td>\n",
       "      <td>acoustic</td>\n",
       "      <td>data/nsynth-train/generated_chords/A3_sus4_gui...</td>\n",
       "    </tr>\n",
       "    <tr>\n",
       "      <th>240054</th>\n",
       "      <td>F#3</td>\n",
       "      <td>F#</td>\n",
       "      <td>sus4</td>\n",
       "      <td>keyboard</td>\n",
       "      <td>acoustic</td>\n",
       "      <td>data/nsynth-train/generated_chords/F#3_sus4_ke...</td>\n",
       "    </tr>\n",
       "    <tr>\n",
       "      <th>240055</th>\n",
       "      <td>D3</td>\n",
       "      <td>D</td>\n",
       "      <td>min7</td>\n",
       "      <td>string</td>\n",
       "      <td>acoustic</td>\n",
       "      <td>data/nsynth-train/generated_chords/D3_min7_str...</td>\n",
       "    </tr>\n",
       "  </tbody>\n",
       "</table>\n",
       "<p>240056 rows × 6 columns</p>\n",
       "</div>"
      ],
      "text/plain": [
       "       chord_name chord_name_base chord_type instrument_family  \\\n",
       "0             G#5              G#       min7            string   \n",
       "1              G5               G       sus2            string   \n",
       "2              G6               G        maj            string   \n",
       "3              D6               D      open5            string   \n",
       "4              A6               A       min7            string   \n",
       "5              A5               A        min          keyboard   \n",
       "6             F#6              F#        min          keyboard   \n",
       "7              B7               B        maj            guitar   \n",
       "8              D6               D       sus4            guitar   \n",
       "9              G2               G       aug7          keyboard   \n",
       "10            C#6              C#       sus4            string   \n",
       "11             E5               E       min7            guitar   \n",
       "12            D#4              D#      open5          keyboard   \n",
       "13             E3               E       sus2              bass   \n",
       "14            C#6              C#       sus2            string   \n",
       "15             E4               E       maj7            guitar   \n",
       "16             D5               D      open5            string   \n",
       "17            G#2              G#        min          keyboard   \n",
       "18            C#5              C#      open5            guitar   \n",
       "19            D#6              D#       dim7          keyboard   \n",
       "20             D2               D        maj          keyboard   \n",
       "21            F#4              F#        maj            guitar   \n",
       "22             D3               D       min7            string   \n",
       "23             C5               C       sus4            string   \n",
       "24             G7               G       aug7            guitar   \n",
       "25            F#6              F#        maj            string   \n",
       "26             D5               D       sus4            string   \n",
       "27             F3               F        aug            string   \n",
       "28             A1               A       maj7          keyboard   \n",
       "29             A5               A       min7            guitar   \n",
       "...           ...             ...        ...               ...   \n",
       "240026        F#7              F#        maj            guitar   \n",
       "240027        C#6              C#      open5            guitar   \n",
       "240028         F5               F        maj          keyboard   \n",
       "240029         B7               B       sus2          keyboard   \n",
       "240030         C3               C       maj7          keyboard   \n",
       "240031        D#6              D#      open5          keyboard   \n",
       "240032        G#5              G#       min7            string   \n",
       "240033         E4               E        min          keyboard   \n",
       "240034        C#4              C#     m7dim5          keyboard   \n",
       "240035         F4               F       maj7            guitar   \n",
       "240036        C#6              C#       sus4            string   \n",
       "240037        F#2              F#        maj            guitar   \n",
       "240038        D#6              D#        min          keyboard   \n",
       "240039        C#3              C#       sus2            string   \n",
       "240040        A#6              A#       dim7            guitar   \n",
       "240041         B6               B       min7            string   \n",
       "240042         D5               D      open5            string   \n",
       "240043         D8               D       min7            guitar   \n",
       "240044         E4               E        min            guitar   \n",
       "240045         C5               C       sus2          keyboard   \n",
       "240046         G6               G       sus4            guitar   \n",
       "240047         B1               B       maj7          keyboard   \n",
       "240048        D#4              D#       sus4            guitar   \n",
       "240049        G#5              G#       dim7          keyboard   \n",
       "240050         B6               B     m7dim5            guitar   \n",
       "240051         C5               C       sus4            string   \n",
       "240052         G7               G        maj            guitar   \n",
       "240053         A3               A       sus4            guitar   \n",
       "240054        F#3              F#       sus4          keyboard   \n",
       "240055         D3               D       min7            string   \n",
       "\n",
       "       instrument_source                                           filename  \n",
       "0               acoustic  data/nsynth-train/generated_chords/G#5_min7_st...  \n",
       "1               acoustic  data/nsynth-train/generated_chords/G5_sus2_str...  \n",
       "2               acoustic  data/nsynth-train/generated_chords/G6_maj_stri...  \n",
       "3               acoustic  data/nsynth-train/generated_chords/D6_open5_st...  \n",
       "4               acoustic  data/nsynth-train/generated_chords/A6_min7_str...  \n",
       "5               acoustic  data/nsynth-train/generated_chords/A5_min_keyb...  \n",
       "6               acoustic  data/nsynth-train/generated_chords/F#6_min_key...  \n",
       "7               acoustic  data/nsynth-train/generated_chords/B7_maj_guit...  \n",
       "8               acoustic  data/nsynth-train/generated_chords/D6_sus4_gui...  \n",
       "9               acoustic  data/nsynth-train/generated_chords/G2_aug7_key...  \n",
       "10              acoustic  data/nsynth-train/generated_chords/C#6_sus4_st...  \n",
       "11              acoustic  data/nsynth-train/generated_chords/E5_min7_gui...  \n",
       "12              acoustic  data/nsynth-train/generated_chords/D#4_open5_k...  \n",
       "13              acoustic  data/nsynth-train/generated_chords/E3_sus2_bas...  \n",
       "14              acoustic  data/nsynth-train/generated_chords/C#6_sus2_st...  \n",
       "15              acoustic  data/nsynth-train/generated_chords/E4_maj7_gui...  \n",
       "16              acoustic  data/nsynth-train/generated_chords/D5_open5_st...  \n",
       "17              acoustic  data/nsynth-train/generated_chords/G#2_min_key...  \n",
       "18              acoustic  data/nsynth-train/generated_chords/C#5_open5_g...  \n",
       "19              acoustic  data/nsynth-train/generated_chords/D#6_dim7_ke...  \n",
       "20              acoustic  data/nsynth-train/generated_chords/D2_maj_keyb...  \n",
       "21              acoustic  data/nsynth-train/generated_chords/F#4_maj_gui...  \n",
       "22              acoustic  data/nsynth-train/generated_chords/D3_min7_str...  \n",
       "23              acoustic  data/nsynth-train/generated_chords/C5_sus4_str...  \n",
       "24              acoustic  data/nsynth-train/generated_chords/G7_aug7_gui...  \n",
       "25              acoustic  data/nsynth-train/generated_chords/F#6_maj_str...  \n",
       "26              acoustic  data/nsynth-train/generated_chords/D5_sus4_str...  \n",
       "27              acoustic  data/nsynth-train/generated_chords/F3_aug_stri...  \n",
       "28              acoustic  data/nsynth-train/generated_chords/A1_maj7_key...  \n",
       "29              acoustic  data/nsynth-train/generated_chords/A5_min7_gui...  \n",
       "...                  ...                                                ...  \n",
       "240026          acoustic  data/nsynth-train/generated_chords/F#7_maj_gui...  \n",
       "240027          acoustic  data/nsynth-train/generated_chords/C#6_open5_g...  \n",
       "240028          acoustic  data/nsynth-train/generated_chords/F5_maj_keyb...  \n",
       "240029          acoustic  data/nsynth-train/generated_chords/B7_sus2_key...  \n",
       "240030          acoustic  data/nsynth-train/generated_chords/C3_maj7_key...  \n",
       "240031          acoustic  data/nsynth-train/generated_chords/D#6_open5_k...  \n",
       "240032          acoustic  data/nsynth-train/generated_chords/G#5_min7_st...  \n",
       "240033          acoustic  data/nsynth-train/generated_chords/E4_min_keyb...  \n",
       "240034          acoustic  data/nsynth-train/generated_chords/C#4_m7dim5_...  \n",
       "240035          acoustic  data/nsynth-train/generated_chords/F4_maj7_gui...  \n",
       "240036          acoustic  data/nsynth-train/generated_chords/C#6_sus4_st...  \n",
       "240037          acoustic  data/nsynth-train/generated_chords/F#2_maj_gui...  \n",
       "240038          acoustic  data/nsynth-train/generated_chords/D#6_min_key...  \n",
       "240039          acoustic  data/nsynth-train/generated_chords/C#3_sus2_st...  \n",
       "240040          acoustic  data/nsynth-train/generated_chords/A#6_dim7_gu...  \n",
       "240041          acoustic  data/nsynth-train/generated_chords/B6_min7_str...  \n",
       "240042          acoustic  data/nsynth-train/generated_chords/D5_open5_st...  \n",
       "240043          acoustic  data/nsynth-train/generated_chords/D8_min7_gui...  \n",
       "240044          acoustic  data/nsynth-train/generated_chords/E4_min_guit...  \n",
       "240045          acoustic  data/nsynth-train/generated_chords/C5_sus2_key...  \n",
       "240046          acoustic  data/nsynth-train/generated_chords/G6_sus4_gui...  \n",
       "240047          acoustic  data/nsynth-train/generated_chords/B1_maj7_key...  \n",
       "240048          acoustic  data/nsynth-train/generated_chords/D#4_sus4_gu...  \n",
       "240049          acoustic  data/nsynth-train/generated_chords/G#5_dim7_ke...  \n",
       "240050          acoustic  data/nsynth-train/generated_chords/B6_m7dim5_g...  \n",
       "240051          acoustic  data/nsynth-train/generated_chords/C5_sus4_str...  \n",
       "240052          acoustic  data/nsynth-train/generated_chords/G7_maj_guit...  \n",
       "240053          acoustic  data/nsynth-train/generated_chords/A3_sus4_gui...  \n",
       "240054          acoustic  data/nsynth-train/generated_chords/F#3_sus4_ke...  \n",
       "240055          acoustic  data/nsynth-train/generated_chords/D3_min7_str...  \n",
       "\n",
       "[240056 rows x 6 columns]"
      ]
     },
     "execution_count": 8,
     "metadata": {},
     "output_type": "execute_result"
    }
   ],
   "source": [
    "metadata_df"
   ]
  },
  {
   "cell_type": "code",
   "execution_count": 9,
   "metadata": {},
   "outputs": [
    {
     "data": {
      "text/plain": [
       "D     28111\n",
       "B     26900\n",
       "F#    23046\n",
       "A     21666\n",
       "E     21129\n",
       "G     20723\n",
       "G#    20290\n",
       "C#    19654\n",
       "D#    19107\n",
       "C     18126\n",
       "F     13058\n",
       "A#     8246\n",
       "Name: chord_name_base, dtype: int64"
      ]
     },
     "execution_count": 9,
     "metadata": {},
     "output_type": "execute_result"
    }
   ],
   "source": [
    "# Get counts of each of our classes\n",
    "metadata_df.chord_name_base.value_counts()"
   ]
  },
  {
   "cell_type": "code",
   "execution_count": 10,
   "metadata": {},
   "outputs": [
    {
     "data": {
      "text/plain": [
       "string      112705\n",
       "guitar       73553\n",
       "keyboard     52688\n",
       "bass          1110\n",
       "Name: instrument_family, dtype: int64"
      ]
     },
     "execution_count": 10,
     "metadata": {},
     "output_type": "execute_result"
    }
   ],
   "source": [
    "metadata_df.instrument_family.value_counts()"
   ]
  },
  {
   "cell_type": "markdown",
   "metadata": {},
   "source": [
    "# Modeling\n",
    "\n",
    "For a first pass (faster), sample 15000 chords and see if we can get a model to learn anything"
   ]
  },
  {
   "cell_type": "code",
   "execution_count": 14,
   "metadata": {},
   "outputs": [],
   "source": [
    "metadata_df_sample = metadata_df.sample(100000)\n",
    "test_df_sample = metadata_df[~(metadata_df.filename.isin(metadata_df_sample.filename))].sample(10000)"
   ]
  },
  {
   "cell_type": "code",
   "execution_count": 15,
   "metadata": {},
   "outputs": [
    {
     "data": {
      "application/vnd.jupyter.widget-view+json": {
       "model_id": "c56ecb95408b44fc8eec0ab39eee6dec",
       "version_major": 2,
       "version_minor": 0
      },
      "text/plain": [
       "HBox(children=(IntProgress(value=0, max=100000), HTML(value='')))"
      ]
     },
     "metadata": {},
     "output_type": "display_data"
    }
   ],
   "source": [
    "# Import .wav files\n",
    "train_x_input = [librosa.load(file, sr=16000, duration=1)[0] for file in tqdm(metadata_df_sample.filename)]"
   ]
  },
  {
   "cell_type": "code",
   "execution_count": 16,
   "metadata": {},
   "outputs": [
    {
     "data": {
      "application/vnd.jupyter.widget-view+json": {
       "model_id": "19667c169fd6443caeb08f7f1fa18ee0",
       "version_major": 2,
       "version_minor": 0
      },
      "text/plain": [
       "HBox(children=(IntProgress(value=0, max=10000), HTML(value='')))"
      ]
     },
     "metadata": {},
     "output_type": "display_data"
    }
   ],
   "source": [
    "test_x_input = [librosa.load(file, sr=16000, duration=1)[0] for file in tqdm(test_df_sample.filename)]"
   ]
  },
  {
   "cell_type": "code",
   "execution_count": 17,
   "metadata": {},
   "outputs": [],
   "source": [
    "import scipy.fftpack"
   ]
  },
  {
   "cell_type": "code",
   "execution_count": 18,
   "metadata": {},
   "outputs": [
    {
     "data": {
      "application/vnd.jupyter.widget-view+json": {
       "model_id": "81415713ee01424ebd1e2bf6911b13f9",
       "version_major": 2,
       "version_minor": 0
      },
      "text/plain": [
       "HBox(children=(IntProgress(value=0, max=100000), HTML(value='')))"
      ]
     },
     "metadata": {},
     "output_type": "display_data"
    }
   ],
   "source": [
    "# Convert all chords from time to frequency domain\n",
    "train_x_stft = [scipy.fftpack.fft(sound)[0:8000] for sound in tqdm(train_x_input)]\n",
    "train_x_stft = np.array(train_x_stft)"
   ]
  },
  {
   "cell_type": "code",
   "execution_count": 19,
   "metadata": {},
   "outputs": [
    {
     "data": {
      "application/vnd.jupyter.widget-view+json": {
       "model_id": "d4fbd3ac576c4293811be3b3164d45de",
       "version_major": 2,
       "version_minor": 0
      },
      "text/plain": [
       "HBox(children=(IntProgress(value=0, max=10000), HTML(value='')))"
      ]
     },
     "metadata": {},
     "output_type": "display_data"
    }
   ],
   "source": [
    "test_x_stft = [scipy.fftpack.fft(sound)[0:8000] for sound in tqdm(test_x_input)]\n",
    "test_x_stft = np.array(test_x_stft)"
   ]
  },
  {
   "cell_type": "code",
   "execution_count": 33,
   "metadata": {},
   "outputs": [],
   "source": [
    "# Create one hot matrix of instrument type\n",
    "le_note_base = LabelEncoder()\n",
    "le_note_base.fit(metadata_df_sample.chord_name_base)\n",
    "train_y_note_base = to_categorical(le_note_base.transform(metadata_df_sample.chord_name_base))\n",
    "test_y_note_base = to_categorical(le_note_base.transform(test_df_sample.chord_name_base))\n",
    "\n",
    "le_instrument_family = LabelEncoder()\n",
    "le_instrument_family.fit(metadata_df_sample.instrument_family)\n",
    "train_y_instrument_family = to_categorical(le_instrument_family.transform(metadata_df_sample.instrument_family))\n",
    "test_y_instrument_family = to_categorical(le_instrument_family.transform(test_df_sample.instrument_family))\n",
    "\n",
    "le_chord_type = LabelEncoder()\n",
    "le_chord_type.fit(metadata_df_sample.chord_type)\n",
    "train_y_chord_type = to_categorical(le_chord_type.transform(metadata_df_sample.chord_type))\n",
    "test_y_chord_type = to_categorical(le_chord_type.transform(test_df_sample.chord_type))"
   ]
  },
  {
   "cell_type": "markdown",
   "metadata": {},
   "source": [
    "## Chord Classification"
   ]
  },
  {
   "cell_type": "code",
   "execution_count": 21,
   "metadata": {},
   "outputs": [],
   "source": [
    "in_data = Input(shape=(8000, ))\n",
    "\n",
    "lay1 = Dense(50, activation='relu')(in_data)\n",
    "lay1 = BatchNormalization()(lay1)\n",
    "# lay1 = Dropout(.2)(lay1)\n",
    "\n",
    "lay2 = Dense(50, activation='relu')(lay1)\n",
    "lay2 = BatchNormalization()(lay2)\n",
    "# lay2 = Dropout(.2)(lay2)\n",
    "\n",
    "lay3 = Dense(50, activation='relu')(lay2)\n",
    "lay3 = BatchNormalization()(lay3)\n",
    "# lay3 = Dropout(.2)(lay3)\n",
    "\n",
    "output = Dense(12, activation = \"softmax\")(lay3)\n",
    "\n",
    "model = Model(inputs=[in_data],\n",
    "              outputs=[output])\n",
    "\n",
    "model.compile(optimizer=keras.optimizers.Adam(),\n",
    "              loss=\"categorical_crossentropy\",\n",
    "              metrics=['acc'])"
   ]
  },
  {
   "cell_type": "code",
   "execution_count": 22,
   "metadata": {},
   "outputs": [
    {
     "name": "stdout",
     "output_type": "stream",
     "text": [
      "_________________________________________________________________\n",
      "Layer (type)                 Output Shape              Param #   \n",
      "=================================================================\n",
      "input_1 (InputLayer)         (None, 8000)              0         \n",
      "_________________________________________________________________\n",
      "dense_1 (Dense)              (None, 50)                400050    \n",
      "_________________________________________________________________\n",
      "batch_normalization_1 (Batch (None, 50)                200       \n",
      "_________________________________________________________________\n",
      "dense_2 (Dense)              (None, 50)                2550      \n",
      "_________________________________________________________________\n",
      "batch_normalization_2 (Batch (None, 50)                200       \n",
      "_________________________________________________________________\n",
      "dense_3 (Dense)              (None, 40)                2040      \n",
      "_________________________________________________________________\n",
      "batch_normalization_3 (Batch (None, 40)                160       \n",
      "_________________________________________________________________\n",
      "dense_4 (Dense)              (None, 12)                492       \n",
      "=================================================================\n",
      "Total params: 405,692\n",
      "Trainable params: 405,412\n",
      "Non-trainable params: 280\n",
      "_________________________________________________________________\n"
     ]
    }
   ],
   "source": [
    "model.summary()"
   ]
  },
  {
   "cell_type": "code",
   "execution_count": 25,
   "metadata": {
    "scrolled": false
   },
   "outputs": [
    {
     "data": {
      "image/png": "[encoded data removed]",
      "text/plain": [
       "<Figure size 864x576 with 2 Axes>"
      ]
     },
     "metadata": {
      "needs_background": "light"
     },
     "output_type": "display_data"
    }
   ],
   "source": [
    "history = model.fit([train_x_stft],\n",
    "                    train_y_note_base,\n",
    "                    epochs=20,\n",
    "                    batch_size=32,\n",
    "                    validation_split=.20,\n",
    "                    callbacks=[PlotLossesKeras()])"
   ]
  },
  {
   "cell_type": "code",
   "execution_count": 26,
   "metadata": {},
   "outputs": [
    {
     "name": "stdout",
     "output_type": "stream",
     "text": [
      " 2304/10000 [=====>........................] - ETA: 0s"
     ]
    },
    {
     "name": "stderr",
     "output_type": "stream",
     "text": [
      "/Users/mattgraziano/miniconda3/lib/python3.6/site-packages/numpy/core/numeric.py:501: ComplexWarning: Casting complex values to real discards the imaginary part\n",
      "  return array(a, dtype, copy=False, order=order)\n"
     ]
    },
    {
     "name": "stdout",
     "output_type": "stream",
     "text": [
      "10000/10000 [==============================] - 1s 59us/step\n"
     ]
    },
    {
     "data": {
      "text/plain": [
       "[0.2723187460184097, 0.9158]"
      ]
     },
     "execution_count": 26,
     "metadata": {},
     "output_type": "execute_result"
    }
   ],
   "source": [
    "model.evaluate(test_x_stft, test_y_note_base)"
   ]
  },
  {
   "cell_type": "markdown",
   "metadata": {},
   "source": [
    "20 epochs can predict an out of sample test set with 91 percent."
   ]
  },
  {
   "cell_type": "markdown",
   "metadata": {},
   "source": [
    "## Instrument type classification"
   ]
  },
  {
   "cell_type": "code",
   "execution_count": 38,
   "metadata": {},
   "outputs": [],
   "source": [
    "in_data = Input(shape=(8000, ))\n",
    "\n",
    "lay1 = Dense(50, activation='relu')(in_data)\n",
    "lay1 = BatchNormalization()(lay1)\n",
    "# lay1 = Dropout(.2)(lay1)\n",
    "\n",
    "lay2 = Dense(50, activation='relu')(lay1)\n",
    "lay2 = BatchNormalization()(lay2)\n",
    "# lay2 = Dropout(.2)(lay2)\n",
    "\n",
    "lay3 = Dense(50, activation='relu')(lay2)\n",
    "lay3 = BatchNormalization()(lay3)\n",
    "# lay3 = Dropout(.2)(lay3)\n",
    "\n",
    "output = Dense(4, activation = \"softmax\")(lay3)\n",
    "\n",
    "model = Model(inputs=[in_data],\n",
    "              outputs=[output])\n",
    "\n",
    "model.compile(optimizer=keras.optimizers.Adam(),\n",
    "              loss=\"categorical_crossentropy\",\n",
    "              metrics=['acc'])"
   ]
  },
  {
   "cell_type": "code",
   "execution_count": 39,
   "metadata": {},
   "outputs": [
    {
     "data": {
      "image/png": "[encoded data removed]",
      "text/plain": [
       "<Figure size 864x576 with 2 Axes>"
      ]
     },
     "metadata": {
      "needs_background": "light"
     },
     "output_type": "display_data"
    }
   ],
   "source": [
    "history = model.fit([train_x_stft],\n",
    "                    train_y_instrument_family,\n",
    "                    epochs=5,\n",
    "                    batch_size=32,\n",
    "                    validation_split=.20,\n",
    "                    callbacks=[PlotLossesKeras()])"
   ]
  },
  {
   "cell_type": "code",
   "execution_count": 40,
   "metadata": {},
   "outputs": [
    {
     "name": "stdout",
     "output_type": "stream",
     "text": [
      " 2592/10000 [======>.......................] - ETA: 0s"
     ]
    },
    {
     "name": "stderr",
     "output_type": "stream",
     "text": [
      "/Users/mattgraziano/miniconda3/lib/python3.6/site-packages/numpy/core/numeric.py:501: ComplexWarning: Casting complex values to real discards the imaginary part\n",
      "  return array(a, dtype, copy=False, order=order)\n"
     ]
    },
    {
     "name": "stdout",
     "output_type": "stream",
     "text": [
      "10000/10000 [==============================] - 1s 60us/step\n"
     ]
    },
    {
     "data": {
      "text/plain": [
       "[0.017356196071207523, 0.9941]"
      ]
     },
     "execution_count": 40,
     "metadata": {},
     "output_type": "execute_result"
    }
   ],
   "source": [
    "model.evaluate(test_x_stft, test_y_instrument_family)"
   ]
  },
  {
   "cell_type": "markdown",
   "metadata": {},
   "source": [
    "We can predict our 4 initial instrument families (guitar, piano, strings, bass) with ~99% accuracy.  This instruments are fairly distinct from one another.  Would we expect our accuracy to decrease as we introduce more obscure instrument families into the dataset?"
   ]
  },
  {
   "cell_type": "markdown",
   "metadata": {},
   "source": [
    "## Chord Type"
   ]
  },
  {
   "cell_type": "code",
   "execution_count": 44,
   "metadata": {},
   "outputs": [],
   "source": [
    "in_data = Input(shape=(8000, ))\n",
    "\n",
    "lay1 = Dense(50, activation='relu')(in_data)\n",
    "lay1 = BatchNormalization()(lay1)\n",
    "# lay1 = Dropout(.2)(lay1)\n",
    "\n",
    "lay2 = Dense(50, activation='relu')(lay1)\n",
    "lay2 = BatchNormalization()(lay2)\n",
    "# lay2 = Dropout(.2)(lay2)\n",
    "\n",
    "lay3 = Dense(50, activation='relu')(lay2)\n",
    "lay3 = BatchNormalization()(lay3)\n",
    "# lay3 = Dropout(.2)(lay3)\n",
    "\n",
    "output = Dense(13, activation = \"softmax\")(lay3)\n",
    "\n",
    "model = Model(inputs=[in_data],\n",
    "              outputs=[output])\n",
    "\n",
    "model.compile(optimizer=keras.optimizers.Adam(),\n",
    "              loss=\"categorical_crossentropy\",\n",
    "              metrics=['acc'])"
   ]
  },
  {
   "cell_type": "code",
   "execution_count": 47,
   "metadata": {},
   "outputs": [
    {
     "data": {
      "image/png": "[encoded data removed]",
      "text/plain": [
       "<Figure size 864x576 with 2 Axes>"
      ]
     },
     "metadata": {
      "needs_background": "light"
     },
     "output_type": "display_data"
    }
   ],
   "source": [
    "history = model.fit([train_x_stft],\n",
    "                    train_y_chord_type,\n",
    "                    epochs=20,\n",
    "                    batch_size=32,\n",
    "                    validation_split=.20,\n",
    "                    callbacks=[PlotLossesKeras()])"
   ]
  },
  {
   "cell_type": "code",
   "execution_count": 48,
   "metadata": {},
   "outputs": [
    {
     "name": "stdout",
     "output_type": "stream",
     "text": [
      " 2496/10000 [======>.......................] - ETA: 0s"
     ]
    },
    {
     "name": "stderr",
     "output_type": "stream",
     "text": [
      "/Users/mattgraziano/miniconda3/lib/python3.6/site-packages/numpy/core/numeric.py:501: ComplexWarning: Casting complex values to real discards the imaginary part\n",
      "  return array(a, dtype, copy=False, order=order)\n"
     ]
    },
    {
     "name": "stdout",
     "output_type": "stream",
     "text": [
      "10000/10000 [==============================] - 1s 62us/step\n"
     ]
    },
    {
     "data": {
      "text/plain": [
       "[1.7319471000671387, 0.3856]"
      ]
     },
     "execution_count": 48,
     "metadata": {},
     "output_type": "execute_result"
    }
   ],
   "source": [
    "model.evaluate(test_x_stft, test_y_chord_type)"
   ]
  },
  {
   "cell_type": "markdown",
   "metadata": {},
   "source": [
    "Predicting the chord type (maj, min, dim, aug, etc.) appears to be a bit more difficult than the other categories. \n",
    "\n",
    "I wonder if this is due to more sparsity in these classes than in the others.  I suspect we may see gains here when we run with more data."
   ]
  },
  {
   "cell_type": "markdown",
   "metadata": {},
   "source": [
    "## Multi-output (predict all the predictors above in one neural net)"
   ]
  },
  {
   "cell_type": "code",
   "execution_count": 50,
   "metadata": {},
   "outputs": [],
   "source": [
    "in_data = Input(shape=(8000, ))\n",
    "\n",
    "lay1 = Dense(50, activation='relu')(in_data)\n",
    "lay1 = BatchNormalization()(lay1)\n",
    "# lay1 = Dropout(.2)(lay1)\n",
    "\n",
    "lay2 = Dense(50, activation='relu')(lay1)\n",
    "lay2 = BatchNormalization()(lay2)\n",
    "# lay2 = Dropout(.2)(lay2)\n",
    "\n",
    "lay3 = Dense(50, activation='relu')(lay2)\n",
    "lay3 = BatchNormalization()(lay3)\n",
    "# lay3 = Dropout(.2)(lay3)\n",
    "\n",
    "output_chord_note_base = Dense(12, activation = \"softmax\")(lay3)\n",
    "output_instrument_family = Dense(4, activation = \"softmax\")(lay3)\n",
    "output_chord_type = Dense(13, activation = \"softmax\")(lay3)\n",
    "\n",
    "model = Model(inputs=[in_data],\n",
    "              outputs=[output_chord_note_base, output_instrument_family, output_chord_type])\n",
    "\n",
    "model.compile(optimizer=keras.optimizers.Adam(),\n",
    "              loss=\"categorical_crossentropy\",\n",
    "              metrics=['acc'])"
   ]
  },
  {
   "cell_type": "code",
   "execution_count": 51,
   "metadata": {},
   "outputs": [
    {
     "data": {
      "image/png": "[encoded data removed]",
      "text/plain": [
       "<Figure size 864x1440 with 7 Axes>"
      ]
     },
     "metadata": {
      "needs_background": "light"
     },
     "output_type": "display_data"
    }
   ],
   "source": [
    "history = model.fit([train_x_stft],\n",
    "                    [train_y_note_base, train_y_instrument_family, train_y_chord_type],\n",
    "                    epochs=20,\n",
    "                    batch_size=32,\n",
    "                    validation_split=.20,\n",
    "                    callbacks=[PlotLossesKeras()])"
   ]
  },
  {
   "cell_type": "code",
   "execution_count": 52,
   "metadata": {},
   "outputs": [
    {
     "name": "stdout",
     "output_type": "stream",
     "text": [
      "  608/10000 [>.............................] - ETA: 2s"
     ]
    },
    {
     "name": "stderr",
     "output_type": "stream",
     "text": [
      "/Users/mattgraziano/miniconda3/lib/python3.6/site-packages/numpy/core/numeric.py:501: ComplexWarning: Casting complex values to real discards the imaginary part\n",
      "  return array(a, dtype, copy=False, order=order)\n"
     ]
    },
    {
     "name": "stdout",
     "output_type": "stream",
     "text": [
      "10000/10000 [==============================] - 3s 263us/step\n"
     ]
    },
    {
     "data": {
      "text/plain": [
       "[0.8738431469917297,\n",
       " 0.24573602641820907,\n",
       " 0.062028516425937416,\n",
       " 0.5660786041736603,\n",
       " 0.9152,\n",
       " 0.9822,\n",
       " 0.803]"
      ]
     },
     "execution_count": 52,
     "metadata": {},
     "output_type": "execute_result"
    }
   ],
   "source": [
    "model.evaluate(test_x_stft, [test_y_note_base, test_y_instrument_family, test_y_chord_type])"
   ]
  },
  {
   "cell_type": "markdown",
   "metadata": {},
   "source": [
    "A very interesting observation is that the classification accuracy for chord type is significantly higher than when it was trained alone.  This could potentially be due to a \"lucky\" random initialization of parameters.\n",
    "\n",
    "It is possible, though, that information from the other classes backpropagation adjusted the weights in such a way that helped the classification?"
   ]
  },
  {
   "cell_type": "markdown",
   "metadata": {},
   "source": [
    "# TO DOs:\n",
    "\n",
    "- Generate chords for more instruments and see if we can still get high accuracy when we increase that\n",
    "- Potentially play with more instrument sources.  All these chords are from acoustic instrumentation, but we can generate data from \"synthetic\" as well as \"electronic\" instrumentation as well\n",
    "- Run model with all data and see if we can push accuracy further\n",
    "- Play around more with model architecture and see if that does anything.  I completely 100% arbitrarily selected the one I used. "
   ]
  }
 ],
 "metadata": {
  "kernelspec": {
   "display_name": "Python 3",
   "language": "python",
   "name": "python3"
  },
  "language_info": {
   "codemirror_mode": {
    "name": "ipython",
    "version": 3
   },
   "file_extension": ".py",
   "mimetype": "text/x-python",
   "name": "python",
   "nbconvert_exporter": "python",
   "pygments_lexer": "ipython3",
   "version": "3.6.6"
  }
 },
 "nbformat": 4,
 "nbformat_minor": 2
}
