{
 "cells": [
  {
   "cell_type": "code",
   "execution_count": 2,
   "metadata": {},
   "outputs": [
    {
     "name": "stderr",
     "output_type": "stream",
     "text": [
      "Using TensorFlow backend.\n"
     ]
    }
   ],
   "source": [
    "from tqdm import tqdm_notebook as tqdm\n",
    "import matplotlib.pyplot as plt\n",
    "from glob import glob\n",
    "import pandas as pd\n",
    "import numpy as np\n",
    "import librosa\n",
    "from livelossplot import PlotLossesKeras"
   ]
  },
  {
   "cell_type": "code",
   "execution_count": 3,
   "metadata": {},
   "outputs": [],
   "source": [
    "from keras.models import Model\n",
    "from keras.layers import Input, Dense, Softmax, Dropout, BatchNormalization, Activation\n",
    "\n",
    "from keras.utils import to_categorical\n",
    "\n",
    "from sklearn.preprocessing import LabelEncoder\n",
    "\n",
    "import keras"
   ]
  },
  {
   "cell_type": "markdown",
   "metadata": {},
   "source": [
    "# Preprocessing\n",
    "\n",
    "From generated chords, get the following:\n",
    "\n",
    "- Chord name (A, B, C, D...)\n",
    "- Chord type (major, minor, dimishished, diminished 7, etc.)\n",
    "- instrument type"
   ]
  },
  {
   "cell_type": "code",
   "execution_count": 13,
   "metadata": {},
   "outputs": [],
   "source": [
    "chord_filenames = glob(\"../../data/nsynth-train/generated_chords/*.wav\")"
   ]
  },
  {
   "cell_type": "code",
   "execution_count": 14,
   "metadata": {},
   "outputs": [
    {
     "data": {
      "text/plain": [
       "240056"
      ]
     },
     "execution_count": 14,
     "metadata": {},
     "output_type": "execute_result"
    }
   ],
   "source": [
    "len(chord_filenames)"
   ]
  },
  {
   "cell_type": "code",
   "execution_count": 24,
   "metadata": {},
   "outputs": [
    {
     "data": {
      "text/plain": [
       "'../../data/nsynth-train/generated_chords/G#5_min7_string_acoustic_067_iter2.wav'"
      ]
     },
     "execution_count": 24,
     "metadata": {},
     "output_type": "execute_result"
    }
   ],
   "source": [
    "chord_filenames[0]"
   ]
  },
  {
   "cell_type": "code",
   "execution_count": 26,
   "metadata": {},
   "outputs": [],
   "source": [
    "from collections import namedtuple\n",
    "def get_chord_metadata_from_filename(filename):\n",
    "    filename = filename.split(\"/\")[-1]\n",
    "    metadata_data = filename.split(\"_\")\n",
    "    meta = namedtuple(\"metadata\", \"chord_name chord_name_base chord_type instrument_family instrument_source instrument_key\")\n",
    "    out = meta(chord_name=metadata_data[0],\n",
    "               chord_name_base=''.join([i for i in metadata_data[0] if not i.isdigit()]),\n",
    "               chord_type=metadata_data[1],\n",
    "               instrument_family=metadata_data[2],\n",
    "               instrument_source=metadata_data[3],\n",
    "               instrument_key=\"_\".join(metadata_data[2:5]))\n",
    "    \n",
    "    return out"
   ]
  },
  {
   "cell_type": "code",
   "execution_count": 27,
   "metadata": {},
   "outputs": [
    {
     "data": {
      "application/vnd.jupyter.widget-view+json": {
       "model_id": "2a40adcdb24144fa9156302ef1a27d3f",
       "version_major": 2,
       "version_minor": 0
      },
      "text/plain": [
       "HBox(children=(IntProgress(value=0, max=240056), HTML(value='')))"
      ]
     },
     "metadata": {},
     "output_type": "display_data"
    },
    {
     "name": "stdout",
     "output_type": "stream",
     "text": [
      "\n"
     ]
    }
   ],
   "source": [
    "# Get metadata from each filename\n",
    "metadata = [get_chord_metadata_from_filename(file) for file in tqdm(chord_filenames)]"
   ]
  },
  {
   "cell_type": "code",
   "execution_count": 28,
   "metadata": {},
   "outputs": [],
   "source": [
    "metadata_df = pd.DataFrame.from_records(metadata)\n",
    "metadata_df.columns = [\"chord_name\", \"chord_name_base\", \"chord_type\", \"instrument_family\", \"instrument_source\", \"instrument_key\"]\n",
    "metadata_df['filename'] = chord_filenames"
   ]
  },
  {
   "cell_type": "code",
   "execution_count": 30,
   "metadata": {},
   "outputs": [
    {
     "data": {
      "text/plain": [
       "D     28111\n",
       "B     26900\n",
       "F#    23046\n",
       "A     21666\n",
       "E     21129\n",
       "G     20723\n",
       "G#    20290\n",
       "C#    19654\n",
       "D#    19107\n",
       "C     18126\n",
       "F     13058\n",
       "A#     8246\n",
       "Name: chord_name_base, dtype: int64"
      ]
     },
     "execution_count": 30,
     "metadata": {},
     "output_type": "execute_result"
    }
   ],
   "source": [
    "# Get counts of each of our classes\n",
    "metadata_df.chord_name_base.value_counts()"
   ]
  },
  {
   "cell_type": "code",
   "execution_count": 105,
   "metadata": {},
   "outputs": [
    {
     "data": {
      "text/plain": [
       "string      112705\n",
       "guitar       73553\n",
       "keyboard     52688\n",
       "bass          1110\n",
       "Name: instrument_family, dtype: int64"
      ]
     },
     "execution_count": 105,
     "metadata": {},
     "output_type": "execute_result"
    }
   ],
   "source": [
    "metadata_df.instrument_family.value_counts()"
   ]
  },
  {
   "cell_type": "markdown",
   "metadata": {},
   "source": [
    "# Modeling\n",
    "\n",
    "For a first pass (faster), sample ~100000 chords and see if we can get a model to learn anything\n",
    "\n",
    "NOTE: We need to ensure that the testing set contains new/distinct instruments that are not in the training set.  We cannot simply do metadata_df.sample(n).  We must sample n instruments from the dataset and ensure there are distinct instruments between train/test"
   ]
  },
  {
   "cell_type": "code",
   "execution_count": 33,
   "metadata": {},
   "outputs": [],
   "source": [
    "unique_instrument_keys = metadata_df.instrument_key.unique()"
   ]
  },
  {
   "cell_type": "code",
   "execution_count": 40,
   "metadata": {},
   "outputs": [
    {
     "data": {
      "text/plain": [
       "110.4"
      ]
     },
     "execution_count": 40,
     "metadata": {},
     "output_type": "execute_result"
    }
   ],
   "source": [
    "unique_instrument_keys.shape[0]*.80"
   ]
  },
  {
   "cell_type": "code",
   "execution_count": 106,
   "metadata": {},
   "outputs": [],
   "source": [
    "# 70% of instruments in training\n",
    "# 15% of instruments in validation\n",
    "# 15% of instruments in testing\n",
    "train_instrument_keys = np.random.choice(unique_instrument_keys, int(unique_instrument_keys.shape[0]*.80))\n",
    "remaining = unique_instrument_keys[np.where(~np.isin(unique_instrument_keys, train_instrument_keys))]\n",
    "val_instrument_keys = np.random.choice(remaining, int(remaining.shape[0]*.5))\n",
    "test_instrument_keys = remaining[np.where(~np.isin(remaining, val_instrument_keys))]"
   ]
  },
  {
   "cell_type": "code",
   "execution_count": 107,
   "metadata": {
    "scrolled": true
   },
   "outputs": [
    {
     "data": {
      "text/plain": [
       "array(['string', 'guitar', 'keyboard'], dtype=object)"
      ]
     },
     "execution_count": 107,
     "metadata": {},
     "output_type": "execute_result"
    }
   ],
   "source": [
    "metadata_df[metadata_df.instrument_key.isin(val_instrument_keys)].instrument_family.unique()"
   ]
  },
  {
   "cell_type": "code",
   "execution_count": 108,
   "metadata": {},
   "outputs": [
    {
     "data": {
      "text/plain": [
       "array(['string', 'guitar', 'keyboard'], dtype=object)"
      ]
     },
     "execution_count": 108,
     "metadata": {},
     "output_type": "execute_result"
    }
   ],
   "source": [
    "metadata_df[metadata_df.instrument_key.isin(test_instrument_keys)].instrument_family.unique()"
   ]
  },
  {
   "cell_type": "code",
   "execution_count": 109,
   "metadata": {},
   "outputs": [],
   "source": [
    "train_df_sample = metadata_df[metadata_df.instrument_key.isin(train_instrument_keys)]\n",
    "val_df_sample = metadata_df[metadata_df.instrument_key.isin(val_instruement_keys)]\n",
    "test_df_sample = metadata_df[metadata_df.instrument_key.isin(test_instrument_keys)]"
   ]
  },
  {
   "cell_type": "code",
   "execution_count": 110,
   "metadata": {},
   "outputs": [
    {
     "data": {
      "application/vnd.jupyter.widget-view+json": {
       "model_id": "6553da9d7a9e4d3fbdb7d82c2ad1a41b",
       "version_major": 2,
       "version_minor": 0
      },
      "text/plain": [
       "HBox(children=(IntProgress(value=0, max=140795), HTML(value='')))"
      ]
     },
     "metadata": {},
     "output_type": "display_data"
    },
    {
     "name": "stdout",
     "output_type": "stream",
     "text": [
      "\n"
     ]
    }
   ],
   "source": [
    "# Import .wav files\n",
    "train_x_input = [librosa.load(file, sr=16000, duration=1)[0] for file in tqdm(train_df_sample.filename)]"
   ]
  },
  {
   "cell_type": "code",
   "execution_count": 111,
   "metadata": {},
   "outputs": [
    {
     "data": {
      "application/vnd.jupyter.widget-view+json": {
       "model_id": "3996c9f5d70b4d298f25d8221a4f8219",
       "version_major": 2,
       "version_minor": 0
      },
      "text/plain": [
       "HBox(children=(IntProgress(value=0, max=40048), HTML(value='')))"
      ]
     },
     "metadata": {},
     "output_type": "display_data"
    },
    {
     "name": "stdout",
     "output_type": "stream",
     "text": [
      "\n"
     ]
    }
   ],
   "source": [
    "val_x_input = [librosa.load(file, sr=16000, duration=1)[0] for file in tqdm(val_df_sample.filename)]"
   ]
  },
  {
   "cell_type": "code",
   "execution_count": 112,
   "metadata": {},
   "outputs": [
    {
     "data": {
      "application/vnd.jupyter.widget-view+json": {
       "model_id": "aed73d13eeab4a84ab0f2ae581cd5e61",
       "version_major": 2,
       "version_minor": 0
      },
      "text/plain": [
       "HBox(children=(IntProgress(value=0, max=54476), HTML(value='')))"
      ]
     },
     "metadata": {},
     "output_type": "display_data"
    },
    {
     "name": "stdout",
     "output_type": "stream",
     "text": [
      "\n"
     ]
    }
   ],
   "source": [
    "test_x_input = [librosa.load(file, sr=16000, duration=1)[0] for file in tqdm(test_df_sample.filename)]"
   ]
  },
  {
   "cell_type": "code",
   "execution_count": 113,
   "metadata": {},
   "outputs": [],
   "source": [
    "import scipy.fftpack"
   ]
  },
  {
   "cell_type": "code",
   "execution_count": 114,
   "metadata": {},
   "outputs": [
    {
     "data": {
      "application/vnd.jupyter.widget-view+json": {
       "model_id": "f2e03c2901af4b418ef25709cbdf570e",
       "version_major": 2,
       "version_minor": 0
      },
      "text/plain": [
       "HBox(children=(IntProgress(value=0, max=140795), HTML(value='')))"
      ]
     },
     "metadata": {},
     "output_type": "display_data"
    },
    {
     "name": "stdout",
     "output_type": "stream",
     "text": [
      "\n"
     ]
    }
   ],
   "source": [
    "# Convert all chords from time to frequency domain\n",
    "train_x_fft = [scipy.fftpack.fft(sound)[0:8000] for sound in tqdm(train_x_input)]\n",
    "train_x_fft = np.array(train_x_fft)"
   ]
  },
  {
   "cell_type": "code",
   "execution_count": 115,
   "metadata": {},
   "outputs": [
    {
     "data": {
      "application/vnd.jupyter.widget-view+json": {
       "model_id": "b2aefa35bffd4aea9d8bda0a75e4db6a",
       "version_major": 2,
       "version_minor": 0
      },
      "text/plain": [
       "HBox(children=(IntProgress(value=0, max=40048), HTML(value='')))"
      ]
     },
     "metadata": {},
     "output_type": "display_data"
    },
    {
     "name": "stdout",
     "output_type": "stream",
     "text": [
      "\n"
     ]
    }
   ],
   "source": [
    "val_x_fft = [scipy.fftpack.fft(sound)[0:8000] for sound in tqdm(val_x_input)]\n",
    "val_x_fft = np.array(val_x_fft)"
   ]
  },
  {
   "cell_type": "code",
   "execution_count": 116,
   "metadata": {},
   "outputs": [
    {
     "data": {
      "application/vnd.jupyter.widget-view+json": {
       "model_id": "f5027e0b3ba4498ca3fd55de36723f0b",
       "version_major": 2,
       "version_minor": 0
      },
      "text/plain": [
       "HBox(children=(IntProgress(value=0, max=54476), HTML(value='')))"
      ]
     },
     "metadata": {},
     "output_type": "display_data"
    },
    {
     "name": "stdout",
     "output_type": "stream",
     "text": [
      "\n"
     ]
    }
   ],
   "source": [
    "test_x_fft = [scipy.fftpack.fft(sound)[0:8000] for sound in tqdm(test_x_input)]\n",
    "test_x_fft = np.array(test_x_fft)"
   ]
  },
  {
   "cell_type": "code",
   "execution_count": 117,
   "metadata": {},
   "outputs": [],
   "source": [
    "del(train_x_input)\n",
    "del(val_x_input)\n",
    "del(test_x_input)"
   ]
  },
  {
   "cell_type": "code",
   "execution_count": 118,
   "metadata": {},
   "outputs": [],
   "source": [
    "# Create one hot matrix of instrument type\n",
    "le_note_base = LabelEncoder()\n",
    "le_note_base.fit(train_df_sample.chord_name_base)\n",
    "train_y_note_base = to_categorical(le_note_base.transform(train_df_sample.chord_name_base))\n",
    "val_y_note_base = to_categorical(le_note_base.transform(val_df_sample.chord_name_base))\n",
    "test_y_note_base = to_categorical(le_note_base.transform(test_df_sample.chord_name_base))\n",
    "\n",
    "le_instrument_family = LabelEncoder()\n",
    "le_instrument_family.fit(train_df_sample.instrument_family)\n",
    "train_y_instrument_family = to_categorical(le_instrument_family.transform(train_df_sample.instrument_family))\n",
    "val_y_instrument_family = to_categorical(le_instrument_family.transform(val_df_sample.instrument_family))\n",
    "test_y_instrument_family = to_categorical(le_instrument_family.transform(test_df_sample.instrument_family))\n",
    "\n",
    "le_chord_type = LabelEncoder()\n",
    "le_chord_type.fit(train_df_sample.chord_type)\n",
    "train_y_chord_type = to_categorical(le_chord_type.transform(train_df_sample.chord_type))\n",
    "val_y_chord_type = to_categorical(le_chord_type.transform(val_df_sample.chord_type))\n",
    "test_y_chord_type = to_categorical(le_chord_type.transform(test_df_sample.chord_type))"
   ]
  },
  {
   "cell_type": "markdown",
   "metadata": {},
   "source": [
    "## Chord Classification"
   ]
  },
  {
   "cell_type": "code",
   "execution_count": 119,
   "metadata": {},
   "outputs": [],
   "source": [
    "in_data = Input(shape=(8000, ))\n",
    "\n",
    "lay1 = Dense(50, activation='relu')(in_data)\n",
    "lay1 = BatchNormalization()(lay1)\n",
    "# lay1 = Dropout(.2)(lay1)\n",
    "\n",
    "lay2 = Dense(50, activation='relu')(lay1)\n",
    "lay2 = BatchNormalization()(lay2)\n",
    "# lay2 = Dropout(.2)(lay2)\n",
    "\n",
    "lay3 = Dense(50, activation='relu')(lay2)\n",
    "lay3 = BatchNormalization()(lay3)\n",
    "# lay3 = Dropout(.2)(lay3)\n",
    "\n",
    "output = Dense(12, activation = \"softmax\")(lay3)\n",
    "\n",
    "model = Model(inputs=[in_data],\n",
    "              outputs=[output])\n",
    "\n",
    "model.compile(optimizer=keras.optimizers.Adam(),\n",
    "              loss=\"categorical_crossentropy\",\n",
    "              metrics=['acc'])"
   ]
  },
  {
   "cell_type": "code",
   "execution_count": 120,
   "metadata": {},
   "outputs": [
    {
     "name": "stdout",
     "output_type": "stream",
     "text": [
      "_________________________________________________________________\n",
      "Layer (type)                 Output Shape              Param #   \n",
      "=================================================================\n",
      "input_9 (InputLayer)         (None, 8000)              0         \n",
      "_________________________________________________________________\n",
      "dense_33 (Dense)             (None, 50)                400050    \n",
      "_________________________________________________________________\n",
      "batch_normalization_25 (Batc (None, 50)                200       \n",
      "_________________________________________________________________\n",
      "dense_34 (Dense)             (None, 50)                2550      \n",
      "_________________________________________________________________\n",
      "batch_normalization_26 (Batc (None, 50)                200       \n",
      "_________________________________________________________________\n",
      "dense_35 (Dense)             (None, 50)                2550      \n",
      "_________________________________________________________________\n",
      "batch_normalization_27 (Batc (None, 50)                200       \n",
      "_________________________________________________________________\n",
      "dense_36 (Dense)             (None, 12)                612       \n",
      "=================================================================\n",
      "Total params: 406,362\n",
      "Trainable params: 406,062\n",
      "Non-trainable params: 300\n",
      "_________________________________________________________________\n"
     ]
    }
   ],
   "source": [
    "model.summary()"
   ]
  },
  {
   "cell_type": "code",
   "execution_count": 121,
   "metadata": {
    "scrolled": false
   },
   "outputs": [
    {
     "data": {
      "image/png": "[encoded data removed]",
      "text/plain": [
       "<Figure size 864x576 with 2 Axes>"
      ]
     },
     "metadata": {
      "needs_background": "light"
     },
     "output_type": "display_data"
    }
   ],
   "source": [
    "history = model.fit([train_x_fft],\n",
    "                    train_y_note_base,\n",
    "                    epochs=3,\n",
    "                    batch_size=32,\n",
    "                    validation_data=(val_x_fft, val_y_note_base),\n",
    "                    callbacks=[PlotLossesKeras()])"
   ]
  },
  {
   "cell_type": "code",
   "execution_count": 122,
   "metadata": {},
   "outputs": [
    {
     "name": "stdout",
     "output_type": "stream",
     "text": [
      "  384/54476 [..............................] - ETA: 26s"
     ]
    },
    {
     "name": "stderr",
     "output_type": "stream",
     "text": [
      "/Users/mattgraziano/miniconda3/lib/python3.6/site-packages/numpy/core/numeric.py:501: ComplexWarning: Casting complex values to real discards the imaginary part\n",
      "  return array(a, dtype, copy=False, order=order)\n"
     ]
    },
    {
     "name": "stdout",
     "output_type": "stream",
     "text": [
      "54476/54476 [==============================] - 31s 562us/step\n"
     ]
    },
    {
     "data": {
      "text/plain": [
       "[2.315313595280842, 0.4778250972883617]"
      ]
     },
     "execution_count": 122,
     "metadata": {},
     "output_type": "execute_result"
    }
   ],
   "source": [
    "# Test set predictions\n",
    "model.evaluate(test_x_fft, test_y_note_base)"
   ]
  },
  {
   "cell_type": "markdown",
   "metadata": {},
   "source": [
    "## Instrument type classification"
   ]
  },
  {
   "cell_type": "code",
   "execution_count": 123,
   "metadata": {},
   "outputs": [],
   "source": [
    "in_data = Input(shape=(8000, ))\n",
    "\n",
    "lay1 = Dense(50, activation='relu')(in_data)\n",
    "lay1 = BatchNormalization()(lay1)\n",
    "# lay1 = Dropout(.2)(lay1)\n",
    "\n",
    "lay2 = Dense(50, activation='relu')(lay1)\n",
    "lay2 = BatchNormalization()(lay2)\n",
    "# lay2 = Dropout(.2)(lay2)\n",
    "\n",
    "lay3 = Dense(50, activation='relu')(lay2)\n",
    "lay3 = BatchNormalization()(lay3)\n",
    "# lay3 = Dropout(.2)(lay3)\n",
    "\n",
    "output = Dense(4, activation = \"softmax\")(lay3)\n",
    "\n",
    "model = Model(inputs=[in_data],\n",
    "              outputs=[output])\n",
    "\n",
    "model.compile(optimizer=keras.optimizers.Adam(),\n",
    "              loss=\"categorical_crossentropy\",\n",
    "              metrics=['acc'])"
   ]
  },
  {
   "cell_type": "code",
   "execution_count": 124,
   "metadata": {},
   "outputs": [
    {
     "data": {
      "image/png": "[encoded data removed]",
      "text/plain": [
       "<Figure size 864x576 with 2 Axes>"
      ]
     },
     "metadata": {
      "needs_background": "light"
     },
     "output_type": "display_data"
    }
   ],
   "source": [
    "history = model.fit([train_x_fft],\n",
    "                    train_y_instrument_family,\n",
    "                    epochs=3,\n",
    "                    batch_size=32,\n",
    "                    validation_data=(val_x_fft, val_y_instrument_family),\n",
    "                    callbacks=[PlotLossesKeras()])"
   ]
  },
  {
   "cell_type": "code",
   "execution_count": 125,
   "metadata": {},
   "outputs": [
    {
     "name": "stdout",
     "output_type": "stream",
     "text": [
      "  544/54476 [..............................] - ETA: 17s"
     ]
    },
    {
     "name": "stderr",
     "output_type": "stream",
     "text": [
      "/Users/mattgraziano/miniconda3/lib/python3.6/site-packages/numpy/core/numeric.py:501: ComplexWarning: Casting complex values to real discards the imaginary part\n",
      "  return array(a, dtype, copy=False, order=order)\n"
     ]
    },
    {
     "name": "stdout",
     "output_type": "stream",
     "text": [
      "54476/54476 [==============================] - 27s 493us/step\n"
     ]
    },
    {
     "data": {
      "text/plain": [
       "[3.143201933049606, 0.53054556134374]"
      ]
     },
     "execution_count": 125,
     "metadata": {},
     "output_type": "execute_result"
    }
   ],
   "source": [
    "model.evaluate(test_x_fft, test_y_instrument_family)"
   ]
  },
  {
   "cell_type": "markdown",
   "metadata": {},
   "source": [
    "We can predict our 4 initial instrument families (guitar, piano, strings, bass) with ~99% accuracy.  This instruments are fairly distinct from one another.  Would we expect our accuracy to decrease as we introduce more obscure instrument families into the dataset?"
   ]
  },
  {
   "cell_type": "markdown",
   "metadata": {},
   "source": [
    "## Chord Type"
   ]
  },
  {
   "cell_type": "code",
   "execution_count": 126,
   "metadata": {},
   "outputs": [],
   "source": [
    "in_data = Input(shape=(8000, ))\n",
    "\n",
    "lay1 = Dense(50, activation='relu')(in_data)\n",
    "lay1 = BatchNormalization()(lay1)\n",
    "lay1 = Dropout(.5)(lay1)\n",
    "\n",
    "lay2 = Dense(50, activation='relu')(lay1)\n",
    "lay2 = BatchNormalization()(lay2)\n",
    "lay2 = Dropout(.5)(lay2)\n",
    "\n",
    "lay3 = Dense(50, activation='relu')(lay2)\n",
    "lay3 = BatchNormalization()(lay3)\n",
    "lay3 = Dropout(.5)(lay3)\n",
    "\n",
    "output = Dense(13, activation = \"softmax\")(lay3)\n",
    "\n",
    "model = Model(inputs=[in_data],\n",
    "              outputs=[output])\n",
    "\n",
    "model.compile(optimizer=keras.optimizers.Adam(),\n",
    "              loss=\"categorical_crossentropy\",\n",
    "              metrics=['acc'])"
   ]
  },
  {
   "cell_type": "code",
   "execution_count": 127,
   "metadata": {},
   "outputs": [
    {
     "data": {
      "image/png": "[encoded data removed]",
      "text/plain": [
       "<Figure size 864x576 with 2 Axes>"
      ]
     },
     "metadata": {
      "needs_background": "light"
     },
     "output_type": "display_data"
    }
   ],
   "source": [
    "history = model.fit([train_x_fft],\n",
    "                    train_y_chord_type,\n",
    "                    epochs=10,\n",
    "                    batch_size=32,\n",
    "                    validation_data=(val_x_fft, val_y_chord_type),\n",
    "                    callbacks=[PlotLossesKeras()])"
   ]
  },
  {
   "cell_type": "code",
   "execution_count": 128,
   "metadata": {},
   "outputs": [
    {
     "name": "stdout",
     "output_type": "stream",
     "text": [
      "  512/54476 [..............................] - ETA: 19s"
     ]
    },
    {
     "name": "stderr",
     "output_type": "stream",
     "text": [
      "/Users/mattgraziano/miniconda3/lib/python3.6/site-packages/numpy/core/numeric.py:501: ComplexWarning: Casting complex values to real discards the imaginary part\n",
      "  return array(a, dtype, copy=False, order=order)\n"
     ]
    },
    {
     "name": "stdout",
     "output_type": "stream",
     "text": [
      "54476/54476 [==============================] - 27s 501us/step\n"
     ]
    },
    {
     "data": {
      "text/plain": [
       "[2.644049613501534, 0.14231955356541967]"
      ]
     },
     "execution_count": 128,
     "metadata": {},
     "output_type": "execute_result"
    }
   ],
   "source": [
    "model.evaluate(test_x_fft, test_y_chord_type)"
   ]
  },
  {
   "cell_type": "markdown",
   "metadata": {},
   "source": [
    "Predicting the chord type (maj, min, dim, aug, etc.) appears to be a bit more difficult than the other categories. \n",
    "\n",
    "I wonder if this is due to more sparsity in these classes than in the others.  I suspect we may see gains here when we run with more data."
   ]
  },
  {
   "cell_type": "markdown",
   "metadata": {},
   "source": [
    "## Multi-output (predict all the predictors above in one neural net)"
   ]
  },
  {
   "cell_type": "code",
   "execution_count": 139,
   "metadata": {},
   "outputs": [],
   "source": [
    "in_data = Input(shape=(8000, ))\n",
    "\n",
    "lay1 = Dense(20, activation='relu')(in_data)\n",
    "lay1 = BatchNormalization()(lay1)\n",
    "lay1 = Dropout(.4)(lay1)\n",
    "\n",
    "lay2 = Dense(20, activation='relu')(lay1)\n",
    "lay2 = BatchNormalization()(lay2)\n",
    "lay2 = Dropout(.4)(lay2)\n",
    "\n",
    "# lay3 = Dense(50, activation='relu')(lay2)\n",
    "# lay3 = BatchNormalization()(lay3)\n",
    "# lay3 = Dropout(.4)(lay3)\n",
    "\n",
    "output_chord_note_base = Dense(12, activation = \"softmax\")(lay2)\n",
    "output_instrument_family = Dense(4, activation = \"softmax\")(lay2)\n",
    "output_chord_type = Dense(13, activation = \"softmax\")(lay2)\n",
    "\n",
    "model = Model(inputs=[in_data],\n",
    "              outputs=[output_chord_note_base, output_instrument_family, output_chord_type])\n",
    "\n",
    "model.compile(optimizer=keras.optimizers.Adam(),\n",
    "              loss=\"categorical_crossentropy\",\n",
    "              metrics=['acc'])"
   ]
  },
  {
   "cell_type": "code",
   "execution_count": 140,
   "metadata": {},
   "outputs": [
    {
     "data": {
      "image/png": "[encoded data removed]",
      "text/plain": [
       "<Figure size 864x1440 with 7 Axes>"
      ]
     },
     "metadata": {
      "needs_background": "light"
     },
     "output_type": "display_data"
    }
   ],
   "source": [
    "history = model.fit([train_x_fft],\n",
    "                    [train_y_note_base, train_y_instrument_family, train_y_chord_type],\n",
    "                    epochs=10,\n",
    "                    batch_size=32,\n",
    "                    validation_data=(val_x_fft, [val_y_note_base, val_y_instrument_family, val_y_chord_type]),\n",
    "                    callbacks=[PlotLossesKeras()])"
   ]
  },
  {
   "cell_type": "code",
   "execution_count": 141,
   "metadata": {},
   "outputs": [
    {
     "name": "stdout",
     "output_type": "stream",
     "text": [
      "  608/54476 [..............................] - ETA: 15s"
     ]
    },
    {
     "name": "stderr",
     "output_type": "stream",
     "text": [
      "/Users/mattgraziano/miniconda3/lib/python3.6/site-packages/numpy/core/numeric.py:501: ComplexWarning: Casting complex values to real discards the imaginary part\n",
      "  return array(a, dtype, copy=False, order=order)\n"
     ]
    },
    {
     "name": "stdout",
     "output_type": "stream",
     "text": [
      "54476/54476 [==============================] - 22s 410us/step\n"
     ]
    },
    {
     "data": {
      "text/plain": [
       "[8.222284226894063,\n",
       " 2.6779054772075694,\n",
       " 3.0614208979214137,\n",
       " 2.4829578451476912,\n",
       " 0.21987664292587197,\n",
       " 0.4816800058763347,\n",
       " 0.1241647698074345]"
      ]
     },
     "execution_count": 141,
     "metadata": {},
     "output_type": "execute_result"
    }
   ],
   "source": [
    "model.evaluate(test_x_fft, [test_y_note_base, test_y_instrument_family, test_y_chord_type])"
   ]
  },
  {
   "cell_type": "markdown",
   "metadata": {},
   "source": [
    "# TO DOs:\n",
    "\n",
    "- Generate chords for more instruments and see if we can still get high accuracy when we increase that\n",
    "- Potentially play with more instrument sources.  All these chords are from acoustic instrumentation, but we can generate data from \"synthetic\" as well as \"electronic\" instrumentation as well\n",
    "- Run model with all data and see if we can push accuracy further\n",
    "- Play around more with model architecture and see if that does anything.  I completely 100% arbitrarily selected the one I used. "
   ]
  },
  {
   "cell_type": "markdown",
   "metadata": {},
   "source": [
    "# Model with Chris' recordings"
   ]
  },
  {
   "cell_type": "code",
   "execution_count": 4,
   "metadata": {},
   "outputs": [
    {
     "name": "stdout",
     "output_type": "stream",
     "text": [
      "/Users/mattgraziano/Google Drive/Documents/Learning/IU/Fall18/engr511/project/engr511\n"
     ]
    }
   ],
   "source": [
    "cd ../"
   ]
  },
  {
   "cell_type": "markdown",
   "metadata": {},
   "source": [
    "## Import data"
   ]
  },
  {
   "cell_type": "code",
   "execution_count": null,
   "metadata": {},
   "outputs": [],
   "source": [
    "# recording_filenames = glob(\"data/recordings/*/*.wav\", recursive=True)"
   ]
  },
  {
   "cell_type": "code",
   "execution_count": 97,
   "metadata": {},
   "outputs": [],
   "source": [
    "recording_filenames = glob(\"data/recordings_new/*/*/*.wav\", recursive=True)"
   ]
  },
  {
   "cell_type": "code",
   "execution_count": 98,
   "metadata": {},
   "outputs": [],
   "source": [
    "from src.Progression_Modeling import Load, Prepare, Mel_transform, normalize, melspectrogram, trim, CQT_transform, pseudo_cqt\n",
    "import soundfile as sf"
   ]
  },
  {
   "cell_type": "code",
   "execution_count": 99,
   "metadata": {},
   "outputs": [],
   "source": [
    "A0 = 27.5\n",
    "A1 = 55.00\n",
    "C1 = 32.70\n",
    "A2 = 110.00\n",
    "C2 = 65.41\n",
    "E6 = 1318.51\n",
    "C7 = 2093.00\n",
    "C8 = 4186.01"
   ]
  },
  {
   "cell_type": "code",
   "execution_count": 100,
   "metadata": {},
   "outputs": [],
   "source": [
    "def nth_largest_col_sum(arr, n=-80):\n",
    "    # column sum\n",
    "    agg = np.sum(arr, axis=0)\n",
    "    agg.sort()\n",
    "    return agg[n]\n",
    "    "
   ]
  },
  {
   "cell_type": "code",
   "execution_count": 101,
   "metadata": {},
   "outputs": [],
   "source": [
    "def get_spectrogram(signal, sr=44100, spectype=\"mel\"):\n",
    "    if spectype == \"mel\":\n",
    "        spectrogram = melspectrogram(Prepare(signal), sr=sr, fmin=C2, fmax=C7, n_fft=2048 * 2, hop_length=1024)\n",
    "        spectrogram_norm = pow(normalize(spectrogram), .25)\n",
    "    elif spectype == \"cqt\":\n",
    "        A1 = 55.00\n",
    "        spectrogram = abs(pseudo_cqt(Prepare(signal), sr, fmin=A1, n_bins=120, bins_per_octave=24, sparsity=.95, window=('kaiser', 10)))\n",
    "        spectrogram_norm = normalize(spectrogram, norm='l1', axis=0)\n",
    "    return spectrogram_norm"
   ]
  },
  {
   "cell_type": "code",
   "execution_count": 102,
   "metadata": {},
   "outputs": [],
   "source": [
    "def get_clean_x(signal, sr=44100, nth_largest=-45, spectype=\"mel\"):\n",
    "    spectrogram = get_spectrogram(signal, sr=sr, spectype=spectype)\n",
    "\n",
    "    # Get 45th largest value\n",
    "    nth_largest_threshold = nth_largest_col_sum(spectrogram, nth_largest)\n",
    "\n",
    "    # remove all columsn whose sum is less than t\n",
    "    clean = spectrogram[:, np.sum(spectrogram, axis=0) >= nth_largest_threshold]\n",
    "    \n",
    "    return clean"
   ]
  },
  {
   "cell_type": "code",
   "execution_count": 103,
   "metadata": {},
   "outputs": [
    {
     "data": {
      "text/plain": [
       "<matplotlib.image.AxesImage at 0x18f8dc748>"
      ]
     },
     "execution_count": 103,
     "metadata": {},
     "output_type": "execute_result"
    },
    {
     "data": {
      "image/png": "[encoded data removed]",
      "text/plain": [
       "<Figure size 432x288 with 1 Axes>"
      ]
     },
     "metadata": {
      "needs_background": "light"
     },
     "output_type": "display_data"
    }
   ],
   "source": [
    "a = get_spectrogram(sf.read(recording_filenames[16])[0])\n",
    "plt.imshow(a)"
   ]
  },
  {
   "cell_type": "code",
   "execution_count": 104,
   "metadata": {},
   "outputs": [
    {
     "data": {
      "text/plain": [
       "<matplotlib.image.AxesImage at 0x18f8b8828>"
      ]
     },
     "execution_count": 104,
     "metadata": {},
     "output_type": "execute_result"
    },
    {
     "data": {
      "image/png": "[encoded data removed]",
      "text/plain": [
       "<Figure size 432x288 with 1 Axes>"
      ]
     },
     "metadata": {
      "needs_background": "light"
     },
     "output_type": "display_data"
    }
   ],
   "source": [
    "a_cqt = get_spectrogram(sf.read(recording_filenames[16])[0], spectype=\"cqt\")\n",
    "plt.imshow(a_cqt)"
   ]
  },
  {
   "cell_type": "code",
   "execution_count": 12,
   "metadata": {},
   "outputs": [
    {
     "data": {
      "text/plain": [
       "<matplotlib.image.AxesImage at 0x136377940>"
      ]
     },
     "execution_count": 12,
     "metadata": {},
     "output_type": "execute_result"
    },
    {
     "data": {
      "image/png": "[encoded data removed]",
      "text/plain": [
       "<Figure size 432x288 with 1 Axes>"
      ]
     },
     "metadata": {
      "needs_background": "light"
     },
     "output_type": "display_data"
    }
   ],
   "source": [
    "plt.imshow(get_clean_x(sf.read(recording_filenames[50])[0]))"
   ]
  },
  {
   "cell_type": "code",
   "execution_count": 107,
   "metadata": {},
   "outputs": [
    {
     "data": {
      "text/plain": [
       "<matplotlib.image.AxesImage at 0x162405ac8>"
      ]
     },
     "execution_count": 107,
     "metadata": {},
     "output_type": "execute_result"
    },
    {
     "data": {
      "image/png": "[encoded data removed]",
      "text/plain": [
       "<Figure size 432x288 with 1 Axes>"
      ]
     },
     "metadata": {
      "needs_background": "light"
     },
     "output_type": "display_data"
    }
   ],
   "source": [
    "plt.imshow(get_clean_x(sf.read(recording_filenames[50])[0], spectype=\"cqt\"))"
   ]
  },
  {
   "cell_type": "code",
   "execution_count": 108,
   "metadata": {},
   "outputs": [
    {
     "data": {
      "application/vnd.jupyter.widget-view+json": {
       "model_id": "40f645aa21dc47aa91bf01c7b5b1021b",
       "version_major": 2,
       "version_minor": 0
      },
      "text/plain": [
       "HBox(children=(IntProgress(value=0, max=188), HTML(value='')))"
      ]
     },
     "metadata": {},
     "output_type": "display_data"
    }
   ],
   "source": [
    "raw_signals = []\n",
    "samp_rates = []\n",
    "x_train = []\n",
    "for filename in tqdm(recording_filenames):\n",
    "    sound, sr = sf.read(filename)\n",
    "    \n",
    "    raw_signals.append(sound)\n",
    "    samp_rates.append(sr)\n",
    "    cleaned = get_clean_x(sound, sr=sr, nth_largest=-1, spectype=\"cqt\")\n",
    "    cleaned = cleaned[:, 0]\n",
    "    x_train.append(cleaned.flatten())\n",
    "    "
   ]
  },
  {
   "cell_type": "code",
   "execution_count": 109,
   "metadata": {},
   "outputs": [
    {
     "data": {
      "text/plain": [
       "(120,)"
      ]
     },
     "execution_count": 109,
     "metadata": {},
     "output_type": "execute_result"
    }
   ],
   "source": [
    "# Ensure that all x_train are the same size. \n",
    "x_train[14].shape"
   ]
  },
  {
   "cell_type": "code",
   "execution_count": 110,
   "metadata": {},
   "outputs": [
    {
     "data": {
      "text/plain": [
       "(120,)"
      ]
     },
     "execution_count": 110,
     "metadata": {},
     "output_type": "execute_result"
    }
   ],
   "source": [
    "x_train[1].shape"
   ]
  },
  {
   "cell_type": "code",
   "execution_count": 111,
   "metadata": {},
   "outputs": [],
   "source": [
    "x_train = np.vstack(x_train)"
   ]
  },
  {
   "cell_type": "code",
   "execution_count": 15,
   "metadata": {},
   "outputs": [],
   "source": [
    "sound, sr = sf.read(\"../data/nsynth-train/generated_chords_single_foursec/A#1_dim7_guitar_acoustic_003_iter0.wav\", -16)"
   ]
  },
  {
   "cell_type": "code",
   "execution_count": 16,
   "metadata": {
    "scrolled": true
   },
   "outputs": [],
   "source": [
    "test_sound, sr = sf.read(\"../data/nsynth-train/generated_chords_single_foursec/A#1_dim_keyboard_acoustic_013_iter0.wav\")"
   ]
  },
  {
   "cell_type": "code",
   "execution_count": 17,
   "metadata": {},
   "outputs": [],
   "source": [
    "test = get_clean_x(test_sound, sr=sr, nth_largest=-1)"
   ]
  },
  {
   "cell_type": "code",
   "execution_count": 18,
   "metadata": {},
   "outputs": [
    {
     "data": {
      "text/plain": [
       "<matplotlib.image.AxesImage at 0x136436eb8>"
      ]
     },
     "execution_count": 18,
     "metadata": {},
     "output_type": "execute_result"
    },
    {
     "data": {
      "image/png": "[encoded data removed]",
      "text/plain": [
       "<Figure size 432x288 with 1 Axes>"
      ]
     },
     "metadata": {
      "needs_background": "light"
     },
     "output_type": "display_data"
    }
   ],
   "source": [
    "plt.imshow(test)"
   ]
  },
  {
   "cell_type": "code",
   "execution_count": 19,
   "metadata": {},
   "outputs": [
    {
     "ename": "NameError",
     "evalue": "name 'spectrogram_cleaned' is not defined",
     "output_type": "error",
     "traceback": [
      "\u001b[0;31m---------------------------------------------------------------------------\u001b[0m",
      "\u001b[0;31mNameError\u001b[0m                                 Traceback (most recent call last)",
      "\u001b[0;32m<ipython-input-19-72230ef59e3a>\u001b[0m in \u001b[0;36m<module>\u001b[0;34m()\u001b[0m\n\u001b[1;32m      1\u001b[0m \u001b[0;31m# Flatten spectrogram for input into neural net\u001b[0m\u001b[0;34m\u001b[0m\u001b[0;34m\u001b[0m\u001b[0m\n\u001b[0;32m----> 2\u001b[0;31m \u001b[0mx_train\u001b[0m \u001b[0;34m=\u001b[0m \u001b[0mnp\u001b[0m\u001b[0;34m.\u001b[0m\u001b[0marray\u001b[0m\u001b[0;34m(\u001b[0m\u001b[0;34m[\u001b[0m\u001b[0mi\u001b[0m\u001b[0;34m.\u001b[0m\u001b[0mflatten\u001b[0m\u001b[0;34m(\u001b[0m\u001b[0;34m)\u001b[0m \u001b[0;32mfor\u001b[0m \u001b[0mi\u001b[0m \u001b[0;32min\u001b[0m \u001b[0mspectrogram_cleaned\u001b[0m\u001b[0;34m]\u001b[0m\u001b[0;34m)\u001b[0m\u001b[0;34m\u001b[0m\u001b[0m\n\u001b[0m",
      "\u001b[0;31mNameError\u001b[0m: name 'spectrogram_cleaned' is not defined"
     ]
    }
   ],
   "source": [
    "# Flatten spectrogram for input into neural net\n",
    "x_train = np.array([i.flatten() for i in spectrogram_cleaned])"
   ]
  },
  {
   "cell_type": "code",
   "execution_count": 115,
   "metadata": {},
   "outputs": [],
   "source": [
    "# Get y categories\n",
    "y_train = [i.split('/')[2] for i in recording_filenames]\n",
    "\n",
    "le_chord_structure = LabelEncoder()\n",
    "le_chord_structure.fit(y_train)\n",
    "y_train_int = to_categorical(le_chord_structure.transform(y_train))\n"
   ]
  },
  {
   "cell_type": "markdown",
   "metadata": {},
   "source": [
    "## Modeling:"
   ]
  },
  {
   "cell_type": "code",
   "execution_count": 139,
   "metadata": {},
   "outputs": [],
   "source": [
    "in_data = Input(shape=(x_train.shape[1], ))\n",
    "\n",
    "lay1 = Dense(20, activation='relu')(in_data)\n",
    "lay1 = BatchNormalization()(lay1)\n",
    "\n",
    "lay2 = Dense(20, activation='relu')(lay1)\n",
    "lay2 = BatchNormalization()(lay2)\n",
    "\n",
    "output = Dense(y_train_int.shape[1], activation = \"softmax\")(lay2)\n",
    "\n",
    "model = Model(inputs=[in_data],\n",
    "              outputs=[output])\n",
    "\n",
    "model.compile(optimizer=keras.optimizers.Adam(),\n",
    "              loss=\"categorical_crossentropy\",\n",
    "              metrics=['acc'])"
   ]
  },
  {
   "cell_type": "code",
   "execution_count": 140,
   "metadata": {
    "scrolled": true
   },
   "outputs": [
    {
     "name": "stdout",
     "output_type": "stream",
     "text": [
      "_________________________________________________________________\n",
      "Layer (type)                 Output Shape              Param #   \n",
      "=================================================================\n",
      "input_125 (InputLayer)       (None, 120)               0         \n",
      "_________________________________________________________________\n",
      "dense_373 (Dense)            (None, 20)                2420      \n",
      "_________________________________________________________________\n",
      "batch_normalization_249 (Bat (None, 20)                80        \n",
      "_________________________________________________________________\n",
      "dense_374 (Dense)            (None, 20)                420       \n",
      "_________________________________________________________________\n",
      "batch_normalization_250 (Bat (None, 20)                80        \n",
      "_________________________________________________________________\n",
      "dense_375 (Dense)            (None, 4)                 84        \n",
      "=================================================================\n",
      "Total params: 3,084\n",
      "Trainable params: 3,004\n",
      "Non-trainable params: 80\n",
      "_________________________________________________________________\n"
     ]
    }
   ],
   "source": [
    "model.summary()"
   ]
  },
  {
   "cell_type": "code",
   "execution_count": 141,
   "metadata": {
    "scrolled": true
   },
   "outputs": [
    {
     "data": {
      "image/png": "[encoded data removed]",
      "text/plain": [
       "<Figure size 864x576 with 2 Axes>"
      ]
     },
     "metadata": {
      "needs_background": "light"
     },
     "output_type": "display_data"
    }
   ],
   "source": [
    "history = model.fit([x_train],\n",
    "                    [y_train_int],\n",
    "                    epochs=15,\n",
    "                    batch_size=32,\n",
    "                    callbacks=[PlotLossesKeras()])"
   ]
  },
  {
   "cell_type": "code",
   "execution_count": 142,
   "metadata": {
    "scrolled": true
   },
   "outputs": [
    {
     "name": "stdout",
     "output_type": "stream",
     "text": [
      "188/188 [==============================] - 4s 23ms/step\n"
     ]
    },
    {
     "data": {
      "text/plain": [
       "[1.1124346230892426, 0.5265957427785751]"
      ]
     },
     "execution_count": 142,
     "metadata": {},
     "output_type": "execute_result"
    }
   ],
   "source": [
    "model.evaluate(x=x_train, y=y_train_int)"
   ]
  },
  {
   "cell_type": "markdown",
   "metadata": {},
   "source": [
    "#### Leave one out cross validation"
   ]
  },
  {
   "cell_type": "code",
   "execution_count": 22,
   "metadata": {},
   "outputs": [],
   "source": [
    "def mod(input_shape):\n",
    "    \n",
    "    in_data = Input(shape=(input_shape, ))\n",
    "\n",
    "    lay1 = Dense(50, activation='relu')(in_data)\n",
    "    lay1 = BatchNormalization()(lay1)\n",
    "\n",
    "    lay2 = Dense(50, activation='relu')(lay1)\n",
    "    lay2 = BatchNormalization()(lay2)\n",
    "\n",
    "    output = Dense(y_train_int.shape[1], activation = \"softmax\")(lay2)\n",
    "\n",
    "    model = Model(inputs=[in_data],\n",
    "                  outputs=[output])\n",
    "\n",
    "    model.compile(optimizer=keras.optimizers.Adam(),\n",
    "                  loss=\"categorical_crossentropy\",\n",
    "                  metrics=['acc'])\n",
    "    \n",
    "    return model"
   ]
  },
  {
   "cell_type": "code",
   "execution_count": 23,
   "metadata": {},
   "outputs": [
    {
     "data": {
      "text/plain": [
       "59"
      ]
     },
     "execution_count": 23,
     "metadata": {},
     "output_type": "execute_result"
    }
   ],
   "source": [
    "from sklearn.model_selection import LeaveOneOut\n",
    "loo = LeaveOneOut()\n",
    "loo.get_n_splits(x_train)"
   ]
  },
  {
   "cell_type": "code",
   "execution_count": 84,
   "metadata": {
    "scrolled": true
   },
   "outputs": [
    {
     "data": {
      "application/vnd.jupyter.widget-view+json": {
       "model_id": "f9bf61857f4b461c93f54ffc936685a8",
       "version_major": 2,
       "version_minor": 0
      },
      "text/plain": [
       "HBox(children=(IntProgress(value=0, max=59), HTML(value='')))"
      ]
     },
     "metadata": {},
     "output_type": "display_data"
    },
    {
     "name": "stdout",
     "output_type": "stream",
     "text": [
      "Epoch 1/15\n",
      "59/59 [==============================] - 5s 84ms/step - loss: 2.0260 - acc: 0.2034\n",
      "Epoch 2/15\n",
      "59/59 [==============================] - 0s 291us/step - loss: 1.6412 - acc: 0.2712\n",
      "Epoch 3/15\n",
      "59/59 [==============================] - 0s 284us/step - loss: 1.3773 - acc: 0.3729\n",
      "Epoch 4/15\n",
      "59/59 [==============================] - 0s 366us/step - loss: 1.2292 - acc: 0.3898\n",
      "Epoch 5/15\n",
      "59/59 [==============================] - 0s 271us/step - loss: 1.0835 - acc: 0.5254\n",
      "Epoch 6/15\n",
      "59/59 [==============================] - 0s 316us/step - loss: 0.8941 - acc: 0.6271\n",
      "Epoch 7/15\n",
      "59/59 [==============================] - 0s 296us/step - loss: 0.8238 - acc: 0.6610\n",
      "Epoch 8/15\n",
      "59/59 [==============================] - 0s 309us/step - loss: 0.7813 - acc: 0.7627\n",
      "Epoch 9/15\n",
      "59/59 [==============================] - 0s 326us/step - loss: 0.7077 - acc: 0.8305\n",
      "Epoch 10/15\n",
      "59/59 [==============================] - 0s 310us/step - loss: 0.5913 - acc: 0.8644\n",
      "Epoch 11/15\n",
      "59/59 [==============================] - 0s 303us/step - loss: 0.6381 - acc: 0.8136\n",
      "Epoch 12/15\n",
      "59/59 [==============================] - 0s 307us/step - loss: 0.5794 - acc: 0.8644\n",
      "Epoch 13/15\n",
      "59/59 [==============================] - 0s 270us/step - loss: 0.5662 - acc: 0.8814\n",
      "Epoch 14/15\n",
      "59/59 [==============================] - 0s 277us/step - loss: 0.4814 - acc: 0.8475\n",
      "Epoch 15/15\n",
      "59/59 [==============================] - 0s 282us/step - loss: 0.4626 - acc: 0.9322\n",
      "Epoch 1/15\n",
      "59/59 [==============================] - 5s 83ms/step - loss: 2.0679 - acc: 0.2712\n",
      "Epoch 2/15\n",
      "59/59 [==============================] - 0s 281us/step - loss: 1.6477 - acc: 0.2881\n",
      "Epoch 3/15\n",
      "59/59 [==============================] - 0s 333us/step - loss: 1.5317 - acc: 0.2712\n",
      "Epoch 4/15\n",
      "59/59 [==============================] - 0s 301us/step - loss: 1.3227 - acc: 0.4068\n",
      "Epoch 5/15\n",
      "59/59 [==============================] - 0s 336us/step - loss: 1.2484 - acc: 0.4915\n",
      "Epoch 6/15\n",
      "59/59 [==============================] - 0s 319us/step - loss: 0.9731 - acc: 0.6949\n",
      "Epoch 7/15\n",
      "59/59 [==============================] - 0s 298us/step - loss: 0.9349 - acc: 0.6780\n",
      "Epoch 8/15\n",
      "59/59 [==============================] - 0s 341us/step - loss: 0.8470 - acc: 0.7119\n",
      "Epoch 9/15\n",
      "59/59 [==============================] - 0s 311us/step - loss: 0.7570 - acc: 0.8136\n",
      "Epoch 10/15\n",
      "59/59 [==============================] - 0s 323us/step - loss: 0.6808 - acc: 0.8136\n",
      "Epoch 11/15\n",
      "59/59 [==============================] - 0s 296us/step - loss: 0.7075 - acc: 0.7119\n",
      "Epoch 12/15\n",
      "59/59 [==============================] - 0s 286us/step - loss: 0.6480 - acc: 0.8136\n",
      "Epoch 13/15\n",
      "59/59 [==============================] - 0s 333us/step - loss: 0.5731 - acc: 0.8644\n",
      "Epoch 14/15\n",
      "59/59 [==============================] - 0s 318us/step - loss: 0.4679 - acc: 0.9153\n",
      "Epoch 15/15\n",
      "59/59 [==============================] - 0s 322us/step - loss: 0.4756 - acc: 0.9322\n",
      "Epoch 1/15\n",
      "59/59 [==============================] - 5s 86ms/step - loss: 1.8455 - acc: 0.3220\n",
      "Epoch 2/15\n",
      "59/59 [==============================] - 0s 303us/step - loss: 1.6542 - acc: 0.3898\n",
      "Epoch 3/15\n",
      "59/59 [==============================] - 0s 309us/step - loss: 1.4684 - acc: 0.4237\n",
      "Epoch 4/15\n",
      "59/59 [==============================] - 0s 320us/step - loss: 1.2903 - acc: 0.4237\n",
      "Epoch 5/15\n",
      "59/59 [==============================] - 0s 311us/step - loss: 1.0992 - acc: 0.4915\n",
      "Epoch 6/15\n",
      "59/59 [==============================] - 0s 303us/step - loss: 1.0149 - acc: 0.6102\n",
      "Epoch 7/15\n",
      "59/59 [==============================] - 0s 316us/step - loss: 0.8355 - acc: 0.7288\n",
      "Epoch 8/15\n",
      "59/59 [==============================] - 0s 319us/step - loss: 0.7974 - acc: 0.7288\n",
      "Epoch 9/15\n",
      "59/59 [==============================] - 0s 336us/step - loss: 0.7592 - acc: 0.6949\n",
      "Epoch 10/15\n",
      "59/59 [==============================] - 0s 306us/step - loss: 0.6638 - acc: 0.8305\n",
      "Epoch 11/15\n",
      "59/59 [==============================] - 0s 316us/step - loss: 0.6519 - acc: 0.7627\n",
      "Epoch 12/15\n",
      "59/59 [==============================] - 0s 299us/step - loss: 0.5795 - acc: 0.8644\n",
      "Epoch 13/15\n",
      "59/59 [==============================] - 0s 322us/step - loss: 0.6057 - acc: 0.8136\n",
      "Epoch 14/15\n",
      "59/59 [==============================] - 0s 293us/step - loss: 0.4170 - acc: 0.9661\n",
      "Epoch 15/15\n",
      "59/59 [==============================] - 0s 317us/step - loss: 0.3940 - acc: 0.9661\n",
      "Epoch 1/15\n",
      "59/59 [==============================] - 5s 86ms/step - loss: 1.5781 - acc: 0.2712\n",
      "Epoch 2/15\n",
      "59/59 [==============================] - 0s 326us/step - loss: 1.3976 - acc: 0.3390\n",
      "Epoch 3/15\n",
      "59/59 [==============================] - 0s 330us/step - loss: 1.3204 - acc: 0.4237\n",
      "Epoch 4/15\n",
      "59/59 [==============================] - 0s 320us/step - loss: 1.0914 - acc: 0.4576\n",
      "Epoch 5/15\n",
      "59/59 [==============================] - 0s 324us/step - loss: 0.9262 - acc: 0.6271\n",
      "Epoch 6/15\n",
      "59/59 [==============================] - 0s 334us/step - loss: 0.8321 - acc: 0.6949\n",
      "Epoch 7/15\n",
      "59/59 [==============================] - 0s 294us/step - loss: 0.8723 - acc: 0.6610\n",
      "Epoch 8/15\n",
      "59/59 [==============================] - 0s 310us/step - loss: 0.7584 - acc: 0.7458\n",
      "Epoch 9/15\n",
      "59/59 [==============================] - 0s 320us/step - loss: 0.6278 - acc: 0.7966\n",
      "Epoch 10/15\n",
      "59/59 [==============================] - 0s 286us/step - loss: 0.5867 - acc: 0.8475\n",
      "Epoch 11/15\n",
      "59/59 [==============================] - 0s 311us/step - loss: 0.6145 - acc: 0.8475\n",
      "Epoch 12/15\n",
      "59/59 [==============================] - 0s 309us/step - loss: 0.5932 - acc: 0.7797\n",
      "Epoch 13/15\n",
      "59/59 [==============================] - 0s 314us/step - loss: 0.4929 - acc: 0.8814\n",
      "Epoch 14/15\n",
      "59/59 [==============================] - 0s 314us/step - loss: 0.5226 - acc: 0.8644\n",
      "Epoch 15/15\n",
      "59/59 [==============================] - 0s 304us/step - loss: 0.4515 - acc: 0.8644\n",
      "Epoch 1/15\n",
      "59/59 [==============================] - 5s 88ms/step - loss: 2.0521 - acc: 0.2881\n",
      "Epoch 2/15\n",
      "59/59 [==============================] - 0s 331us/step - loss: 1.7130 - acc: 0.2712\n",
      "Epoch 3/15\n",
      "59/59 [==============================] - 0s 370us/step - loss: 1.5428 - acc: 0.3729\n",
      "Epoch 4/15\n",
      "59/59 [==============================] - 0s 309us/step - loss: 1.3353 - acc: 0.3898\n",
      "Epoch 5/15\n",
      "59/59 [==============================] - 0s 296us/step - loss: 1.1304 - acc: 0.4576\n",
      "Epoch 6/15\n",
      "59/59 [==============================] - 0s 305us/step - loss: 1.0544 - acc: 0.5085\n",
      "Epoch 7/15\n",
      "59/59 [==============================] - 0s 301us/step - loss: 0.9435 - acc: 0.5932\n",
      "Epoch 8/15\n",
      "59/59 [==============================] - 0s 318us/step - loss: 0.8132 - acc: 0.6949\n",
      "Epoch 9/15\n",
      "59/59 [==============================] - 0s 321us/step - loss: 0.7314 - acc: 0.7458\n",
      "Epoch 10/15\n",
      "59/59 [==============================] - 0s 319us/step - loss: 0.6885 - acc: 0.7119\n",
      "Epoch 11/15\n",
      "59/59 [==============================] - 0s 309us/step - loss: 0.6728 - acc: 0.7797\n",
      "Epoch 12/15\n",
      "59/59 [==============================] - 0s 294us/step - loss: 0.6006 - acc: 0.7966\n",
      "Epoch 13/15\n",
      "59/59 [==============================] - 0s 323us/step - loss: 0.6101 - acc: 0.7966\n",
      "Epoch 14/15\n",
      "59/59 [==============================] - 0s 322us/step - loss: 0.5873 - acc: 0.8136\n",
      "Epoch 15/15\n",
      "59/59 [==============================] - 0s 297us/step - loss: 0.4916 - acc: 0.8814\n",
      "Epoch 1/15\n",
      "59/59 [==============================] - 5s 88ms/step - loss: 1.8299 - acc: 0.2203\n",
      "Epoch 2/15\n",
      "59/59 [==============================] - 0s 337us/step - loss: 1.5963 - acc: 0.3390\n",
      "Epoch 3/15\n",
      "59/59 [==============================] - 0s 324us/step - loss: 1.4178 - acc: 0.3559\n",
      "Epoch 4/15\n",
      "59/59 [==============================] - 0s 308us/step - loss: 1.1784 - acc: 0.5593\n",
      "Epoch 5/15\n",
      "59/59 [==============================] - 0s 298us/step - loss: 1.1370 - acc: 0.5424\n",
      "Epoch 6/15\n",
      "59/59 [==============================] - 0s 314us/step - loss: 1.0455 - acc: 0.5085\n",
      "Epoch 7/15\n",
      "59/59 [==============================] - 0s 313us/step - loss: 0.8804 - acc: 0.6610\n",
      "Epoch 8/15\n",
      "59/59 [==============================] - 0s 330us/step - loss: 0.7792 - acc: 0.7797\n",
      "Epoch 9/15\n",
      "59/59 [==============================] - 0s 311us/step - loss: 0.7574 - acc: 0.7797\n",
      "Epoch 10/15\n",
      "59/59 [==============================] - 0s 323us/step - loss: 0.6608 - acc: 0.8305\n",
      "Epoch 11/15\n",
      "59/59 [==============================] - 0s 308us/step - loss: 0.6531 - acc: 0.8136\n"
     ]
    },
    {
     "name": "stdout",
     "output_type": "stream",
     "text": [
      "Epoch 12/15\n",
      "59/59 [==============================] - 0s 314us/step - loss: 0.5606 - acc: 0.8305\n",
      "Epoch 13/15\n",
      "59/59 [==============================] - 0s 303us/step - loss: 0.5309 - acc: 0.9492\n",
      "Epoch 14/15\n",
      "59/59 [==============================] - 0s 293us/step - loss: 0.5572 - acc: 0.8475\n",
      "Epoch 15/15\n",
      "59/59 [==============================] - 0s 323us/step - loss: 0.4668 - acc: 0.9661\n",
      "Epoch 1/15\n",
      "59/59 [==============================] - 6s 96ms/step - loss: 2.0648 - acc: 0.2712\n",
      "Epoch 2/15\n",
      "59/59 [==============================] - 0s 318us/step - loss: 1.8331 - acc: 0.2712\n",
      "Epoch 3/15\n",
      "59/59 [==============================] - 0s 339us/step - loss: 1.4621 - acc: 0.3559\n",
      "Epoch 4/15\n",
      "59/59 [==============================] - 0s 346us/step - loss: 1.3595 - acc: 0.4746\n",
      "Epoch 5/15\n",
      "59/59 [==============================] - 0s 318us/step - loss: 1.1588 - acc: 0.5763\n",
      "Epoch 6/15\n",
      "59/59 [==============================] - 0s 351us/step - loss: 1.0022 - acc: 0.6780\n",
      "Epoch 7/15\n",
      "59/59 [==============================] - 0s 321us/step - loss: 0.9051 - acc: 0.6780\n",
      "Epoch 8/15\n",
      "59/59 [==============================] - 0s 335us/step - loss: 0.7999 - acc: 0.7288\n",
      "Epoch 9/15\n",
      "59/59 [==============================] - 0s 334us/step - loss: 0.7533 - acc: 0.7119\n",
      "Epoch 10/15\n",
      "59/59 [==============================] - 0s 331us/step - loss: 0.6879 - acc: 0.8136\n",
      "Epoch 11/15\n",
      "59/59 [==============================] - 0s 333us/step - loss: 0.6431 - acc: 0.7627\n",
      "Epoch 12/15\n",
      "59/59 [==============================] - 0s 325us/step - loss: 0.6280 - acc: 0.8136\n",
      "Epoch 13/15\n",
      "59/59 [==============================] - 0s 327us/step - loss: 0.5719 - acc: 0.8644\n",
      "Epoch 14/15\n",
      "59/59 [==============================] - 0s 323us/step - loss: 0.5550 - acc: 0.8305\n",
      "Epoch 15/15\n",
      "59/59 [==============================] - 0s 323us/step - loss: 0.5129 - acc: 0.8983\n",
      "Epoch 1/15\n",
      "59/59 [==============================] - 6s 93ms/step - loss: 1.9198 - acc: 0.2712\n",
      "Epoch 2/15\n",
      "59/59 [==============================] - 0s 315us/step - loss: 1.5750 - acc: 0.3051\n",
      "Epoch 3/15\n",
      "59/59 [==============================] - 0s 328us/step - loss: 1.3694 - acc: 0.3729\n",
      "Epoch 4/15\n",
      "59/59 [==============================] - 0s 304us/step - loss: 1.2569 - acc: 0.4915\n",
      "Epoch 5/15\n",
      "59/59 [==============================] - 0s 357us/step - loss: 1.1437 - acc: 0.4746\n",
      "Epoch 6/15\n",
      "59/59 [==============================] - 0s 339us/step - loss: 0.9655 - acc: 0.6271\n",
      "Epoch 7/15\n",
      "59/59 [==============================] - 0s 331us/step - loss: 1.0253 - acc: 0.6102\n",
      "Epoch 8/15\n",
      "59/59 [==============================] - 0s 319us/step - loss: 0.8596 - acc: 0.6949\n",
      "Epoch 9/15\n",
      "59/59 [==============================] - 0s 309us/step - loss: 0.7898 - acc: 0.7797\n",
      "Epoch 10/15\n",
      "59/59 [==============================] - 0s 332us/step - loss: 0.7454 - acc: 0.7627\n",
      "Epoch 11/15\n",
      "59/59 [==============================] - 0s 311us/step - loss: 0.6426 - acc: 0.8644\n",
      "Epoch 12/15\n",
      "59/59 [==============================] - 0s 321us/step - loss: 0.6142 - acc: 0.8305\n",
      "Epoch 13/15\n",
      "59/59 [==============================] - 0s 320us/step - loss: 0.5768 - acc: 0.8305\n",
      "Epoch 14/15\n",
      "59/59 [==============================] - 0s 345us/step - loss: 0.5057 - acc: 0.9322\n",
      "Epoch 15/15\n",
      "59/59 [==============================] - 0s 319us/step - loss: 0.5273 - acc: 0.8983\n",
      "Epoch 1/15\n",
      "59/59 [==============================] - 6s 94ms/step - loss: 1.8791 - acc: 0.2712\n",
      "Epoch 2/15\n",
      "59/59 [==============================] - 0s 310us/step - loss: 1.6295 - acc: 0.3390\n",
      "Epoch 3/15\n",
      "59/59 [==============================] - 0s 319us/step - loss: 1.3584 - acc: 0.4237\n",
      "Epoch 4/15\n",
      "59/59 [==============================] - 0s 327us/step - loss: 1.2475 - acc: 0.4407\n",
      "Epoch 5/15\n",
      "59/59 [==============================] - 0s 311us/step - loss: 1.0606 - acc: 0.5424\n",
      "Epoch 6/15\n",
      "59/59 [==============================] - 0s 336us/step - loss: 0.9842 - acc: 0.5932\n",
      "Epoch 7/15\n",
      "59/59 [==============================] - 0s 335us/step - loss: 0.8992 - acc: 0.6610\n",
      "Epoch 8/15\n",
      "59/59 [==============================] - 0s 336us/step - loss: 0.8053 - acc: 0.7797\n",
      "Epoch 9/15\n",
      "59/59 [==============================] - 0s 339us/step - loss: 0.7653 - acc: 0.6780\n",
      "Epoch 10/15\n",
      "59/59 [==============================] - 0s 322us/step - loss: 0.7165 - acc: 0.7966\n",
      "Epoch 11/15\n",
      "59/59 [==============================] - 0s 327us/step - loss: 0.6456 - acc: 0.8136\n",
      "Epoch 12/15\n",
      "59/59 [==============================] - 0s 342us/step - loss: 0.6167 - acc: 0.8305\n",
      "Epoch 13/15\n",
      "59/59 [==============================] - 0s 307us/step - loss: 0.5449 - acc: 0.8983\n",
      "Epoch 14/15\n",
      "59/59 [==============================] - 0s 344us/step - loss: 0.5476 - acc: 0.8305\n",
      "Epoch 15/15\n",
      "59/59 [==============================] - 0s 301us/step - loss: 0.4660 - acc: 0.9153\n",
      "Epoch 1/15\n",
      "59/59 [==============================] - 6s 94ms/step - loss: 1.9196 - acc: 0.2542\n",
      "Epoch 2/15\n",
      "59/59 [==============================] - 0s 348us/step - loss: 1.6026 - acc: 0.3051\n",
      "Epoch 3/15\n",
      "59/59 [==============================] - 0s 333us/step - loss: 1.4767 - acc: 0.3559\n",
      "Epoch 4/15\n",
      "59/59 [==============================] - 0s 344us/step - loss: 1.2836 - acc: 0.4237\n",
      "Epoch 5/15\n",
      "59/59 [==============================] - 0s 338us/step - loss: 1.0264 - acc: 0.6441\n",
      "Epoch 6/15\n",
      "59/59 [==============================] - 0s 338us/step - loss: 1.0163 - acc: 0.5593\n",
      "Epoch 7/15\n",
      "59/59 [==============================] - 0s 316us/step - loss: 0.9334 - acc: 0.6271\n",
      "Epoch 8/15\n",
      "59/59 [==============================] - 0s 324us/step - loss: 0.8564 - acc: 0.6102\n",
      "Epoch 9/15\n",
      "59/59 [==============================] - 0s 332us/step - loss: 0.7976 - acc: 0.6610\n",
      "Epoch 10/15\n",
      "59/59 [==============================] - 0s 322us/step - loss: 0.7195 - acc: 0.7797\n",
      "Epoch 11/15\n",
      "59/59 [==============================] - 0s 328us/step - loss: 0.6738 - acc: 0.8136\n",
      "Epoch 12/15\n",
      "59/59 [==============================] - 0s 319us/step - loss: 0.6741 - acc: 0.8136\n",
      "Epoch 13/15\n",
      "59/59 [==============================] - 0s 331us/step - loss: 0.5645 - acc: 0.8136\n",
      "Epoch 14/15\n",
      "59/59 [==============================] - 0s 323us/step - loss: 0.5791 - acc: 0.7966\n",
      "Epoch 15/15\n",
      "59/59 [==============================] - 0s 332us/step - loss: 0.5310 - acc: 0.8814\n",
      "Epoch 1/15\n",
      "59/59 [==============================] - 6s 95ms/step - loss: 1.8536 - acc: 0.2034\n",
      "Epoch 2/15\n",
      "59/59 [==============================] - 0s 324us/step - loss: 1.6278 - acc: 0.2542\n",
      "Epoch 3/15\n",
      "59/59 [==============================] - 0s 335us/step - loss: 1.3856 - acc: 0.3729\n",
      "Epoch 4/15\n",
      "59/59 [==============================] - 0s 341us/step - loss: 1.1685 - acc: 0.5424\n",
      "Epoch 5/15\n",
      "59/59 [==============================] - 0s 343us/step - loss: 1.1111 - acc: 0.5085\n",
      "Epoch 6/15\n",
      "59/59 [==============================] - 0s 325us/step - loss: 1.0420 - acc: 0.5763\n",
      "Epoch 7/15\n",
      "59/59 [==============================] - 0s 349us/step - loss: 0.9523 - acc: 0.6102\n",
      "Epoch 8/15\n",
      "59/59 [==============================] - 0s 308us/step - loss: 0.8333 - acc: 0.7458\n",
      "Epoch 9/15\n",
      "59/59 [==============================] - 0s 331us/step - loss: 0.8310 - acc: 0.7458\n",
      "Epoch 10/15\n",
      "59/59 [==============================] - 0s 329us/step - loss: 0.6998 - acc: 0.8136\n",
      "Epoch 11/15\n",
      "59/59 [==============================] - 0s 329us/step - loss: 0.6429 - acc: 0.8644\n",
      "Epoch 12/15\n",
      "59/59 [==============================] - 0s 329us/step - loss: 0.5854 - acc: 0.8475\n",
      "Epoch 13/15\n",
      "59/59 [==============================] - 0s 313us/step - loss: 0.5250 - acc: 0.8814\n",
      "Epoch 14/15\n",
      "59/59 [==============================] - 0s 340us/step - loss: 0.4846 - acc: 0.9492\n",
      "Epoch 15/15\n",
      "59/59 [==============================] - 0s 321us/step - loss: 0.5171 - acc: 0.8814\n",
      "Epoch 1/15\n",
      "59/59 [==============================] - 6s 99ms/step - loss: 2.0047 - acc: 0.2203\n",
      "Epoch 2/15\n",
      "59/59 [==============================] - 0s 352us/step - loss: 1.5739 - acc: 0.3390\n",
      "Epoch 3/15\n",
      "59/59 [==============================] - 0s 331us/step - loss: 1.3853 - acc: 0.3729\n",
      "Epoch 4/15\n",
      "59/59 [==============================] - 0s 331us/step - loss: 1.1859 - acc: 0.4407\n",
      "Epoch 5/15\n",
      "59/59 [==============================] - 0s 328us/step - loss: 1.0959 - acc: 0.5593\n",
      "Epoch 6/15\n",
      "59/59 [==============================] - 0s 328us/step - loss: 0.9304 - acc: 0.6271\n",
      "Epoch 7/15\n",
      "59/59 [==============================] - 0s 333us/step - loss: 0.8133 - acc: 0.7288\n"
     ]
    },
    {
     "name": "stdout",
     "output_type": "stream",
     "text": [
      "Epoch 8/15\n",
      "59/59 [==============================] - 0s 297us/step - loss: 0.7978 - acc: 0.7797\n",
      "Epoch 9/15\n",
      "59/59 [==============================] - 0s 315us/step - loss: 0.7276 - acc: 0.7966\n",
      "Epoch 10/15\n",
      "59/59 [==============================] - 0s 319us/step - loss: 0.6840 - acc: 0.8305\n",
      "Epoch 11/15\n",
      "59/59 [==============================] - 0s 305us/step - loss: 0.6845 - acc: 0.8305\n",
      "Epoch 12/15\n",
      "59/59 [==============================] - 0s 325us/step - loss: 0.5663 - acc: 0.9153\n",
      "Epoch 13/15\n",
      "59/59 [==============================] - 0s 327us/step - loss: 0.6097 - acc: 0.8644\n",
      "Epoch 14/15\n",
      "59/59 [==============================] - 0s 308us/step - loss: 0.5338 - acc: 0.8814\n",
      "Epoch 15/15\n",
      "59/59 [==============================] - 0s 316us/step - loss: 0.5320 - acc: 0.8983\n",
      "Epoch 1/15\n",
      "59/59 [==============================] - 6s 99ms/step - loss: 1.8533 - acc: 0.2373\n",
      "Epoch 2/15\n",
      "59/59 [==============================] - 0s 336us/step - loss: 1.5396 - acc: 0.3729\n",
      "Epoch 3/15\n",
      "59/59 [==============================] - 0s 369us/step - loss: 1.2885 - acc: 0.4576\n",
      "Epoch 4/15\n",
      "59/59 [==============================] - 0s 338us/step - loss: 1.0998 - acc: 0.4576\n",
      "Epoch 5/15\n",
      "59/59 [==============================] - 0s 352us/step - loss: 1.0544 - acc: 0.5593\n",
      "Epoch 6/15\n",
      "59/59 [==============================] - 0s 357us/step - loss: 0.9199 - acc: 0.6271\n",
      "Epoch 7/15\n",
      "59/59 [==============================] - 0s 343us/step - loss: 0.8492 - acc: 0.7119\n",
      "Epoch 8/15\n",
      "59/59 [==============================] - 0s 351us/step - loss: 0.7457 - acc: 0.7966\n",
      "Epoch 9/15\n",
      "59/59 [==============================] - 0s 343us/step - loss: 0.7619 - acc: 0.7288\n",
      "Epoch 10/15\n",
      "59/59 [==============================] - 0s 333us/step - loss: 0.7296 - acc: 0.7288\n",
      "Epoch 11/15\n",
      "59/59 [==============================] - 0s 341us/step - loss: 0.5833 - acc: 0.8475\n",
      "Epoch 12/15\n",
      "59/59 [==============================] - 0s 355us/step - loss: 0.5117 - acc: 0.8983\n",
      "Epoch 13/15\n",
      "59/59 [==============================] - 0s 336us/step - loss: 0.5375 - acc: 0.8475\n",
      "Epoch 14/15\n",
      "59/59 [==============================] - 0s 336us/step - loss: 0.4776 - acc: 0.9153\n",
      "Epoch 15/15\n",
      "59/59 [==============================] - 0s 342us/step - loss: 0.4241 - acc: 0.9322\n",
      "Epoch 1/15\n",
      "59/59 [==============================] - 6s 99ms/step - loss: 2.0667 - acc: 0.2203\n",
      "Epoch 2/15\n",
      "59/59 [==============================] - 0s 334us/step - loss: 1.8459 - acc: 0.2542\n",
      "Epoch 3/15\n",
      "59/59 [==============================] - 0s 355us/step - loss: 1.5283 - acc: 0.3559\n",
      "Epoch 4/15\n",
      "59/59 [==============================] - 0s 330us/step - loss: 1.3524 - acc: 0.4068\n",
      "Epoch 5/15\n",
      "59/59 [==============================] - 0s 362us/step - loss: 1.2147 - acc: 0.6102\n",
      "Epoch 6/15\n",
      "59/59 [==============================] - 0s 349us/step - loss: 1.0690 - acc: 0.6949\n",
      "Epoch 7/15\n",
      "59/59 [==============================] - 0s 325us/step - loss: 0.9935 - acc: 0.6780\n",
      "Epoch 8/15\n",
      "59/59 [==============================] - 0s 360us/step - loss: 0.9228 - acc: 0.6610\n",
      "Epoch 9/15\n",
      "59/59 [==============================] - 0s 344us/step - loss: 0.8488 - acc: 0.7797\n",
      "Epoch 10/15\n",
      "59/59 [==============================] - 0s 353us/step - loss: 0.7714 - acc: 0.7966\n",
      "Epoch 11/15\n",
      "59/59 [==============================] - 0s 337us/step - loss: 0.7489 - acc: 0.8136\n",
      "Epoch 12/15\n",
      "59/59 [==============================] - 0s 348us/step - loss: 0.6889 - acc: 0.8136\n",
      "Epoch 13/15\n",
      "59/59 [==============================] - 0s 345us/step - loss: 0.6301 - acc: 0.8475\n",
      "Epoch 14/15\n",
      "59/59 [==============================] - 0s 323us/step - loss: 0.5694 - acc: 0.8814\n",
      "Epoch 15/15\n",
      "59/59 [==============================] - 0s 351us/step - loss: 0.5156 - acc: 0.8983\n",
      "Epoch 1/15\n",
      "59/59 [==============================] - 6s 102ms/step - loss: 1.8918 - acc: 0.2373\n",
      "Epoch 2/15\n",
      "59/59 [==============================] - 0s 347us/step - loss: 1.5036 - acc: 0.3390\n",
      "Epoch 3/15\n",
      "59/59 [==============================] - 0s 346us/step - loss: 1.2711 - acc: 0.4576\n",
      "Epoch 4/15\n",
      "59/59 [==============================] - 0s 331us/step - loss: 1.0732 - acc: 0.5932\n",
      "Epoch 5/15\n",
      "59/59 [==============================] - 0s 395us/step - loss: 0.9521 - acc: 0.6271\n",
      "Epoch 6/15\n",
      "59/59 [==============================] - 0s 350us/step - loss: 0.8845 - acc: 0.6441\n",
      "Epoch 7/15\n",
      "59/59 [==============================] - 0s 355us/step - loss: 0.7545 - acc: 0.7288\n",
      "Epoch 8/15\n",
      "59/59 [==============================] - 0s 356us/step - loss: 0.6611 - acc: 0.8475\n",
      "Epoch 9/15\n",
      "59/59 [==============================] - 0s 351us/step - loss: 0.5999 - acc: 0.8475\n",
      "Epoch 10/15\n",
      "59/59 [==============================] - 0s 333us/step - loss: 0.6025 - acc: 0.7966\n",
      "Epoch 11/15\n",
      "59/59 [==============================] - 0s 359us/step - loss: 0.6057 - acc: 0.8475\n",
      "Epoch 12/15\n",
      "59/59 [==============================] - 0s 352us/step - loss: 0.4648 - acc: 0.9492\n",
      "Epoch 13/15\n",
      "59/59 [==============================] - 0s 342us/step - loss: 0.4427 - acc: 0.9322\n",
      "Epoch 14/15\n",
      "59/59 [==============================] - 0s 339us/step - loss: 0.4336 - acc: 0.9153\n",
      "Epoch 15/15\n",
      "59/59 [==============================] - 0s 343us/step - loss: 0.4527 - acc: 0.8983\n",
      "Epoch 1/15\n",
      "59/59 [==============================] - 6s 108ms/step - loss: 1.8946 - acc: 0.2712\n",
      "Epoch 2/15\n",
      "59/59 [==============================] - 0s 339us/step - loss: 1.5814 - acc: 0.3559\n",
      "Epoch 3/15\n",
      "59/59 [==============================] - 0s 340us/step - loss: 1.3625 - acc: 0.3729\n",
      "Epoch 4/15\n",
      "59/59 [==============================] - 0s 364us/step - loss: 1.1942 - acc: 0.4407\n",
      "Epoch 5/15\n",
      "59/59 [==============================] - 0s 375us/step - loss: 1.0505 - acc: 0.5254\n",
      "Epoch 6/15\n",
      "59/59 [==============================] - 0s 376us/step - loss: 0.9339 - acc: 0.6271\n",
      "Epoch 7/15\n",
      "59/59 [==============================] - 0s 369us/step - loss: 0.9212 - acc: 0.5932\n",
      "Epoch 8/15\n",
      "59/59 [==============================] - 0s 373us/step - loss: 0.7715 - acc: 0.7627\n",
      "Epoch 9/15\n",
      "59/59 [==============================] - 0s 391us/step - loss: 0.7875 - acc: 0.6780\n",
      "Epoch 10/15\n",
      "59/59 [==============================] - 0s 338us/step - loss: 0.6802 - acc: 0.7966\n",
      "Epoch 11/15\n",
      "59/59 [==============================] - 0s 337us/step - loss: 0.5954 - acc: 0.8305\n",
      "Epoch 12/15\n",
      "59/59 [==============================] - 0s 361us/step - loss: 0.7370 - acc: 0.7119\n",
      "Epoch 13/15\n",
      "59/59 [==============================] - 0s 342us/step - loss: 0.5844 - acc: 0.8136\n",
      "Epoch 14/15\n",
      "59/59 [==============================] - 0s 357us/step - loss: 0.4750 - acc: 0.9322\n",
      "Epoch 15/15\n",
      "59/59 [==============================] - 0s 355us/step - loss: 0.4477 - acc: 0.9153\n",
      "Epoch 1/15\n",
      "59/59 [==============================] - 6s 110ms/step - loss: 1.9351 - acc: 0.2034\n",
      "Epoch 2/15\n",
      "59/59 [==============================] - 0s 363us/step - loss: 1.5573 - acc: 0.2712\n",
      "Epoch 3/15\n",
      "59/59 [==============================] - 0s 414us/step - loss: 1.4122 - acc: 0.3220\n",
      "Epoch 4/15\n",
      "59/59 [==============================] - 0s 379us/step - loss: 1.1985 - acc: 0.4068\n",
      "Epoch 5/15\n",
      "59/59 [==============================] - 0s 447us/step - loss: 1.0855 - acc: 0.5085\n",
      "Epoch 6/15\n",
      "59/59 [==============================] - 0s 397us/step - loss: 0.9924 - acc: 0.5763\n",
      "Epoch 7/15\n",
      "59/59 [==============================] - 0s 438us/step - loss: 0.8485 - acc: 0.6780\n",
      "Epoch 8/15\n",
      "59/59 [==============================] - 0s 370us/step - loss: 0.8014 - acc: 0.7288\n",
      "Epoch 9/15\n",
      "59/59 [==============================] - 0s 413us/step - loss: 0.8216 - acc: 0.7458\n",
      "Epoch 10/15\n",
      "59/59 [==============================] - 0s 385us/step - loss: 0.7549 - acc: 0.7966\n",
      "Epoch 11/15\n",
      "59/59 [==============================] - 0s 400us/step - loss: 0.7216 - acc: 0.8475\n",
      "Epoch 12/15\n",
      "59/59 [==============================] - 0s 376us/step - loss: 0.6010 - acc: 0.8475\n",
      "Epoch 13/15\n",
      "59/59 [==============================] - 0s 356us/step - loss: 0.5791 - acc: 0.8305\n",
      "Epoch 14/15\n",
      "59/59 [==============================] - 0s 415us/step - loss: 0.5725 - acc: 0.8814\n",
      "Epoch 15/15\n",
      "59/59 [==============================] - 0s 339us/step - loss: 0.5640 - acc: 0.8644\n",
      "Epoch 1/15\n",
      "59/59 [==============================] - 7s 113ms/step - loss: 2.1172 - acc: 0.2373\n",
      "Epoch 2/15\n",
      "59/59 [==============================] - 0s 382us/step - loss: 1.7896 - acc: 0.3051\n",
      "Epoch 3/15\n"
     ]
    },
    {
     "name": "stdout",
     "output_type": "stream",
     "text": [
      "59/59 [==============================] - 0s 366us/step - loss: 1.4738 - acc: 0.4237\n",
      "Epoch 4/15\n",
      "59/59 [==============================] - 0s 375us/step - loss: 1.3499 - acc: 0.4068\n",
      "Epoch 5/15\n",
      "59/59 [==============================] - 0s 380us/step - loss: 1.1312 - acc: 0.4915\n",
      "Epoch 6/15\n",
      "59/59 [==============================] - 0s 337us/step - loss: 1.0772 - acc: 0.5424\n",
      "Epoch 7/15\n",
      "59/59 [==============================] - 0s 364us/step - loss: 0.9332 - acc: 0.6610\n",
      "Epoch 8/15\n",
      "59/59 [==============================] - 0s 399us/step - loss: 0.8949 - acc: 0.6949\n",
      "Epoch 9/15\n",
      "59/59 [==============================] - 0s 354us/step - loss: 0.7781 - acc: 0.7119\n",
      "Epoch 10/15\n",
      "59/59 [==============================] - 0s 394us/step - loss: 0.7251 - acc: 0.6949\n",
      "Epoch 11/15\n",
      "59/59 [==============================] - 0s 390us/step - loss: 0.6865 - acc: 0.7797\n",
      "Epoch 12/15\n",
      "59/59 [==============================] - 0s 383us/step - loss: 0.6890 - acc: 0.8475\n",
      "Epoch 13/15\n",
      "59/59 [==============================] - 0s 395us/step - loss: 0.5682 - acc: 0.8983\n",
      "Epoch 14/15\n",
      "59/59 [==============================] - 0s 379us/step - loss: 0.5523 - acc: 0.8136\n",
      "Epoch 15/15\n",
      "59/59 [==============================] - 0s 382us/step - loss: 0.5404 - acc: 0.8644\n",
      "Epoch 1/15\n",
      "59/59 [==============================] - 7s 114ms/step - loss: 2.1150 - acc: 0.1525\n",
      "Epoch 2/15\n",
      "59/59 [==============================] - 0s 464us/step - loss: 1.7372 - acc: 0.2542\n",
      "Epoch 3/15\n",
      "59/59 [==============================] - 0s 334us/step - loss: 1.4258 - acc: 0.2881\n",
      "Epoch 4/15\n",
      "59/59 [==============================] - 0s 430us/step - loss: 1.2859 - acc: 0.4915\n",
      "Epoch 5/15\n",
      "59/59 [==============================] - 0s 378us/step - loss: 1.1667 - acc: 0.5424\n",
      "Epoch 6/15\n",
      "59/59 [==============================] - 0s 364us/step - loss: 1.0719 - acc: 0.5593\n",
      "Epoch 7/15\n",
      "59/59 [==============================] - 0s 367us/step - loss: 0.9297 - acc: 0.6441\n",
      "Epoch 8/15\n",
      "59/59 [==============================] - 0s 396us/step - loss: 0.8896 - acc: 0.7288\n",
      "Epoch 9/15\n",
      "59/59 [==============================] - 0s 365us/step - loss: 0.7466 - acc: 0.7627\n",
      "Epoch 10/15\n",
      "59/59 [==============================] - 0s 430us/step - loss: 0.6729 - acc: 0.7966\n",
      "Epoch 11/15\n",
      "59/59 [==============================] - 0s 399us/step - loss: 0.6735 - acc: 0.7966\n",
      "Epoch 12/15\n",
      "59/59 [==============================] - 0s 389us/step - loss: 0.5690 - acc: 0.9153\n",
      "Epoch 13/15\n",
      "59/59 [==============================] - 0s 398us/step - loss: 0.6030 - acc: 0.8475\n",
      "Epoch 14/15\n",
      "59/59 [==============================] - 0s 390us/step - loss: 0.5311 - acc: 0.8983\n",
      "Epoch 15/15\n",
      "59/59 [==============================] - 0s 376us/step - loss: 0.4736 - acc: 0.9661\n",
      "Epoch 1/15\n",
      "59/59 [==============================] - 6s 109ms/step - loss: 1.7867 - acc: 0.2203\n",
      "Epoch 2/15\n",
      "59/59 [==============================] - 0s 423us/step - loss: 1.5953 - acc: 0.3051\n",
      "Epoch 3/15\n",
      "59/59 [==============================] - 0s 422us/step - loss: 1.3280 - acc: 0.3559\n",
      "Epoch 4/15\n",
      "59/59 [==============================] - 0s 472us/step - loss: 1.1149 - acc: 0.5085\n",
      "Epoch 5/15\n",
      "59/59 [==============================] - 0s 430us/step - loss: 1.0131 - acc: 0.5763\n",
      "Epoch 6/15\n",
      "59/59 [==============================] - 0s 409us/step - loss: 0.9181 - acc: 0.6271\n",
      "Epoch 7/15\n",
      "59/59 [==============================] - 0s 433us/step - loss: 0.7963 - acc: 0.7288\n",
      "Epoch 8/15\n",
      "59/59 [==============================] - 0s 397us/step - loss: 0.7446 - acc: 0.7966\n",
      "Epoch 9/15\n",
      "59/59 [==============================] - 0s 411us/step - loss: 0.6754 - acc: 0.7797\n",
      "Epoch 10/15\n",
      "59/59 [==============================] - 0s 352us/step - loss: 0.6904 - acc: 0.7797\n",
      "Epoch 11/15\n",
      "59/59 [==============================] - 0s 449us/step - loss: 0.6607 - acc: 0.7458\n",
      "Epoch 12/15\n",
      "59/59 [==============================] - 0s 411us/step - loss: 0.5284 - acc: 0.8814\n",
      "Epoch 13/15\n",
      "59/59 [==============================] - 0s 425us/step - loss: 0.6093 - acc: 0.8136\n",
      "Epoch 14/15\n",
      "59/59 [==============================] - 0s 401us/step - loss: 0.4868 - acc: 0.9153\n",
      "Epoch 15/15\n",
      "59/59 [==============================] - 0s 429us/step - loss: 0.4875 - acc: 0.8814\n",
      "Epoch 1/15\n",
      "59/59 [==============================] - 7s 111ms/step - loss: 2.0675 - acc: 0.1864\n",
      "Epoch 2/15\n",
      "59/59 [==============================] - 0s 415us/step - loss: 1.6815 - acc: 0.3051\n",
      "Epoch 3/15\n",
      "59/59 [==============================] - 0s 407us/step - loss: 1.4556 - acc: 0.3559\n",
      "Epoch 4/15\n",
      "59/59 [==============================] - 0s 454us/step - loss: 1.2315 - acc: 0.3898\n",
      "Epoch 5/15\n",
      "59/59 [==============================] - 0s 405us/step - loss: 1.1166 - acc: 0.4915\n",
      "Epoch 6/15\n",
      "59/59 [==============================] - 0s 429us/step - loss: 1.0707 - acc: 0.4746\n",
      "Epoch 7/15\n",
      "59/59 [==============================] - 0s 436us/step - loss: 0.9475 - acc: 0.6441\n",
      "Epoch 8/15\n",
      "59/59 [==============================] - 0s 404us/step - loss: 0.9840 - acc: 0.5254\n",
      "Epoch 9/15\n",
      "59/59 [==============================] - 0s 428us/step - loss: 0.8130 - acc: 0.7288\n",
      "Epoch 10/15\n",
      "59/59 [==============================] - 0s 391us/step - loss: 0.7696 - acc: 0.8136\n",
      "Epoch 11/15\n",
      "59/59 [==============================] - 0s 467us/step - loss: 0.6675 - acc: 0.8136\n",
      "Epoch 12/15\n",
      "59/59 [==============================] - 0s 430us/step - loss: 0.6106 - acc: 0.8136\n",
      "Epoch 13/15\n",
      "59/59 [==============================] - 0s 394us/step - loss: 0.6175 - acc: 0.8475\n",
      "Epoch 14/15\n",
      "59/59 [==============================] - 0s 421us/step - loss: 0.5158 - acc: 0.8644\n",
      "Epoch 15/15\n",
      "59/59 [==============================] - 0s 425us/step - loss: 0.5347 - acc: 0.8814\n",
      "Epoch 1/15\n",
      "59/59 [==============================] - 7s 115ms/step - loss: 2.0796 - acc: 0.2373\n",
      "Epoch 2/15\n",
      "59/59 [==============================] - 0s 415us/step - loss: 1.6680 - acc: 0.2542\n",
      "Epoch 3/15\n",
      "59/59 [==============================] - 0s 406us/step - loss: 1.4609 - acc: 0.3220\n",
      "Epoch 4/15\n",
      "59/59 [==============================] - 0s 442us/step - loss: 1.3754 - acc: 0.4407\n",
      "Epoch 5/15\n",
      "59/59 [==============================] - 0s 422us/step - loss: 1.1439 - acc: 0.4576\n",
      "Epoch 6/15\n",
      "59/59 [==============================] - 0s 403us/step - loss: 1.0904 - acc: 0.6102\n",
      "Epoch 7/15\n",
      "59/59 [==============================] - 0s 429us/step - loss: 0.9814 - acc: 0.7119\n",
      "Epoch 8/15\n",
      "59/59 [==============================] - 0s 443us/step - loss: 0.8913 - acc: 0.7119\n",
      "Epoch 9/15\n",
      "59/59 [==============================] - 0s 436us/step - loss: 0.7979 - acc: 0.7119\n",
      "Epoch 10/15\n",
      "59/59 [==============================] - 0s 401us/step - loss: 0.7204 - acc: 0.8475\n",
      "Epoch 11/15\n",
      "59/59 [==============================] - 0s 423us/step - loss: 0.7018 - acc: 0.7966\n",
      "Epoch 12/15\n",
      "59/59 [==============================] - 0s 433us/step - loss: 0.6548 - acc: 0.8983\n",
      "Epoch 13/15\n",
      "59/59 [==============================] - 0s 447us/step - loss: 0.5445 - acc: 0.8814\n",
      "Epoch 14/15\n",
      "59/59 [==============================] - 0s 439us/step - loss: 0.5118 - acc: 0.9492\n",
      "Epoch 15/15\n",
      "59/59 [==============================] - 0s 411us/step - loss: 0.4937 - acc: 0.9153\n",
      "Epoch 1/15\n",
      "59/59 [==============================] - 7s 116ms/step - loss: 1.9365 - acc: 0.2881\n",
      "Epoch 2/15\n",
      "59/59 [==============================] - 0s 450us/step - loss: 1.6012 - acc: 0.3220\n",
      "Epoch 3/15\n",
      "59/59 [==============================] - 0s 477us/step - loss: 1.4380 - acc: 0.3559\n",
      "Epoch 4/15\n",
      "59/59 [==============================] - 0s 437us/step - loss: 1.2031 - acc: 0.4746\n",
      "Epoch 5/15\n",
      "59/59 [==============================] - 0s 472us/step - loss: 1.2055 - acc: 0.4068\n",
      "Epoch 6/15\n",
      "59/59 [==============================] - 0s 433us/step - loss: 1.0381 - acc: 0.5763\n",
      "Epoch 7/15\n",
      "59/59 [==============================] - 0s 442us/step - loss: 0.8296 - acc: 0.7288\n",
      "Epoch 8/15\n",
      "59/59 [==============================] - 0s 421us/step - loss: 0.8845 - acc: 0.6780\n",
      "Epoch 9/15\n",
      "59/59 [==============================] - 0s 427us/step - loss: 0.7359 - acc: 0.7627\n",
      "Epoch 10/15\n",
      "59/59 [==============================] - 0s 429us/step - loss: 0.7465 - acc: 0.7966\n",
      "Epoch 11/15\n",
      "59/59 [==============================] - 0s 443us/step - loss: 0.6929 - acc: 0.7966\n",
      "Epoch 12/15\n",
      "59/59 [==============================] - 0s 400us/step - loss: 0.6286 - acc: 0.8644\n",
      "Epoch 13/15\n",
      "59/59 [==============================] - 0s 457us/step - loss: 0.6402 - acc: 0.8305\n"
     ]
    },
    {
     "name": "stdout",
     "output_type": "stream",
     "text": [
      "Epoch 14/15\n",
      "59/59 [==============================] - 0s 444us/step - loss: 0.5690 - acc: 0.8475\n",
      "Epoch 15/15\n",
      "59/59 [==============================] - 0s 511us/step - loss: 0.5420 - acc: 0.8305\n",
      "Epoch 1/15\n",
      "59/59 [==============================] - 7s 118ms/step - loss: 1.9646 - acc: 0.2034\n",
      "Epoch 2/15\n",
      "59/59 [==============================] - 0s 481us/step - loss: 1.6696 - acc: 0.3051\n",
      "Epoch 3/15\n",
      "59/59 [==============================] - 0s 444us/step - loss: 1.4411 - acc: 0.3390\n",
      "Epoch 4/15\n",
      "59/59 [==============================] - 0s 426us/step - loss: 1.3149 - acc: 0.3559\n",
      "Epoch 5/15\n",
      "59/59 [==============================] - 0s 430us/step - loss: 1.0774 - acc: 0.5593\n",
      "Epoch 6/15\n",
      "59/59 [==============================] - 0s 500us/step - loss: 1.0005 - acc: 0.6271\n",
      "Epoch 7/15\n",
      "59/59 [==============================] - 0s 446us/step - loss: 0.9538 - acc: 0.6102\n",
      "Epoch 8/15\n",
      "59/59 [==============================] - 0s 411us/step - loss: 0.8993 - acc: 0.5932\n",
      "Epoch 9/15\n",
      "59/59 [==============================] - 0s 528us/step - loss: 0.8051 - acc: 0.7119\n",
      "Epoch 10/15\n",
      "59/59 [==============================] - 0s 468us/step - loss: 0.6608 - acc: 0.8305\n",
      "Epoch 11/15\n",
      "59/59 [==============================] - 0s 467us/step - loss: 0.6317 - acc: 0.8136\n",
      "Epoch 12/15\n",
      "59/59 [==============================] - 0s 485us/step - loss: 0.6335 - acc: 0.8136\n",
      "Epoch 13/15\n",
      "59/59 [==============================] - 0s 433us/step - loss: 0.5718 - acc: 0.8475\n",
      "Epoch 14/15\n",
      "59/59 [==============================] - 0s 402us/step - loss: 0.5664 - acc: 0.8644\n",
      "Epoch 15/15\n",
      "59/59 [==============================] - 0s 462us/step - loss: 0.5026 - acc: 0.8814\n",
      "Epoch 1/15\n",
      "59/59 [==============================] - 7s 117ms/step - loss: 2.0055 - acc: 0.2203\n",
      "Epoch 2/15\n",
      "59/59 [==============================] - 0s 468us/step - loss: 1.6082 - acc: 0.3051\n",
      "Epoch 3/15\n",
      "59/59 [==============================] - 0s 490us/step - loss: 1.2722 - acc: 0.4746\n",
      "Epoch 4/15\n",
      "59/59 [==============================] - 0s 499us/step - loss: 1.1508 - acc: 0.5593\n",
      "Epoch 5/15\n",
      "59/59 [==============================] - 0s 469us/step - loss: 1.0220 - acc: 0.5593\n",
      "Epoch 6/15\n",
      "59/59 [==============================] - 0s 485us/step - loss: 0.8559 - acc: 0.6610\n",
      "Epoch 7/15\n",
      "59/59 [==============================] - 0s 519us/step - loss: 0.8174 - acc: 0.7288\n",
      "Epoch 8/15\n",
      "59/59 [==============================] - 0s 444us/step - loss: 0.7792 - acc: 0.7797\n",
      "Epoch 9/15\n",
      "59/59 [==============================] - 0s 484us/step - loss: 0.6703 - acc: 0.8136\n",
      "Epoch 10/15\n",
      "59/59 [==============================] - 0s 450us/step - loss: 0.6362 - acc: 0.8305\n",
      "Epoch 11/15\n",
      "59/59 [==============================] - 0s 479us/step - loss: 0.5996 - acc: 0.8305\n",
      "Epoch 12/15\n",
      "59/59 [==============================] - 0s 369us/step - loss: 0.5783 - acc: 0.8475\n",
      "Epoch 13/15\n",
      "59/59 [==============================] - 0s 491us/step - loss: 0.5700 - acc: 0.9153\n",
      "Epoch 14/15\n",
      "59/59 [==============================] - 0s 462us/step - loss: 0.5880 - acc: 0.8644\n",
      "Epoch 15/15\n",
      "59/59 [==============================] - 0s 471us/step - loss: 0.4547 - acc: 0.8983\n",
      "Epoch 1/15\n",
      "59/59 [==============================] - 7s 118ms/step - loss: 2.0167 - acc: 0.1864\n",
      "Epoch 2/15\n",
      "59/59 [==============================] - 0s 475us/step - loss: 1.6806 - acc: 0.2373\n",
      "Epoch 3/15\n",
      "59/59 [==============================] - 0s 468us/step - loss: 1.3912 - acc: 0.3220\n",
      "Epoch 4/15\n",
      "59/59 [==============================] - 0s 457us/step - loss: 1.3166 - acc: 0.4576\n",
      "Epoch 5/15\n",
      "59/59 [==============================] - 0s 429us/step - loss: 1.1308 - acc: 0.5085\n",
      "Epoch 6/15\n",
      "59/59 [==============================] - 0s 456us/step - loss: 0.9939 - acc: 0.6271\n",
      "Epoch 7/15\n",
      "59/59 [==============================] - 0s 425us/step - loss: 0.9168 - acc: 0.6441\n",
      "Epoch 8/15\n",
      "59/59 [==============================] - 0s 316us/step - loss: 0.9031 - acc: 0.6102\n",
      "Epoch 9/15\n",
      "59/59 [==============================] - 0s 404us/step - loss: 0.8337 - acc: 0.7119\n",
      "Epoch 10/15\n",
      "59/59 [==============================] - 0s 448us/step - loss: 0.7796 - acc: 0.7627\n",
      "Epoch 11/15\n",
      "59/59 [==============================] - 0s 447us/step - loss: 0.6705 - acc: 0.8644\n",
      "Epoch 12/15\n",
      "59/59 [==============================] - 0s 429us/step - loss: 0.6367 - acc: 0.8644\n",
      "Epoch 13/15\n",
      "59/59 [==============================] - 0s 418us/step - loss: 0.5688 - acc: 0.8983\n",
      "Epoch 14/15\n",
      "59/59 [==============================] - 0s 382us/step - loss: 0.5826 - acc: 0.8644\n",
      "Epoch 15/15\n",
      "59/59 [==============================] - 0s 407us/step - loss: 0.5669 - acc: 0.8814\n",
      "Epoch 1/15\n",
      "59/59 [==============================] - 7s 121ms/step - loss: 2.2143 - acc: 0.1695\n",
      "Epoch 2/15\n",
      "59/59 [==============================] - 0s 405us/step - loss: 1.8823 - acc: 0.2203\n",
      "Epoch 3/15\n",
      "59/59 [==============================] - 0s 458us/step - loss: 1.4045 - acc: 0.3559\n",
      "Epoch 4/15\n",
      "59/59 [==============================] - 0s 464us/step - loss: 1.3022 - acc: 0.3898\n",
      "Epoch 5/15\n",
      "59/59 [==============================] - 0s 440us/step - loss: 1.2403 - acc: 0.4068\n",
      "Epoch 6/15\n",
      "59/59 [==============================] - 0s 465us/step - loss: 1.0078 - acc: 0.5424\n",
      "Epoch 7/15\n",
      "59/59 [==============================] - 0s 487us/step - loss: 0.9188 - acc: 0.6271\n",
      "Epoch 8/15\n",
      "59/59 [==============================] - 0s 424us/step - loss: 0.8023 - acc: 0.6780\n",
      "Epoch 9/15\n",
      "59/59 [==============================] - 0s 459us/step - loss: 0.7088 - acc: 0.7797\n",
      "Epoch 10/15\n",
      "59/59 [==============================] - 0s 424us/step - loss: 0.6277 - acc: 0.8136\n",
      "Epoch 11/15\n",
      "59/59 [==============================] - 0s 450us/step - loss: 0.6238 - acc: 0.8305\n",
      "Epoch 12/15\n",
      "59/59 [==============================] - 0s 468us/step - loss: 0.5512 - acc: 0.9153\n",
      "Epoch 13/15\n",
      "59/59 [==============================] - 0s 426us/step - loss: 0.5531 - acc: 0.8644\n",
      "Epoch 14/15\n",
      "59/59 [==============================] - 0s 439us/step - loss: 0.5005 - acc: 0.9322\n",
      "Epoch 15/15\n",
      "59/59 [==============================] - 0s 432us/step - loss: 0.4129 - acc: 0.9661\n",
      "Epoch 1/15\n",
      "59/59 [==============================] - 7s 126ms/step - loss: 1.4471 - acc: 0.3898\n",
      "Epoch 2/15\n",
      "59/59 [==============================] - 0s 504us/step - loss: 1.2222 - acc: 0.5085\n",
      "Epoch 3/15\n",
      "59/59 [==============================] - 0s 502us/step - loss: 1.0805 - acc: 0.5763\n",
      "Epoch 4/15\n",
      "59/59 [==============================] - 0s 478us/step - loss: 0.9740 - acc: 0.5593\n",
      "Epoch 5/15\n",
      "59/59 [==============================] - 0s 517us/step - loss: 0.7773 - acc: 0.7458\n",
      "Epoch 6/15\n",
      "59/59 [==============================] - 0s 440us/step - loss: 0.7395 - acc: 0.7288\n",
      "Epoch 7/15\n",
      "59/59 [==============================] - 0s 450us/step - loss: 0.6817 - acc: 0.8136\n",
      "Epoch 8/15\n",
      "59/59 [==============================] - 0s 451us/step - loss: 0.5446 - acc: 0.8983\n",
      "Epoch 9/15\n",
      "59/59 [==============================] - 0s 482us/step - loss: 0.5417 - acc: 0.8305\n",
      "Epoch 10/15\n",
      "59/59 [==============================] - 0s 476us/step - loss: 0.5175 - acc: 0.8644\n",
      "Epoch 11/15\n",
      "59/59 [==============================] - 0s 490us/step - loss: 0.4842 - acc: 0.9153\n",
      "Epoch 12/15\n",
      "59/59 [==============================] - 0s 488us/step - loss: 0.4979 - acc: 0.8644\n",
      "Epoch 13/15\n",
      "59/59 [==============================] - 0s 497us/step - loss: 0.4652 - acc: 0.8983\n",
      "Epoch 14/15\n",
      "59/59 [==============================] - 0s 473us/step - loss: 0.3827 - acc: 0.9492\n",
      "Epoch 15/15\n",
      "59/59 [==============================] - 0s 513us/step - loss: 0.3805 - acc: 0.8983\n",
      "Epoch 1/15\n",
      "59/59 [==============================] - 7s 124ms/step - loss: 1.7278 - acc: 0.2542\n",
      "Epoch 2/15\n",
      "59/59 [==============================] - 0s 503us/step - loss: 1.3361 - acc: 0.4068\n",
      "Epoch 3/15\n",
      "59/59 [==============================] - 0s 496us/step - loss: 1.2028 - acc: 0.4407\n",
      "Epoch 4/15\n",
      "59/59 [==============================] - 0s 532us/step - loss: 1.0915 - acc: 0.5593\n",
      "Epoch 5/15\n",
      "59/59 [==============================] - 0s 452us/step - loss: 0.9107 - acc: 0.6780\n",
      "Epoch 6/15\n",
      "59/59 [==============================] - 0s 407us/step - loss: 0.8853 - acc: 0.6780\n",
      "Epoch 7/15\n",
      "59/59 [==============================] - 0s 483us/step - loss: 0.7672 - acc: 0.7797\n",
      "Epoch 8/15\n",
      "59/59 [==============================] - 0s 538us/step - loss: 0.7659 - acc: 0.7627\n",
      "Epoch 9/15\n"
     ]
    },
    {
     "name": "stdout",
     "output_type": "stream",
     "text": [
      "59/59 [==============================] - 0s 513us/step - loss: 0.6799 - acc: 0.8305\n",
      "Epoch 10/15\n",
      "59/59 [==============================] - 0s 502us/step - loss: 0.6747 - acc: 0.8644\n",
      "Epoch 11/15\n",
      "59/59 [==============================] - 0s 520us/step - loss: 0.6019 - acc: 0.8475\n",
      "Epoch 12/15\n",
      "59/59 [==============================] - 0s 502us/step - loss: 0.5912 - acc: 0.8814\n",
      "Epoch 13/15\n",
      "59/59 [==============================] - 0s 476us/step - loss: 0.5071 - acc: 0.9492\n",
      "Epoch 14/15\n",
      "59/59 [==============================] - 0s 519us/step - loss: 0.5335 - acc: 0.8814\n",
      "Epoch 15/15\n",
      "59/59 [==============================] - 0s 495us/step - loss: 0.4289 - acc: 0.9831\n",
      "Epoch 1/15\n",
      "59/59 [==============================] - 8s 128ms/step - loss: 1.8915 - acc: 0.2034\n",
      "Epoch 2/15\n",
      "59/59 [==============================] - 0s 437us/step - loss: 1.5423 - acc: 0.2712\n",
      "Epoch 3/15\n",
      "59/59 [==============================] - 0s 492us/step - loss: 1.2682 - acc: 0.3390\n",
      "Epoch 4/15\n",
      "59/59 [==============================] - 0s 458us/step - loss: 1.1275 - acc: 0.5085\n",
      "Epoch 5/15\n",
      "59/59 [==============================] - 0s 526us/step - loss: 1.0172 - acc: 0.6441\n",
      "Epoch 6/15\n",
      "59/59 [==============================] - 0s 515us/step - loss: 0.8440 - acc: 0.7627\n",
      "Epoch 7/15\n",
      "59/59 [==============================] - 0s 536us/step - loss: 0.8044 - acc: 0.7458\n",
      "Epoch 8/15\n",
      "59/59 [==============================] - 0s 528us/step - loss: 0.7869 - acc: 0.7797\n",
      "Epoch 9/15\n",
      "59/59 [==============================] - 0s 482us/step - loss: 0.6983 - acc: 0.7966\n",
      "Epoch 10/15\n",
      "59/59 [==============================] - 0s 491us/step - loss: 0.6059 - acc: 0.8814\n",
      "Epoch 11/15\n",
      "59/59 [==============================] - 0s 510us/step - loss: 0.6643 - acc: 0.7627\n",
      "Epoch 12/15\n",
      "59/59 [==============================] - 0s 509us/step - loss: 0.4956 - acc: 0.8983\n",
      "Epoch 13/15\n",
      "59/59 [==============================] - 0s 508us/step - loss: 0.4865 - acc: 0.9661\n",
      "Epoch 14/15\n",
      "59/59 [==============================] - 0s 507us/step - loss: 0.4802 - acc: 0.9492\n",
      "Epoch 15/15\n",
      "59/59 [==============================] - 0s 495us/step - loss: 0.4315 - acc: 0.9492\n",
      "Epoch 1/15\n",
      "59/59 [==============================] - 8s 128ms/step - loss: 1.9798 - acc: 0.2373\n",
      "Epoch 2/15\n",
      "59/59 [==============================] - 0s 541us/step - loss: 1.6628 - acc: 0.2881\n",
      "Epoch 3/15\n",
      "59/59 [==============================] - 0s 506us/step - loss: 1.4479 - acc: 0.3390\n",
      "Epoch 4/15\n",
      "59/59 [==============================] - 0s 491us/step - loss: 1.2251 - acc: 0.4746\n",
      "Epoch 5/15\n",
      "59/59 [==============================] - 0s 502us/step - loss: 1.0993 - acc: 0.5932\n",
      "Epoch 6/15\n",
      "59/59 [==============================] - 0s 524us/step - loss: 0.9497 - acc: 0.6102\n",
      "Epoch 7/15\n",
      "59/59 [==============================] - 0s 471us/step - loss: 0.9194 - acc: 0.6780\n",
      "Epoch 8/15\n",
      "59/59 [==============================] - 0s 452us/step - loss: 0.8036 - acc: 0.7797\n",
      "Epoch 9/15\n",
      "59/59 [==============================] - 0s 477us/step - loss: 0.7680 - acc: 0.7627\n",
      "Epoch 10/15\n",
      "59/59 [==============================] - 0s 459us/step - loss: 0.6939 - acc: 0.8136\n",
      "Epoch 11/15\n",
      "59/59 [==============================] - 0s 416us/step - loss: 0.6882 - acc: 0.8136\n",
      "Epoch 12/15\n",
      "59/59 [==============================] - 0s 368us/step - loss: 0.6227 - acc: 0.8644\n",
      "Epoch 13/15\n",
      "59/59 [==============================] - 0s 487us/step - loss: 0.6588 - acc: 0.7966\n",
      "Epoch 14/15\n",
      "59/59 [==============================] - 0s 513us/step - loss: 0.5421 - acc: 0.9153\n",
      "Epoch 15/15\n",
      "59/59 [==============================] - 0s 522us/step - loss: 0.4666 - acc: 0.9153\n",
      "Epoch 1/15\n",
      "59/59 [==============================] - 8s 128ms/step - loss: 1.7983 - acc: 0.2542\n",
      "Epoch 2/15\n",
      "59/59 [==============================] - 0s 538us/step - loss: 1.5190 - acc: 0.3390\n",
      "Epoch 3/15\n",
      "59/59 [==============================] - 0s 529us/step - loss: 1.3678 - acc: 0.3898\n",
      "Epoch 4/15\n",
      "59/59 [==============================] - 0s 538us/step - loss: 1.2014 - acc: 0.4237\n",
      "Epoch 5/15\n",
      "59/59 [==============================] - 0s 536us/step - loss: 0.9585 - acc: 0.6102\n",
      "Epoch 6/15\n",
      "59/59 [==============================] - 0s 482us/step - loss: 0.9343 - acc: 0.6271\n",
      "Epoch 7/15\n",
      "59/59 [==============================] - 0s 518us/step - loss: 0.8651 - acc: 0.6441\n",
      "Epoch 8/15\n",
      "59/59 [==============================] - 0s 501us/step - loss: 0.7780 - acc: 0.7458\n",
      "Epoch 9/15\n",
      "59/59 [==============================] - 0s 494us/step - loss: 0.7221 - acc: 0.7119\n",
      "Epoch 10/15\n",
      "59/59 [==============================] - 0s 458us/step - loss: 0.6979 - acc: 0.7458\n",
      "Epoch 11/15\n",
      "59/59 [==============================] - 0s 492us/step - loss: 0.6537 - acc: 0.7797\n",
      "Epoch 12/15\n",
      "59/59 [==============================] - 0s 514us/step - loss: 0.5804 - acc: 0.8136\n",
      "Epoch 13/15\n",
      "59/59 [==============================] - 0s 483us/step - loss: 0.4862 - acc: 0.8983\n",
      "Epoch 14/15\n",
      "59/59 [==============================] - 0s 551us/step - loss: 0.4845 - acc: 0.8983\n",
      "Epoch 15/15\n",
      "59/59 [==============================] - 0s 508us/step - loss: 0.4630 - acc: 0.8814\n",
      "Epoch 1/15\n",
      "59/59 [==============================] - 8s 130ms/step - loss: 1.9256 - acc: 0.2373\n",
      "Epoch 2/15\n",
      "59/59 [==============================] - 0s 482us/step - loss: 1.6407 - acc: 0.3559\n",
      "Epoch 3/15\n",
      "59/59 [==============================] - 0s 519us/step - loss: 1.2663 - acc: 0.4576\n",
      "Epoch 4/15\n",
      "59/59 [==============================] - 0s 504us/step - loss: 1.1427 - acc: 0.5085\n",
      "Epoch 5/15\n",
      "59/59 [==============================] - 0s 524us/step - loss: 1.0353 - acc: 0.6102\n",
      "Epoch 6/15\n",
      "59/59 [==============================] - 0s 539us/step - loss: 0.9870 - acc: 0.5424\n",
      "Epoch 7/15\n",
      "59/59 [==============================] - 0s 527us/step - loss: 0.8956 - acc: 0.6271\n",
      "Epoch 8/15\n",
      "59/59 [==============================] - 0s 531us/step - loss: 0.7672 - acc: 0.6780\n",
      "Epoch 9/15\n",
      "59/59 [==============================] - 0s 533us/step - loss: 0.7173 - acc: 0.7288\n",
      "Epoch 10/15\n",
      "59/59 [==============================] - 0s 536us/step - loss: 0.6536 - acc: 0.8305\n",
      "Epoch 11/15\n",
      "59/59 [==============================] - 0s 521us/step - loss: 0.5858 - acc: 0.8136\n",
      "Epoch 12/15\n",
      "59/59 [==============================] - 0s 527us/step - loss: 0.5619 - acc: 0.8305\n",
      "Epoch 13/15\n",
      "59/59 [==============================] - 0s 497us/step - loss: 0.5473 - acc: 0.8475\n",
      "Epoch 14/15\n",
      "59/59 [==============================] - 0s 526us/step - loss: 0.5033 - acc: 0.8644\n",
      "Epoch 15/15\n",
      "59/59 [==============================] - 0s 534us/step - loss: 0.4696 - acc: 0.8814\n",
      "Epoch 1/15\n",
      "59/59 [==============================] - 8s 130ms/step - loss: 1.9763 - acc: 0.2034\n",
      "Epoch 2/15\n",
      "59/59 [==============================] - 0s 503us/step - loss: 1.5950 - acc: 0.3559\n",
      "Epoch 3/15\n",
      "59/59 [==============================] - 0s 516us/step - loss: 1.3713 - acc: 0.3390\n",
      "Epoch 4/15\n",
      "59/59 [==============================] - 0s 540us/step - loss: 1.1882 - acc: 0.5254\n",
      "Epoch 5/15\n",
      "59/59 [==============================] - 0s 513us/step - loss: 1.1337 - acc: 0.4915\n",
      "Epoch 6/15\n",
      "59/59 [==============================] - 0s 517us/step - loss: 1.0751 - acc: 0.5424\n",
      "Epoch 7/15\n",
      "59/59 [==============================] - 0s 529us/step - loss: 0.8863 - acc: 0.6610\n",
      "Epoch 8/15\n",
      "59/59 [==============================] - 0s 537us/step - loss: 0.8506 - acc: 0.7627\n",
      "Epoch 9/15\n",
      "59/59 [==============================] - 0s 483us/step - loss: 0.8225 - acc: 0.7458\n",
      "Epoch 10/15\n",
      "59/59 [==============================] - 0s 556us/step - loss: 0.6751 - acc: 0.8475\n",
      "Epoch 11/15\n",
      "59/59 [==============================] - 0s 536us/step - loss: 0.7237 - acc: 0.8136\n",
      "Epoch 12/15\n",
      "59/59 [==============================] - 0s 533us/step - loss: 0.6586 - acc: 0.8305\n",
      "Epoch 13/15\n",
      "59/59 [==============================] - 0s 482us/step - loss: 0.5636 - acc: 0.8983\n",
      "Epoch 14/15\n",
      "59/59 [==============================] - 0s 482us/step - loss: 0.5374 - acc: 0.8305\n",
      "Epoch 15/15\n",
      "59/59 [==============================] - 0s 453us/step - loss: 0.4613 - acc: 0.9492\n",
      "Epoch 1/15\n",
      "59/59 [==============================] - 8s 132ms/step - loss: 1.9455 - acc: 0.2542\n",
      "Epoch 2/15\n",
      "59/59 [==============================] - 0s 543us/step - loss: 1.5687 - acc: 0.3559\n",
      "Epoch 3/15\n",
      "59/59 [==============================] - 0s 491us/step - loss: 1.3877 - acc: 0.4237\n",
      "Epoch 4/15\n",
      "59/59 [==============================] - 0s 495us/step - loss: 1.1604 - acc: 0.5254\n"
     ]
    },
    {
     "name": "stdout",
     "output_type": "stream",
     "text": [
      "Epoch 5/15\n",
      "59/59 [==============================] - 0s 550us/step - loss: 1.0472 - acc: 0.5932\n",
      "Epoch 6/15\n",
      "59/59 [==============================] - 0s 503us/step - loss: 0.9729 - acc: 0.6102\n",
      "Epoch 7/15\n",
      "59/59 [==============================] - 0s 541us/step - loss: 0.9078 - acc: 0.6780\n",
      "Epoch 8/15\n",
      "59/59 [==============================] - 0s 529us/step - loss: 0.8139 - acc: 0.6949\n",
      "Epoch 9/15\n",
      "59/59 [==============================] - 0s 541us/step - loss: 0.7632 - acc: 0.7627\n",
      "Epoch 10/15\n",
      "59/59 [==============================] - 0s 530us/step - loss: 0.7068 - acc: 0.7288\n",
      "Epoch 11/15\n",
      "59/59 [==============================] - 0s 538us/step - loss: 0.6424 - acc: 0.8305\n",
      "Epoch 12/15\n",
      "59/59 [==============================] - 0s 560us/step - loss: 0.5661 - acc: 0.9322\n",
      "Epoch 13/15\n",
      "59/59 [==============================] - 0s 506us/step - loss: 0.5506 - acc: 0.8644\n",
      "Epoch 14/15\n",
      "59/59 [==============================] - 0s 516us/step - loss: 0.4554 - acc: 0.8814\n",
      "Epoch 15/15\n",
      "59/59 [==============================] - 0s 496us/step - loss: 0.5171 - acc: 0.8814\n",
      "Epoch 1/15\n",
      "59/59 [==============================] - 8s 134ms/step - loss: 2.2709 - acc: 0.2373\n",
      "Epoch 2/15\n",
      "59/59 [==============================] - 0s 406us/step - loss: 1.8219 - acc: 0.3051\n",
      "Epoch 3/15\n",
      "59/59 [==============================] - 0s 387us/step - loss: 1.5417 - acc: 0.3898\n",
      "Epoch 4/15\n",
      "59/59 [==============================] - 0s 397us/step - loss: 1.3162 - acc: 0.4407\n",
      "Epoch 5/15\n",
      "59/59 [==============================] - 0s 376us/step - loss: 1.2777 - acc: 0.3898\n",
      "Epoch 6/15\n",
      "59/59 [==============================] - 0s 383us/step - loss: 1.0625 - acc: 0.4746\n",
      "Epoch 7/15\n",
      "59/59 [==============================] - 0s 403us/step - loss: 0.9687 - acc: 0.5932\n",
      "Epoch 8/15\n",
      "59/59 [==============================] - 0s 370us/step - loss: 0.8701 - acc: 0.6949\n",
      "Epoch 9/15\n",
      "59/59 [==============================] - 0s 384us/step - loss: 0.7786 - acc: 0.6441\n",
      "Epoch 10/15\n",
      "59/59 [==============================] - 0s 369us/step - loss: 0.7201 - acc: 0.7966\n",
      "Epoch 11/15\n",
      "59/59 [==============================] - 0s 506us/step - loss: 0.6979 - acc: 0.7966\n",
      "Epoch 12/15\n",
      "59/59 [==============================] - 0s 526us/step - loss: 0.6393 - acc: 0.8475\n",
      "Epoch 13/15\n",
      "59/59 [==============================] - 0s 535us/step - loss: 0.5707 - acc: 0.8475\n",
      "Epoch 14/15\n",
      "59/59 [==============================] - 0s 528us/step - loss: 0.5431 - acc: 0.8644\n",
      "Epoch 15/15\n",
      "59/59 [==============================] - 0s 504us/step - loss: 0.6363 - acc: 0.8305\n",
      "Epoch 1/15\n",
      "59/59 [==============================] - 8s 136ms/step - loss: 1.7291 - acc: 0.3390\n",
      "Epoch 2/15\n",
      "59/59 [==============================] - 0s 558us/step - loss: 1.5218 - acc: 0.2712\n",
      "Epoch 3/15\n",
      "59/59 [==============================] - 0s 518us/step - loss: 1.2925 - acc: 0.3898\n",
      "Epoch 4/15\n",
      "59/59 [==============================] - 0s 544us/step - loss: 1.1058 - acc: 0.5085\n",
      "Epoch 5/15\n",
      "59/59 [==============================] - 0s 556us/step - loss: 0.9775 - acc: 0.5932\n",
      "Epoch 6/15\n",
      "59/59 [==============================] - 0s 551us/step - loss: 0.8505 - acc: 0.7288\n",
      "Epoch 7/15\n",
      "59/59 [==============================] - 0s 537us/step - loss: 0.7523 - acc: 0.7288\n",
      "Epoch 8/15\n",
      "59/59 [==============================] - 0s 542us/step - loss: 0.7379 - acc: 0.7119\n",
      "Epoch 9/15\n",
      "59/59 [==============================] - 0s 548us/step - loss: 0.6599 - acc: 0.8136\n",
      "Epoch 10/15\n",
      "59/59 [==============================] - 0s 558us/step - loss: 0.6730 - acc: 0.7966\n",
      "Epoch 11/15\n",
      "59/59 [==============================] - 0s 530us/step - loss: 0.6427 - acc: 0.7458\n",
      "Epoch 12/15\n",
      "59/59 [==============================] - 0s 561us/step - loss: 0.5729 - acc: 0.8475\n",
      "Epoch 13/15\n",
      "59/59 [==============================] - 0s 572us/step - loss: 0.4930 - acc: 0.8475\n",
      "Epoch 14/15\n",
      "59/59 [==============================] - 0s 556us/step - loss: 0.4613 - acc: 0.9322\n",
      "Epoch 15/15\n",
      "59/59 [==============================] - 0s 539us/step - loss: 0.4457 - acc: 0.9153\n",
      "Epoch 1/15\n",
      "59/59 [==============================] - 8s 138ms/step - loss: 2.0331 - acc: 0.2373\n",
      "Epoch 2/15\n",
      "59/59 [==============================] - 0s 513us/step - loss: 1.5876 - acc: 0.2712\n",
      "Epoch 3/15\n",
      "59/59 [==============================] - 0s 486us/step - loss: 1.3600 - acc: 0.4576\n",
      "Epoch 4/15\n",
      "59/59 [==============================] - 0s 550us/step - loss: 1.1254 - acc: 0.4746\n",
      "Epoch 5/15\n",
      "59/59 [==============================] - 0s 431us/step - loss: 0.9846 - acc: 0.5254\n",
      "Epoch 6/15\n",
      "59/59 [==============================] - 0s 535us/step - loss: 0.9018 - acc: 0.6271\n",
      "Epoch 7/15\n",
      "59/59 [==============================] - 0s 489us/step - loss: 0.8194 - acc: 0.6441\n",
      "Epoch 8/15\n",
      "59/59 [==============================] - 0s 562us/step - loss: 0.7367 - acc: 0.6949\n",
      "Epoch 9/15\n",
      "59/59 [==============================] - 0s 565us/step - loss: 0.6060 - acc: 0.8475\n",
      "Epoch 10/15\n",
      "59/59 [==============================] - 0s 557us/step - loss: 0.6472 - acc: 0.8305\n",
      "Epoch 11/15\n",
      "59/59 [==============================] - 0s 551us/step - loss: 0.5633 - acc: 0.9153\n",
      "Epoch 12/15\n",
      "59/59 [==============================] - 0s 518us/step - loss: 0.6251 - acc: 0.8136\n",
      "Epoch 13/15\n",
      "59/59 [==============================] - 0s 510us/step - loss: 0.4623 - acc: 0.9322\n",
      "Epoch 14/15\n",
      "59/59 [==============================] - 0s 465us/step - loss: 0.4651 - acc: 0.8983\n",
      "Epoch 15/15\n",
      "59/59 [==============================] - 0s 518us/step - loss: 0.4217 - acc: 0.9831\n",
      "Epoch 1/15\n",
      "59/59 [==============================] - 8s 135ms/step - loss: 1.8594 - acc: 0.2542\n",
      "Epoch 2/15\n",
      "59/59 [==============================] - 0s 540us/step - loss: 1.4149 - acc: 0.4237\n",
      "Epoch 3/15\n",
      "59/59 [==============================] - 0s 520us/step - loss: 1.3399 - acc: 0.4407\n",
      "Epoch 4/15\n",
      "59/59 [==============================] - 0s 553us/step - loss: 1.1430 - acc: 0.5085\n",
      "Epoch 5/15\n",
      "59/59 [==============================] - 0s 559us/step - loss: 0.9783 - acc: 0.5932\n",
      "Epoch 6/15\n",
      "59/59 [==============================] - 0s 558us/step - loss: 0.9391 - acc: 0.6610\n",
      "Epoch 7/15\n",
      "59/59 [==============================] - 0s 532us/step - loss: 0.8376 - acc: 0.6949\n",
      "Epoch 8/15\n",
      "59/59 [==============================] - 0s 570us/step - loss: 0.7499 - acc: 0.7797\n",
      "Epoch 9/15\n",
      "59/59 [==============================] - 0s 558us/step - loss: 0.6083 - acc: 0.8983\n",
      "Epoch 10/15\n",
      "59/59 [==============================] - 0s 515us/step - loss: 0.6203 - acc: 0.8136\n",
      "Epoch 11/15\n",
      "59/59 [==============================] - 0s 539us/step - loss: 0.6244 - acc: 0.8814\n",
      "Epoch 12/15\n",
      "59/59 [==============================] - 0s 450us/step - loss: 0.5542 - acc: 0.9322\n",
      "Epoch 13/15\n",
      "59/59 [==============================] - 0s 471us/step - loss: 0.4512 - acc: 0.9831\n",
      "Epoch 14/15\n",
      "59/59 [==============================] - 0s 531us/step - loss: 0.4703 - acc: 0.9153\n",
      "Epoch 15/15\n",
      "59/59 [==============================] - 0s 535us/step - loss: 0.4601 - acc: 0.8814\n",
      "Epoch 1/15\n",
      "59/59 [==============================] - 8s 140ms/step - loss: 1.9366 - acc: 0.1864\n",
      "Epoch 2/15\n",
      "59/59 [==============================] - 0s 451us/step - loss: 1.6468 - acc: 0.2542\n",
      "Epoch 3/15\n",
      "59/59 [==============================] - 0s 451us/step - loss: 1.3878 - acc: 0.3898\n",
      "Epoch 4/15\n",
      "59/59 [==============================] - 0s 448us/step - loss: 1.1078 - acc: 0.5085\n",
      "Epoch 5/15\n",
      "59/59 [==============================] - 0s 420us/step - loss: 1.0449 - acc: 0.4915\n",
      "Epoch 6/15\n",
      "59/59 [==============================] - 0s 453us/step - loss: 1.0098 - acc: 0.6441\n",
      "Epoch 7/15\n",
      "59/59 [==============================] - 0s 439us/step - loss: 0.8958 - acc: 0.6949\n",
      "Epoch 8/15\n",
      "59/59 [==============================] - 0s 419us/step - loss: 0.7942 - acc: 0.7119\n",
      "Epoch 9/15\n",
      "59/59 [==============================] - 0s 405us/step - loss: 0.7563 - acc: 0.7458\n",
      "Epoch 10/15\n",
      "59/59 [==============================] - 0s 467us/step - loss: 0.6745 - acc: 0.7966\n",
      "Epoch 11/15\n",
      "59/59 [==============================] - 0s 397us/step - loss: 0.6496 - acc: 0.8136\n",
      "Epoch 12/15\n",
      "59/59 [==============================] - 0s 430us/step - loss: 0.5775 - acc: 0.8136\n",
      "Epoch 13/15\n",
      "59/59 [==============================] - 0s 398us/step - loss: 0.5714 - acc: 0.8644\n",
      "Epoch 14/15\n",
      "59/59 [==============================] - 0s 435us/step - loss: 0.4916 - acc: 0.8814\n",
      "Epoch 15/15\n"
     ]
    },
    {
     "name": "stdout",
     "output_type": "stream",
     "text": [
      "59/59 [==============================] - 0s 431us/step - loss: 0.5092 - acc: 0.8983\n",
      "Epoch 1/15\n",
      "59/59 [==============================] - 8s 139ms/step - loss: 1.8608 - acc: 0.2203\n",
      "Epoch 2/15\n",
      "59/59 [==============================] - 0s 445us/step - loss: 1.4366 - acc: 0.4068\n",
      "Epoch 3/15\n",
      "59/59 [==============================] - 0s 512us/step - loss: 1.2946 - acc: 0.3898\n",
      "Epoch 4/15\n",
      "59/59 [==============================] - 0s 482us/step - loss: 1.1497 - acc: 0.4237\n",
      "Epoch 5/15\n",
      "59/59 [==============================] - 0s 478us/step - loss: 0.9930 - acc: 0.5424\n",
      "Epoch 6/15\n",
      "59/59 [==============================] - 0s 426us/step - loss: 0.9420 - acc: 0.5424\n",
      "Epoch 7/15\n",
      "59/59 [==============================] - 0s 484us/step - loss: 0.8498 - acc: 0.6780\n",
      "Epoch 8/15\n",
      "59/59 [==============================] - 0s 470us/step - loss: 0.7692 - acc: 0.7458\n",
      "Epoch 9/15\n",
      "59/59 [==============================] - 0s 457us/step - loss: 0.6624 - acc: 0.7288\n",
      "Epoch 10/15\n",
      "59/59 [==============================] - 0s 443us/step - loss: 0.5614 - acc: 0.8644\n",
      "Epoch 11/15\n",
      "59/59 [==============================] - 0s 482us/step - loss: 0.5599 - acc: 0.8814\n",
      "Epoch 12/15\n",
      "59/59 [==============================] - 0s 416us/step - loss: 0.5350 - acc: 0.8305\n",
      "Epoch 13/15\n",
      "59/59 [==============================] - 0s 473us/step - loss: 0.4986 - acc: 0.8983\n",
      "Epoch 14/15\n",
      "59/59 [==============================] - 0s 443us/step - loss: 0.4111 - acc: 0.9492\n",
      "Epoch 15/15\n",
      "59/59 [==============================] - 0s 437us/step - loss: 0.4197 - acc: 0.8983\n",
      "Epoch 1/15\n",
      "59/59 [==============================] - 8s 141ms/step - loss: 2.3027 - acc: 0.2373\n",
      "Epoch 2/15\n",
      "59/59 [==============================] - 0s 453us/step - loss: 1.8845 - acc: 0.3220\n",
      "Epoch 3/15\n",
      "59/59 [==============================] - 0s 450us/step - loss: 1.5288 - acc: 0.3898\n",
      "Epoch 4/15\n",
      "59/59 [==============================] - 0s 477us/step - loss: 1.4054 - acc: 0.4068\n",
      "Epoch 5/15\n",
      "59/59 [==============================] - 0s 433us/step - loss: 1.2384 - acc: 0.5593\n",
      "Epoch 6/15\n",
      "59/59 [==============================] - 0s 490us/step - loss: 1.0947 - acc: 0.6102\n",
      "Epoch 7/15\n",
      "59/59 [==============================] - 0s 438us/step - loss: 1.0315 - acc: 0.5932\n",
      "Epoch 8/15\n",
      "59/59 [==============================] - 0s 451us/step - loss: 0.8981 - acc: 0.7288\n",
      "Epoch 9/15\n",
      "59/59 [==============================] - 0s 426us/step - loss: 0.8133 - acc: 0.6949\n",
      "Epoch 10/15\n",
      "59/59 [==============================] - 0s 473us/step - loss: 0.7170 - acc: 0.8136\n",
      "Epoch 11/15\n",
      "59/59 [==============================] - 0s 399us/step - loss: 0.7709 - acc: 0.7966\n",
      "Epoch 12/15\n",
      "59/59 [==============================] - 0s 466us/step - loss: 0.5685 - acc: 0.8644\n",
      "Epoch 13/15\n",
      "59/59 [==============================] - 0s 439us/step - loss: 0.5652 - acc: 0.8814\n",
      "Epoch 14/15\n",
      "59/59 [==============================] - 0s 455us/step - loss: 0.5448 - acc: 0.8475\n",
      "Epoch 15/15\n",
      "59/59 [==============================] - 0s 442us/step - loss: 0.5259 - acc: 0.9322\n",
      "Epoch 1/15\n",
      "59/59 [==============================] - 8s 140ms/step - loss: 2.0409 - acc: 0.2203\n",
      "Epoch 2/15\n",
      "59/59 [==============================] - 0s 426us/step - loss: 1.6374 - acc: 0.3051\n",
      "Epoch 3/15\n",
      "59/59 [==============================] - 0s 450us/step - loss: 1.5212 - acc: 0.3220\n",
      "Epoch 4/15\n",
      "59/59 [==============================] - 0s 506us/step - loss: 1.2482 - acc: 0.4237\n",
      "Epoch 5/15\n",
      "59/59 [==============================] - 0s 438us/step - loss: 1.0871 - acc: 0.5593\n",
      "Epoch 6/15\n",
      "59/59 [==============================] - 0s 471us/step - loss: 1.0628 - acc: 0.5763\n",
      "Epoch 7/15\n",
      "59/59 [==============================] - 0s 452us/step - loss: 0.9219 - acc: 0.6441\n",
      "Epoch 8/15\n",
      "59/59 [==============================] - 0s 437us/step - loss: 0.8445 - acc: 0.7627\n",
      "Epoch 9/15\n",
      "59/59 [==============================] - 0s 471us/step - loss: 0.8191 - acc: 0.7627\n",
      "Epoch 10/15\n",
      "59/59 [==============================] - 0s 432us/step - loss: 0.6840 - acc: 0.7966\n",
      "Epoch 11/15\n",
      "59/59 [==============================] - 0s 430us/step - loss: 0.6056 - acc: 0.8305\n",
      "Epoch 12/15\n",
      "59/59 [==============================] - 0s 459us/step - loss: 0.5750 - acc: 0.8814\n",
      "Epoch 13/15\n",
      "59/59 [==============================] - 0s 434us/step - loss: 0.5173 - acc: 0.8983\n",
      "Epoch 14/15\n",
      "59/59 [==============================] - 0s 426us/step - loss: 0.4479 - acc: 0.9322\n",
      "Epoch 15/15\n",
      "59/59 [==============================] - 0s 468us/step - loss: 0.5036 - acc: 0.9492\n",
      "Epoch 1/15\n",
      "59/59 [==============================] - 9s 145ms/step - loss: 2.2574 - acc: 0.2542\n",
      "Epoch 2/15\n",
      "59/59 [==============================] - 0s 437us/step - loss: 1.8508 - acc: 0.3220\n",
      "Epoch 3/15\n",
      "59/59 [==============================] - 0s 439us/step - loss: 1.4682 - acc: 0.3051\n",
      "Epoch 4/15\n",
      "59/59 [==============================] - 0s 452us/step - loss: 1.3675 - acc: 0.3898\n",
      "Epoch 5/15\n",
      "59/59 [==============================] - 0s 452us/step - loss: 1.2566 - acc: 0.4915\n",
      "Epoch 6/15\n",
      "59/59 [==============================] - 0s 409us/step - loss: 1.0482 - acc: 0.5254\n",
      "Epoch 7/15\n",
      "59/59 [==============================] - 0s 431us/step - loss: 0.9359 - acc: 0.5763\n",
      "Epoch 8/15\n",
      "59/59 [==============================] - 0s 473us/step - loss: 0.8539 - acc: 0.6780\n",
      "Epoch 9/15\n",
      "59/59 [==============================] - 0s 428us/step - loss: 0.7966 - acc: 0.7288\n",
      "Epoch 10/15\n",
      "59/59 [==============================] - 0s 444us/step - loss: 0.6983 - acc: 0.7797\n",
      "Epoch 11/15\n",
      "59/59 [==============================] - 0s 455us/step - loss: 0.6669 - acc: 0.7627\n",
      "Epoch 12/15\n",
      "59/59 [==============================] - 0s 444us/step - loss: 0.6014 - acc: 0.8305\n",
      "Epoch 13/15\n",
      "59/59 [==============================] - 0s 429us/step - loss: 0.5241 - acc: 0.8644\n",
      "Epoch 14/15\n",
      "59/59 [==============================] - 0s 432us/step - loss: 0.5093 - acc: 0.8644\n",
      "Epoch 15/15\n",
      "59/59 [==============================] - 0s 443us/step - loss: 0.4830 - acc: 0.9492\n",
      "Epoch 1/15\n",
      "59/59 [==============================] - 9s 146ms/step - loss: 1.8968 - acc: 0.2034\n",
      "Epoch 2/15\n",
      "59/59 [==============================] - 0s 518us/step - loss: 1.6212 - acc: 0.3051\n",
      "Epoch 3/15\n",
      "59/59 [==============================] - 0s 519us/step - loss: 1.3336 - acc: 0.4576\n",
      "Epoch 4/15\n",
      "59/59 [==============================] - 0s 534us/step - loss: 1.1617 - acc: 0.4915\n",
      "Epoch 5/15\n",
      "59/59 [==============================] - 0s 537us/step - loss: 1.0712 - acc: 0.5593\n",
      "Epoch 6/15\n",
      "59/59 [==============================] - 0s 560us/step - loss: 0.8676 - acc: 0.6780\n",
      "Epoch 7/15\n",
      "59/59 [==============================] - 0s 513us/step - loss: 0.8942 - acc: 0.6102\n",
      "Epoch 8/15\n",
      "59/59 [==============================] - 0s 513us/step - loss: 0.8002 - acc: 0.7119\n",
      "Epoch 9/15\n",
      "59/59 [==============================] - 0s 498us/step - loss: 0.7099 - acc: 0.7966\n",
      "Epoch 10/15\n",
      "59/59 [==============================] - 0s 516us/step - loss: 0.7488 - acc: 0.7288\n",
      "Epoch 11/15\n",
      "59/59 [==============================] - 0s 498us/step - loss: 0.6567 - acc: 0.7627\n",
      "Epoch 12/15\n",
      "59/59 [==============================] - 0s 496us/step - loss: 0.6755 - acc: 0.7966\n",
      "Epoch 13/15\n",
      "59/59 [==============================] - 0s 527us/step - loss: 0.5315 - acc: 0.8644\n",
      "Epoch 14/15\n",
      "59/59 [==============================] - 0s 446us/step - loss: 0.4927 - acc: 0.9153\n",
      "Epoch 15/15\n",
      "59/59 [==============================] - 0s 413us/step - loss: 0.4927 - acc: 0.8644\n",
      "Epoch 1/15\n",
      "59/59 [==============================] - 10s 167ms/step - loss: 2.0125 - acc: 0.1864\n",
      "Epoch 2/15\n",
      "59/59 [==============================] - 0s 451us/step - loss: 1.5725 - acc: 0.3390\n",
      "Epoch 3/15\n",
      "59/59 [==============================] - 0s 476us/step - loss: 1.4822 - acc: 0.3220\n",
      "Epoch 4/15\n",
      "59/59 [==============================] - 0s 527us/step - loss: 1.2872 - acc: 0.4068\n",
      "Epoch 5/15\n",
      "59/59 [==============================] - 0s 458us/step - loss: 1.1464 - acc: 0.5085\n",
      "Epoch 6/15\n",
      "59/59 [==============================] - 0s 528us/step - loss: 1.0296 - acc: 0.6102\n",
      "Epoch 7/15\n",
      "59/59 [==============================] - 0s 543us/step - loss: 0.9072 - acc: 0.6271\n",
      "Epoch 8/15\n",
      "59/59 [==============================] - 0s 542us/step - loss: 0.8739 - acc: 0.6949\n",
      "Epoch 9/15\n",
      "59/59 [==============================] - 0s 561us/step - loss: 0.8012 - acc: 0.7119\n",
      "Epoch 10/15\n",
      "59/59 [==============================] - 0s 560us/step - loss: 0.7014 - acc: 0.8136\n",
      "Epoch 11/15\n"
     ]
    },
    {
     "name": "stdout",
     "output_type": "stream",
     "text": [
      "59/59 [==============================] - 0s 509us/step - loss: 0.7103 - acc: 0.7797\n",
      "Epoch 12/15\n",
      "59/59 [==============================] - 0s 429us/step - loss: 0.6539 - acc: 0.8644\n",
      "Epoch 13/15\n",
      "59/59 [==============================] - 0s 432us/step - loss: 0.5571 - acc: 0.8644\n",
      "Epoch 14/15\n",
      "59/59 [==============================] - 0s 385us/step - loss: 0.6772 - acc: 0.7458\n",
      "Epoch 15/15\n",
      "59/59 [==============================] - 0s 548us/step - loss: 0.5719 - acc: 0.8644\n",
      "Epoch 1/15\n",
      "59/59 [==============================] - 9s 158ms/step - loss: 2.0606 - acc: 0.1695\n",
      "Epoch 2/15\n",
      "59/59 [==============================] - 0s 500us/step - loss: 1.7743 - acc: 0.2034\n",
      "Epoch 3/15\n",
      "59/59 [==============================] - 0s 452us/step - loss: 1.5491 - acc: 0.3559\n",
      "Epoch 4/15\n",
      "59/59 [==============================] - 0s 393us/step - loss: 1.3691 - acc: 0.3729\n",
      "Epoch 5/15\n",
      "59/59 [==============================] - 0s 406us/step - loss: 1.2646 - acc: 0.4915\n",
      "Epoch 6/15\n",
      "59/59 [==============================] - 0s 444us/step - loss: 1.1649 - acc: 0.5085\n",
      "Epoch 7/15\n",
      "59/59 [==============================] - 0s 582us/step - loss: 0.9991 - acc: 0.6102\n",
      "Epoch 8/15\n",
      "59/59 [==============================] - 0s 568us/step - loss: 0.9013 - acc: 0.7288\n",
      "Epoch 9/15\n",
      "59/59 [==============================] - 0s 571us/step - loss: 0.8577 - acc: 0.6441\n",
      "Epoch 10/15\n",
      "59/59 [==============================] - 0s 501us/step - loss: 0.7958 - acc: 0.7119\n",
      "Epoch 11/15\n",
      "59/59 [==============================] - 0s 574us/step - loss: 0.6804 - acc: 0.8136\n",
      "Epoch 12/15\n",
      "59/59 [==============================] - 0s 519us/step - loss: 0.6909 - acc: 0.7966\n",
      "Epoch 13/15\n",
      "59/59 [==============================] - 0s 529us/step - loss: 0.6032 - acc: 0.8136\n",
      "Epoch 14/15\n",
      "59/59 [==============================] - 0s 605us/step - loss: 0.5622 - acc: 0.8983\n",
      "Epoch 15/15\n",
      "59/59 [==============================] - 0s 608us/step - loss: 0.5036 - acc: 0.9322\n",
      "Epoch 1/15\n",
      "59/59 [==============================] - 9s 154ms/step - loss: 2.0635 - acc: 0.2881\n",
      "Epoch 2/15\n",
      "59/59 [==============================] - 0s 504us/step - loss: 1.6724 - acc: 0.4237\n",
      "Epoch 3/15\n",
      "59/59 [==============================] - 0s 556us/step - loss: 1.4290 - acc: 0.4068\n",
      "Epoch 4/15\n",
      "59/59 [==============================] - 0s 512us/step - loss: 1.3404 - acc: 0.4237\n",
      "Epoch 5/15\n",
      "59/59 [==============================] - 0s 576us/step - loss: 1.2749 - acc: 0.5254\n",
      "Epoch 6/15\n",
      "59/59 [==============================] - 0s 506us/step - loss: 1.0105 - acc: 0.6271\n",
      "Epoch 7/15\n",
      "59/59 [==============================] - 0s 419us/step - loss: 0.9478 - acc: 0.6610\n",
      "Epoch 8/15\n",
      "59/59 [==============================] - 0s 429us/step - loss: 0.8944 - acc: 0.7119\n",
      "Epoch 9/15\n",
      "59/59 [==============================] - 0s 396us/step - loss: 0.7788 - acc: 0.7119\n",
      "Epoch 10/15\n",
      "59/59 [==============================] - 0s 410us/step - loss: 0.6933 - acc: 0.8136\n",
      "Epoch 11/15\n",
      "59/59 [==============================] - 0s 399us/step - loss: 0.6640 - acc: 0.7966\n",
      "Epoch 12/15\n",
      "59/59 [==============================] - 0s 499us/step - loss: 0.5978 - acc: 0.8983\n",
      "Epoch 13/15\n",
      "59/59 [==============================] - 0s 482us/step - loss: 0.5547 - acc: 0.8644\n",
      "Epoch 14/15\n",
      "59/59 [==============================] - 0s 531us/step - loss: 0.5590 - acc: 0.8475\n",
      "Epoch 15/15\n",
      "59/59 [==============================] - 0s 615us/step - loss: 0.6373 - acc: 0.8475\n",
      "Epoch 1/15\n",
      "59/59 [==============================] - 10s 161ms/step - loss: 1.5493 - acc: 0.3729\n",
      "Epoch 2/15\n",
      "59/59 [==============================] - 0s 489us/step - loss: 1.2624 - acc: 0.4068\n",
      "Epoch 3/15\n",
      "59/59 [==============================] - 0s 486us/step - loss: 1.0791 - acc: 0.5424\n",
      "Epoch 4/15\n",
      "59/59 [==============================] - 0s 500us/step - loss: 0.9304 - acc: 0.6271\n",
      "Epoch 5/15\n",
      "59/59 [==============================] - 0s 549us/step - loss: 0.7832 - acc: 0.7288\n",
      "Epoch 6/15\n",
      "59/59 [==============================] - 0s 406us/step - loss: 0.7522 - acc: 0.7119\n",
      "Epoch 7/15\n",
      "59/59 [==============================] - 0s 428us/step - loss: 0.6766 - acc: 0.8305\n",
      "Epoch 8/15\n",
      "59/59 [==============================] - 0s 384us/step - loss: 0.6497 - acc: 0.7288\n",
      "Epoch 9/15\n",
      "59/59 [==============================] - 0s 409us/step - loss: 0.5592 - acc: 0.8475\n",
      "Epoch 10/15\n",
      "59/59 [==============================] - 0s 439us/step - loss: 0.5360 - acc: 0.8983\n",
      "Epoch 11/15\n",
      "59/59 [==============================] - 0s 539us/step - loss: 0.4662 - acc: 0.8814\n",
      "Epoch 12/15\n",
      "59/59 [==============================] - 0s 433us/step - loss: 0.6049 - acc: 0.7966\n",
      "Epoch 13/15\n",
      "59/59 [==============================] - 0s 418us/step - loss: 0.4386 - acc: 0.9153\n",
      "Epoch 14/15\n",
      "59/59 [==============================] - 0s 421us/step - loss: 0.4137 - acc: 0.9492\n",
      "Epoch 15/15\n",
      "59/59 [==============================] - 0s 416us/step - loss: 0.3911 - acc: 0.9492\n",
      "Epoch 1/15\n",
      "59/59 [==============================] - 10s 162ms/step - loss: 1.7335 - acc: 0.2542\n",
      "Epoch 2/15\n",
      "59/59 [==============================] - 0s 505us/step - loss: 1.5290 - acc: 0.3051\n",
      "Epoch 3/15\n",
      "59/59 [==============================] - 0s 515us/step - loss: 1.2292 - acc: 0.4746\n",
      "Epoch 4/15\n",
      "59/59 [==============================] - 0s 480us/step - loss: 1.1729 - acc: 0.4915\n",
      "Epoch 5/15\n",
      "59/59 [==============================] - 0s 454us/step - loss: 0.9927 - acc: 0.5424\n",
      "Epoch 6/15\n",
      "59/59 [==============================] - 0s 501us/step - loss: 0.9778 - acc: 0.5763\n",
      "Epoch 7/15\n",
      "59/59 [==============================] - 0s 528us/step - loss: 0.8041 - acc: 0.6780\n",
      "Epoch 8/15\n",
      "59/59 [==============================] - 0s 444us/step - loss: 0.8298 - acc: 0.6949\n",
      "Epoch 9/15\n",
      "59/59 [==============================] - 0s 536us/step - loss: 0.6734 - acc: 0.8305\n",
      "Epoch 10/15\n",
      "59/59 [==============================] - 0s 551us/step - loss: 0.6999 - acc: 0.7966\n",
      "Epoch 11/15\n",
      "59/59 [==============================] - 0s 532us/step - loss: 0.5819 - acc: 0.9153\n",
      "Epoch 12/15\n",
      "59/59 [==============================] - 0s 569us/step - loss: 0.5718 - acc: 0.8305\n",
      "Epoch 13/15\n",
      "59/59 [==============================] - 0s 523us/step - loss: 0.4953 - acc: 0.8814\n",
      "Epoch 14/15\n",
      "59/59 [==============================] - 0s 590us/step - loss: 0.4754 - acc: 0.9153\n",
      "Epoch 15/15\n",
      "59/59 [==============================] - 0s 507us/step - loss: 0.3943 - acc: 0.9831\n",
      "Epoch 1/15\n",
      "59/59 [==============================] - 10s 162ms/step - loss: 1.8756 - acc: 0.2373\n",
      "Epoch 2/15\n",
      "59/59 [==============================] - 0s 490us/step - loss: 1.6132 - acc: 0.2712\n",
      "Epoch 3/15\n",
      "59/59 [==============================] - 0s 441us/step - loss: 1.3436 - acc: 0.3898\n",
      "Epoch 4/15\n",
      "59/59 [==============================] - 0s 437us/step - loss: 1.2139 - acc: 0.4915\n",
      "Epoch 5/15\n",
      "59/59 [==============================] - 0s 393us/step - loss: 1.1257 - acc: 0.4746\n",
      "Epoch 6/15\n",
      "59/59 [==============================] - 0s 549us/step - loss: 0.9829 - acc: 0.6271\n",
      "Epoch 7/15\n",
      "59/59 [==============================] - 0s 583us/step - loss: 0.8176 - acc: 0.7288\n",
      "Epoch 8/15\n",
      "59/59 [==============================] - 0s 496us/step - loss: 0.8410 - acc: 0.7458\n",
      "Epoch 9/15\n",
      "59/59 [==============================] - 0s 493us/step - loss: 0.7842 - acc: 0.7119\n",
      "Epoch 10/15\n",
      "59/59 [==============================] - 0s 433us/step - loss: 0.6583 - acc: 0.8305\n",
      "Epoch 11/15\n",
      "59/59 [==============================] - 0s 421us/step - loss: 0.7342 - acc: 0.7627\n",
      "Epoch 12/15\n",
      "59/59 [==============================] - 0s 414us/step - loss: 0.6271 - acc: 0.8475\n",
      "Epoch 13/15\n",
      "59/59 [==============================] - 0s 429us/step - loss: 0.5429 - acc: 0.8644\n",
      "Epoch 14/15\n",
      "59/59 [==============================] - 0s 425us/step - loss: 0.5131 - acc: 0.9492\n",
      "Epoch 15/15\n",
      "59/59 [==============================] - 0s 439us/step - loss: 0.4478 - acc: 0.9322\n",
      "Epoch 1/15\n",
      "59/59 [==============================] - 9s 161ms/step - loss: 1.9800 - acc: 0.2034\n",
      "Epoch 2/15\n",
      "59/59 [==============================] - 0s 439us/step - loss: 1.6142 - acc: 0.3051\n",
      "Epoch 3/15\n",
      "59/59 [==============================] - 0s 436us/step - loss: 1.4346 - acc: 0.4068\n",
      "Epoch 4/15\n",
      "59/59 [==============================] - 0s 442us/step - loss: 1.2267 - acc: 0.5254\n",
      "Epoch 5/15\n",
      "59/59 [==============================] - 0s 414us/step - loss: 1.0773 - acc: 0.5593\n",
      "Epoch 6/15\n",
      "59/59 [==============================] - 0s 412us/step - loss: 1.0243 - acc: 0.5593\n"
     ]
    },
    {
     "name": "stdout",
     "output_type": "stream",
     "text": [
      "Epoch 7/15\n",
      "59/59 [==============================] - 0s 430us/step - loss: 0.8850 - acc: 0.7119\n",
      "Epoch 8/15\n",
      "59/59 [==============================] - 0s 412us/step - loss: 0.9253 - acc: 0.6441\n",
      "Epoch 9/15\n",
      "59/59 [==============================] - 0s 418us/step - loss: 0.7538 - acc: 0.7458\n",
      "Epoch 10/15\n",
      "59/59 [==============================] - 0s 412us/step - loss: 0.7850 - acc: 0.6780\n",
      "Epoch 11/15\n",
      "59/59 [==============================] - 0s 416us/step - loss: 0.7037 - acc: 0.7966\n",
      "Epoch 12/15\n",
      "59/59 [==============================] - 0s 479us/step - loss: 0.6977 - acc: 0.7797\n",
      "Epoch 13/15\n",
      "59/59 [==============================] - 0s 492us/step - loss: 0.6314 - acc: 0.8475\n",
      "Epoch 14/15\n",
      "59/59 [==============================] - 0s 509us/step - loss: 0.5815 - acc: 0.8644\n",
      "Epoch 15/15\n",
      "59/59 [==============================] - 0s 577us/step - loss: 0.5439 - acc: 0.8475\n",
      "Epoch 1/15\n",
      "59/59 [==============================] - 9s 160ms/step - loss: 2.0586 - acc: 0.2542\n",
      "Epoch 2/15\n",
      "59/59 [==============================] - 0s 457us/step - loss: 1.6779 - acc: 0.3051\n",
      "Epoch 3/15\n",
      "59/59 [==============================] - 0s 523us/step - loss: 1.4589 - acc: 0.4237\n",
      "Epoch 4/15\n",
      "59/59 [==============================] - 0s 495us/step - loss: 1.2917 - acc: 0.4915\n",
      "Epoch 5/15\n",
      "59/59 [==============================] - 0s 502us/step - loss: 1.0542 - acc: 0.5932\n",
      "Epoch 6/15\n",
      "59/59 [==============================] - 0s 518us/step - loss: 1.0342 - acc: 0.5932\n",
      "Epoch 7/15\n",
      "59/59 [==============================] - 0s 503us/step - loss: 0.9002 - acc: 0.6441\n",
      "Epoch 8/15\n",
      "59/59 [==============================] - 0s 520us/step - loss: 0.8339 - acc: 0.7458\n",
      "Epoch 9/15\n",
      "59/59 [==============================] - 0s 488us/step - loss: 0.7953 - acc: 0.7119\n",
      "Epoch 10/15\n",
      "59/59 [==============================] - 0s 521us/step - loss: 0.7518 - acc: 0.6949\n",
      "Epoch 11/15\n",
      "59/59 [==============================] - 0s 506us/step - loss: 0.6944 - acc: 0.7627\n",
      "Epoch 12/15\n",
      "59/59 [==============================] - 0s 534us/step - loss: 0.6573 - acc: 0.7966\n",
      "Epoch 13/15\n",
      "59/59 [==============================] - 0s 476us/step - loss: 0.5997 - acc: 0.8475\n",
      "Epoch 14/15\n",
      "59/59 [==============================] - 0s 500us/step - loss: 0.5337 - acc: 0.8814\n",
      "Epoch 15/15\n",
      "59/59 [==============================] - 0s 470us/step - loss: 0.5253 - acc: 0.8644\n",
      "Epoch 1/15\n",
      "59/59 [==============================] - 10s 168ms/step - loss: 1.7416 - acc: 0.3051\n",
      "Epoch 2/15\n",
      "59/59 [==============================] - 0s 477us/step - loss: 1.5700 - acc: 0.4237\n",
      "Epoch 3/15\n",
      "59/59 [==============================] - 0s 475us/step - loss: 1.3644 - acc: 0.4068\n",
      "Epoch 4/15\n",
      "59/59 [==============================] - 0s 493us/step - loss: 1.1299 - acc: 0.5763\n",
      "Epoch 5/15\n",
      "59/59 [==============================] - 0s 507us/step - loss: 1.0482 - acc: 0.5593\n",
      "Epoch 6/15\n",
      "59/59 [==============================] - 0s 536us/step - loss: 0.9623 - acc: 0.6780\n",
      "Epoch 7/15\n",
      "59/59 [==============================] - 0s 496us/step - loss: 0.9002 - acc: 0.7119\n",
      "Epoch 8/15\n",
      "59/59 [==============================] - 0s 496us/step - loss: 0.7929 - acc: 0.7627\n",
      "Epoch 9/15\n",
      "59/59 [==============================] - 0s 512us/step - loss: 0.8211 - acc: 0.7119\n",
      "Epoch 10/15\n",
      "59/59 [==============================] - 0s 473us/step - loss: 0.6427 - acc: 0.8644\n",
      "Epoch 11/15\n",
      "59/59 [==============================] - 0s 483us/step - loss: 0.6250 - acc: 0.8644\n",
      "Epoch 12/15\n",
      "59/59 [==============================] - 0s 502us/step - loss: 0.5399 - acc: 0.8983\n",
      "Epoch 13/15\n",
      "59/59 [==============================] - 0s 485us/step - loss: 0.6085 - acc: 0.8983\n",
      "Epoch 14/15\n",
      "59/59 [==============================] - 0s 518us/step - loss: 0.4530 - acc: 1.0000\n",
      "Epoch 15/15\n",
      "59/59 [==============================] - 0s 461us/step - loss: 0.4733 - acc: 0.9322\n",
      "Epoch 1/15\n",
      "59/59 [==============================] - 9s 159ms/step - loss: 2.0723 - acc: 0.2712\n",
      "Epoch 2/15\n",
      "59/59 [==============================] - 0s 484us/step - loss: 1.6815 - acc: 0.2712\n",
      "Epoch 3/15\n",
      "59/59 [==============================] - 0s 519us/step - loss: 1.3610 - acc: 0.4746\n",
      "Epoch 4/15\n",
      "59/59 [==============================] - 0s 474us/step - loss: 1.1841 - acc: 0.4746\n",
      "Epoch 5/15\n",
      "59/59 [==============================] - 0s 513us/step - loss: 0.9659 - acc: 0.6102\n",
      "Epoch 6/15\n",
      "59/59 [==============================] - 0s 516us/step - loss: 0.8636 - acc: 0.6441\n",
      "Epoch 7/15\n",
      "59/59 [==============================] - 0s 490us/step - loss: 0.7663 - acc: 0.6780\n",
      "Epoch 8/15\n",
      "59/59 [==============================] - 0s 479us/step - loss: 0.7029 - acc: 0.7458\n",
      "Epoch 9/15\n",
      "59/59 [==============================] - 0s 483us/step - loss: 0.6230 - acc: 0.8136\n",
      "Epoch 10/15\n",
      "59/59 [==============================] - 0s 503us/step - loss: 0.6153 - acc: 0.8475\n",
      "Epoch 11/15\n",
      "59/59 [==============================] - 0s 469us/step - loss: 0.4798 - acc: 0.9322\n",
      "Epoch 12/15\n",
      "59/59 [==============================] - 0s 440us/step - loss: 0.4448 - acc: 0.8983\n",
      "Epoch 13/15\n",
      "59/59 [==============================] - 0s 535us/step - loss: 0.4319 - acc: 0.9492\n",
      "Epoch 14/15\n",
      "59/59 [==============================] - 0s 492us/step - loss: 0.4392 - acc: 0.8983\n",
      "Epoch 15/15\n",
      "59/59 [==============================] - 0s 475us/step - loss: 0.3990 - acc: 0.8814\n",
      "Epoch 1/15\n",
      "59/59 [==============================] - 10s 169ms/step - loss: 1.8801 - acc: 0.1864\n",
      "Epoch 2/15\n",
      "59/59 [==============================] - 0s 456us/step - loss: 1.6061 - acc: 0.2881\n",
      "Epoch 3/15\n",
      "59/59 [==============================] - 0s 503us/step - loss: 1.3676 - acc: 0.4068\n",
      "Epoch 4/15\n",
      "59/59 [==============================] - 0s 456us/step - loss: 1.2483 - acc: 0.4915\n",
      "Epoch 5/15\n",
      "59/59 [==============================] - 0s 478us/step - loss: 1.0113 - acc: 0.5424\n",
      "Epoch 6/15\n",
      "59/59 [==============================] - 0s 470us/step - loss: 0.9946 - acc: 0.6271\n",
      "Epoch 7/15\n",
      "59/59 [==============================] - 0s 468us/step - loss: 0.8329 - acc: 0.7119\n",
      "Epoch 8/15\n",
      "59/59 [==============================] - 0s 455us/step - loss: 0.8116 - acc: 0.6610\n",
      "Epoch 9/15\n",
      "59/59 [==============================] - 0s 471us/step - loss: 0.7832 - acc: 0.7119\n",
      "Epoch 10/15\n",
      "59/59 [==============================] - 0s 478us/step - loss: 0.7021 - acc: 0.7797\n",
      "Epoch 11/15\n",
      "59/59 [==============================] - 0s 462us/step - loss: 0.6063 - acc: 0.7966\n",
      "Epoch 12/15\n",
      "59/59 [==============================] - 0s 460us/step - loss: 0.6843 - acc: 0.7458\n",
      "Epoch 13/15\n",
      "59/59 [==============================] - 0s 463us/step - loss: 0.5294 - acc: 0.8644\n",
      "Epoch 14/15\n",
      "59/59 [==============================] - 0s 468us/step - loss: 0.5042 - acc: 0.8814\n",
      "Epoch 15/15\n",
      "59/59 [==============================] - 0s 459us/step - loss: 0.4764 - acc: 0.8644\n",
      "Epoch 1/15\n",
      "59/59 [==============================] - 10s 163ms/step - loss: 2.0624 - acc: 0.2034\n",
      "Epoch 2/15\n",
      "59/59 [==============================] - 0s 492us/step - loss: 1.6304 - acc: 0.3051\n",
      "Epoch 3/15\n",
      "59/59 [==============================] - 0s 466us/step - loss: 1.5533 - acc: 0.4237\n",
      "Epoch 4/15\n",
      "59/59 [==============================] - 0s 454us/step - loss: 1.3074 - acc: 0.4576\n",
      "Epoch 5/15\n",
      "59/59 [==============================] - 0s 477us/step - loss: 1.2159 - acc: 0.5763\n",
      "Epoch 6/15\n",
      "59/59 [==============================] - 0s 462us/step - loss: 1.0302 - acc: 0.5424\n",
      "Epoch 7/15\n",
      "59/59 [==============================] - 0s 448us/step - loss: 0.9641 - acc: 0.6271\n",
      "Epoch 8/15\n",
      "59/59 [==============================] - 0s 445us/step - loss: 0.9305 - acc: 0.6102\n",
      "Epoch 9/15\n",
      "59/59 [==============================] - 0s 469us/step - loss: 0.7717 - acc: 0.7288\n",
      "Epoch 10/15\n",
      "59/59 [==============================] - 0s 460us/step - loss: 0.7926 - acc: 0.7119\n",
      "Epoch 11/15\n",
      "59/59 [==============================] - 0s 474us/step - loss: 0.6662 - acc: 0.8305\n",
      "Epoch 12/15\n",
      "59/59 [==============================] - 0s 458us/step - loss: 0.6827 - acc: 0.7797\n",
      "Epoch 13/15\n",
      "59/59 [==============================] - 0s 464us/step - loss: 0.5568 - acc: 0.9153\n",
      "Epoch 14/15\n",
      "59/59 [==============================] - 0s 456us/step - loss: 0.5183 - acc: 0.9322\n",
      "Epoch 15/15\n",
      "59/59 [==============================] - 0s 481us/step - loss: 0.5082 - acc: 0.8814\n",
      "Epoch 1/15\n",
      "59/59 [==============================] - 10s 165ms/step - loss: 1.9285 - acc: 0.2542\n",
      "Epoch 2/15\n"
     ]
    },
    {
     "name": "stdout",
     "output_type": "stream",
     "text": [
      "59/59 [==============================] - 0s 461us/step - loss: 1.5717 - acc: 0.2881\n",
      "Epoch 3/15\n",
      "59/59 [==============================] - 0s 484us/step - loss: 1.3918 - acc: 0.3729\n",
      "Epoch 4/15\n",
      "59/59 [==============================] - 0s 488us/step - loss: 1.2773 - acc: 0.4068\n",
      "Epoch 5/15\n",
      "59/59 [==============================] - 0s 460us/step - loss: 1.1364 - acc: 0.5763\n",
      "Epoch 6/15\n",
      "59/59 [==============================] - 0s 465us/step - loss: 1.0179 - acc: 0.5424\n",
      "Epoch 7/15\n",
      "59/59 [==============================] - 0s 473us/step - loss: 1.0085 - acc: 0.6102\n",
      "Epoch 8/15\n",
      "59/59 [==============================] - 0s 476us/step - loss: 0.7987 - acc: 0.7797\n",
      "Epoch 9/15\n",
      "59/59 [==============================] - 0s 448us/step - loss: 0.7751 - acc: 0.7797\n",
      "Epoch 10/15\n",
      "59/59 [==============================] - 0s 470us/step - loss: 0.6922 - acc: 0.8136\n",
      "Epoch 11/15\n",
      "59/59 [==============================] - 0s 481us/step - loss: 0.7188 - acc: 0.7966\n",
      "Epoch 12/15\n",
      "59/59 [==============================] - 0s 485us/step - loss: 0.6563 - acc: 0.8136\n",
      "Epoch 13/15\n",
      "59/59 [==============================] - 0s 462us/step - loss: 0.6476 - acc: 0.8644\n",
      "Epoch 14/15\n",
      "59/59 [==============================] - 0s 476us/step - loss: 0.5674 - acc: 0.8814\n",
      "Epoch 15/15\n",
      "59/59 [==============================] - 0s 444us/step - loss: 0.5765 - acc: 0.8644\n",
      "Epoch 1/15\n",
      "59/59 [==============================] - 10s 175ms/step - loss: 1.9319 - acc: 0.2373\n",
      "Epoch 2/15\n",
      "59/59 [==============================] - 0s 596us/step - loss: 1.5732 - acc: 0.2373\n",
      "Epoch 3/15\n",
      "59/59 [==============================] - 0s 589us/step - loss: 1.3820 - acc: 0.3390\n",
      "Epoch 4/15\n",
      "59/59 [==============================] - 0s 622us/step - loss: 1.1942 - acc: 0.4915\n",
      "Epoch 5/15\n",
      "59/59 [==============================] - 0s 581us/step - loss: 1.0188 - acc: 0.6102\n",
      "Epoch 6/15\n",
      "59/59 [==============================] - 0s 598us/step - loss: 0.9837 - acc: 0.5254\n",
      "Epoch 7/15\n",
      "59/59 [==============================] - 0s 635us/step - loss: 0.8102 - acc: 0.7458\n",
      "Epoch 8/15\n",
      "59/59 [==============================] - 0s 638us/step - loss: 0.7435 - acc: 0.8136\n",
      "Epoch 9/15\n",
      "59/59 [==============================] - 0s 604us/step - loss: 0.7276 - acc: 0.8136\n",
      "Epoch 10/15\n",
      "59/59 [==============================] - 0s 638us/step - loss: 0.6367 - acc: 0.7966\n",
      "Epoch 11/15\n",
      "59/59 [==============================] - 0s 600us/step - loss: 0.5296 - acc: 0.9322\n",
      "Epoch 12/15\n",
      "59/59 [==============================] - 0s 608us/step - loss: 0.5153 - acc: 0.8983\n",
      "Epoch 13/15\n",
      "59/59 [==============================] - 0s 623us/step - loss: 0.4952 - acc: 0.9322\n",
      "Epoch 14/15\n",
      "59/59 [==============================] - 0s 595us/step - loss: 0.5026 - acc: 0.8983\n",
      "Epoch 15/15\n",
      "59/59 [==============================] - 0s 615us/step - loss: 0.3920 - acc: 0.9661\n"
     ]
    }
   ],
   "source": [
    "pred_track = []\n",
    "classification_correct_track = []\n",
    "for train_index, test_index in tqdm(loo.split(x_train), total=x_train.shape[0]):\n",
    "    # Get train test split\n",
    "    X_train_iter, X_test_iter = x_train[train_index], x_train[test_index]\n",
    "    y_train_iter, y_test_iter = y_train_int[train_index], y_train_int[test_index]\n",
    "\n",
    "    # Train model\n",
    "    mod_iter = mod(x_train.shape[1])\n",
    "    history = mod_iter.fit([x_train],\n",
    "                           [y_train_int],\n",
    "                            epochs=15,\n",
    "                            batch_size=16,\n",
    "                            verbose=1)\n",
    "#                             callbacks=[PlotLossesKeras()])\n",
    "    \n",
    "    # Make test prediction\n",
    "    pred = mod_iter.predict(X_test_iter)\n",
    "    pred_track.append(pred)\n",
    "\n",
    "    test_pred = np.argmax(pred)\n",
    "    test_actual = np.argmax(y_test_iter)\n",
    "    \n",
    "    if test_pred == test_actual:\n",
    "        classification_correct_track.append(1)\n",
    "    else:\n",
    "        classification_correct_track.append(0)\n",
    "    \n",
    "    "
   ]
  },
  {
   "cell_type": "code",
   "execution_count": 85,
   "metadata": {},
   "outputs": [
    {
     "data": {
      "text/plain": [
       "57"
      ]
     },
     "execution_count": 85,
     "metadata": {},
     "output_type": "execute_result"
    }
   ],
   "source": [
    "np.sum(classification_correct_track)"
   ]
  },
  {
   "cell_type": "code",
   "execution_count": 87,
   "metadata": {},
   "outputs": [
    {
     "data": {
      "text/plain": [
       "0.9661016949152542"
      ]
     },
     "execution_count": 87,
     "metadata": {},
     "output_type": "execute_result"
    }
   ],
   "source": [
    "57/59"
   ]
  },
  {
   "cell_type": "code",
   "execution_count": null,
   "metadata": {},
   "outputs": [],
   "source": []
  },
  {
   "cell_type": "markdown",
   "metadata": {},
   "source": [
    "#### K-fold cross val"
   ]
  },
  {
   "cell_type": "code",
   "execution_count": 149,
   "metadata": {},
   "outputs": [],
   "source": [
    "n_folds=10"
   ]
  },
  {
   "cell_type": "code",
   "execution_count": 150,
   "metadata": {},
   "outputs": [
    {
     "data": {
      "text/plain": [
       "10"
      ]
     },
     "execution_count": 150,
     "metadata": {},
     "output_type": "execute_result"
    }
   ],
   "source": [
    "from sklearn.model_selection import KFold\n",
    "kfold = KFold(n_folds)\n",
    "kfold.get_n_splits(x_train)"
   ]
  },
  {
   "cell_type": "code",
   "execution_count": 173,
   "metadata": {},
   "outputs": [],
   "source": [
    "from sklearn.ensemble import RandomForestClassifier\n",
    "from sklearn.linear_model import LogisticRegression"
   ]
  },
  {
   "cell_type": "code",
   "execution_count": 208,
   "metadata": {
    "scrolled": true
   },
   "outputs": [
    {
     "data": {
      "application/vnd.jupyter.widget-view+json": {
       "model_id": "4bcd1641aae24b8996bdebe8b67857ac",
       "version_major": 2,
       "version_minor": 0
      },
      "text/plain": [
       "HBox(children=(IntProgress(value=0, max=10), HTML(value='')))"
      ]
     },
     "metadata": {},
     "output_type": "display_data"
    },
    {
     "name": "stdout",
     "output_type": "stream",
     "text": [
      "Neural net\n",
      "RF\n",
      "Log Reg\n"
     ]
    },
    {
     "name": "stderr",
     "output_type": "stream",
     "text": [
      "/Users/mattgraziano/miniconda3/lib/python3.6/site-packages/ipykernel_launcher.py:56: DeprecationWarning: elementwise == comparison failed; this will raise an error in the future.\n"
     ]
    },
    {
     "name": "stdout",
     "output_type": "stream",
     "text": [
      "Neural net\n",
      "RF\n",
      "Log Reg\n"
     ]
    },
    {
     "name": "stderr",
     "output_type": "stream",
     "text": [
      "/Users/mattgraziano/miniconda3/lib/python3.6/site-packages/ipykernel_launcher.py:56: DeprecationWarning: elementwise == comparison failed; this will raise an error in the future.\n"
     ]
    },
    {
     "name": "stdout",
     "output_type": "stream",
     "text": [
      "Neural net\n",
      "RF\n",
      "Log Reg\n"
     ]
    },
    {
     "name": "stderr",
     "output_type": "stream",
     "text": [
      "/Users/mattgraziano/miniconda3/lib/python3.6/site-packages/ipykernel_launcher.py:56: DeprecationWarning: elementwise == comparison failed; this will raise an error in the future.\n"
     ]
    },
    {
     "name": "stdout",
     "output_type": "stream",
     "text": [
      "Neural net\n",
      "RF\n",
      "Log Reg\n"
     ]
    },
    {
     "name": "stderr",
     "output_type": "stream",
     "text": [
      "/Users/mattgraziano/miniconda3/lib/python3.6/site-packages/ipykernel_launcher.py:56: DeprecationWarning: elementwise == comparison failed; this will raise an error in the future.\n"
     ]
    },
    {
     "name": "stdout",
     "output_type": "stream",
     "text": [
      "Neural net\n",
      "RF\n",
      "Log Reg\n"
     ]
    },
    {
     "name": "stderr",
     "output_type": "stream",
     "text": [
      "/Users/mattgraziano/miniconda3/lib/python3.6/site-packages/ipykernel_launcher.py:56: DeprecationWarning: elementwise == comparison failed; this will raise an error in the future.\n"
     ]
    },
    {
     "name": "stdout",
     "output_type": "stream",
     "text": [
      "Neural net\n",
      "RF\n",
      "Log Reg\n"
     ]
    },
    {
     "name": "stderr",
     "output_type": "stream",
     "text": [
      "/Users/mattgraziano/miniconda3/lib/python3.6/site-packages/ipykernel_launcher.py:56: DeprecationWarning: elementwise == comparison failed; this will raise an error in the future.\n"
     ]
    },
    {
     "name": "stdout",
     "output_type": "stream",
     "text": [
      "Neural net\n",
      "RF\n",
      "Log Reg\n"
     ]
    },
    {
     "name": "stderr",
     "output_type": "stream",
     "text": [
      "/Users/mattgraziano/miniconda3/lib/python3.6/site-packages/ipykernel_launcher.py:56: DeprecationWarning: elementwise == comparison failed; this will raise an error in the future.\n"
     ]
    },
    {
     "name": "stdout",
     "output_type": "stream",
     "text": [
      "Neural net\n",
      "RF\n",
      "Log Reg\n"
     ]
    },
    {
     "name": "stderr",
     "output_type": "stream",
     "text": [
      "/Users/mattgraziano/miniconda3/lib/python3.6/site-packages/ipykernel_launcher.py:56: DeprecationWarning: elementwise == comparison failed; this will raise an error in the future.\n"
     ]
    },
    {
     "name": "stdout",
     "output_type": "stream",
     "text": [
      "Neural net\n",
      "RF\n",
      "Log Reg\n"
     ]
    },
    {
     "name": "stderr",
     "output_type": "stream",
     "text": [
      "/Users/mattgraziano/miniconda3/lib/python3.6/site-packages/ipykernel_launcher.py:56: DeprecationWarning: elementwise == comparison failed; this will raise an error in the future.\n"
     ]
    },
    {
     "name": "stdout",
     "output_type": "stream",
     "text": [
      "Neural net\n",
      "RF\n",
      "Log Reg\n"
     ]
    },
    {
     "name": "stderr",
     "output_type": "stream",
     "text": [
      "/Users/mattgraziano/miniconda3/lib/python3.6/site-packages/ipykernel_launcher.py:56: DeprecationWarning: elementwise == comparison failed; this will raise an error in the future.\n"
     ]
    }
   ],
   "source": [
    "pred_track_nn = []\n",
    "classification_correct_track_nn = []\n",
    "\n",
    "pred_track_rf = []\n",
    "classification_correct_track_rf = []\n",
    "\n",
    "pred_track_lr = []\n",
    "classification_correct_track_lr = []\n",
    "\n",
    "actuals = []\n",
    "\n",
    "for train_index, test_index in tqdm(kfold.split(x_train), total=n_folds):\n",
    "    # Get train test split\n",
    "    X_train_iter, X_test_iter = x_train[train_index], x_train[test_index]\n",
    "    y_train_iter, y_test_iter = y_train_int[train_index], y_train_int[test_index]\n",
    "\n",
    "    # Train neural net model\n",
    "    print(\"Neural net\")\n",
    "    mod_iter = mod(x_train.shape[1])\n",
    "    history = mod_iter.fit([x_train],\n",
    "                           [y_train_int],\n",
    "                            epochs=15,\n",
    "                            batch_size=16,\n",
    "                            verbose=0)\n",
    "#                             callbacks=[PlotLossesKeras()])\n",
    "    \n",
    "    # Train Random Forest\n",
    "    print(\"RF\")\n",
    "    rf = RandomForestClassifier(n_estimators=500,\n",
    "                                n_jobs=8,\n",
    "                                min_samples_leaf=5)\n",
    "    rf.fit(X_train_iter, y_train_iter)\n",
    "    \n",
    "    \n",
    "    # Train Log Reg\n",
    "    print(\"Log Reg\")\n",
    "    lr = LogisticRegression()\n",
    "    lr.fit(X_train_iter, np.argmax(y_train_iter, axis=1))\n",
    "    \n",
    "    \n",
    "    # Make test prediction\n",
    "    \n",
    "    #NN\n",
    "    pred = mod_iter.predict(X_test_iter)\n",
    "    pred_track_nn.append(pred)\n",
    "    test_pred = np.argmax(pred, axis=1)\n",
    "    test_actual = np.argmax(y_test_iter, axis=1)\n",
    "    classification_correct_track_nn.append(np.sum(test_pred == test_actual))\n",
    "\n",
    "    \n",
    "    #RF\n",
    "    pred = rf.predict(X_test_iter)\n",
    "    pred_track_rf.append(pred)\n",
    "    test_pred = pred\n",
    "    test_actual = np.argmax(y_test_iter, axis=1)\n",
    "    classification_correct_track_rf.append(np.sum(test_pred == test_actual))\n",
    "\n",
    "    \n",
    "    #LR\n",
    "    pred = lr.predict(X_test_iter)\n",
    "    pred_track_lr.append(pred)\n",
    "    test_pred = pred\n",
    "    test_actual = np.argmax(y_test_iter, axis=1)\n",
    "    classification_correct_track_lr.append(np.sum(test_pred == test_actual))\n",
    "\n",
    "    actuals.append(y_test_iter)\n",
    "    \n",
    "    "
   ]
  },
  {
   "cell_type": "code",
   "execution_count": 209,
   "metadata": {},
   "outputs": [
    {
     "data": {
      "text/plain": [
       "0.8457446808510638"
      ]
     },
     "execution_count": 209,
     "metadata": {},
     "output_type": "execute_result"
    }
   ],
   "source": [
    "# Get total Accuracy:\n",
    "np.sum(classification_correct_track_nn) / x_train.shape[0]"
   ]
  },
  {
   "cell_type": "code",
   "execution_count": 210,
   "metadata": {},
   "outputs": [
    {
     "data": {
      "text/plain": [
       "0.0"
      ]
     },
     "execution_count": 210,
     "metadata": {},
     "output_type": "execute_result"
    }
   ],
   "source": [
    "np.sum(classification_correct_track_rf) / x_train.shape[0]"
   ]
  },
  {
   "cell_type": "code",
   "execution_count": 211,
   "metadata": {},
   "outputs": [
    {
     "data": {
      "text/plain": [
       "0.015957446808510637"
      ]
     },
     "execution_count": 211,
     "metadata": {},
     "output_type": "execute_result"
    }
   ],
   "source": [
    "np.sum(classification_correct_track_lr) / x_train.shape[0]"
   ]
  },
  {
   "cell_type": "markdown",
   "metadata": {},
   "source": [
    "The Random Forest and Logistic regression models did not perform well. \n",
    "\n",
    "This may suggest there is significant non-linearly in the data theses models are not capturing.\n",
    "\n"
   ]
  },
  {
   "cell_type": "code",
   "execution_count": null,
   "metadata": {},
   "outputs": [],
   "source": []
  },
  {
   "cell_type": "code",
   "execution_count": null,
   "metadata": {},
   "outputs": [],
   "source": []
  },
  {
   "cell_type": "code",
   "execution_count": null,
   "metadata": {},
   "outputs": [],
   "source": []
  },
  {
   "cell_type": "code",
   "execution_count": null,
   "metadata": {},
   "outputs": [],
   "source": []
  },
  {
   "cell_type": "code",
   "execution_count": null,
   "metadata": {},
   "outputs": [],
   "source": []
  },
  {
   "cell_type": "code",
   "execution_count": null,
   "metadata": {},
   "outputs": [],
   "source": []
  }
 ],
 "metadata": {
  "kernelspec": {
   "display_name": "Python 3",
   "language": "python",
   "name": "python3"
  },
  "language_info": {
   "codemirror_mode": {
    "name": "ipython",
    "version": 3
   },
   "file_extension": ".py",
   "mimetype": "text/x-python",
   "name": "python",
   "nbconvert_exporter": "python",
   "pygments_lexer": "ipython3",
   "version": "3.6.6"
  }
 },
 "nbformat": 4,
 "nbformat_minor": 2
}
