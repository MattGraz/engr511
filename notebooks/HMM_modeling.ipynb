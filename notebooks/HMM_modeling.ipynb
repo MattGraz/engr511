{
 "cells": [
  {
   "cell_type": "markdown",
   "metadata": {},
   "source": [
    "# Notebook Goal:\n",
    "Demonstrate HMM classification and use a neural network to predict chrods"
   ]
  },
  {
   "cell_type": "code",
   "execution_count": 4,
   "metadata": {},
   "outputs": [
    {
     "name": "stdout",
     "output_type": "stream",
     "text": [
      "/Users/mattgraziano/Google Drive/Documents/Learning/IU/Fall18/engr511/project/engr511\n"
     ]
    }
   ],
   "source": [
    "cd ../"
   ]
  },
  {
   "cell_type": "code",
   "execution_count": 1,
   "metadata": {},
   "outputs": [
    {
     "name": "stderr",
     "output_type": "stream",
     "text": [
      "Using TensorFlow backend.\n"
     ]
    }
   ],
   "source": [
    "from tqdm import tqdm_notebook as tqdm\n",
    "import matplotlib.pyplot as plt\n",
    "from glob import glob\n",
    "import pandas as pd\n",
    "import numpy as np\n",
    "import librosa\n",
    "from livelossplot import PlotLossesKeras\n",
    "import scipy.fftpack"
   ]
  },
  {
   "cell_type": "code",
   "execution_count": 2,
   "metadata": {},
   "outputs": [],
   "source": [
    "from keras.models import Model\n",
    "from keras.layers import Input, Dense, Softmax, Dropout, BatchNormalization, Activation\n",
    "\n",
    "from keras.utils import to_categorical\n",
    "\n",
    "from sklearn.preprocessing import LabelEncoder\n",
    "\n",
    "import keras"
   ]
  },
  {
   "cell_type": "code",
   "execution_count": 5,
   "metadata": {},
   "outputs": [],
   "source": [
    "from src.Progression_Modeling import Load, Prepare, Mel_transform, normalize, melspectrogram, trim, CQT_transform, pseudo_cqt, Chroma\n",
    "import soundfile as sf\n",
    "from scipy.signal import stft"
   ]
  },
  {
   "cell_type": "code",
   "execution_count": 10,
   "metadata": {},
   "outputs": [],
   "source": [
    "def get_spectrogram(signal, sr=44100, spectype=\"mel\"):\n",
    "    if spectype == \"mel\":\n",
    "        spectrogram = melspectrogram(Prepare(signal), sr=sr, fmin=C2, fmax=C7, n_fft=2048 * 2, hop_length=1024)\n",
    "        spectrogram_norm = pow(normalize(spectrogram), .25)\n",
    "        \n",
    "    elif spectype == \"cqt\":\n",
    "        A1 = 55.00\n",
    "        spectrogram = abs(pseudo_cqt(Prepare(signal), sr, fmin=A1, n_bins=120, bins_per_octave=24, sparsity=.95, window=('kaiser', 10)))\n",
    "        spectrogram_norm = normalize(spectrogram, norm='l1', axis=0)\n",
    "        \n",
    "    elif spectype == \"chroma\":\n",
    "        CQT = CQT_transform(Prepare(signal), sr)\n",
    "        spectrogram = Chroma(CQT)\n",
    "        spectrogram_norm = normalize(spectrogram, norm='l1', axis=0)\n",
    "        \n",
    "    elif spectype == \"stft\":\n",
    "        spectrogram = stft(signal, fs=sr, window=\"hann\")[2]\n",
    "        spectrogram_norm = np.real(normalize(spectrogram, norm='l1', axis=0))\n",
    "\n",
    "    return spectrogram_norm"
   ]
  },
  {
   "cell_type": "code",
   "execution_count": 11,
   "metadata": {},
   "outputs": [],
   "source": [
    "def get_clean_x_avg_all(signal, sr=44100, spectype=\"mel\"):\n",
    "    spectrogram = get_spectrogram(signal, sr=sr, spectype=spectype)\n",
    "\n",
    "    # Get column averages of the max n columns in lieu of using the entire spectrogram\n",
    "    clean = np.mean(spectrogram, axis=1)\n",
    "    \n",
    "    return clean"
   ]
  },
  {
   "cell_type": "code",
   "execution_count": 12,
   "metadata": {},
   "outputs": [],
   "source": [
    "recording_filenames = glob(\"data/recordings_new/*/*/*.wav\", recursive=True)"
   ]
  },
  {
   "cell_type": "code",
   "execution_count": null,
   "metadata": {},
   "outputs": [],
   "source": [
    "progression_filenames = glob(\"data/recordings_new/\")"
   ]
  },
  {
   "cell_type": "markdown",
   "metadata": {},
   "source": [
    "## Import progressions"
   ]
  },
  {
   "cell_type": "code",
   "execution_count": 16,
   "metadata": {},
   "outputs": [],
   "source": [
    "from src.Progression_Modeling import HMM_Stack_Transform"
   ]
  },
  {
   "cell_type": "code",
   "execution_count": 25,
   "metadata": {},
   "outputs": [],
   "source": [
    "# import progressions\n",
    "recorded_progression_filenames = glob(\"data/Progressions/*/*.wav\")"
   ]
  },
  {
   "cell_type": "code",
   "execution_count": 26,
   "metadata": {},
   "outputs": [
    {
     "data": {
      "text/plain": [
       "'data/Progressions/Inversions/Min_Maj_Maj7_Maj_Min_END_1.wav'"
      ]
     },
     "execution_count": 26,
     "metadata": {},
     "output_type": "execute_result"
    }
   ],
   "source": [
    "recorded_progression_filenames[0]"
   ]
  },
  {
   "cell_type": "code",
   "execution_count": 29,
   "metadata": {},
   "outputs": [],
   "source": [
    "# get prog y\n",
    "# NOTE: We are parsing folder structure and filenames\n",
    "y_progressions = [prod.split(\"/\")[3].split(\"_END\")[0] for prod in recorded_progression_filenames]"
   ]
  },
  {
   "cell_type": "code",
   "execution_count": 30,
   "metadata": {},
   "outputs": [
    {
     "data": {
      "text/plain": [
       "['Min_Maj_Maj7_Maj_Min',\n",
       " 'Min_Maj_Maj_Maj_Min',\n",
       " 'Maj_Maj_Maj_Dim_Maj',\n",
       " 'Maj_Maj_Maj_Maj_Maj',\n",
       " 'Min_Maj_Maj7_Maj_Min',\n",
       " 'Min_Maj_Maj7_Min_Min',\n",
       " 'Maj_Maj7_Dim_Min_Maj',\n",
       " 'Maj_Maj_Maj7_Min_Maj',\n",
       " 'Maj_Maj_Maj_Maj_Maj',\n",
       " 'Maj7_Maj_Min_Maj_Maj7',\n",
       " 'Min_Maj_Min_Min_Min',\n",
       " 'Maj7_Maj_dim_Maj_Maj7',\n",
       " 'Min_Min_Maj_Dim_Min',\n",
       " 'Min_Min_Maj7_Maj_Min',\n",
       " 'Maj7_Maj_Maj_Min_Maj7',\n",
       " 'Maj_Maj_Dim_Maj_Maj',\n",
       " 'Maj_Maj_Min_Dim_Maj',\n",
       " 'Maj_Dim_Min_Maj_Maj']"
      ]
     },
     "execution_count": 30,
     "metadata": {},
     "output_type": "execute_result"
    }
   ],
   "source": [
    "y_progressions"
   ]
  },
  {
   "cell_type": "code",
   "execution_count": 32,
   "metadata": {},
   "outputs": [],
   "source": [
    "y_progressions_vals = [item.split(\"_\") for item in y_progressions]"
   ]
  },
  {
   "cell_type": "code",
   "execution_count": 33,
   "metadata": {},
   "outputs": [
    {
     "data": {
      "text/plain": [
       "[['Min', 'Maj', 'Maj7', 'Maj', 'Min'],\n",
       " ['Min', 'Maj', 'Maj', 'Maj', 'Min'],\n",
       " ['Maj', 'Maj', 'Maj', 'Dim', 'Maj'],\n",
       " ['Maj', 'Maj', 'Maj', 'Maj', 'Maj'],\n",
       " ['Min', 'Maj', 'Maj7', 'Maj', 'Min'],\n",
       " ['Min', 'Maj', 'Maj7', 'Min', 'Min'],\n",
       " ['Maj', 'Maj7', 'Dim', 'Min', 'Maj'],\n",
       " ['Maj', 'Maj', 'Maj7', 'Min', 'Maj'],\n",
       " ['Maj', 'Maj', 'Maj', 'Maj', 'Maj'],\n",
       " ['Maj7', 'Maj', 'Min', 'Maj', 'Maj7'],\n",
       " ['Min', 'Maj', 'Min', 'Min', 'Min'],\n",
       " ['Maj7', 'Maj', 'dim', 'Maj', 'Maj7'],\n",
       " ['Min', 'Min', 'Maj', 'Dim', 'Min'],\n",
       " ['Min', 'Min', 'Maj7', 'Maj', 'Min'],\n",
       " ['Maj7', 'Maj', 'Maj', 'Min', 'Maj7'],\n",
       " ['Maj', 'Maj', 'Dim', 'Maj', 'Maj'],\n",
       " ['Maj', 'Maj', 'Min', 'Dim', 'Maj'],\n",
       " ['Maj', 'Dim', 'Min', 'Maj', 'Maj']]"
      ]
     },
     "execution_count": 33,
     "metadata": {},
     "output_type": "execute_result"
    }
   ],
   "source": [
    "y_progressions_vals"
   ]
  },
  {
   "cell_type": "code",
   "execution_count": 19,
   "metadata": {},
   "outputs": [
    {
     "data": {
      "text/plain": [
       "['data/Progressions/Inversions/Min_Maj_Maj7_Maj_Min_END_1.wav',\n",
       " 'data/Progressions/Inversions/Min_Maj_Maj_Maj_Min_END_1.wav',\n",
       " 'data/Progressions/Inversions/Maj_Maj_Maj_Dim_Maj_END_1.wav',\n",
       " 'data/Progressions/Inversions/Maj_Maj_Maj_Maj_Maj_END_1.wav',\n",
       " 'data/Progressions/Different Instrument/Min_Maj_Maj7_Maj_Min_END_2.wav',\n",
       " 'data/Progressions/Different Instrument/Min_Maj_Maj7_Min_Min_END_1.wav',\n",
       " 'data/Progressions/Different Instrument/Maj_Maj7_Dim_Min_Maj_END_1.wav',\n",
       " 'data/Progressions/Different Instrument/Maj_Maj_Maj7_Min_Maj_END_1.wav',\n",
       " 'data/Progressions/Different Instrument/Maj_Maj_Maj_Maj_Maj_END_2.wav',\n",
       " 'data/Progressions/Different Instrument/Maj7_Maj_Min_Maj_Maj7_END_1.wav',\n",
       " 'data/Progressions/Regular/Min_Maj_Min_Min_Min_END_1.wav',\n",
       " 'data/Progressions/Regular/Maj7_Maj_dim_Maj_Maj7_END_1.wav',\n",
       " 'data/Progressions/Regular/Min_Min_Maj_Dim_Min_END_1.wav',\n",
       " 'data/Progressions/Regular/Min_Min_Maj7_Maj_Min_END_1.wav',\n",
       " 'data/Progressions/Regular/Maj7_Maj_Maj_Min_Maj7_END_1.wav',\n",
       " 'data/Progressions/Regular/Maj_Maj_Dim_Maj_Maj_END_1.wav',\n",
       " 'data/Progressions/Regular/Maj_Maj_Min_Dim_Maj_END_1.wav',\n",
       " 'data/Progressions/Regular/Maj_Dim_Min_Maj_Maj_END_1.wav']"
      ]
     },
     "execution_count": 19,
     "metadata": {},
     "output_type": "execute_result"
    }
   ],
   "source": [
    "recored_progression_filenames"
   ]
  },
  {
   "cell_type": "code",
   "execution_count": null,
   "metadata": {},
   "outputs": [],
   "source": []
  },
  {
   "cell_type": "code",
   "execution_count": 15,
   "metadata": {
    "collapsed": true
   },
   "outputs": [
    {
     "data": {
      "application/vnd.jupyter.widget-view+json": {
       "model_id": "2d44dfad787d49518074b6ea07fb560e",
       "version_major": 2,
       "version_minor": 0
      },
      "text/plain": [
       "HBox(children=(IntProgress(value=0, max=334), HTML(value='')))"
      ]
     },
     "metadata": {},
     "output_type": "display_data"
    },
    {
     "ename": "KeyboardInterrupt",
     "evalue": "",
     "output_type": "error",
     "traceback": [
      "\u001b[0;31m---------------------------------------------------------------------------\u001b[0m",
      "\u001b[0;31mKeyboardInterrupt\u001b[0m                         Traceback (most recent call last)",
      "\u001b[0;32m<ipython-input-15-1d2c00a4e62b>\u001b[0m in \u001b[0;36m<module>\u001b[0;34m()\u001b[0m\n\u001b[1;32m      9\u001b[0m     \u001b[0mraw_signals\u001b[0m\u001b[0;34m.\u001b[0m\u001b[0mappend\u001b[0m\u001b[0;34m(\u001b[0m\u001b[0msound\u001b[0m\u001b[0;34m)\u001b[0m\u001b[0;34m\u001b[0m\u001b[0m\n\u001b[1;32m     10\u001b[0m     \u001b[0msamp_rates\u001b[0m\u001b[0;34m.\u001b[0m\u001b[0mappend\u001b[0m\u001b[0;34m(\u001b[0m\u001b[0msr\u001b[0m\u001b[0;34m)\u001b[0m\u001b[0;34m\u001b[0m\u001b[0m\n\u001b[0;32m---> 11\u001b[0;31m     \u001b[0mcleaned\u001b[0m \u001b[0;34m=\u001b[0m \u001b[0mget_clean_x_avg_all\u001b[0m\u001b[0;34m(\u001b[0m\u001b[0msound\u001b[0m\u001b[0;34m,\u001b[0m \u001b[0msr\u001b[0m\u001b[0;34m=\u001b[0m\u001b[0msr\u001b[0m\u001b[0;34m,\u001b[0m \u001b[0mspectype\u001b[0m\u001b[0;34m=\u001b[0m\u001b[0mtransform\u001b[0m\u001b[0;34m)\u001b[0m\u001b[0;34m\u001b[0m\u001b[0m\n\u001b[0m\u001b[1;32m     12\u001b[0m     \u001b[0mx_train\u001b[0m\u001b[0;34m.\u001b[0m\u001b[0mappend\u001b[0m\u001b[0;34m(\u001b[0m\u001b[0mcleaned\u001b[0m\u001b[0;34m.\u001b[0m\u001b[0mflatten\u001b[0m\u001b[0;34m(\u001b[0m\u001b[0;34m)\u001b[0m\u001b[0;34m)\u001b[0m\u001b[0;34m\u001b[0m\u001b[0m\n\u001b[1;32m     13\u001b[0m \u001b[0;34m\u001b[0m\u001b[0m\n",
      "\u001b[0;32m<ipython-input-11-2c9ed6ee1a72>\u001b[0m in \u001b[0;36mget_clean_x_avg_all\u001b[0;34m(signal, sr, spectype)\u001b[0m\n\u001b[1;32m      1\u001b[0m \u001b[0;32mdef\u001b[0m \u001b[0mget_clean_x_avg_all\u001b[0m\u001b[0;34m(\u001b[0m\u001b[0msignal\u001b[0m\u001b[0;34m,\u001b[0m \u001b[0msr\u001b[0m\u001b[0;34m=\u001b[0m\u001b[0;36m44100\u001b[0m\u001b[0;34m,\u001b[0m \u001b[0mspectype\u001b[0m\u001b[0;34m=\u001b[0m\u001b[0;34m\"mel\"\u001b[0m\u001b[0;34m)\u001b[0m\u001b[0;34m:\u001b[0m\u001b[0;34m\u001b[0m\u001b[0m\n\u001b[0;32m----> 2\u001b[0;31m     \u001b[0mspectrogram\u001b[0m \u001b[0;34m=\u001b[0m \u001b[0mget_spectrogram\u001b[0m\u001b[0;34m(\u001b[0m\u001b[0msignal\u001b[0m\u001b[0;34m,\u001b[0m \u001b[0msr\u001b[0m\u001b[0;34m=\u001b[0m\u001b[0msr\u001b[0m\u001b[0;34m,\u001b[0m \u001b[0mspectype\u001b[0m\u001b[0;34m=\u001b[0m\u001b[0mspectype\u001b[0m\u001b[0;34m)\u001b[0m\u001b[0;34m\u001b[0m\u001b[0m\n\u001b[0m\u001b[1;32m      3\u001b[0m \u001b[0;34m\u001b[0m\u001b[0m\n\u001b[1;32m      4\u001b[0m     \u001b[0;31m# Get column averages of the max n columns in lieu of using the entire spectrogram\u001b[0m\u001b[0;34m\u001b[0m\u001b[0;34m\u001b[0m\u001b[0m\n\u001b[1;32m      5\u001b[0m     \u001b[0mclean\u001b[0m \u001b[0;34m=\u001b[0m \u001b[0mnp\u001b[0m\u001b[0;34m.\u001b[0m\u001b[0mmean\u001b[0m\u001b[0;34m(\u001b[0m\u001b[0mspectrogram\u001b[0m\u001b[0;34m,\u001b[0m \u001b[0maxis\u001b[0m\u001b[0;34m=\u001b[0m\u001b[0;36m1\u001b[0m\u001b[0;34m)\u001b[0m\u001b[0;34m\u001b[0m\u001b[0m\n",
      "\u001b[0;32m<ipython-input-10-fa33c29fee42>\u001b[0m in \u001b[0;36mget_spectrogram\u001b[0;34m(signal, sr, spectype)\u001b[0m\n\u001b[1;32m     10\u001b[0m \u001b[0;34m\u001b[0m\u001b[0m\n\u001b[1;32m     11\u001b[0m     \u001b[0;32melif\u001b[0m \u001b[0mspectype\u001b[0m \u001b[0;34m==\u001b[0m \u001b[0;34m\"chroma\"\u001b[0m\u001b[0;34m:\u001b[0m\u001b[0;34m\u001b[0m\u001b[0m\n\u001b[0;32m---> 12\u001b[0;31m         \u001b[0mCQT\u001b[0m \u001b[0;34m=\u001b[0m \u001b[0mCQT_transform\u001b[0m\u001b[0;34m(\u001b[0m\u001b[0mPrepare\u001b[0m\u001b[0;34m(\u001b[0m\u001b[0msignal\u001b[0m\u001b[0;34m)\u001b[0m\u001b[0;34m,\u001b[0m \u001b[0msr\u001b[0m\u001b[0;34m)\u001b[0m\u001b[0;34m\u001b[0m\u001b[0m\n\u001b[0m\u001b[1;32m     13\u001b[0m         \u001b[0mspectrogram\u001b[0m \u001b[0;34m=\u001b[0m \u001b[0mChroma\u001b[0m\u001b[0;34m(\u001b[0m\u001b[0mCQT\u001b[0m\u001b[0;34m)\u001b[0m\u001b[0;34m\u001b[0m\u001b[0m\n\u001b[1;32m     14\u001b[0m         \u001b[0mspectrogram_norm\u001b[0m \u001b[0;34m=\u001b[0m \u001b[0mnormalize\u001b[0m\u001b[0;34m(\u001b[0m\u001b[0mspectrogram\u001b[0m\u001b[0;34m,\u001b[0m \u001b[0mnorm\u001b[0m\u001b[0;34m=\u001b[0m\u001b[0;34m'l1'\u001b[0m\u001b[0;34m,\u001b[0m \u001b[0maxis\u001b[0m\u001b[0;34m=\u001b[0m\u001b[0;36m0\u001b[0m\u001b[0;34m)\u001b[0m\u001b[0;34m\u001b[0m\u001b[0m\n",
      "\u001b[0;32m~/Google Drive/Documents/Learning/IU/Fall18/engr511/project/engr511/src/Progression_Modeling.py\u001b[0m in \u001b[0;36mCQT_transform\u001b[0;34m(data, sr)\u001b[0m\n\u001b[1;32m     48\u001b[0m \u001b[0;34m\u001b[0m\u001b[0m\n\u001b[1;32m     49\u001b[0m \u001b[0;32mdef\u001b[0m \u001b[0mCQT_transform\u001b[0m\u001b[0;34m(\u001b[0m\u001b[0mdata\u001b[0m\u001b[0;34m,\u001b[0m \u001b[0msr\u001b[0m\u001b[0;34m)\u001b[0m\u001b[0;34m:\u001b[0m\u001b[0;34m\u001b[0m\u001b[0m\n\u001b[0;32m---> 50\u001b[0;31m     \u001b[0mCQT\u001b[0m  \u001b[0;34m=\u001b[0m \u001b[0mabs\u001b[0m\u001b[0;34m(\u001b[0m\u001b[0mpseudo_cqt\u001b[0m\u001b[0;34m(\u001b[0m\u001b[0mdata\u001b[0m\u001b[0;34m,\u001b[0m \u001b[0msr\u001b[0m\u001b[0;34m,\u001b[0m \u001b[0mfmin\u001b[0m\u001b[0;34m=\u001b[0m\u001b[0mA1\u001b[0m\u001b[0;34m,\u001b[0m \u001b[0mn_bins\u001b[0m\u001b[0;34m=\u001b[0m\u001b[0;36m60\u001b[0m\u001b[0;34m,\u001b[0m \u001b[0mbins_per_octave\u001b[0m\u001b[0;34m=\u001b[0m\u001b[0;36m12\u001b[0m\u001b[0;34m,\u001b[0m \u001b[0msparsity\u001b[0m\u001b[0;34m=\u001b[0m\u001b[0;36m.95\u001b[0m\u001b[0;34m,\u001b[0m \u001b[0mwindow\u001b[0m\u001b[0;34m=\u001b[0m\u001b[0;34m(\u001b[0m\u001b[0;34m'kaiser'\u001b[0m\u001b[0;34m,\u001b[0m \u001b[0;36m10\u001b[0m\u001b[0;34m)\u001b[0m\u001b[0;34m)\u001b[0m\u001b[0;34m)\u001b[0m\u001b[0;34m\u001b[0m\u001b[0m\n\u001b[0m\u001b[1;32m     51\u001b[0m     \u001b[0mN_CQT\u001b[0m \u001b[0;34m=\u001b[0m \u001b[0mnormalize\u001b[0m\u001b[0;34m(\u001b[0m\u001b[0mCQT\u001b[0m\u001b[0;34m,\u001b[0m \u001b[0mnorm\u001b[0m\u001b[0;34m=\u001b[0m\u001b[0;34m'l1'\u001b[0m\u001b[0;34m,\u001b[0m \u001b[0maxis\u001b[0m\u001b[0;34m=\u001b[0m\u001b[0;36m0\u001b[0m\u001b[0;34m)\u001b[0m\u001b[0;34m\u001b[0m\u001b[0m\n\u001b[1;32m     52\u001b[0m     \u001b[0;32mreturn\u001b[0m \u001b[0mN_CQT\u001b[0m\u001b[0;34m\u001b[0m\u001b[0m\n",
      "\u001b[0;32m~/miniconda3/lib/python3.6/site-packages/librosa/core/constantq.py\u001b[0m in \u001b[0;36mpseudo_cqt\u001b[0;34m(y, sr, hop_length, fmin, n_bins, bins_per_octave, tuning, filter_scale, norm, sparsity, window, scale, pad_mode)\u001b[0m\n\u001b[1;32m    492\u001b[0m                                            \u001b[0mnorm\u001b[0m\u001b[0;34m,\u001b[0m \u001b[0msparsity\u001b[0m\u001b[0;34m,\u001b[0m\u001b[0;34m\u001b[0m\u001b[0m\n\u001b[1;32m    493\u001b[0m                                            \u001b[0mhop_length\u001b[0m\u001b[0;34m=\u001b[0m\u001b[0mhop_length\u001b[0m\u001b[0;34m,\u001b[0m\u001b[0;34m\u001b[0m\u001b[0m\n\u001b[0;32m--> 494\u001b[0;31m                                            window=window)\n\u001b[0m\u001b[1;32m    495\u001b[0m \u001b[0;34m\u001b[0m\u001b[0m\n\u001b[1;32m    496\u001b[0m     \u001b[0mfft_basis\u001b[0m \u001b[0;34m=\u001b[0m \u001b[0mnp\u001b[0m\u001b[0;34m.\u001b[0m\u001b[0mabs\u001b[0m\u001b[0;34m(\u001b[0m\u001b[0mfft_basis\u001b[0m\u001b[0;34m)\u001b[0m\u001b[0;34m\u001b[0m\u001b[0m\n",
      "\u001b[0;32m~/miniconda3/lib/python3.6/site-packages/librosa/core/constantq.py\u001b[0m in \u001b[0;36m__cqt_filter_fft\u001b[0;34m(sr, fmin, n_bins, bins_per_octave, tuning, filter_scale, norm, sparsity, hop_length, window)\u001b[0m\n\u001b[1;32m    757\u001b[0m \u001b[0;34m\u001b[0m\u001b[0m\n\u001b[1;32m    758\u001b[0m     \u001b[0;31m# sparsify the basis\u001b[0m\u001b[0;34m\u001b[0m\u001b[0;34m\u001b[0m\u001b[0m\n\u001b[0;32m--> 759\u001b[0;31m     \u001b[0mfft_basis\u001b[0m \u001b[0;34m=\u001b[0m \u001b[0mutil\u001b[0m\u001b[0;34m.\u001b[0m\u001b[0msparsify_rows\u001b[0m\u001b[0;34m(\u001b[0m\u001b[0mfft_basis\u001b[0m\u001b[0;34m,\u001b[0m \u001b[0mquantile\u001b[0m\u001b[0;34m=\u001b[0m\u001b[0msparsity\u001b[0m\u001b[0;34m)\u001b[0m\u001b[0;34m\u001b[0m\u001b[0m\n\u001b[0m\u001b[1;32m    760\u001b[0m \u001b[0;34m\u001b[0m\u001b[0m\n\u001b[1;32m    761\u001b[0m     \u001b[0;32mreturn\u001b[0m \u001b[0mfft_basis\u001b[0m\u001b[0;34m,\u001b[0m \u001b[0mn_fft\u001b[0m\u001b[0;34m,\u001b[0m \u001b[0mlengths\u001b[0m\u001b[0;34m\u001b[0m\u001b[0m\n",
      "\u001b[0;32m~/miniconda3/lib/python3.6/site-packages/librosa/util/utils.py\u001b[0m in \u001b[0;36msparsify_rows\u001b[0;34m(x, quantile)\u001b[0m\n\u001b[1;32m   1079\u001b[0m \u001b[0;34m\u001b[0m\u001b[0m\n\u001b[1;32m   1080\u001b[0m     \u001b[0mmag_sort\u001b[0m \u001b[0;34m=\u001b[0m \u001b[0mnp\u001b[0m\u001b[0;34m.\u001b[0m\u001b[0msort\u001b[0m\u001b[0;34m(\u001b[0m\u001b[0mmags\u001b[0m\u001b[0;34m,\u001b[0m \u001b[0maxis\u001b[0m\u001b[0;34m=\u001b[0m\u001b[0;36m1\u001b[0m\u001b[0;34m)\u001b[0m\u001b[0;34m\u001b[0m\u001b[0m\n\u001b[0;32m-> 1081\u001b[0;31m     \u001b[0mcumulative_mag\u001b[0m \u001b[0;34m=\u001b[0m \u001b[0mnp\u001b[0m\u001b[0;34m.\u001b[0m\u001b[0mcumsum\u001b[0m\u001b[0;34m(\u001b[0m\u001b[0mmag_sort\u001b[0m \u001b[0;34m/\u001b[0m \u001b[0mnorms\u001b[0m\u001b[0;34m,\u001b[0m \u001b[0maxis\u001b[0m\u001b[0;34m=\u001b[0m\u001b[0;36m1\u001b[0m\u001b[0;34m)\u001b[0m\u001b[0;34m\u001b[0m\u001b[0m\n\u001b[0m\u001b[1;32m   1082\u001b[0m \u001b[0;34m\u001b[0m\u001b[0m\n\u001b[1;32m   1083\u001b[0m     \u001b[0mthreshold_idx\u001b[0m \u001b[0;34m=\u001b[0m \u001b[0mnp\u001b[0m\u001b[0;34m.\u001b[0m\u001b[0margmin\u001b[0m\u001b[0;34m(\u001b[0m\u001b[0mcumulative_mag\u001b[0m \u001b[0;34m<\u001b[0m \u001b[0mquantile\u001b[0m\u001b[0;34m,\u001b[0m \u001b[0maxis\u001b[0m\u001b[0;34m=\u001b[0m\u001b[0;36m1\u001b[0m\u001b[0;34m)\u001b[0m\u001b[0;34m\u001b[0m\u001b[0m\n",
      "\u001b[0;32m~/miniconda3/lib/python3.6/site-packages/numpy/core/fromnumeric.py\u001b[0m in \u001b[0;36mcumsum\u001b[0;34m(a, axis, dtype, out)\u001b[0m\n\u001b[1;32m   2154\u001b[0m \u001b[0;34m\u001b[0m\u001b[0m\n\u001b[1;32m   2155\u001b[0m     \"\"\"\n\u001b[0;32m-> 2156\u001b[0;31m     \u001b[0;32mreturn\u001b[0m \u001b[0m_wrapfunc\u001b[0m\u001b[0;34m(\u001b[0m\u001b[0ma\u001b[0m\u001b[0;34m,\u001b[0m \u001b[0;34m'cumsum'\u001b[0m\u001b[0;34m,\u001b[0m \u001b[0maxis\u001b[0m\u001b[0;34m=\u001b[0m\u001b[0maxis\u001b[0m\u001b[0;34m,\u001b[0m \u001b[0mdtype\u001b[0m\u001b[0;34m=\u001b[0m\u001b[0mdtype\u001b[0m\u001b[0;34m,\u001b[0m \u001b[0mout\u001b[0m\u001b[0;34m=\u001b[0m\u001b[0mout\u001b[0m\u001b[0;34m)\u001b[0m\u001b[0;34m\u001b[0m\u001b[0m\n\u001b[0m\u001b[1;32m   2157\u001b[0m \u001b[0;34m\u001b[0m\u001b[0m\n\u001b[1;32m   2158\u001b[0m \u001b[0;34m\u001b[0m\u001b[0m\n",
      "\u001b[0;32m~/miniconda3/lib/python3.6/site-packages/numpy/core/fromnumeric.py\u001b[0m in \u001b[0;36m_wrapfunc\u001b[0;34m(obj, method, *args, **kwds)\u001b[0m\n\u001b[1;32m     49\u001b[0m \u001b[0;32mdef\u001b[0m \u001b[0m_wrapfunc\u001b[0m\u001b[0;34m(\u001b[0m\u001b[0mobj\u001b[0m\u001b[0;34m,\u001b[0m \u001b[0mmethod\u001b[0m\u001b[0;34m,\u001b[0m \u001b[0;34m*\u001b[0m\u001b[0margs\u001b[0m\u001b[0;34m,\u001b[0m \u001b[0;34m**\u001b[0m\u001b[0mkwds\u001b[0m\u001b[0;34m)\u001b[0m\u001b[0;34m:\u001b[0m\u001b[0;34m\u001b[0m\u001b[0m\n\u001b[1;32m     50\u001b[0m     \u001b[0;32mtry\u001b[0m\u001b[0;34m:\u001b[0m\u001b[0;34m\u001b[0m\u001b[0m\n\u001b[0;32m---> 51\u001b[0;31m         \u001b[0;32mreturn\u001b[0m \u001b[0mgetattr\u001b[0m\u001b[0;34m(\u001b[0m\u001b[0mobj\u001b[0m\u001b[0;34m,\u001b[0m \u001b[0mmethod\u001b[0m\u001b[0;34m)\u001b[0m\u001b[0;34m(\u001b[0m\u001b[0;34m*\u001b[0m\u001b[0margs\u001b[0m\u001b[0;34m,\u001b[0m \u001b[0;34m**\u001b[0m\u001b[0mkwds\u001b[0m\u001b[0;34m)\u001b[0m\u001b[0;34m\u001b[0m\u001b[0m\n\u001b[0m\u001b[1;32m     52\u001b[0m \u001b[0;34m\u001b[0m\u001b[0m\n\u001b[1;32m     53\u001b[0m     \u001b[0;31m# An AttributeError occurs if the object does not have\u001b[0m\u001b[0;34m\u001b[0m\u001b[0;34m\u001b[0m\u001b[0m\n",
      "\u001b[0;31mKeyboardInterrupt\u001b[0m: "
     ]
    }
   ],
   "source": [
    "transform = \"chroma\"\n",
    "\n",
    "raw_signals = []\n",
    "samp_rates = []\n",
    "x_train = []\n",
    "for filename in tqdm(recording_filenames):\n",
    "    sound, sr = sf.read(filename)\n",
    "\n",
    "    raw_signals.append(sound)\n",
    "    samp_rates.append(sr)\n",
    "    cleaned = get_clean_x_avg_all(sound, sr=sr, spectype=transform)\n",
    "    x_train.append(cleaned.flatten())\n",
    "\n",
    "# Standardize input\n",
    "x_train = np.array(x_train)\n",
    "x_train = (x_train - x_train.min(0)) / x_train.ptp(0)\n",
    "\n",
    "\n",
    "# Get y categories\n",
    "y_train = [i.split('/')[2] for i in recording_filenames]\n",
    "le_chord_structure = LabelEncoder()\n",
    "le_chord_structure.fit(y_train)\n",
    "y_train_int = to_categorical(le_chord_structure.transform(y_train))\n"
   ]
  },
  {
   "cell_type": "code",
   "execution_count": null,
   "metadata": {},
   "outputs": [],
   "source": []
  },
  {
   "cell_type": "code",
   "execution_count": null,
   "metadata": {},
   "outputs": [],
   "source": []
  },
  {
   "cell_type": "code",
   "execution_count": null,
   "metadata": {},
   "outputs": [],
   "source": []
  },
  {
   "cell_type": "code",
   "execution_count": null,
   "metadata": {},
   "outputs": [],
   "source": []
  },
  {
   "cell_type": "code",
   "execution_count": null,
   "metadata": {},
   "outputs": [],
   "source": []
  }
 ],
 "metadata": {
  "kernelspec": {
   "display_name": "Python 3",
   "language": "python",
   "name": "python3"
  },
  "language_info": {
   "codemirror_mode": {
    "name": "ipython",
    "version": 3
   },
   "file_extension": ".py",
   "mimetype": "text/x-python",
   "name": "python",
   "nbconvert_exporter": "python",
   "pygments_lexer": "ipython3",
   "version": "3.6.6"
  }
 },
 "nbformat": 4,
 "nbformat_minor": 2
}
