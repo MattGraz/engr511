{
 "cells": [
  {
   "cell_type": "code",
   "execution_count": 5,
   "metadata": {},
   "outputs": [
    {
     "name": "stdout",
     "output_type": "stream",
     "text": [
      "/Users/mattgraziano/Google Drive/Documents/Learning/IU/Fall18/engr511/project/engr511\n"
     ]
    }
   ],
   "source": [
    "cd ../"
   ]
  },
  {
   "cell_type": "code",
   "execution_count": 6,
   "metadata": {},
   "outputs": [],
   "source": [
    "from tqdm import tqdm_notebook as tqdm\n",
    "import matplotlib.pyplot as plt\n",
    "from glob import glob\n",
    "import pandas as pd\n",
    "import numpy as np\n",
    "import librosa\n",
    "from livelossplot import PlotLossesKeras\n",
    "import scipy.fftpack"
   ]
  },
  {
   "cell_type": "code",
   "execution_count": 7,
   "metadata": {},
   "outputs": [],
   "source": [
    "from keras.models import Model\n",
    "from keras.layers import Input, Dense, Softmax, Dropout, BatchNormalization, Activation\n",
    "\n",
    "from keras.utils import to_categorical\n",
    "\n",
    "from sklearn.preprocessing import LabelEncoder\n",
    "\n",
    "import keras"
   ]
  },
  {
   "cell_type": "code",
   "execution_count": 8,
   "metadata": {},
   "outputs": [],
   "source": [
    "from src.Progression_Modeling import Load, Prepare, Mel_transform, normalize, melspectrogram, trim, CQT_transform, pseudo_cqt, Chroma\n",
    "import soundfile as sf\n",
    "from scipy.signal import stft"
   ]
  },
  {
   "cell_type": "markdown",
   "metadata": {},
   "source": [
    "## Import data"
   ]
  },
  {
   "cell_type": "code",
   "execution_count": 9,
   "metadata": {},
   "outputs": [],
   "source": [
    "# recording_filenames = glob(\"data/recordings/*/*.wav\", recursive=True)"
   ]
  },
  {
   "cell_type": "code",
   "execution_count": 10,
   "metadata": {},
   "outputs": [],
   "source": [
    "recording_filenames = glob(\"data/recordings_new/*/*/*.wav\", recursive=True)"
   ]
  },
  {
   "cell_type": "code",
   "execution_count": 11,
   "metadata": {},
   "outputs": [
    {
     "data": {
      "text/plain": [
       "334"
      ]
     },
     "execution_count": 11,
     "metadata": {},
     "output_type": "execute_result"
    }
   ],
   "source": [
    "len(recording_filenames)"
   ]
  },
  {
   "cell_type": "code",
   "execution_count": 12,
   "metadata": {},
   "outputs": [],
   "source": [
    "A0 = 27.5\n",
    "A1 = 55.00\n",
    "C1 = 32.70\n",
    "A2 = 110.00\n",
    "C2 = 65.41\n",
    "E6 = 1318.51\n",
    "C7 = 2093.00\n",
    "C8 = 4186.01"
   ]
  },
  {
   "cell_type": "code",
   "execution_count": 13,
   "metadata": {},
   "outputs": [],
   "source": [
    "def nth_largest_col_sum(arr, n=-80):\n",
    "    # column sum\n",
    "    agg = np.sum(arr, axis=0)\n",
    "    agg.sort()\n",
    "    return agg[n]\n",
    "    "
   ]
  },
  {
   "cell_type": "code",
   "execution_count": 14,
   "metadata": {},
   "outputs": [],
   "source": [
    "def get_spectrogram(signal, sr=44100, spectype=\"mel\"):\n",
    "    if spectype == \"mel\":\n",
    "        spectrogram = melspectrogram(Prepare(signal), sr=sr, fmin=C2, fmax=C7, n_fft=2048 * 2, hop_length=1024)\n",
    "        spectrogram_norm = pow(normalize(spectrogram), .25)\n",
    "        \n",
    "    elif spectype == \"cqt\":\n",
    "        A1 = 55.00\n",
    "        spectrogram = abs(pseudo_cqt(Prepare(signal), sr, fmin=A1, n_bins=120, bins_per_octave=24, sparsity=.95, window=('kaiser', 10)))\n",
    "        spectrogram_norm = normalize(spectrogram, norm='l1', axis=0)\n",
    "        \n",
    "    elif spectype == \"chroma\":\n",
    "        CQT = CQT_transform(Prepare(signal), sr)\n",
    "        spectrogram = Chroma(CQT)\n",
    "        spectrogram_norm = normalize(spectrogram, norm='l1', axis=0)\n",
    "        \n",
    "    elif spectype == \"stft\":\n",
    "        spectrogram = stft(signal, fs=sr, window=\"hann\")[2]\n",
    "        spectrogram_norm = np.real(normalize(spectrogram, norm='l1', axis=0))\n",
    "\n",
    "    return spectrogram_norm"
   ]
  },
  {
   "cell_type": "code",
   "execution_count": 15,
   "metadata": {},
   "outputs": [],
   "source": [
    "def get_clean_x(signal, sr=44100, nth_largest=-45, spectype=\"mel\"):\n",
    "    spectrogram = get_spectrogram(signal, sr=sr, spectype=spectype)\n",
    "\n",
    "    # Get 45th largest value\n",
    "    # This is needed to noisy data\n",
    "    nth_largest_threshold = nth_largest_col_sum(spectrogram, nth_largest)\n",
    "    \n",
    "    # remove all columsn whose sum is less than t\n",
    "    clean = spectrogram[:, np.sum(spectrogram, axis=0) >= nth_largest_threshold]\n",
    "    \n",
    "    # Get column averages of the max n columns in lieu of using the entire spectrogram\n",
    "    clean = np.mean(clean, axis=1)\n",
    "    \n",
    "    return clean"
   ]
  },
  {
   "cell_type": "code",
   "execution_count": 16,
   "metadata": {},
   "outputs": [],
   "source": [
    "def get_clean_x(signal, sr=44100, nth_largest=-45, spectype=\"mel\"):\n",
    "    spectrogram = get_spectrogram(signal, sr=sr, spectype=spectype)\n",
    "\n",
    "    # Get 45th largest value\n",
    "    # This is needed to noisy data\n",
    "    nth_largest_threshold = nth_largest_col_sum(spectrogram, nth_largest)\n",
    "    \n",
    "    # remove all columsn whose sum is less than t\n",
    "    clean = spectrogram[:, np.sum(spectrogram, axis=0) >= nth_largest_threshold]\n",
    "    \n",
    "    # Get column averages of the max n columns in lieu of using the entire spectrogram\n",
    "    clean = np.mean(clean, axis=1)\n",
    "    \n",
    "    return clean"
   ]
  },
  {
   "cell_type": "code",
   "execution_count": 17,
   "metadata": {},
   "outputs": [],
   "source": [
    "def get_clean_x_avg_all(signal, sr=44100, spectype=\"mel\"):\n",
    "    spectrogram = get_spectrogram(signal, sr=sr, spectype=spectype)\n",
    "\n",
    "    # Get column averages of the max n columns in lieu of using the entire spectrogram\n",
    "    clean = np.mean(spectrogram, axis=1)\n",
    "    \n",
    "    return clean"
   ]
  },
  {
   "cell_type": "markdown",
   "metadata": {},
   "source": [
    "# Modeling:"
   ]
  },
  {
   "cell_type": "markdown",
   "metadata": {},
   "source": [
    "## Grid Search - K-fold cross val"
   ]
  },
  {
   "cell_type": "code",
   "execution_count": 18,
   "metadata": {},
   "outputs": [],
   "source": [
    "n_folds=10"
   ]
  },
  {
   "cell_type": "code",
   "execution_count": 19,
   "metadata": {
    "scrolled": true
   },
   "outputs": [
    {
     "name": "stderr",
     "output_type": "stream",
     "text": [
      "/Users/mattgraziano/miniconda3/lib/python3.6/site-packages/sklearn/ensemble/weight_boosting.py:29: DeprecationWarning: numpy.core.umath_tests is an internal NumPy module and should not be imported. It will be removed in a future NumPy release.\n",
      "  from numpy.core.umath_tests import inner1d\n"
     ]
    }
   ],
   "source": [
    "from sklearn.ensemble import RandomForestClassifier\n",
    "from sklearn.linear_model import LogisticRegression\n",
    "from sklearn.svm import SVC"
   ]
  },
  {
   "cell_type": "code",
   "execution_count": 20,
   "metadata": {},
   "outputs": [],
   "source": [
    "from sklearn.model_selection import GridSearchCV\n",
    "from sklearn.ensemble import RandomForestClassifier, GradientBoostingClassifier\n",
    "from sklearn.linear_model import LogisticRegression\n",
    "from sklearn.svm import SVC\n",
    "from keras.wrappers.scikit_learn import KerasClassifier\n",
    "\n",
    "import warnings\n",
    "warnings.filterwarnings('ignore')"
   ]
  },
  {
   "cell_type": "markdown",
   "metadata": {},
   "source": [
    "### Neural Network Functions"
   ]
  },
  {
   "cell_type": "code",
   "execution_count": 21,
   "metadata": {},
   "outputs": [],
   "source": [
    "# Define various neural network architectures to cross validate\n",
    "def mod1(input_shape, output_shape, lay1_units, lay2_units, lay3_units, activation='relu'):\n",
    "    # 3 layer\n",
    "    in_data = Input(shape=(input_shape, ))\n",
    "\n",
    "    lay1 = Dense(lay1_units, activation=activation)(in_data)\n",
    "    lay1 = BatchNormalization()(lay1)\n",
    "\n",
    "    lay2 = Dense(lay2_units, activation=activation)(lay1)\n",
    "    lay2 = BatchNormalization()(lay2)\n",
    "\n",
    "    lay3 = Dense(lay3_units, activation=activation)(lay2)\n",
    "    lay3 = BatchNormalization()(lay3)\n",
    "\n",
    "    \n",
    "    output = Dense(output_shape, activation = \"softmax\")(lay3)\n",
    "\n",
    "    model = Model(inputs=[in_data],\n",
    "                  outputs=[output])\n",
    "\n",
    "    model.compile(optimizer=keras.optimizers.Adam(),\n",
    "                  loss=\"categorical_crossentropy\",\n",
    "                  metrics=['acc'])\n",
    "    \n",
    "    return model\n",
    "\n",
    "\n",
    "def mod2(input_shape, output_shape, lay1_units, lay2_units, activation='relu'):\n",
    "    # 2 layer\n",
    "    in_data = Input(shape=(input_shape, ))\n",
    "\n",
    "    lay1 = Dense(lay1_units, activation=activation)(in_data)\n",
    "    lay1 = BatchNormalization()(lay1)\n",
    "\n",
    "    lay2 = Dense(lay2_units, activation=activation)(lay1)\n",
    "    lay2 = BatchNormalization()(lay2)\n",
    "    \n",
    "    output = Dense(output_shape, activation = \"softmax\")(lay2)\n",
    "\n",
    "    model = Model(inputs=[in_data],\n",
    "                  outputs=[output])\n",
    "\n",
    "    model.compile(optimizer=keras.optimizers.Adam(),\n",
    "                  loss=\"categorical_crossentropy\",\n",
    "                  metrics=['acc'])\n",
    "    \n",
    "    return model\n",
    "\n",
    "\n",
    "def mod3(input_shape, output_shape, lay1_units, activation='relu'):\n",
    "    # 1 layer\n",
    "    in_data = Input(shape=(input_shape, ))\n",
    "\n",
    "    lay1 = Dense(lay1_units, activation=activation)(in_data)\n",
    "    lay1 = BatchNormalization()(lay1)\n",
    "    \n",
    "    output = Dense(output_shape, activation = \"softmax\")(lay1)\n",
    "\n",
    "    model = Model(inputs=[in_data],\n",
    "                  outputs=[output])\n",
    "\n",
    "    model.compile(optimizer=keras.optimizers.Adam(),\n",
    "                  loss=\"categorical_crossentropy\",\n",
    "                  metrics=['acc'])\n",
    "    \n",
    "    return model\n",
    "\n",
    "\n",
    "\n",
    "def mod4(input_shape, output_shape, lay1_units, lay2_units, lay3_units, activation='relu'):\n",
    "    # Test if dropout adds anything\n",
    "    in_data = Input(shape=(input_shape, ))\n",
    "\n",
    "    lay1 = Dense(lay1_units, activation=activation)(in_data)\n",
    "    lay1 = Dropout(.3)(lay1)\n",
    "    lay1 = BatchNormalization()(lay1)\n",
    "\n",
    "    lay2 = Dense(lay2_units, activation=activation)(lay1)\n",
    "    lay2 = Dropout(.3)(lay2)\n",
    "    lay2 = BatchNormalization()(lay2)\n",
    "\n",
    "    lay3 = Dense(lay3_units, activation=activation)(lay2)\n",
    "    lay3 = Dropout(.3)(lay3)\n",
    "    lay3 = BatchNormalization()(lay3)\n",
    "\n",
    "    output = Dense(output_shape, activation = \"softmax\")(lay3)\n",
    "\n",
    "    model = Model(inputs=[in_data],\n",
    "                  outputs=[output])\n",
    "\n",
    "    model.compile(optimizer=keras.optimizers.Adam(),\n",
    "                  loss=\"categorical_crossentropy\",\n",
    "                  metrics=['acc'])\n",
    "    \n",
    "    return model\n",
    "\n",
    "\n",
    "def mod5(input_shape, output_shape, lay1_units, lay2_units, lay3_units, activation='relu'):\n",
    "    # 3 layer, no batch norm\n",
    "    in_data = Input(shape=(input_shape, ))\n",
    "\n",
    "    lay1 = Dense(lay1_units, activation=activation)(in_data)\n",
    "\n",
    "    lay2 = Dense(lay2_units, activation=activation)(lay1)\n",
    "\n",
    "    lay3 = Dense(lay3_units, activation=activation)(lay2)\n",
    "    \n",
    "    output = Dense(output_shape, activation = \"softmax\")(lay3)\n",
    "\n",
    "    model = Model(inputs=[in_data],\n",
    "                  outputs=[output])\n",
    "\n",
    "    model.compile(optimizer=keras.optimizers.Adam(),\n",
    "                  loss=\"categorical_crossentropy\",\n",
    "                  metrics=['acc'])\n",
    "    \n",
    "    return model\n",
    "\n",
    "\n",
    "def mod6(input_shape, output_shape, lay1_units, lay2_units, lay3_units, lay4_units, activation='relu'):\n",
    "    # 4 layer\n",
    "    in_data = Input(shape=(input_shape, ))\n",
    "\n",
    "    lay1 = Dense(lay1_units, activation=activation)(in_data)\n",
    "    lay1 = BatchNormalization()(lay1)\n",
    "\n",
    "    lay2 = Dense(lay2_units, activation=activation)(lay1)\n",
    "    lay2 = BatchNormalization()(lay2)\n",
    "\n",
    "    lay3 = Dense(lay3_units, activation=activation)(lay2)\n",
    "    lay3 = BatchNormalization()(lay3)\n",
    "\n",
    "    lay4 = Dense(lay4_units, activation=activation)(lay3)\n",
    "    lay4 = BatchNormalization()(lay4)\n",
    "\n",
    "    \n",
    "    output = Dense(output_shape, activation = \"softmax\")(lay4)\n",
    "\n",
    "    model = Model(inputs=[in_data],\n",
    "                  outputs=[output])\n",
    "\n",
    "    model.compile(optimizer=keras.optimizers.Adam(),\n",
    "                  loss=\"categorical_crossentropy\",\n",
    "                  metrics=['acc'])\n",
    "    \n",
    "    return model\n",
    "\n",
    "\n",
    "def mod7(input_shape, output_shape, lay1_units, lay2_units, lay3_units, lay4_units, lay5_units, activation='relu'):\n",
    "    # 4 layer\n",
    "    in_data = Input(shape=(input_shape, ))\n",
    "\n",
    "    lay1 = Dense(lay1_units, activation=activation)(in_data)\n",
    "    lay1 = BatchNormalization()(lay1)\n",
    "\n",
    "    lay2 = Dense(lay2_units, activation=activation)(lay1)\n",
    "    lay2 = BatchNormalization()(lay2)\n",
    "\n",
    "    lay3 = Dense(lay3_units, activation=activation)(lay2)\n",
    "    lay3 = BatchNormalization()(lay3)\n",
    "\n",
    "    lay4 = Dense(lay4_units, activation=activation)(lay3)\n",
    "    lay4 = BatchNormalization()(lay4)\n",
    "\n",
    "    lay5 = Dense(lay5_units, activation=activation)(lay4)\n",
    "    lay5 = BatchNormalization()(lay5)\n",
    "    \n",
    "    output = Dense(output_shape, activation = \"softmax\")(lay5)\n",
    "\n",
    "    model = Model(inputs=[in_data],\n",
    "                  outputs=[output])\n",
    "\n",
    "    model.compile(optimizer=keras.optimizers.Adam(),\n",
    "                  loss=\"categorical_crossentropy\",\n",
    "                  metrics=['acc'])\n",
    "    \n",
    "    return model"
   ]
  },
  {
   "cell_type": "markdown",
   "metadata": {},
   "source": [
    "### Other Models (BASELINE MODELS)"
   ]
  },
  {
   "cell_type": "code",
   "execution_count": null,
   "metadata": {},
   "outputs": [
    {
     "data": {
      "application/vnd.jupyter.widget-view+json": {
       "model_id": "80ec155cf3f04cfe9f797ef4537fe98e",
       "version_major": 2,
       "version_minor": 0
      },
      "text/plain": [
       "HBox(children=(IntProgress(value=0, max=4), HTML(value='')))"
      ]
     },
     "metadata": {},
     "output_type": "display_data"
    },
    {
     "data": {
      "application/vnd.jupyter.widget-view+json": {
       "model_id": "9d80d1be9b1f43728ecbd93c017c05f0",
       "version_major": 2,
       "version_minor": 0
      },
      "text/plain": [
       "HBox(children=(IntProgress(value=0, max=334), HTML(value='')))"
      ]
     },
     "metadata": {},
     "output_type": "display_data"
    },
    {
     "name": "stdout",
     "output_type": "stream",
     "text": [
      "RF\n",
      "LR\n",
      "SVM\n",
      "GBM\n"
     ]
    },
    {
     "data": {
      "application/vnd.jupyter.widget-view+json": {
       "model_id": "b424e4c799384ae4b8460439409c8a7c",
       "version_major": 2,
       "version_minor": 0
      },
      "text/plain": [
       "HBox(children=(IntProgress(value=0, max=334), HTML(value='')))"
      ]
     },
     "metadata": {},
     "output_type": "display_data"
    },
    {
     "name": "stdout",
     "output_type": "stream",
     "text": [
      "RF\n",
      "LR\n",
      "SVM\n",
      "GBM\n"
     ]
    },
    {
     "data": {
      "application/vnd.jupyter.widget-view+json": {
       "model_id": "e3565b9da37142ea8d09d43781da3152",
       "version_major": 2,
       "version_minor": 0
      },
      "text/plain": [
       "HBox(children=(IntProgress(value=0, max=334), HTML(value='')))"
      ]
     },
     "metadata": {},
     "output_type": "display_data"
    }
   ],
   "source": [
    "transforms = ['stft', 'mel', 'cqt', 'chroma']\n",
    "\n",
    "results_param_df = []\n",
    "for transform in tqdm(transforms):\n",
    "    # DATA IMPORT\n",
    "    raw_signals = []\n",
    "    samp_rates = []\n",
    "    x_train = []\n",
    "    for filename in tqdm(recording_filenames):\n",
    "        sound, sr = sf.read(filename)\n",
    "\n",
    "        raw_signals.append(sound)\n",
    "        samp_rates.append(sr)\n",
    "        cleaned = get_clean_x_avg_all(sound, sr=sr, spectype=transform)\n",
    "        x_train.append(cleaned.flatten())\n",
    "\n",
    "    # Standardize input\n",
    "    x_train = np.array(x_train)\n",
    "    x_train = (x_train - x_train.min(0)) / x_train.ptp(0)\n",
    "    \n",
    "\n",
    "    # Get y categories\n",
    "    y_train = [i.split('/')[2] for i in recording_filenames]\n",
    "    le_chord_structure = LabelEncoder()\n",
    "    le_chord_structure.fit(y_train)\n",
    "    y_train_int = to_categorical(le_chord_structure.transform(y_train))\n",
    "\n",
    "    \n",
    "    # TRAIN MODELS\n",
    "    \n",
    "    #RF\n",
    "    print(\"RF\")\n",
    "    rf = RandomForestClassifier(n_estimators=500)\n",
    "\n",
    "    # Adjust max_features based on features available after each transform\n",
    "    \n",
    "    features_avail = x_train[0].shape[0]\n",
    "    max_features_iter = [10, 40, 70, 100]\n",
    "    \n",
    "    param_grid = {\"max_depth\": [3, 5, 10],\n",
    "                  \"max_features\": list(np.array(max_features_iter)[np.where(features_avail >= np.array(max_features_iter))[0]]),\n",
    "                  \"min_samples_split\": [5, 10, 15],\n",
    "                  \"bootstrap\": [True],\n",
    "                  \"criterion\": [\"gini\"]}\n",
    "\n",
    "    # run grid search\n",
    "    rf_grid_search = GridSearchCV(rf, param_grid=param_grid, cv=10, n_jobs=8)\n",
    "\n",
    "    rf_grid_search.fit(x_train, y_train)\n",
    "    \n",
    "    # Convert parameter grid and cv results to dataframe\n",
    "    rf_results_df = pd.DataFrame(rf_grid_search.cv_results_)[['params', 'mean_train_score', 'mean_test_score']]\n",
    "    rf_results_df['transform'] = transform\n",
    "    rf_results_df['mod'] = 'RF'\n",
    "    results_param_df.append(rf_results_df)\n",
    "    \n",
    "    \n",
    "    # LR\n",
    "    print(\"LR\")\n",
    "    lr = LogisticRegression()\n",
    "\n",
    "    param_grid = {\"penalty\": ['l1', 'l2'],\n",
    "                  \"dual\": [False],\n",
    "                  \"fit_intercept\": [True, False],\n",
    "                  \"multi_class\": ['ovr']}\n",
    "\n",
    "    # run grid search\n",
    "    lr_grid_search = GridSearchCV(lr, param_grid=param_grid, cv=10, n_jobs=8)\n",
    "\n",
    "    lr_grid_search.fit(x_train, y_train)\n",
    "\n",
    "    # Convert parameter grid and cv results to dataframe\n",
    "    lr_results_df = pd.DataFrame(lr_grid_search.cv_results_)[['params', 'mean_train_score', 'mean_test_score']]\n",
    "    lr_results_df['transform'] = transform\n",
    "    lr_results_df['mod'] = 'LR'\n",
    "    results_param_df.append(lr_results_df)\n",
    "    \n",
    "\n",
    "    # SVM\n",
    "    print(\"SVM\")\n",
    "    svm = SVC()\n",
    "\n",
    "    param_grid = {\"C\": [.5, 1, 1.5],\n",
    "                  \"kernel\": ['rbf', 'poly', 'sigmoid'],\n",
    "                  \"degree\": [3, 4, 5],\n",
    "                  \"shrinking\": [True, False]}\n",
    "\n",
    "    # run grid search\n",
    "    svm_grid_search = GridSearchCV(svm, param_grid=param_grid, cv=10, n_jobs=8)\n",
    "\n",
    "    svm_grid_search.fit(x_train, y_train)\n",
    "\n",
    "    # Convert parameter grid and cv results to dataframe\n",
    "    svm_results_df = pd.DataFrame(svm_grid_search.cv_results_)[['params', 'mean_train_score', 'mean_test_score']]\n",
    "    svm_results_df['transform'] = transform\n",
    "    svm_results_df['mod'] = 'SVM'\n",
    "    results_param_df.append(svm_results_df)\n",
    "\n",
    "    \n",
    "    # GBM\n",
    "    print(\"GBM\")\n",
    "    gbm = GradientBoostingClassifier(learning_rate=.01, n_estimators=500)\n",
    "\n",
    "    param_grid = {\"subsample\": [.8, 1],\n",
    "                  \"learning_rate\": [2, 4, 6],\n",
    "                  \"min_samples_leaf\": [1, 3, 5],\n",
    "                  \"max_depth\": [3, 5, 10]}\n",
    "\n",
    "    # run grid search\n",
    "    gbm_grid_search = GridSearchCV(gbm, param_grid=param_grid, cv=10, n_jobs=8)\n",
    "\n",
    "    gbm_grid_search.fit(x_train, y_train)\n",
    "\n",
    "    # Convert parameter grid and cv results to dataframe\n",
    "    gbm_results_df = pd.DataFrame(gbm_grid_search.cv_results_)[['params', 'mean_train_score', 'mean_test_score']]\n",
    "    gbm_results_df['transform'] = transform\n",
    "    gbm_results_df['mod'] = 'GBM'\n",
    "    results_param_df.append(gbm_results_df)\n",
    "\n"
   ]
  },
  {
   "cell_type": "code",
   "execution_count": null,
   "metadata": {},
   "outputs": [],
   "source": [
    "results_param_df_all = pd.concat(results_param_df)"
   ]
  },
  {
   "cell_type": "code",
   "execution_count": null,
   "metadata": {},
   "outputs": [],
   "source": [
    "results_param_df_all.to_csv(\"data/cv_results/otherMods_gridsearch_results.csv\")"
   ]
  },
  {
   "cell_type": "markdown",
   "metadata": {},
   "source": [
    "## Neural Network Grid search\n",
    "Standardized Input with average of all frames"
   ]
  },
  {
   "cell_type": "code",
   "execution_count": null,
   "metadata": {},
   "outputs": [],
   "source": [
    "# selected_model will be an alias to the model function defined above\n",
    "# Swap this out for a model defined in the above defs\n",
    "selected_model = mod1\n",
    "mod_name = \"mod1\"\n",
    "\n",
    "# NOTE: define paramter grid in below cell"
   ]
  },
  {
   "cell_type": "code",
   "execution_count": null,
   "metadata": {},
   "outputs": [],
   "source": [
    "def nn_grid_search(selected_model, param_grid, transforms, recording_filenames, mod_name=\"nn\")\n",
    "    results_param_df = []\n",
    "    for transform in tqdm(transforms):\n",
    "        # DATA IMPORT\n",
    "        raw_signals = []\n",
    "        samp_rates = []\n",
    "        x_train = []\n",
    "        for filename in tqdm(recording_filenames):\n",
    "            sound, sr = sf.read(filename)\n",
    "\n",
    "            raw_signals.append(sound)\n",
    "            samp_rates.append(sr)\n",
    "            cleaned = get_clean_x_avg_all(sound, sr=sr, spectype=transform)\n",
    "            x_train.append(cleaned.flatten())\n",
    "\n",
    "        x_train = np.array(x_train)\n",
    "        x_train = (x_train - x_train.min(0)) / x_train.ptp(0)\n",
    "\n",
    "        # Get y categories\n",
    "        y_train = [i.split('/')[2] for i in recording_filenames]\n",
    "        le_chord_structure = LabelEncoder()\n",
    "        le_chord_structure.fit(y_train)\n",
    "        y_train_int = to_categorical(le_chord_structure.transform(y_train))\n",
    "\n",
    "        # NN mod 1\n",
    "        print(\"NN1\")\n",
    "        mod_nn = KerasClassifier(build_fn=selected_model,\n",
    "                                 verbose=0)\n",
    "\n",
    "        # Add input_shape and output shape to param_grid\n",
    "        param_grid['input_shape'] = [x_train[0].shape[0]]\n",
    "        param_grid['output_shape'] = [y_train_int.shape[1]]\n",
    "\n",
    "        mod1_nn_grid_search = GridSearchCV(estimator=mod_nn, param_grid=param_grid, cv=10, n_jobs=-1)\n",
    "        print(\"NN1-a\")    \n",
    "        mod1_nn_grid_search.fit(np.array(x_train), y_train_int)\n",
    "        print(\"NN1-b\")\n",
    "\n",
    "        # Convert parameter grid and cv results to dataframe\n",
    "        mod1_nn_results_df = pd.DataFrame(mod1_nn_grid_search.cv_results_)[['params', 'mean_train_score', 'mean_test_score']]\n",
    "        mod1_nn_results_df['transform'] = transform\n",
    "        mod1_nn_results_df['mod'] = 'NN_1'\n",
    "        results_param_df.append(mod1_nn_results_df)\n",
    "        \n",
    "        out = pd.concat(results_param_df)\n",
    "        out['mod_name'] = mod_name\n",
    "        \n",
    "    return out"
   ]
  },
  {
   "cell_type": "code",
   "execution_count": null,
   "metadata": {},
   "outputs": [],
   "source": [
    "# 3 layers, batch norm\n",
    "mod_grid = dict(lay1_units=[50, 100],\n",
    "                lay2_units=[50, 100],\n",
    "                lay3_units=[50, 100],\n",
    "                activation=['relu', 'tanh'],\n",
    "                batch_size=[16],\n",
    "                epochs=[25, 35])\n",
    "\n",
    "mod_transforms = ['stft', 'mel', 'cqt', 'chroma']\n",
    "\n",
    "grid_results = nn_grid_search(selected_model=mod1,\n",
    "                              param_grid=mod_grid,\n",
    "                              transforms=mod_transforms,\n",
    "                              recording_filenames=recording_filenames,\n",
    "                              mod_name=\"mod1\")\n",
    "\n",
    "grid_results.to_csv(\"data/cv_results/grid_results_nn_mod1.csv\")"
   ]
  },
  {
   "cell_type": "code",
   "execution_count": null,
   "metadata": {},
   "outputs": [],
   "source": [
    "# 2 layers, batch norm\n",
    "mod_grid = dict(lay1_units=[50, 100],\n",
    "                lay2_units=[50, 100],\n",
    "                activation=['relu', 'tanh'],\n",
    "                batch_size=[16],\n",
    "                epochs=[25, 35])\n",
    "\n",
    "mod_transforms = ['stft', 'mel', 'cqt', 'chroma']\n",
    "\n",
    "grid_results = nn_grid_search(selected_model=mod2,\n",
    "                              param_grid=mod_grid,\n",
    "                              transforms=mod_transforms,\n",
    "                              recording_filenames=recording_filenames,\n",
    "                              mod_name=\"mod2\")\n",
    "\n",
    "grid_results.to_csv(\"data/cv_results/grid_results_nn_mod2.csv\")"
   ]
  },
  {
   "cell_type": "code",
   "execution_count": null,
   "metadata": {},
   "outputs": [],
   "source": [
    "# 1 layers, batch norm\n",
    "mod_grid = dict(lay1_units=[20, 50, 100],\n",
    "                activation=['relu', 'tanh'],\n",
    "                batch_size=[16],\n",
    "                epochs=[25, 35])\n",
    "\n",
    "mod_transforms = ['stft', 'mel', 'cqt', 'chroma']\n",
    "\n",
    "grid_results = nn_grid_search(selected_model=mod3,\n",
    "                              param_grid=mod_grid,\n",
    "                              transforms=mod_transforms,\n",
    "                              recording_filenames=recording_filenames,\n",
    "                              mod_name=\"mod3\")\n",
    "\n",
    "grid_results.to_csv(\"data/cv_results/grid_results_nn_mod3.csv\")"
   ]
  },
  {
   "cell_type": "code",
   "execution_count": null,
   "metadata": {},
   "outputs": [],
   "source": [
    "# 3 layers, batch norm, dropout\n",
    "mod_grid = dict(lay1_units=[50, 100],\n",
    "                lay2_units=[50, 100],\n",
    "                lay3_units=[50, 100],\n",
    "                lay4_units=[50, 100],\n",
    "                activation=['relu', 'tanh'],\n",
    "                batch_size=[16],\n",
    "                epochs=[25, 35])\n",
    "\n",
    "mod_transforms = ['stft', 'mel', 'cqt', 'chroma']\n",
    "\n",
    "grid_results = nn_grid_search(selected_model=mod4,\n",
    "                              param_grid=mod_grid,\n",
    "                              transforms=mod_transforms,\n",
    "                              recording_filenames=recording_filenames,\n",
    "                              mod_name=\"mod4\")\n",
    "\n",
    "grid_results.to_csv(\"data/cv_results/grid_results_nn_mod4.csv\")"
   ]
  },
  {
   "cell_type": "code",
   "execution_count": null,
   "metadata": {},
   "outputs": [],
   "source": [
    "# 3 layers, (no batch norm or dropout)\n",
    "mod_grid = dict(lay1_units=[50, 100],\n",
    "                lay2_units=[50, 100],\n",
    "                lay3_units=[50, 100],\n",
    "                lay4_units=[50, 100],\n",
    "                activation=['relu', 'tanh'],\n",
    "                batch_size=[16],\n",
    "                epochs=[25, 35])\n",
    "\n",
    "mod_transforms = ['stft', 'mel', 'cqt', 'chroma']\n",
    "\n",
    "grid_results = nn_grid_search(selected_model=mod5,\n",
    "                              param_grid=mod_grid,\n",
    "                              transforms=mod_transforms,\n",
    "                              recording_filenames=recording_filenames,\n",
    "                              mod_name=\"mod5\")\n",
    "\n",
    "grid_results.to_csv(\"data/cv_results/grid_results_nn_mod5.csv\")"
   ]
  },
  {
   "cell_type": "code",
   "execution_count": null,
   "metadata": {},
   "outputs": [],
   "source": [
    "# 4 layers, batch norm\n",
    "mod_grid = dict(lay1_units=[50, 100],\n",
    "                lay2_units=[50, 100],\n",
    "                lay3_units=[50, 100],\n",
    "                lay4_units=[50, 100],\n",
    "                activation=['relu', 'tanh'],\n",
    "                batch_size=[16],\n",
    "                epochs=[25, 35])\n",
    "\n",
    "mod_transforms = ['stft', 'mel', 'cqt', 'chroma']\n",
    "\n",
    "grid_results = nn_grid_search(selected_model=mod6,\n",
    "                              param_grid=mod_grid,\n",
    "                              transforms=mod_transforms,\n",
    "                              recording_filenames=recording_filenames,\n",
    "                              mod_name=\"mod6\")\n",
    "\n",
    "grid_results.to_csv(\"data/cv_results/grid_results_nn_mod6.csv\")"
   ]
  },
  {
   "cell_type": "code",
   "execution_count": null,
   "metadata": {},
   "outputs": [],
   "source": [
    "# 5 layers, batch norm\n",
    "mod_grid = dict(lay1_units=[50, 100],\n",
    "                lay2_units=[50, 100],\n",
    "                lay3_units=[50, 100],\n",
    "                lay4_units=[50, 100],\n",
    "                lay5_units=[50, 100],\n",
    "                activation=['relu', 'tanh'],\n",
    "                batch_size=[16],\n",
    "                epochs=[25, 35])\n",
    "\n",
    "mod_transforms = ['stft', 'mel', 'cqt', 'chroma']\n",
    "\n",
    "grid_results = nn_grid_search(selected_model=mod7,\n",
    "                              param_grid=mod_grid,\n",
    "                              transforms=mod_transforms,\n",
    "                              recording_filenames=recording_filenames,\n",
    "                              mod_name=\"mod4\")\n",
    "\n",
    "grid_results.to_csv(\"data/cv_results/grid_results_nn_mod7.csv\")"
   ]
  },
  {
   "cell_type": "code",
   "execution_count": null,
   "metadata": {},
   "outputs": [],
   "source": []
  },
  {
   "cell_type": "code",
   "execution_count": null,
   "metadata": {},
   "outputs": [],
   "source": []
  },
  {
   "cell_type": "code",
   "execution_count": null,
   "metadata": {},
   "outputs": [],
   "source": [
    "# transforms = ['chroma']\n",
    "transforms = ['stft', 'mel', 'cqt', 'chroma']\n",
    "\n",
    "results_param_df = []\n",
    "for transform in tqdm(transforms):\n",
    "    # DATA IMPORT\n",
    "    raw_signals = []\n",
    "    samp_rates = []\n",
    "    x_train = []\n",
    "    for filename in tqdm(recording_filenames):\n",
    "        sound, sr = sf.read(filename)\n",
    "\n",
    "        raw_signals.append(sound)\n",
    "        samp_rates.append(sr)\n",
    "        cleaned = get_clean_x_avg_all(sound, sr=sr, spectype=transform)\n",
    "        x_train.append(cleaned.flatten())\n",
    "    \n",
    "    x_train = np.array(x_train)\n",
    "    x_train = (x_train - x_train.min(0)) / x_train.ptp(0)\n",
    "    \n",
    "    # Get y categories\n",
    "    y_train = [i.split('/')[2] for i in recording_filenames]\n",
    "    le_chord_structure = LabelEncoder()\n",
    "    le_chord_structure.fit(y_train)\n",
    "    y_train_int = to_categorical(le_chord_structure.transform(y_train))\n",
    "\n",
    "    # NN mod 1\n",
    "    print(\"NN1\")\n",
    "    mod_nn = KerasClassifier(build_fn=selected_model,\n",
    "                             verbose=0)\n",
    "\n",
    "    # Define paramter grid for that model\n",
    "    param_grid = dict(input_shape=[x_train[0].shape[0]],\n",
    "                      output_shape=[y_train_int.shape[1]],\n",
    "                      lay1_units=[50, 100],\n",
    "                      lay2_units=[50, 100],\n",
    "                      lay3_units=[50, 100],\n",
    "                      activation=['relu', 'tanh'],\n",
    "                      batch_size=[16],\n",
    "                      epochs=[25, 35])\n",
    "    \n",
    "    mod1_nn_grid_search = GridSearchCV(estimator=mod_nn, param_grid=param_grid, cv=10, n_jobs=-1)\n",
    "    print(\"NN1-a\")    \n",
    "    mod1_nn_grid_search.fit(np.array(x_train), y_train_int)\n",
    "    print(\"NN1-b\")\n",
    "\n",
    "    # Convert parameter grid and cv results to dataframe\n",
    "    mod1_nn_results_df = pd.DataFrame(mod1_nn_grid_search.cv_results_)[['params', 'mean_train_score', 'mean_test_score']]\n",
    "    mod1_nn_results_df['transform'] = transform\n",
    "    mod1_nn_results_df['mod'] = 'NN_1'\n",
    "    results_param_df.append(mod1_nn_results_df)"
   ]
  },
  {
   "cell_type": "code",
   "execution_count": null,
   "metadata": {},
   "outputs": [],
   "source": [
    "results_param_df_all = pd.concat(results_param_df)\n",
    "results_param_df_all.to_csv(\"data/cv_results/nn1_grid_output_chroma_run1.csv\")"
   ]
  },
  {
   "cell_type": "code",
   "execution_count": null,
   "metadata": {},
   "outputs": [],
   "source": [
    "# run 1\n",
    "# 3 layers, batch norm\n",
    "mod1\n",
    "param_grid = dict(input_shape=[x_train[0].shape[0]],\n",
    "                  output_shape=[y_train_int.shape[1]],\n",
    "                  lay1_units=[50, 100],\n",
    "                  lay2_units=[50, 100],\n",
    "                  lay3_units=[50, 100],\n",
    "                  activation=['relu', 'tanh'],\n",
    "                  batch_size=[16],\n",
    "                  epochs=[25])\n"
   ]
  },
  {
   "cell_type": "code",
   "execution_count": null,
   "metadata": {},
   "outputs": [],
   "source": [
    "# run 2\n",
    "mod1\n",
    "param_grid = dict(input_shape=[x_train[0].shape[0]],\n",
    "                  output_shape=[y_train_int.shape[1]],\n",
    "                  lay1_units=[50, 100],\n",
    "                  lay2_units=[50, 100],\n",
    "                  lay3_units=[50, 100],\n",
    "                  activation=['relu', 'tanh'],\n",
    "                  batch_size=[16],\n",
    "                  epochs=[25])\n"
   ]
  },
  {
   "cell_type": "code",
   "execution_count": null,
   "metadata": {},
   "outputs": [],
   "source": [
    "#    # Test if dropout adds anything\n"
   ]
  },
  {
   "cell_type": "code",
   "execution_count": null,
   "metadata": {},
   "outputs": [],
   "source": []
  },
  {
   "cell_type": "code",
   "execution_count": null,
   "metadata": {},
   "outputs": [],
   "source": []
  },
  {
   "cell_type": "code",
   "execution_count": null,
   "metadata": {},
   "outputs": [],
   "source": []
  },
  {
   "cell_type": "code",
   "execution_count": null,
   "metadata": {},
   "outputs": [],
   "source": []
  },
  {
   "cell_type": "code",
   "execution_count": null,
   "metadata": {},
   "outputs": [],
   "source": []
  },
  {
   "cell_type": "code",
   "execution_count": null,
   "metadata": {},
   "outputs": [],
   "source": []
  },
  {
   "cell_type": "markdown",
   "metadata": {},
   "source": [
    "## "
   ]
  },
  {
   "cell_type": "code",
   "execution_count": null,
   "metadata": {},
   "outputs": [],
   "source": [
    "results_param_df_all = pd.concat(results_param_df)\n",
    "results_param_df_all.to_csv(\"data/nn6_grid_output_chroma_standardized_avg_all_frames.csv\")"
   ]
  },
  {
   "cell_type": "code",
   "execution_count": null,
   "metadata": {},
   "outputs": [],
   "source": []
  },
  {
   "cell_type": "code",
   "execution_count": null,
   "metadata": {},
   "outputs": [],
   "source": []
  },
  {
   "cell_type": "code",
   "execution_count": null,
   "metadata": {},
   "outputs": [],
   "source": []
  }
 ],
 "metadata": {
  "kernelspec": {
   "display_name": "Python 3",
   "language": "python",
   "name": "python3"
  },
  "language_info": {
   "codemirror_mode": {
    "name": "ipython",
    "version": 3
   },
   "file_extension": ".py",
   "mimetype": "text/x-python",
   "name": "python",
   "nbconvert_exporter": "python",
   "pygments_lexer": "ipython3",
   "version": "3.6.6"
  }
 },
 "nbformat": 4,
 "nbformat_minor": 2
}
