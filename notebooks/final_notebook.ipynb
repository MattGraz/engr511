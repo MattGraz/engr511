{
 "cells": [
  {
   "cell_type": "code",
   "execution_count": 1,
   "metadata": {},
   "outputs": [
    {
     "name": "stderr",
     "output_type": "stream",
     "text": [
      "Using TensorFlow backend.\n"
     ]
    }
   ],
   "source": [
    "from tqdm import tqdm_notebook as tqdm\n",
    "import matplotlib.pyplot as plt\n",
    "from glob import glob\n",
    "import pandas as pd\n",
    "import numpy as np\n",
    "import librosa\n",
    "from livelossplot import PlotLossesKeras\n",
    "import scipy.fftpack"
   ]
  },
  {
   "cell_type": "code",
   "execution_count": 2,
   "metadata": {},
   "outputs": [],
   "source": [
    "from keras.models import Model\n",
    "from keras.layers import Input, Dense, Softmax, Dropout, BatchNormalization, Activation\n",
    "\n",
    "from keras.utils import to_categorical\n",
    "\n",
    "from sklearn.preprocessing import LabelEncoder\n",
    "\n",
    "import keras"
   ]
  },
  {
   "cell_type": "markdown",
   "metadata": {},
   "source": [
    "# Model with Chris' recordings"
   ]
  },
  {
   "cell_type": "code",
   "execution_count": 3,
   "metadata": {},
   "outputs": [
    {
     "name": "stdout",
     "output_type": "stream",
     "text": [
      "/Users/mattgraziano/Google Drive/Documents/Learning/IU/Fall18/engr511/project/engr511\n"
     ]
    }
   ],
   "source": [
    "cd ../"
   ]
  },
  {
   "cell_type": "markdown",
   "metadata": {},
   "source": [
    "## Import data"
   ]
  },
  {
   "cell_type": "code",
   "execution_count": 4,
   "metadata": {},
   "outputs": [],
   "source": [
    "# recording_filenames = glob(\"data/recordings/*/*.wav\", recursive=True)"
   ]
  },
  {
   "cell_type": "code",
   "execution_count": 5,
   "metadata": {},
   "outputs": [],
   "source": [
    "recording_filenames = glob(\"data/recordings_new/*/*/*.wav\", recursive=True)"
   ]
  },
  {
   "cell_type": "code",
   "execution_count": 6,
   "metadata": {},
   "outputs": [],
   "source": [
    "from src.Progression_Modeling import Load, Prepare, Mel_transform, normalize, melspectrogram, trim, CQT_transform, pseudo_cqt, Chroma\n",
    "import soundfile as sf\n",
    "from scipy.signal import stft"
   ]
  },
  {
   "cell_type": "code",
   "execution_count": 7,
   "metadata": {},
   "outputs": [],
   "source": [
    "A0 = 27.5\n",
    "A1 = 55.00\n",
    "C1 = 32.70\n",
    "A2 = 110.00\n",
    "C2 = 65.41\n",
    "E6 = 1318.51\n",
    "C7 = 2093.00\n",
    "C8 = 4186.01"
   ]
  },
  {
   "cell_type": "code",
   "execution_count": 8,
   "metadata": {},
   "outputs": [],
   "source": [
    "def nth_largest_col_sum(arr, n=-80):\n",
    "    # column sum\n",
    "    agg = np.sum(arr, axis=0)\n",
    "    agg.sort()\n",
    "    return agg[n]\n",
    "    "
   ]
  },
  {
   "cell_type": "code",
   "execution_count": 9,
   "metadata": {},
   "outputs": [],
   "source": [
    "def get_spectrogram(signal, sr=44100, spectype=\"mel\"):\n",
    "    if spectype == \"mel\":\n",
    "        spectrogram = melspectrogram(Prepare(signal), sr=sr, fmin=C2, fmax=C7, n_fft=2048 * 2, hop_length=1024)\n",
    "        spectrogram_norm = pow(normalize(spectrogram), .25)\n",
    "        \n",
    "    elif spectype == \"cqt\":\n",
    "        A1 = 55.00\n",
    "        spectrogram = abs(pseudo_cqt(Prepare(signal), sr, fmin=A1, n_bins=120, bins_per_octave=24, sparsity=.95, window=('kaiser', 10)))\n",
    "        spectrogram_norm = normalize(spectrogram, norm='l1', axis=0)\n",
    "        \n",
    "    elif spectype == \"chroma\":\n",
    "        CQT = CQT_transform(Prepare(signal), sr)\n",
    "        spectrogram = Chroma(CQT)\n",
    "        spectrogram_norm = normalize(spectrogram, norm='l1', axis=0)\n",
    "        \n",
    "    elif spectype == \"stft\":\n",
    "        spectrogram = stft(signal, fs=sr, window=\"hann\")[2]\n",
    "        spectrogram_norm = np.real(normalize(spectrogram, norm='l1', axis=0))\n",
    "\n",
    "    return spectrogram_norm"
   ]
  },
  {
   "cell_type": "code",
   "execution_count": 10,
   "metadata": {},
   "outputs": [],
   "source": [
    "def get_clean_x(signal, sr=44100, nth_largest=-45, spectype=\"mel\"):\n",
    "    spectrogram = get_spectrogram(signal, sr=sr, spectype=spectype)\n",
    "\n",
    "    # Get 45th largest value\n",
    "    # This is needed to noisy data\n",
    "    nth_largest_threshold = nth_largest_col_sum(spectrogram, nth_largest)\n",
    "    \n",
    "    # remove all columsn whose sum is less than t\n",
    "    clean = spectrogram[:, np.sum(spectrogram, axis=0) >= nth_largest_threshold]\n",
    "    \n",
    "    # Get column averages of the max n columns in lieu of using the entire spectrogram\n",
    "    clean = np.mean(clean, axis=1)\n",
    "    \n",
    "    return clean"
   ]
  },
  {
   "cell_type": "markdown",
   "metadata": {},
   "source": [
    "# Modeling:"
   ]
  },
  {
   "cell_type": "markdown",
   "metadata": {},
   "source": [
    "## Grid Search - K-fold cross val"
   ]
  },
  {
   "cell_type": "code",
   "execution_count": 11,
   "metadata": {},
   "outputs": [],
   "source": [
    "n_folds=10"
   ]
  },
  {
   "cell_type": "code",
   "execution_count": 12,
   "metadata": {
    "scrolled": true
   },
   "outputs": [
    {
     "name": "stderr",
     "output_type": "stream",
     "text": [
      "/Users/mattgraziano/miniconda3/lib/python3.6/site-packages/sklearn/ensemble/weight_boosting.py:29: DeprecationWarning: numpy.core.umath_tests is an internal NumPy module and should not be imported. It will be removed in a future NumPy release.\n",
      "  from numpy.core.umath_tests import inner1d\n"
     ]
    }
   ],
   "source": [
    "from sklearn.ensemble import RandomForestClassifier\n",
    "from sklearn.linear_model import LogisticRegression\n",
    "from sklearn.svm import SVC"
   ]
  },
  {
   "cell_type": "code",
   "execution_count": 13,
   "metadata": {},
   "outputs": [],
   "source": [
    "from sklearn.model_selection import GridSearchCV\n",
    "from sklearn.ensemble import RandomForestClassifier, GradientBoostingClassifier\n",
    "from sklearn.linear_model import LogisticRegression\n",
    "from sklearn.svm import SVC\n",
    "from keras.wrappers.scikit_learn import KerasClassifier\n",
    "\n",
    "import warnings\n",
    "warnings.filterwarnings('ignore')"
   ]
  },
  {
   "cell_type": "markdown",
   "metadata": {},
   "source": [
    "### Neural Network"
   ]
  },
  {
   "cell_type": "code",
   "execution_count": 14,
   "metadata": {},
   "outputs": [],
   "source": [
    "# Define various neural network architectures to cross validate\n",
    "def mod1(input_shape, output_shape, lay1_units, lay2_units, lay3_units, activation='relu'):\n",
    "    \n",
    "    in_data = Input(shape=(input_shape, ))\n",
    "\n",
    "    lay1 = Dense(lay1_units, activation=activation)(in_data)\n",
    "    lay1 = BatchNormalization()(lay1)\n",
    "\n",
    "    lay2 = Dense(lay2_units, activation=activation)(lay1)\n",
    "    lay2 = BatchNormalization()(lay2)\n",
    "\n",
    "    lay3 = Dense(lay3_units, activation=activation)(lay2)\n",
    "    lay3 = BatchNormalization()(lay3)\n",
    "\n",
    "    \n",
    "    output = Dense(output_shape, activation = \"softmax\")(lay3)\n",
    "\n",
    "    model = Model(inputs=[in_data],\n",
    "                  outputs=[output])\n",
    "\n",
    "    model.compile(optimizer=keras.optimizers.Adam(),\n",
    "                  loss=\"categorical_crossentropy\",\n",
    "                  metrics=['acc'])\n",
    "    \n",
    "    return model\n",
    "\n",
    "\n",
    "def mod2(input_shape, output_shape, lay1_units, lay2_units, activation='relu'):\n",
    "    \n",
    "    in_data = Input(shape=(input_shape, ))\n",
    "\n",
    "    lay1 = Dense(lay1_units, activation=activation)(in_data)\n",
    "    lay1 = BatchNormalization()(lay1)\n",
    "\n",
    "    lay2 = Dense(lay2_units, activation=activation)(lay1)\n",
    "    lay2 = BatchNormalization()(lay2)\n",
    "    \n",
    "    output = Dense(output_shape, activation = \"softmax\")(lay2)\n",
    "\n",
    "    model = Model(inputs=[in_data],\n",
    "                  outputs=[output])\n",
    "\n",
    "    model.compile(optimizer=keras.optimizers.Adam(),\n",
    "                  loss=\"categorical_crossentropy\",\n",
    "                  metrics=['acc'])\n",
    "    \n",
    "    return model\n",
    "\n",
    "\n",
    "def mod3(input_shape, output_shape, lay1_units, activation='relu'):\n",
    "    \n",
    "    in_data = Input(shape=(input_shape, ))\n",
    "\n",
    "    lay1 = Dense(lay1_units, activation=activation)(in_data)\n",
    "    lay1 = BatchNormalization()(lay1)\n",
    "    \n",
    "    output = Dense(output_shape, activation = \"softmax\")(lay1)\n",
    "\n",
    "    model = Model(inputs=[in_data],\n",
    "                  outputs=[output])\n",
    "\n",
    "    model.compile(optimizer=keras.optimizers.Adam(),\n",
    "                  loss=\"categorical_crossentropy\",\n",
    "                  metrics=['acc'])\n",
    "    \n",
    "    return model\n"
   ]
  },
  {
   "cell_type": "markdown",
   "metadata": {},
   "source": [
    "### NN 1"
   ]
  },
  {
   "cell_type": "code",
   "execution_count": 15,
   "metadata": {
    "collapsed": true
   },
   "outputs": [
    {
     "data": {
      "application/vnd.jupyter.widget-view+json": {
       "model_id": "ff7f5a563d6c42239a7c3c4395b183b1",
       "version_major": 2,
       "version_minor": 0
      },
      "text/plain": [
       "HBox(children=(IntProgress(value=0, max=4), HTML(value='')))"
      ]
     },
     "metadata": {},
     "output_type": "display_data"
    },
    {
     "data": {
      "application/vnd.jupyter.widget-view+json": {
       "model_id": "e9dc94af03bd4e65a12bbb2bc8976d2d",
       "version_major": 2,
       "version_minor": 0
      },
      "text/plain": [
       "HBox(children=(IntProgress(value=0, max=188), HTML(value='')))"
      ]
     },
     "metadata": {},
     "output_type": "display_data"
    },
    {
     "name": "stdout",
     "output_type": "stream",
     "text": [
      "NN1\n",
      "NN1-a\n",
      "NN1-b\n"
     ]
    },
    {
     "data": {
      "application/vnd.jupyter.widget-view+json": {
       "model_id": "8a7ab172926345f3b508661f8aae9988",
       "version_major": 2,
       "version_minor": 0
      },
      "text/plain": [
       "HBox(children=(IntProgress(value=0, max=188), HTML(value='')))"
      ]
     },
     "metadata": {},
     "output_type": "display_data"
    },
    {
     "name": "stdout",
     "output_type": "stream",
     "text": [
      "NN1\n",
      "NN1-a\n"
     ]
    },
    {
     "ename": "KeyboardInterrupt",
     "evalue": "",
     "output_type": "error",
     "traceback": [
      "\u001b[0;31m---------------------------------------------------------------------------\u001b[0m",
      "\u001b[0;31mKeyboardInterrupt\u001b[0m                         Traceback (most recent call last)",
      "\u001b[0;32m<ipython-input-15-807e9bad4f79>\u001b[0m in \u001b[0;36m<module>\u001b[0;34m()\u001b[0m\n\u001b[1;32m     42\u001b[0m     \u001b[0mmod1_nn_grid_search\u001b[0m \u001b[0;34m=\u001b[0m \u001b[0mGridSearchCV\u001b[0m\u001b[0;34m(\u001b[0m\u001b[0mestimator\u001b[0m\u001b[0;34m=\u001b[0m\u001b[0mmod1_nn\u001b[0m\u001b[0;34m,\u001b[0m \u001b[0mparam_grid\u001b[0m\u001b[0;34m=\u001b[0m\u001b[0mparam_grid\u001b[0m\u001b[0;34m,\u001b[0m \u001b[0mcv\u001b[0m\u001b[0;34m=\u001b[0m\u001b[0;36m10\u001b[0m\u001b[0;34m,\u001b[0m \u001b[0mn_jobs\u001b[0m\u001b[0;34m=\u001b[0m\u001b[0;34m-\u001b[0m\u001b[0;36m1\u001b[0m\u001b[0;34m)\u001b[0m\u001b[0;34m\u001b[0m\u001b[0m\n\u001b[1;32m     43\u001b[0m     \u001b[0mprint\u001b[0m\u001b[0;34m(\u001b[0m\u001b[0;34m\"NN1-a\"\u001b[0m\u001b[0;34m)\u001b[0m\u001b[0;34m\u001b[0m\u001b[0m\n\u001b[0;32m---> 44\u001b[0;31m     \u001b[0mmod1_nn_grid_search\u001b[0m\u001b[0;34m.\u001b[0m\u001b[0mfit\u001b[0m\u001b[0;34m(\u001b[0m\u001b[0mnp\u001b[0m\u001b[0;34m.\u001b[0m\u001b[0marray\u001b[0m\u001b[0;34m(\u001b[0m\u001b[0mx_train\u001b[0m\u001b[0;34m)\u001b[0m\u001b[0;34m,\u001b[0m \u001b[0my_train_int\u001b[0m\u001b[0;34m)\u001b[0m\u001b[0;34m\u001b[0m\u001b[0m\n\u001b[0m\u001b[1;32m     45\u001b[0m     \u001b[0mprint\u001b[0m\u001b[0;34m(\u001b[0m\u001b[0;34m\"NN1-b\"\u001b[0m\u001b[0;34m)\u001b[0m\u001b[0;34m\u001b[0m\u001b[0m\n\u001b[1;32m     46\u001b[0m \u001b[0;34m\u001b[0m\u001b[0m\n",
      "\u001b[0;32m~/miniconda3/lib/python3.6/site-packages/sklearn/model_selection/_search.py\u001b[0m in \u001b[0;36mfit\u001b[0;34m(self, X, y, groups, **fit_params)\u001b[0m\n\u001b[1;32m    638\u001b[0m                                   error_score=self.error_score)\n\u001b[1;32m    639\u001b[0m           for parameters, (train, test) in product(candidate_params,\n\u001b[0;32m--> 640\u001b[0;31m                                                    cv.split(X, y, groups)))\n\u001b[0m\u001b[1;32m    641\u001b[0m \u001b[0;34m\u001b[0m\u001b[0m\n\u001b[1;32m    642\u001b[0m         \u001b[0;31m# if one choose to see train score, \"out\" will contain train score info\u001b[0m\u001b[0;34m\u001b[0m\u001b[0;34m\u001b[0m\u001b[0m\n",
      "\u001b[0;32m~/miniconda3/lib/python3.6/site-packages/sklearn/externals/joblib/parallel.py\u001b[0m in \u001b[0;36m__call__\u001b[0;34m(self, iterable)\u001b[0m\n\u001b[1;32m    787\u001b[0m                 \u001b[0;31m# consumption.\u001b[0m\u001b[0;34m\u001b[0m\u001b[0;34m\u001b[0m\u001b[0m\n\u001b[1;32m    788\u001b[0m                 \u001b[0mself\u001b[0m\u001b[0;34m.\u001b[0m\u001b[0m_iterating\u001b[0m \u001b[0;34m=\u001b[0m \u001b[0;32mFalse\u001b[0m\u001b[0;34m\u001b[0m\u001b[0m\n\u001b[0;32m--> 789\u001b[0;31m             \u001b[0mself\u001b[0m\u001b[0;34m.\u001b[0m\u001b[0mretrieve\u001b[0m\u001b[0;34m(\u001b[0m\u001b[0;34m)\u001b[0m\u001b[0;34m\u001b[0m\u001b[0m\n\u001b[0m\u001b[1;32m    790\u001b[0m             \u001b[0;31m# Make sure that we get a last message telling us we are done\u001b[0m\u001b[0;34m\u001b[0m\u001b[0;34m\u001b[0m\u001b[0m\n\u001b[1;32m    791\u001b[0m             \u001b[0melapsed_time\u001b[0m \u001b[0;34m=\u001b[0m \u001b[0mtime\u001b[0m\u001b[0;34m.\u001b[0m\u001b[0mtime\u001b[0m\u001b[0;34m(\u001b[0m\u001b[0;34m)\u001b[0m \u001b[0;34m-\u001b[0m \u001b[0mself\u001b[0m\u001b[0;34m.\u001b[0m\u001b[0m_start_time\u001b[0m\u001b[0;34m\u001b[0m\u001b[0m\n",
      "\u001b[0;32m~/miniconda3/lib/python3.6/site-packages/sklearn/externals/joblib/parallel.py\u001b[0m in \u001b[0;36mretrieve\u001b[0;34m(self)\u001b[0m\n\u001b[1;32m    697\u001b[0m             \u001b[0;32mtry\u001b[0m\u001b[0;34m:\u001b[0m\u001b[0;34m\u001b[0m\u001b[0m\n\u001b[1;32m    698\u001b[0m                 \u001b[0;32mif\u001b[0m \u001b[0mgetattr\u001b[0m\u001b[0;34m(\u001b[0m\u001b[0mself\u001b[0m\u001b[0;34m.\u001b[0m\u001b[0m_backend\u001b[0m\u001b[0;34m,\u001b[0m \u001b[0;34m'supports_timeout'\u001b[0m\u001b[0;34m,\u001b[0m \u001b[0;32mFalse\u001b[0m\u001b[0;34m)\u001b[0m\u001b[0;34m:\u001b[0m\u001b[0;34m\u001b[0m\u001b[0m\n\u001b[0;32m--> 699\u001b[0;31m                     \u001b[0mself\u001b[0m\u001b[0;34m.\u001b[0m\u001b[0m_output\u001b[0m\u001b[0;34m.\u001b[0m\u001b[0mextend\u001b[0m\u001b[0;34m(\u001b[0m\u001b[0mjob\u001b[0m\u001b[0;34m.\u001b[0m\u001b[0mget\u001b[0m\u001b[0;34m(\u001b[0m\u001b[0mtimeout\u001b[0m\u001b[0;34m=\u001b[0m\u001b[0mself\u001b[0m\u001b[0;34m.\u001b[0m\u001b[0mtimeout\u001b[0m\u001b[0;34m)\u001b[0m\u001b[0;34m)\u001b[0m\u001b[0;34m\u001b[0m\u001b[0m\n\u001b[0m\u001b[1;32m    700\u001b[0m                 \u001b[0;32melse\u001b[0m\u001b[0;34m:\u001b[0m\u001b[0;34m\u001b[0m\u001b[0m\n\u001b[1;32m    701\u001b[0m                     \u001b[0mself\u001b[0m\u001b[0;34m.\u001b[0m\u001b[0m_output\u001b[0m\u001b[0;34m.\u001b[0m\u001b[0mextend\u001b[0m\u001b[0;34m(\u001b[0m\u001b[0mjob\u001b[0m\u001b[0;34m.\u001b[0m\u001b[0mget\u001b[0m\u001b[0;34m(\u001b[0m\u001b[0;34m)\u001b[0m\u001b[0;34m)\u001b[0m\u001b[0;34m\u001b[0m\u001b[0m\n",
      "\u001b[0;32m~/miniconda3/lib/python3.6/multiprocessing/pool.py\u001b[0m in \u001b[0;36mget\u001b[0;34m(self, timeout)\u001b[0m\n\u001b[1;32m    636\u001b[0m \u001b[0;34m\u001b[0m\u001b[0m\n\u001b[1;32m    637\u001b[0m     \u001b[0;32mdef\u001b[0m \u001b[0mget\u001b[0m\u001b[0;34m(\u001b[0m\u001b[0mself\u001b[0m\u001b[0;34m,\u001b[0m \u001b[0mtimeout\u001b[0m\u001b[0;34m=\u001b[0m\u001b[0;32mNone\u001b[0m\u001b[0;34m)\u001b[0m\u001b[0;34m:\u001b[0m\u001b[0;34m\u001b[0m\u001b[0m\n\u001b[0;32m--> 638\u001b[0;31m         \u001b[0mself\u001b[0m\u001b[0;34m.\u001b[0m\u001b[0mwait\u001b[0m\u001b[0;34m(\u001b[0m\u001b[0mtimeout\u001b[0m\u001b[0;34m)\u001b[0m\u001b[0;34m\u001b[0m\u001b[0m\n\u001b[0m\u001b[1;32m    639\u001b[0m         \u001b[0;32mif\u001b[0m \u001b[0;32mnot\u001b[0m \u001b[0mself\u001b[0m\u001b[0;34m.\u001b[0m\u001b[0mready\u001b[0m\u001b[0;34m(\u001b[0m\u001b[0;34m)\u001b[0m\u001b[0;34m:\u001b[0m\u001b[0;34m\u001b[0m\u001b[0m\n\u001b[1;32m    640\u001b[0m             \u001b[0;32mraise\u001b[0m \u001b[0mTimeoutError\u001b[0m\u001b[0;34m\u001b[0m\u001b[0m\n",
      "\u001b[0;32m~/miniconda3/lib/python3.6/multiprocessing/pool.py\u001b[0m in \u001b[0;36mwait\u001b[0;34m(self, timeout)\u001b[0m\n\u001b[1;32m    633\u001b[0m \u001b[0;34m\u001b[0m\u001b[0m\n\u001b[1;32m    634\u001b[0m     \u001b[0;32mdef\u001b[0m \u001b[0mwait\u001b[0m\u001b[0;34m(\u001b[0m\u001b[0mself\u001b[0m\u001b[0;34m,\u001b[0m \u001b[0mtimeout\u001b[0m\u001b[0;34m=\u001b[0m\u001b[0;32mNone\u001b[0m\u001b[0;34m)\u001b[0m\u001b[0;34m:\u001b[0m\u001b[0;34m\u001b[0m\u001b[0m\n\u001b[0;32m--> 635\u001b[0;31m         \u001b[0mself\u001b[0m\u001b[0;34m.\u001b[0m\u001b[0m_event\u001b[0m\u001b[0;34m.\u001b[0m\u001b[0mwait\u001b[0m\u001b[0;34m(\u001b[0m\u001b[0mtimeout\u001b[0m\u001b[0;34m)\u001b[0m\u001b[0;34m\u001b[0m\u001b[0m\n\u001b[0m\u001b[1;32m    636\u001b[0m \u001b[0;34m\u001b[0m\u001b[0m\n\u001b[1;32m    637\u001b[0m     \u001b[0;32mdef\u001b[0m \u001b[0mget\u001b[0m\u001b[0;34m(\u001b[0m\u001b[0mself\u001b[0m\u001b[0;34m,\u001b[0m \u001b[0mtimeout\u001b[0m\u001b[0;34m=\u001b[0m\u001b[0;32mNone\u001b[0m\u001b[0;34m)\u001b[0m\u001b[0;34m:\u001b[0m\u001b[0;34m\u001b[0m\u001b[0m\n",
      "\u001b[0;32m~/miniconda3/lib/python3.6/threading.py\u001b[0m in \u001b[0;36mwait\u001b[0;34m(self, timeout)\u001b[0m\n\u001b[1;32m    549\u001b[0m             \u001b[0msignaled\u001b[0m \u001b[0;34m=\u001b[0m \u001b[0mself\u001b[0m\u001b[0;34m.\u001b[0m\u001b[0m_flag\u001b[0m\u001b[0;34m\u001b[0m\u001b[0m\n\u001b[1;32m    550\u001b[0m             \u001b[0;32mif\u001b[0m \u001b[0;32mnot\u001b[0m \u001b[0msignaled\u001b[0m\u001b[0;34m:\u001b[0m\u001b[0;34m\u001b[0m\u001b[0m\n\u001b[0;32m--> 551\u001b[0;31m                 \u001b[0msignaled\u001b[0m \u001b[0;34m=\u001b[0m \u001b[0mself\u001b[0m\u001b[0;34m.\u001b[0m\u001b[0m_cond\u001b[0m\u001b[0;34m.\u001b[0m\u001b[0mwait\u001b[0m\u001b[0;34m(\u001b[0m\u001b[0mtimeout\u001b[0m\u001b[0;34m)\u001b[0m\u001b[0;34m\u001b[0m\u001b[0m\n\u001b[0m\u001b[1;32m    552\u001b[0m             \u001b[0;32mreturn\u001b[0m \u001b[0msignaled\u001b[0m\u001b[0;34m\u001b[0m\u001b[0m\n\u001b[1;32m    553\u001b[0m \u001b[0;34m\u001b[0m\u001b[0m\n",
      "\u001b[0;32m~/miniconda3/lib/python3.6/threading.py\u001b[0m in \u001b[0;36mwait\u001b[0;34m(self, timeout)\u001b[0m\n\u001b[1;32m    293\u001b[0m         \u001b[0;32mtry\u001b[0m\u001b[0;34m:\u001b[0m    \u001b[0;31m# restore state no matter what (e.g., KeyboardInterrupt)\u001b[0m\u001b[0;34m\u001b[0m\u001b[0m\n\u001b[1;32m    294\u001b[0m             \u001b[0;32mif\u001b[0m \u001b[0mtimeout\u001b[0m \u001b[0;32mis\u001b[0m \u001b[0;32mNone\u001b[0m\u001b[0;34m:\u001b[0m\u001b[0;34m\u001b[0m\u001b[0m\n\u001b[0;32m--> 295\u001b[0;31m                 \u001b[0mwaiter\u001b[0m\u001b[0;34m.\u001b[0m\u001b[0macquire\u001b[0m\u001b[0;34m(\u001b[0m\u001b[0;34m)\u001b[0m\u001b[0;34m\u001b[0m\u001b[0m\n\u001b[0m\u001b[1;32m    296\u001b[0m                 \u001b[0mgotit\u001b[0m \u001b[0;34m=\u001b[0m \u001b[0;32mTrue\u001b[0m\u001b[0;34m\u001b[0m\u001b[0m\n\u001b[1;32m    297\u001b[0m             \u001b[0;32melse\u001b[0m\u001b[0;34m:\u001b[0m\u001b[0;34m\u001b[0m\u001b[0m\n",
      "\u001b[0;31mKeyboardInterrupt\u001b[0m: "
     ]
    }
   ],
   "source": [
    "# transforms = ['chroma']\n",
    "transforms = ['stft', 'mel', 'cqt', 'chroma']\n",
    "\n",
    "results_param_df = []\n",
    "for transform in tqdm(transforms):\n",
    "    # DATA IMPORT\n",
    "    raw_signals = []\n",
    "    samp_rates = []\n",
    "    x_train = []\n",
    "    for filename in tqdm(recording_filenames):\n",
    "        sound, sr = sf.read(filename)\n",
    "\n",
    "        raw_signals.append(sound)\n",
    "        samp_rates.append(sr)\n",
    "        cleaned = get_clean_x(sound, sr=sr, nth_largest=-10, spectype=transform)\n",
    "        x_train.append(cleaned.flatten())\n",
    "    \n",
    "    \n",
    "    # Get y categories\n",
    "    y_train = [i.split('/')[2] for i in recording_filenames]\n",
    "    le_chord_structure = LabelEncoder()\n",
    "    le_chord_structure.fit(y_train)\n",
    "    y_train_int = to_categorical(le_chord_structure.transform(y_train))\n",
    "\n",
    "    \n",
    "    \n",
    "    # NN mod 1\n",
    "    print(\"NN1\")\n",
    "    mod1_nn = KerasClassifier(build_fn=mod1,\n",
    "                              verbose=0)\n",
    "    \n",
    "    # define the grid search parameters    \n",
    "    param_grid = dict(input_shape=[x_train[0].shape[0]],\n",
    "                      output_shape=[y_train_int.shape[1]],\n",
    "                      lay1_units=[20, 50],\n",
    "                      lay2_units=[20, 50],\n",
    "                      lay3_units=[20, 50],\n",
    "                      activation=['relu'],\n",
    "                      batch_size=[16],\n",
    "                      epochs=[15])\n",
    "    \n",
    "    mod1_nn_grid_search = GridSearchCV(estimator=mod1_nn, param_grid=param_grid, cv=10, n_jobs=-1)\n",
    "    print(\"NN1-a\")    \n",
    "    mod1_nn_grid_search.fit(np.array(x_train), y_train_int)\n",
    "    print(\"NN1-b\")\n",
    "\n",
    "    # Convert parameter grid and cv results to dataframe\n",
    "    mod1_nn_results_df = pd.DataFrame(mod1_nn_grid_search.cv_results_)[['params', 'mean_train_score', 'mean_test_score']]\n",
    "    mod1_nn_results_df['transform'] = transform\n",
    "    mod1_nn_results_df['mod'] = 'NN_1'\n",
    "    results_param_df.append(mod1_nn_results_df)"
   ]
  },
  {
   "cell_type": "code",
   "execution_count": null,
   "metadata": {},
   "outputs": [],
   "source": [
    "results_param_df_all = pd.concat(results_param_df)\n",
    "results_param_df_all.to_csv(\"data/nn1_grid_output.csv\")"
   ]
  },
  {
   "cell_type": "markdown",
   "metadata": {},
   "source": [
    "### NN 2"
   ]
  },
  {
   "cell_type": "code",
   "execution_count": null,
   "metadata": {},
   "outputs": [],
   "source": [
    "# transforms = ['chroma']\n",
    "transforms = ['stft', 'mel', 'cqt', 'chroma']\n",
    "\n",
    "results_param_df = []\n",
    "for transform in tqdm(transforms):\n",
    "    # DATA IMPORT\n",
    "    raw_signals = []\n",
    "    samp_rates = []\n",
    "    x_train = []\n",
    "    for filename in tqdm(recording_filenames):\n",
    "        sound, sr = sf.read(filename)\n",
    "\n",
    "        raw_signals.append(sound)\n",
    "        samp_rates.append(sr)\n",
    "        cleaned = get_clean_x(sound, sr=sr, nth_largest=-10, spectype=transform)\n",
    "        x_train.append(cleaned.flatten())\n",
    "    \n",
    "    \n",
    "    # Get y categories\n",
    "    y_train = [i.split('/')[2] for i in recording_filenames]\n",
    "    le_chord_structure = LabelEncoder()\n",
    "    le_chord_structure.fit(y_train)\n",
    "    y_train_int = to_categorical(le_chord_structure.transform(y_train))\n",
    "\n",
    "    # NN mod 2\n",
    "    print(\"NN2\")\n",
    "    mod2_nn = KerasClassifier(build_fn=mod2,\n",
    "                              verbose=0)\n",
    "    print(\"NN2-a\")\n",
    "\n",
    "    # define the grid search parameters    \n",
    "    param_grid = dict(input_shape=[x_train[0].shape[0]],\n",
    "                      output_shape=[y_train_int.shape[1]],\n",
    "                      lay1_units=[20, 50],\n",
    "                      lay2_units=[20, 50],\n",
    "                      activation=['relu', 'elu'],\n",
    "                      batch_size=[16],\n",
    "                      epochs=[15])\n",
    "    print(\"NN2-b\")\n",
    "\n",
    "    mod2_nn_grid_search = GridSearchCV(estimator=mod2_nn, param_grid=param_grid, cv=10, n_jobs=-1)\n",
    "    print(\"NN2-c\")\n",
    "\n",
    "    mod2_nn_grid_search.fit(np.array(x_train), y_train_int)\n",
    "    \n",
    "    # Convert parameter grid and cv results to dataframe\n",
    "    mod2_nn_results_df = pd.DataFrame(mod2_nn_grid_search.cv_results_)[['params', 'mean_train_score', 'mean_test_score']]\n",
    "    mod2_nn_results_df['transform'] = transform\n",
    "    mod2_nn_results_df['mod'] = 'NN_2'\n",
    "    results_param_df.append(mod2_nn_results_df)\n",
    "    "
   ]
  },
  {
   "cell_type": "code",
   "execution_count": null,
   "metadata": {},
   "outputs": [],
   "source": [
    "results_param_df_all = pd.concat(results_param_df)\n",
    "results_param_df_all.to_csv(\"data/nn2_grid_output.csv\")"
   ]
  },
  {
   "cell_type": "markdown",
   "metadata": {},
   "source": [
    "### NN 3"
   ]
  },
  {
   "cell_type": "code",
   "execution_count": null,
   "metadata": {},
   "outputs": [],
   "source": [
    "# transforms = ['stft', 'mel', 'cqt', 'chroma']\n",
    "transforms = ['chroma']\n",
    "\n",
    "results_param_df = []\n",
    "for transform in tqdm(transforms):\n",
    "    # DATA IMPORT\n",
    "    raw_signals = []\n",
    "    samp_rates = []\n",
    "    x_train = []\n",
    "    for filename in tqdm(recording_filenames):\n",
    "        sound, sr = sf.read(filename)\n",
    "\n",
    "        raw_signals.append(sound)\n",
    "        samp_rates.append(sr)\n",
    "        cleaned = get_clean_x(sound, sr=sr, nth_largest=-10, spectype=transform)\n",
    "        x_train.append(cleaned.flatten())\n",
    "    \n",
    "    \n",
    "    # Get y categories\n",
    "    y_train = [i.split('/')[2] for i in recording_filenames]\n",
    "    le_chord_structure = LabelEncoder()\n",
    "    le_chord_structure.fit(y_train)\n",
    "    y_train_int = to_categorical(le_chord_structure.transform(y_train))\n",
    "        \n",
    "    # NN mod 3\n",
    "    print(\"NN3\")\n",
    "    mod3_nn = KerasClassifier(build_fn=mod3,\n",
    "                              verbose=0)\n",
    "    \n",
    "    # define the grid search parameters    \n",
    "    param_grid = dict(input_shape=[x_train[0].shape[0]],\n",
    "                      output_shape=[y_train_int.shape[1]],\n",
    "                      lay1_units=[20, 50],\n",
    "                      activation=['relu', 'elu'],\n",
    "                      batch_size=[16],\n",
    "                      epochs=[15])\n",
    "    \n",
    "    mod3_nn_grid_search = GridSearchCV(estimator=mod3_nn, param_grid=param_grid, cv=10, n_jobs=-1)\n",
    "    mod3_nn_grid_search.fit(np.array(x_train), y_train_int)\n",
    "    \n",
    "    # Convert parameter grid and cv results to dataframe\n",
    "    mod3_nn_results_df = pd.DataFrame(mod3_nn_grid_search.cv_results_)[['params', 'mean_train_score', 'mean_test_score']]\n",
    "    mod3_nn_results_df['transform'] = transform\n",
    "    mod3_nn_results_df['mod'] = 'NN_3'\n",
    "    results_param_df.append(mod3_nn_results_df)"
   ]
  },
  {
   "cell_type": "code",
   "execution_count": null,
   "metadata": {},
   "outputs": [],
   "source": [
    "results_param_df_all = pd.concat(results_param_df)\n",
    "results_param_df_all.to_csv(\"data/nn3_grid_output_chroma.csv\")"
   ]
  },
  {
   "cell_type": "markdown",
   "metadata": {},
   "source": [
    "### Other Models"
   ]
  },
  {
   "cell_type": "code",
   "execution_count": 16,
   "metadata": {},
   "outputs": [
    {
     "data": {
      "application/vnd.jupyter.widget-view+json": {
       "model_id": "c5b35f03cbb243ad9da10d3e10020d53",
       "version_major": 2,
       "version_minor": 0
      },
      "text/plain": [
       "HBox(children=(IntProgress(value=0, max=4), HTML(value='')))"
      ]
     },
     "metadata": {},
     "output_type": "display_data"
    },
    {
     "data": {
      "application/vnd.jupyter.widget-view+json": {
       "model_id": "ead81679c63b48cbb330bba00b379e83",
       "version_major": 2,
       "version_minor": 0
      },
      "text/plain": [
       "HBox(children=(IntProgress(value=0, max=188), HTML(value='')))"
      ]
     },
     "metadata": {},
     "output_type": "display_data"
    },
    {
     "name": "stdout",
     "output_type": "stream",
     "text": [
      "RF\n",
      "LR\n",
      "SVM\n",
      "GBM\n"
     ]
    },
    {
     "data": {
      "application/vnd.jupyter.widget-view+json": {
       "model_id": "7be1c541f2c4407b91b43bd7047c86a2",
       "version_major": 2,
       "version_minor": 0
      },
      "text/plain": [
       "HBox(children=(IntProgress(value=0, max=188), HTML(value='')))"
      ]
     },
     "metadata": {},
     "output_type": "display_data"
    },
    {
     "name": "stdout",
     "output_type": "stream",
     "text": [
      "RF\n",
      "LR\n",
      "SVM\n",
      "GBM\n"
     ]
    },
    {
     "data": {
      "application/vnd.jupyter.widget-view+json": {
       "model_id": "2487244e6cab48f7b1474a29a85c5ebc",
       "version_major": 2,
       "version_minor": 0
      },
      "text/plain": [
       "HBox(children=(IntProgress(value=0, max=188), HTML(value='')))"
      ]
     },
     "metadata": {},
     "output_type": "display_data"
    },
    {
     "name": "stdout",
     "output_type": "stream",
     "text": [
      "RF\n",
      "LR\n",
      "SVM\n",
      "GBM\n"
     ]
    },
    {
     "data": {
      "application/vnd.jupyter.widget-view+json": {
       "model_id": "1e1a3f47c37b45789c9affa16223c570",
       "version_major": 2,
       "version_minor": 0
      },
      "text/plain": [
       "HBox(children=(IntProgress(value=0, max=188), HTML(value='')))"
      ]
     },
     "metadata": {},
     "output_type": "display_data"
    },
    {
     "name": "stdout",
     "output_type": "stream",
     "text": [
      "RF\n"
     ]
    },
    {
     "ename": "JoblibValueError",
     "evalue": "JoblibValueError\n___________________________________________________________________________\nMultiprocessing exception:\n...........................................................................\n/Users/mattgraziano/miniconda3/lib/python3.6/runpy.py in _run_module_as_main(mod_name='ipykernel_launcher', alter_argv=1)\n    188         sys.exit(msg)\n    189     main_globals = sys.modules[\"__main__\"].__dict__\n    190     if alter_argv:\n    191         sys.argv[0] = mod_spec.origin\n    192     return _run_code(code, main_globals, None,\n--> 193                      \"__main__\", mod_spec)\n        mod_spec = ModuleSpec(name='ipykernel_launcher', loader=<_f...b/python3.6/site-packages/ipykernel_launcher.py')\n    194 \n    195 def run_module(mod_name, init_globals=None,\n    196                run_name=None, alter_sys=False):\n    197     \"\"\"Execute a module's code without importing it\n\n...........................................................................\n/Users/mattgraziano/miniconda3/lib/python3.6/runpy.py in _run_code(code=<code object <module> at 0x102b7ab70, file \"/Use...3.6/site-packages/ipykernel_launcher.py\", line 5>, run_globals={'__annotations__': {}, '__builtins__': <module 'builtins' (built-in)>, '__cached__': '/Users/mattgraziano/miniconda3/lib/python3.6/sit...ges/__pycache__/ipykernel_launcher.cpython-36.pyc', '__doc__': 'Entry point for launching an IPython kernel.\\n\\nTh...orts until\\nafter removing the cwd from sys.path.\\n', '__file__': '/Users/mattgraziano/miniconda3/lib/python3.6/site-packages/ipykernel_launcher.py', '__loader__': <_frozen_importlib_external.SourceFileLoader object>, '__name__': '__main__', '__package__': '', '__spec__': ModuleSpec(name='ipykernel_launcher', loader=<_f...b/python3.6/site-packages/ipykernel_launcher.py'), 'app': <module 'ipykernel.kernelapp' from '/Users/mattg.../python3.6/site-packages/ipykernel/kernelapp.py'>, ...}, init_globals=None, mod_name='__main__', mod_spec=ModuleSpec(name='ipykernel_launcher', loader=<_f...b/python3.6/site-packages/ipykernel_launcher.py'), pkg_name='', script_name=None)\n     80                        __cached__ = cached,\n     81                        __doc__ = None,\n     82                        __loader__ = loader,\n     83                        __package__ = pkg_name,\n     84                        __spec__ = mod_spec)\n---> 85     exec(code, run_globals)\n        code = <code object <module> at 0x102b7ab70, file \"/Use...3.6/site-packages/ipykernel_launcher.py\", line 5>\n        run_globals = {'__annotations__': {}, '__builtins__': <module 'builtins' (built-in)>, '__cached__': '/Users/mattgraziano/miniconda3/lib/python3.6/sit...ges/__pycache__/ipykernel_launcher.cpython-36.pyc', '__doc__': 'Entry point for launching an IPython kernel.\\n\\nTh...orts until\\nafter removing the cwd from sys.path.\\n', '__file__': '/Users/mattgraziano/miniconda3/lib/python3.6/site-packages/ipykernel_launcher.py', '__loader__': <_frozen_importlib_external.SourceFileLoader object>, '__name__': '__main__', '__package__': '', '__spec__': ModuleSpec(name='ipykernel_launcher', loader=<_f...b/python3.6/site-packages/ipykernel_launcher.py'), 'app': <module 'ipykernel.kernelapp' from '/Users/mattg.../python3.6/site-packages/ipykernel/kernelapp.py'>, ...}\n     86     return run_globals\n     87 \n     88 def _run_module_code(code, init_globals=None,\n     89                     mod_name=None, mod_spec=None,\n\n...........................................................................\n/Users/mattgraziano/miniconda3/lib/python3.6/site-packages/ipykernel_launcher.py in <module>()\n     11     # This is added back by InteractiveShellApp.init_path()\n     12     if sys.path[0] == '':\n     13         del sys.path[0]\n     14 \n     15     from ipykernel import kernelapp as app\n---> 16     app.launch_new_instance()\n\n...........................................................................\n/Users/mattgraziano/miniconda3/lib/python3.6/site-packages/traitlets/config/application.py in launch_instance(cls=<class 'ipykernel.kernelapp.IPKernelApp'>, argv=None, **kwargs={})\n    653 \n    654         If a global instance already exists, this reinitializes and starts it\n    655         \"\"\"\n    656         app = cls.instance(**kwargs)\n    657         app.initialize(argv)\n--> 658         app.start()\n        app.start = <bound method IPKernelApp.start of <ipykernel.kernelapp.IPKernelApp object>>\n    659 \n    660 #-----------------------------------------------------------------------------\n    661 # utility functions, for convenience\n    662 #-----------------------------------------------------------------------------\n\n...........................................................................\n/Users/mattgraziano/miniconda3/lib/python3.6/site-packages/ipykernel/kernelapp.py in start(self=<ipykernel.kernelapp.IPKernelApp object>)\n    492         if self.poller is not None:\n    493             self.poller.start()\n    494         self.kernel.start()\n    495         self.io_loop = ioloop.IOLoop.current()\n    496         try:\n--> 497             self.io_loop.start()\n        self.io_loop.start = <bound method BaseAsyncIOLoop.start of <tornado.platform.asyncio.AsyncIOMainLoop object>>\n    498         except KeyboardInterrupt:\n    499             pass\n    500 \n    501 launch_new_instance = IPKernelApp.launch_instance\n\n...........................................................................\n/Users/mattgraziano/miniconda3/lib/python3.6/site-packages/tornado/platform/asyncio.py in start(self=<tornado.platform.asyncio.AsyncIOMainLoop object>)\n    127         except (RuntimeError, AssertionError):\n    128             old_loop = None\n    129         try:\n    130             self._setup_logging()\n    131             asyncio.set_event_loop(self.asyncio_loop)\n--> 132             self.asyncio_loop.run_forever()\n        self.asyncio_loop.run_forever = <bound method BaseEventLoop.run_forever of <_Uni...EventLoop running=True closed=False debug=False>>\n    133         finally:\n    134             asyncio.set_event_loop(old_loop)\n    135 \n    136     def stop(self):\n\n...........................................................................\n/Users/mattgraziano/miniconda3/lib/python3.6/asyncio/base_events.py in run_forever(self=<_UnixSelectorEventLoop running=True closed=False debug=False>)\n    417             sys.set_asyncgen_hooks(firstiter=self._asyncgen_firstiter_hook,\n    418                                    finalizer=self._asyncgen_finalizer_hook)\n    419         try:\n    420             events._set_running_loop(self)\n    421             while True:\n--> 422                 self._run_once()\n        self._run_once = <bound method BaseEventLoop._run_once of <_UnixS...EventLoop running=True closed=False debug=False>>\n    423                 if self._stopping:\n    424                     break\n    425         finally:\n    426             self._stopping = False\n\n...........................................................................\n/Users/mattgraziano/miniconda3/lib/python3.6/asyncio/base_events.py in _run_once(self=<_UnixSelectorEventLoop running=True closed=False debug=False>)\n   1429                         logger.warning('Executing %s took %.3f seconds',\n   1430                                        _format_handle(handle), dt)\n   1431                 finally:\n   1432                     self._current_handle = None\n   1433             else:\n-> 1434                 handle._run()\n        handle._run = <bound method Handle._run of <Handle BaseAsyncIOLoop._handle_events(15, 1)>>\n   1435         handle = None  # Needed to break cycles when an exception occurs.\n   1436 \n   1437     def _set_coroutine_wrapper(self, enabled):\n   1438         try:\n\n...........................................................................\n/Users/mattgraziano/miniconda3/lib/python3.6/asyncio/events.py in _run(self=<Handle BaseAsyncIOLoop._handle_events(15, 1)>)\n    140             self._callback = None\n    141             self._args = None\n    142 \n    143     def _run(self):\n    144         try:\n--> 145             self._callback(*self._args)\n        self._callback = <bound method BaseAsyncIOLoop._handle_events of <tornado.platform.asyncio.AsyncIOMainLoop object>>\n        self._args = (15, 1)\n    146         except Exception as exc:\n    147             cb = _format_callback_source(self._callback, self._args)\n    148             msg = 'Exception in callback {}'.format(cb)\n    149             context = {\n\n...........................................................................\n/Users/mattgraziano/miniconda3/lib/python3.6/site-packages/tornado/platform/asyncio.py in _handle_events(self=<tornado.platform.asyncio.AsyncIOMainLoop object>, fd=15, events=1)\n    117             self.writers.remove(fd)\n    118         del self.handlers[fd]\n    119 \n    120     def _handle_events(self, fd, events):\n    121         fileobj, handler_func = self.handlers[fd]\n--> 122         handler_func(fileobj, events)\n        handler_func = <function wrap.<locals>.null_wrapper>\n        fileobj = <zmq.sugar.socket.Socket object>\n        events = 1\n    123 \n    124     def start(self):\n    125         try:\n    126             old_loop = asyncio.get_event_loop()\n\n...........................................................................\n/Users/mattgraziano/miniconda3/lib/python3.6/site-packages/tornado/stack_context.py in null_wrapper(*args=(<zmq.sugar.socket.Socket object>, 1), **kwargs={})\n    295         # Fast path when there are no active contexts.\n    296         def null_wrapper(*args, **kwargs):\n    297             try:\n    298                 current_state = _state.contexts\n    299                 _state.contexts = cap_contexts[0]\n--> 300                 return fn(*args, **kwargs)\n        args = (<zmq.sugar.socket.Socket object>, 1)\n        kwargs = {}\n    301             finally:\n    302                 _state.contexts = current_state\n    303         null_wrapper._wrapped = True\n    304         return null_wrapper\n\n...........................................................................\n/Users/mattgraziano/miniconda3/lib/python3.6/site-packages/zmq/eventloop/zmqstream.py in _handle_events(self=<zmq.eventloop.zmqstream.ZMQStream object>, fd=<zmq.sugar.socket.Socket object>, events=1)\n    445             return\n    446         zmq_events = self.socket.EVENTS\n    447         try:\n    448             # dispatch events:\n    449             if zmq_events & zmq.POLLIN and self.receiving():\n--> 450                 self._handle_recv()\n        self._handle_recv = <bound method ZMQStream._handle_recv of <zmq.eventloop.zmqstream.ZMQStream object>>\n    451                 if not self.socket:\n    452                     return\n    453             if zmq_events & zmq.POLLOUT and self.sending():\n    454                 self._handle_send()\n\n...........................................................................\n/Users/mattgraziano/miniconda3/lib/python3.6/site-packages/zmq/eventloop/zmqstream.py in _handle_recv(self=<zmq.eventloop.zmqstream.ZMQStream object>)\n    475             else:\n    476                 raise\n    477         else:\n    478             if self._recv_callback:\n    479                 callback = self._recv_callback\n--> 480                 self._run_callback(callback, msg)\n        self._run_callback = <bound method ZMQStream._run_callback of <zmq.eventloop.zmqstream.ZMQStream object>>\n        callback = <function wrap.<locals>.null_wrapper>\n        msg = [<zmq.sugar.frame.Frame object>, <zmq.sugar.frame.Frame object>, <zmq.sugar.frame.Frame object>, <zmq.sugar.frame.Frame object>, <zmq.sugar.frame.Frame object>, <zmq.sugar.frame.Frame object>, <zmq.sugar.frame.Frame object>]\n    481         \n    482 \n    483     def _handle_send(self):\n    484         \"\"\"Handle a send event.\"\"\"\n\n...........................................................................\n/Users/mattgraziano/miniconda3/lib/python3.6/site-packages/zmq/eventloop/zmqstream.py in _run_callback(self=<zmq.eventloop.zmqstream.ZMQStream object>, callback=<function wrap.<locals>.null_wrapper>, *args=([<zmq.sugar.frame.Frame object>, <zmq.sugar.frame.Frame object>, <zmq.sugar.frame.Frame object>, <zmq.sugar.frame.Frame object>, <zmq.sugar.frame.Frame object>, <zmq.sugar.frame.Frame object>, <zmq.sugar.frame.Frame object>],), **kwargs={})\n    427         close our socket.\"\"\"\n    428         try:\n    429             # Use a NullContext to ensure that all StackContexts are run\n    430             # inside our blanket exception handler rather than outside.\n    431             with stack_context.NullContext():\n--> 432                 callback(*args, **kwargs)\n        callback = <function wrap.<locals>.null_wrapper>\n        args = ([<zmq.sugar.frame.Frame object>, <zmq.sugar.frame.Frame object>, <zmq.sugar.frame.Frame object>, <zmq.sugar.frame.Frame object>, <zmq.sugar.frame.Frame object>, <zmq.sugar.frame.Frame object>, <zmq.sugar.frame.Frame object>],)\n        kwargs = {}\n    433         except:\n    434             gen_log.error(\"Uncaught exception in ZMQStream callback\",\n    435                           exc_info=True)\n    436             # Re-raise the exception so that IOLoop.handle_callback_exception\n\n...........................................................................\n/Users/mattgraziano/miniconda3/lib/python3.6/site-packages/tornado/stack_context.py in null_wrapper(*args=([<zmq.sugar.frame.Frame object>, <zmq.sugar.frame.Frame object>, <zmq.sugar.frame.Frame object>, <zmq.sugar.frame.Frame object>, <zmq.sugar.frame.Frame object>, <zmq.sugar.frame.Frame object>, <zmq.sugar.frame.Frame object>],), **kwargs={})\n    295         # Fast path when there are no active contexts.\n    296         def null_wrapper(*args, **kwargs):\n    297             try:\n    298                 current_state = _state.contexts\n    299                 _state.contexts = cap_contexts[0]\n--> 300                 return fn(*args, **kwargs)\n        args = ([<zmq.sugar.frame.Frame object>, <zmq.sugar.frame.Frame object>, <zmq.sugar.frame.Frame object>, <zmq.sugar.frame.Frame object>, <zmq.sugar.frame.Frame object>, <zmq.sugar.frame.Frame object>, <zmq.sugar.frame.Frame object>],)\n        kwargs = {}\n    301             finally:\n    302                 _state.contexts = current_state\n    303         null_wrapper._wrapped = True\n    304         return null_wrapper\n\n...........................................................................\n/Users/mattgraziano/miniconda3/lib/python3.6/site-packages/ipykernel/kernelbase.py in dispatcher(msg=[<zmq.sugar.frame.Frame object>, <zmq.sugar.frame.Frame object>, <zmq.sugar.frame.Frame object>, <zmq.sugar.frame.Frame object>, <zmq.sugar.frame.Frame object>, <zmq.sugar.frame.Frame object>, <zmq.sugar.frame.Frame object>])\n    278         if self.control_stream:\n    279             self.control_stream.on_recv(self.dispatch_control, copy=False)\n    280 \n    281         def make_dispatcher(stream):\n    282             def dispatcher(msg):\n--> 283                 return self.dispatch_shell(stream, msg)\n        msg = [<zmq.sugar.frame.Frame object>, <zmq.sugar.frame.Frame object>, <zmq.sugar.frame.Frame object>, <zmq.sugar.frame.Frame object>, <zmq.sugar.frame.Frame object>, <zmq.sugar.frame.Frame object>, <zmq.sugar.frame.Frame object>]\n    284             return dispatcher\n    285 \n    286         for s in self.shell_streams:\n    287             s.on_recv(make_dispatcher(s), copy=False)\n\n...........................................................................\n/Users/mattgraziano/miniconda3/lib/python3.6/site-packages/ipykernel/kernelbase.py in dispatch_shell(self=<ipykernel.ipkernel.IPythonKernel object>, stream=<zmq.eventloop.zmqstream.ZMQStream object>, msg={'buffers': [], 'content': {'allow_stdin': True, 'code': \"transforms = ['stft', 'mel', 'cqt', 'chroma']\\n\\nr...BM'\\n    results_param_df.append(gbm_results_df)\\n\\n\", 'silent': False, 'stop_on_error': True, 'store_history': True, 'user_expressions': {}}, 'header': {'date': datetime.datetime(2018, 12, 9, 20, 33, 24, 561460, tzinfo=tzutc()), 'msg_id': '7bbd338790d7445d8e1f6c3fe6bc250f', 'msg_type': 'execute_request', 'session': 'b5b52af9f3954bc2806e2537b7a59e02', 'username': 'username', 'version': '5.2'}, 'metadata': {}, 'msg_id': '7bbd338790d7445d8e1f6c3fe6bc250f', 'msg_type': 'execute_request', 'parent_header': {}})\n    228             self.log.warning(\"Unknown message type: %r\", msg_type)\n    229         else:\n    230             self.log.debug(\"%s: %s\", msg_type, msg)\n    231             self.pre_handler_hook()\n    232             try:\n--> 233                 handler(stream, idents, msg)\n        handler = <bound method Kernel.execute_request of <ipykernel.ipkernel.IPythonKernel object>>\n        stream = <zmq.eventloop.zmqstream.ZMQStream object>\n        idents = [b'b5b52af9f3954bc2806e2537b7a59e02']\n        msg = {'buffers': [], 'content': {'allow_stdin': True, 'code': \"transforms = ['stft', 'mel', 'cqt', 'chroma']\\n\\nr...BM'\\n    results_param_df.append(gbm_results_df)\\n\\n\", 'silent': False, 'stop_on_error': True, 'store_history': True, 'user_expressions': {}}, 'header': {'date': datetime.datetime(2018, 12, 9, 20, 33, 24, 561460, tzinfo=tzutc()), 'msg_id': '7bbd338790d7445d8e1f6c3fe6bc250f', 'msg_type': 'execute_request', 'session': 'b5b52af9f3954bc2806e2537b7a59e02', 'username': 'username', 'version': '5.2'}, 'metadata': {}, 'msg_id': '7bbd338790d7445d8e1f6c3fe6bc250f', 'msg_type': 'execute_request', 'parent_header': {}}\n    234             except Exception:\n    235                 self.log.error(\"Exception in message handler:\", exc_info=True)\n    236             finally:\n    237                 self.post_handler_hook()\n\n...........................................................................\n/Users/mattgraziano/miniconda3/lib/python3.6/site-packages/ipykernel/kernelbase.py in execute_request(self=<ipykernel.ipkernel.IPythonKernel object>, stream=<zmq.eventloop.zmqstream.ZMQStream object>, ident=[b'b5b52af9f3954bc2806e2537b7a59e02'], parent={'buffers': [], 'content': {'allow_stdin': True, 'code': \"transforms = ['stft', 'mel', 'cqt', 'chroma']\\n\\nr...BM'\\n    results_param_df.append(gbm_results_df)\\n\\n\", 'silent': False, 'stop_on_error': True, 'store_history': True, 'user_expressions': {}}, 'header': {'date': datetime.datetime(2018, 12, 9, 20, 33, 24, 561460, tzinfo=tzutc()), 'msg_id': '7bbd338790d7445d8e1f6c3fe6bc250f', 'msg_type': 'execute_request', 'session': 'b5b52af9f3954bc2806e2537b7a59e02', 'username': 'username', 'version': '5.2'}, 'metadata': {}, 'msg_id': '7bbd338790d7445d8e1f6c3fe6bc250f', 'msg_type': 'execute_request', 'parent_header': {}})\n    394         if not silent:\n    395             self.execution_count += 1\n    396             self._publish_execute_input(code, parent, self.execution_count)\n    397 \n    398         reply_content = self.do_execute(code, silent, store_history,\n--> 399                                         user_expressions, allow_stdin)\n        user_expressions = {}\n        allow_stdin = True\n    400 \n    401         # Flush output before sending the reply.\n    402         sys.stdout.flush()\n    403         sys.stderr.flush()\n\n...........................................................................\n/Users/mattgraziano/miniconda3/lib/python3.6/site-packages/ipykernel/ipkernel.py in do_execute(self=<ipykernel.ipkernel.IPythonKernel object>, code=\"transforms = ['stft', 'mel', 'cqt', 'chroma']\\n\\nr...BM'\\n    results_param_df.append(gbm_results_df)\\n\\n\", silent=False, store_history=True, user_expressions={}, allow_stdin=True)\n    203 \n    204         self._forward_input(allow_stdin)\n    205 \n    206         reply_content = {}\n    207         try:\n--> 208             res = shell.run_cell(code, store_history=store_history, silent=silent)\n        res = undefined\n        shell.run_cell = <bound method ZMQInteractiveShell.run_cell of <ipykernel.zmqshell.ZMQInteractiveShell object>>\n        code = \"transforms = ['stft', 'mel', 'cqt', 'chroma']\\n\\nr...BM'\\n    results_param_df.append(gbm_results_df)\\n\\n\"\n        store_history = True\n        silent = False\n    209         finally:\n    210             self._restore_input()\n    211 \n    212         if res.error_before_exec is not None:\n\n...........................................................................\n/Users/mattgraziano/miniconda3/lib/python3.6/site-packages/ipykernel/zmqshell.py in run_cell(self=<ipykernel.zmqshell.ZMQInteractiveShell object>, *args=(\"transforms = ['stft', 'mel', 'cqt', 'chroma']\\n\\nr...BM'\\n    results_param_df.append(gbm_results_df)\\n\\n\",), **kwargs={'silent': False, 'store_history': True})\n    532             )\n    533         self.payload_manager.write_payload(payload)\n    534 \n    535     def run_cell(self, *args, **kwargs):\n    536         self._last_traceback = None\n--> 537         return super(ZMQInteractiveShell, self).run_cell(*args, **kwargs)\n        self.run_cell = <bound method ZMQInteractiveShell.run_cell of <ipykernel.zmqshell.ZMQInteractiveShell object>>\n        args = (\"transforms = ['stft', 'mel', 'cqt', 'chroma']\\n\\nr...BM'\\n    results_param_df.append(gbm_results_df)\\n\\n\",)\n        kwargs = {'silent': False, 'store_history': True}\n    538 \n    539     def _showtraceback(self, etype, evalue, stb):\n    540         # try to preserve ordering of tracebacks and print statements\n    541         sys.stdout.flush()\n\n...........................................................................\n/Users/mattgraziano/miniconda3/lib/python3.6/site-packages/IPython/core/interactiveshell.py in run_cell(self=<ipykernel.zmqshell.ZMQInteractiveShell object>, raw_cell=\"transforms = ['stft', 'mel', 'cqt', 'chroma']\\n\\nr...BM'\\n    results_param_df.append(gbm_results_df)\\n\\n\", store_history=True, silent=False, shell_futures=True)\n   2657         -------\n   2658         result : :class:`ExecutionResult`\n   2659         \"\"\"\n   2660         try:\n   2661             result = self._run_cell(\n-> 2662                 raw_cell, store_history, silent, shell_futures)\n        raw_cell = \"transforms = ['stft', 'mel', 'cqt', 'chroma']\\n\\nr...BM'\\n    results_param_df.append(gbm_results_df)\\n\\n\"\n        store_history = True\n        silent = False\n        shell_futures = True\n   2663         finally:\n   2664             self.events.trigger('post_execute')\n   2665             if not silent:\n   2666                 self.events.trigger('post_run_cell', result)\n\n...........................................................................\n/Users/mattgraziano/miniconda3/lib/python3.6/site-packages/IPython/core/interactiveshell.py in _run_cell(self=<ipykernel.zmqshell.ZMQInteractiveShell object>, raw_cell=\"transforms = ['stft', 'mel', 'cqt', 'chroma']\\n\\nr...BM'\\n    results_param_df.append(gbm_results_df)\\n\\n\", store_history=True, silent=False, shell_futures=True)\n   2780                 self.displayhook.exec_result = result\n   2781 \n   2782                 # Execute the user code\n   2783                 interactivity = 'none' if silent else self.ast_node_interactivity\n   2784                 has_raised = self.run_ast_nodes(code_ast.body, cell_name,\n-> 2785                    interactivity=interactivity, compiler=compiler, result=result)\n        interactivity = 'last_expr'\n        compiler = <IPython.core.compilerop.CachingCompiler object>\n   2786                 \n   2787                 self.last_execution_succeeded = not has_raised\n   2788                 self.last_execution_result = result\n   2789 \n\n...........................................................................\n/Users/mattgraziano/miniconda3/lib/python3.6/site-packages/IPython/core/interactiveshell.py in run_ast_nodes(self=<ipykernel.zmqshell.ZMQInteractiveShell object>, nodelist=[<_ast.Assign object>, <_ast.Assign object>, <_ast.For object>], cell_name='<ipython-input-16-2ddb62617fd1>', interactivity='none', compiler=<IPython.core.compilerop.CachingCompiler object>, result=<ExecutionResult object at 12967b780, execution_...rue silent=False shell_futures=True> result=None>)\n   2896             raise ValueError(\"Interactivity was %r\" % interactivity)\n   2897         try:\n   2898             for i, node in enumerate(to_run_exec):\n   2899                 mod = ast.Module([node])\n   2900                 code = compiler(mod, cell_name, \"exec\")\n-> 2901                 if self.run_code(code, result):\n        self.run_code = <bound method InteractiveShell.run_code of <ipykernel.zmqshell.ZMQInteractiveShell object>>\n        code = <code object <module> at 0x135681ed0, file \"<ipython-input-16-2ddb62617fd1>\", line 4>\n        result = <ExecutionResult object at 12967b780, execution_...rue silent=False shell_futures=True> result=None>\n   2902                     return True\n   2903 \n   2904             for i, node in enumerate(to_run_interactive):\n   2905                 mod = ast.Interactive([node])\n\n...........................................................................\n/Users/mattgraziano/miniconda3/lib/python3.6/site-packages/IPython/core/interactiveshell.py in run_code(self=<ipykernel.zmqshell.ZMQInteractiveShell object>, code_obj=<code object <module> at 0x135681ed0, file \"<ipython-input-16-2ddb62617fd1>\", line 4>, result=<ExecutionResult object at 12967b780, execution_...rue silent=False shell_futures=True> result=None>)\n   2956         outflag = True  # happens in more places, so it's easier as default\n   2957         try:\n   2958             try:\n   2959                 self.hooks.pre_run_code_hook()\n   2960                 #rprint('Running code', repr(code_obj)) # dbg\n-> 2961                 exec(code_obj, self.user_global_ns, self.user_ns)\n        code_obj = <code object <module> at 0x135681ed0, file \"<ipython-input-16-2ddb62617fd1>\", line 4>\n        self.user_global_ns = {'A0': 27.5, 'A1': 55.0, 'A2': 110.0, 'Activation': <class 'keras.layers.core.Activation'>, 'BatchNormalization': <class 'keras.layers.normalization.BatchNormalization'>, 'C1': 32.7, 'C2': 65.41, 'C7': 2093.0, 'C8': 4186.01, 'CQT_transform': <function CQT_transform>, ...}\n        self.user_ns = {'A0': 27.5, 'A1': 55.0, 'A2': 110.0, 'Activation': <class 'keras.layers.core.Activation'>, 'BatchNormalization': <class 'keras.layers.normalization.BatchNormalization'>, 'C1': 32.7, 'C2': 65.41, 'C7': 2093.0, 'C8': 4186.01, 'CQT_transform': <function CQT_transform>, ...}\n   2962             finally:\n   2963                 # Reset our crash handler in place\n   2964                 sys.excepthook = old_excepthook\n   2965         except SystemExit as e:\n\n...........................................................................\n/Users/mattgraziano/Google Drive/Documents/Learning/IU/Fall18/engr511/project/engr511/<ipython-input-16-2ddb62617fd1> in <module>()\n     36                   \"criterion\": [\"gini\"]}\n     37 \n     38     # run grid search\n     39     rf_grid_search = GridSearchCV(rf, param_grid=param_grid, cv=10, n_jobs=8)\n     40 \n---> 41     rf_grid_search.fit(x_train, y_train)\n     42     \n     43     # Convert parameter grid and cv results to dataframe\n     44     rf_results_df = pd.DataFrame(rf_grid_search.cv_results_)[['params', 'mean_train_score', 'mean_test_score']]\n     45     rf_results_df['transform'] = transform\n\n...........................................................................\n/Users/mattgraziano/miniconda3/lib/python3.6/site-packages/sklearn/model_selection/_search.py in fit(self=GridSearchCV(cv=10, error_score='raise',\n       ...ain_score='warn',\n       scoring=None, verbose=0), X=[array([0.02481608, 0.0313775 , 0.24114856, 0.012...6332, 0.02728165,\n       0.02227423, 0.45039065]), array([0.40705663, 0.02026695, 0.00874063, 0.219...3962, 0.00816055,\n       0.02328133, 0.01062685]), array([0.02735932, 0.23143827, 0.02453552, 0.011...9679, 0.02341322,\n       0.44781716, 0.03067329]), array([0.52898837, 0.00800182, 0.00499292, 0.189...1802, 0.1543587 ,\n       0.02179417, 0.01137577]), array([0.3903493 , 0.03200056, 0.00443344, 0.003...4676, 0.36613043,\n       0.00893862, 0.00907616]), array([0.0136039 , 0.40107865, 0.01288493, 0.005...9827, 0.00942667,\n       0.01106257, 0.03024889]), array([0.01042004, 0.02478611, 0.00657964, 0.162...2932, 0.2917056 ,\n       0.02009293, 0.00968262]), array([0.02699256, 0.00329047, 0.002592  , 0.037...1518, 0.00417402,\n       0.00597252, 0.20443057]), array([0.00814028, 0.33853393, 0.03313347, 0.004...4218, 0.0089601 ,\n       0.38818895, 0.00936599]), array([0.00612736, 0.00411492, 0.28488798, 0.030...1654, 0.02739191,\n       0.00749626, 0.3323454 ]), array([0.01321583, 0.01134956, 0.02140744, 0.007...543 , 0.01375234,\n       0.3739243 , 0.02151888]), array([0.03980718, 0.00957254, 0.30108334, 0.011...5659, 0.02792529,\n       0.01187424, 0.01223457]), array([0.01580541, 0.00686259, 0.46498465, 0.005...0719, 0.04697036,\n       0.01035984, 0.26750138]), array([0.24062859, 0.03586951, 0.01118935, 0.493...9752, 0.00441689,\n       0.04257396, 0.01066669]), array([0.45346388, 0.01963305, 0.01792912, 0.160...6999, 0.25219981,\n       0.02114304, 0.01648053]), array([0.22305868, 0.02020946, 0.01087926, 0.008...5692, 0.3566509 ,\n       0.00933768, 0.010286  ]), array([0.00813225, 0.50271524, 0.00701917, 0.003...7376, 0.00661752,\n       0.20091419, 0.01936108]), array([0.03435055, 0.01394274, 0.00964535, 0.011...4468, 0.00908611,\n       0.01190597, 0.36555494]), array([0.0140333 , 0.15483224, 0.01358498, 0.009...5164, 0.01181751,\n       0.58436943, 0.01920848]), array([0.00678359, 0.06537088, 0.00888842, 0.352...0498, 0.2358558 ,\n       0.03359509, 0.00580697]), ...], y=['Diminished', 'Diminished', 'Diminished', 'Diminished', 'Diminished', 'Diminished', 'Diminished', 'Diminished', 'Diminished', 'Diminished', 'Diminished', 'Diminished', 'Diminished', 'Diminished', 'Diminished', 'Diminished', 'Diminished', 'Diminished', 'Diminished', 'Diminished', ...], groups=None, **fit_params={})\n    635                                   return_train_score=self.return_train_score,\n    636                                   return_n_test_samples=True,\n    637                                   return_times=True, return_parameters=False,\n    638                                   error_score=self.error_score)\n    639           for parameters, (train, test) in product(candidate_params,\n--> 640                                                    cv.split(X, y, groups)))\n        cv.split = <bound method StratifiedKFold.split of Stratifie...d(n_splits=10, random_state=None, shuffle=False)>\n        X = [array([0.02481608, 0.0313775 , 0.24114856, 0.012...6332, 0.02728165,\n       0.02227423, 0.45039065]), array([0.40705663, 0.02026695, 0.00874063, 0.219...3962, 0.00816055,\n       0.02328133, 0.01062685]), array([0.02735932, 0.23143827, 0.02453552, 0.011...9679, 0.02341322,\n       0.44781716, 0.03067329]), array([0.52898837, 0.00800182, 0.00499292, 0.189...1802, 0.1543587 ,\n       0.02179417, 0.01137577]), array([0.3903493 , 0.03200056, 0.00443344, 0.003...4676, 0.36613043,\n       0.00893862, 0.00907616]), array([0.0136039 , 0.40107865, 0.01288493, 0.005...9827, 0.00942667,\n       0.01106257, 0.03024889]), array([0.01042004, 0.02478611, 0.00657964, 0.162...2932, 0.2917056 ,\n       0.02009293, 0.00968262]), array([0.02699256, 0.00329047, 0.002592  , 0.037...1518, 0.00417402,\n       0.00597252, 0.20443057]), array([0.00814028, 0.33853393, 0.03313347, 0.004...4218, 0.0089601 ,\n       0.38818895, 0.00936599]), array([0.00612736, 0.00411492, 0.28488798, 0.030...1654, 0.02739191,\n       0.00749626, 0.3323454 ]), array([0.01321583, 0.01134956, 0.02140744, 0.007...543 , 0.01375234,\n       0.3739243 , 0.02151888]), array([0.03980718, 0.00957254, 0.30108334, 0.011...5659, 0.02792529,\n       0.01187424, 0.01223457]), array([0.01580541, 0.00686259, 0.46498465, 0.005...0719, 0.04697036,\n       0.01035984, 0.26750138]), array([0.24062859, 0.03586951, 0.01118935, 0.493...9752, 0.00441689,\n       0.04257396, 0.01066669]), array([0.45346388, 0.01963305, 0.01792912, 0.160...6999, 0.25219981,\n       0.02114304, 0.01648053]), array([0.22305868, 0.02020946, 0.01087926, 0.008...5692, 0.3566509 ,\n       0.00933768, 0.010286  ]), array([0.00813225, 0.50271524, 0.00701917, 0.003...7376, 0.00661752,\n       0.20091419, 0.01936108]), array([0.03435055, 0.01394274, 0.00964535, 0.011...4468, 0.00908611,\n       0.01190597, 0.36555494]), array([0.0140333 , 0.15483224, 0.01358498, 0.009...5164, 0.01181751,\n       0.58436943, 0.01920848]), array([0.00678359, 0.06537088, 0.00888842, 0.352...0498, 0.2358558 ,\n       0.03359509, 0.00580697]), ...]\n        y = ['Diminished', 'Diminished', 'Diminished', 'Diminished', 'Diminished', 'Diminished', 'Diminished', 'Diminished', 'Diminished', 'Diminished', 'Diminished', 'Diminished', 'Diminished', 'Diminished', 'Diminished', 'Diminished', 'Diminished', 'Diminished', 'Diminished', 'Diminished', ...]\n        groups = None\n    641 \n    642         # if one choose to see train score, \"out\" will contain train score info\n    643         if self.return_train_score:\n    644             (train_score_dicts, test_score_dicts, test_sample_counts, fit_time,\n\n...........................................................................\n/Users/mattgraziano/miniconda3/lib/python3.6/site-packages/sklearn/externals/joblib/parallel.py in __call__(self=Parallel(n_jobs=8), iterable=<generator object BaseSearchCV.fit.<locals>.<genexpr>>)\n    784             if pre_dispatch == \"all\" or n_jobs == 1:\n    785                 # The iterable was consumed all at once by the above for loop.\n    786                 # No need to wait for async callbacks to trigger to\n    787                 # consumption.\n    788                 self._iterating = False\n--> 789             self.retrieve()\n        self.retrieve = <bound method Parallel.retrieve of Parallel(n_jobs=8)>\n    790             # Make sure that we get a last message telling us we are done\n    791             elapsed_time = time.time() - self._start_time\n    792             self._print('Done %3i out of %3i | elapsed: %s finished',\n    793                         (len(self._output), len(self._output),\n\n---------------------------------------------------------------------------\nSub-process traceback:\n---------------------------------------------------------------------------\nValueError                                         Sun Dec  9 16:07:57 2018\nPID: 32961          Python 3.6.6: /Users/mattgraziano/miniconda3/bin/python\n...........................................................................\n/Users/mattgraziano/miniconda3/lib/python3.6/site-packages/sklearn/externals/joblib/parallel.py in __call__(self=<sklearn.externals.joblib.parallel.BatchedCalls object>)\n    126     def __init__(self, iterator_slice):\n    127         self.items = list(iterator_slice)\n    128         self._size = len(self.items)\n    129 \n    130     def __call__(self):\n--> 131         return [func(*args, **kwargs) for func, args, kwargs in self.items]\n        self.items = [(<function _fit_and_score>, (RandomForestClassifier(bootstrap=True, class_wei...te=None, verbose=0,\n            warm_start=False), [array([0.02481608, 0.0313775 , 0.24114856, 0.012...6332, 0.02728165,\n       0.02227423, 0.45039065]), array([0.40705663, 0.02026695, 0.00874063, 0.219...3962, 0.00816055,\n       0.02328133, 0.01062685]), array([0.02735932, 0.23143827, 0.02453552, 0.011...9679, 0.02341322,\n       0.44781716, 0.03067329]), array([0.52898837, 0.00800182, 0.00499292, 0.189...1802, 0.1543587 ,\n       0.02179417, 0.01137577]), array([0.3903493 , 0.03200056, 0.00443344, 0.003...4676, 0.36613043,\n       0.00893862, 0.00907616]), array([0.0136039 , 0.40107865, 0.01288493, 0.005...9827, 0.00942667,\n       0.01106257, 0.03024889]), array([0.01042004, 0.02478611, 0.00657964, 0.162...2932, 0.2917056 ,\n       0.02009293, 0.00968262]), array([0.02699256, 0.00329047, 0.002592  , 0.037...1518, 0.00417402,\n       0.00597252, 0.20443057]), array([0.00814028, 0.33853393, 0.03313347, 0.004...4218, 0.0089601 ,\n       0.38818895, 0.00936599]), array([0.00612736, 0.00411492, 0.28488798, 0.030...1654, 0.02739191,\n       0.00749626, 0.3323454 ]), array([0.01321583, 0.01134956, 0.02140744, 0.007...543 , 0.01375234,\n       0.3739243 , 0.02151888]), array([0.03980718, 0.00957254, 0.30108334, 0.011...5659, 0.02792529,\n       0.01187424, 0.01223457]), array([0.01580541, 0.00686259, 0.46498465, 0.005...0719, 0.04697036,\n       0.01035984, 0.26750138]), array([0.24062859, 0.03586951, 0.01118935, 0.493...9752, 0.00441689,\n       0.04257396, 0.01066669]), array([0.45346388, 0.01963305, 0.01792912, 0.160...6999, 0.25219981,\n       0.02114304, 0.01648053]), array([0.22305868, 0.02020946, 0.01087926, 0.008...5692, 0.3566509 ,\n       0.00933768, 0.010286  ]), array([0.00813225, 0.50271524, 0.00701917, 0.003...7376, 0.00661752,\n       0.20091419, 0.01936108]), array([0.03435055, 0.01394274, 0.00964535, 0.011...4468, 0.00908611,\n       0.01190597, 0.36555494]), array([0.0140333 , 0.15483224, 0.01358498, 0.009...5164, 0.01181751,\n       0.58436943, 0.01920848]), array([0.00678359, 0.06537088, 0.00888842, 0.352...0498, 0.2358558 ,\n       0.03359509, 0.00580697]), ...], ['Diminished', 'Diminished', 'Diminished', 'Diminished', 'Diminished', 'Diminished', 'Diminished', 'Diminished', 'Diminished', 'Diminished', 'Diminished', 'Diminished', 'Diminished', 'Diminished', 'Diminished', 'Diminished', 'Diminished', 'Diminished', 'Diminished', 'Diminished', ...], {'score': <function _passthrough_scorer>}, array([  3,   4,   5,   6,   7,   8,   9,  10,  ...78, 179, 180, 181, 182, 183, 184, 185, 186, 187]), array([  0,   1,   2,  24,  25,  26,  48,  49,  ...,\n       117, 118, 119, 120, 121, 122, 123, 124]), 0, {'bootstrap': True, 'criterion': 'gini', 'max_depth': 3, 'max_features': 25, 'min_samples_split': 5}), {'error_score': 'raise', 'fit_params': {}, 'return_n_test_samples': True, 'return_parameters': False, 'return_times': True, 'return_train_score': 'warn'})]\n    132 \n    133     def __len__(self):\n    134         return self._size\n    135 \n\n...........................................................................\n/Users/mattgraziano/miniconda3/lib/python3.6/site-packages/sklearn/externals/joblib/parallel.py in <listcomp>(.0=<list_iterator object>)\n    126     def __init__(self, iterator_slice):\n    127         self.items = list(iterator_slice)\n    128         self._size = len(self.items)\n    129 \n    130     def __call__(self):\n--> 131         return [func(*args, **kwargs) for func, args, kwargs in self.items]\n        func = <function _fit_and_score>\n        args = (RandomForestClassifier(bootstrap=True, class_wei...te=None, verbose=0,\n            warm_start=False), [array([0.02481608, 0.0313775 , 0.24114856, 0.012...6332, 0.02728165,\n       0.02227423, 0.45039065]), array([0.40705663, 0.02026695, 0.00874063, 0.219...3962, 0.00816055,\n       0.02328133, 0.01062685]), array([0.02735932, 0.23143827, 0.02453552, 0.011...9679, 0.02341322,\n       0.44781716, 0.03067329]), array([0.52898837, 0.00800182, 0.00499292, 0.189...1802, 0.1543587 ,\n       0.02179417, 0.01137577]), array([0.3903493 , 0.03200056, 0.00443344, 0.003...4676, 0.36613043,\n       0.00893862, 0.00907616]), array([0.0136039 , 0.40107865, 0.01288493, 0.005...9827, 0.00942667,\n       0.01106257, 0.03024889]), array([0.01042004, 0.02478611, 0.00657964, 0.162...2932, 0.2917056 ,\n       0.02009293, 0.00968262]), array([0.02699256, 0.00329047, 0.002592  , 0.037...1518, 0.00417402,\n       0.00597252, 0.20443057]), array([0.00814028, 0.33853393, 0.03313347, 0.004...4218, 0.0089601 ,\n       0.38818895, 0.00936599]), array([0.00612736, 0.00411492, 0.28488798, 0.030...1654, 0.02739191,\n       0.00749626, 0.3323454 ]), array([0.01321583, 0.01134956, 0.02140744, 0.007...543 , 0.01375234,\n       0.3739243 , 0.02151888]), array([0.03980718, 0.00957254, 0.30108334, 0.011...5659, 0.02792529,\n       0.01187424, 0.01223457]), array([0.01580541, 0.00686259, 0.46498465, 0.005...0719, 0.04697036,\n       0.01035984, 0.26750138]), array([0.24062859, 0.03586951, 0.01118935, 0.493...9752, 0.00441689,\n       0.04257396, 0.01066669]), array([0.45346388, 0.01963305, 0.01792912, 0.160...6999, 0.25219981,\n       0.02114304, 0.01648053]), array([0.22305868, 0.02020946, 0.01087926, 0.008...5692, 0.3566509 ,\n       0.00933768, 0.010286  ]), array([0.00813225, 0.50271524, 0.00701917, 0.003...7376, 0.00661752,\n       0.20091419, 0.01936108]), array([0.03435055, 0.01394274, 0.00964535, 0.011...4468, 0.00908611,\n       0.01190597, 0.36555494]), array([0.0140333 , 0.15483224, 0.01358498, 0.009...5164, 0.01181751,\n       0.58436943, 0.01920848]), array([0.00678359, 0.06537088, 0.00888842, 0.352...0498, 0.2358558 ,\n       0.03359509, 0.00580697]), ...], ['Diminished', 'Diminished', 'Diminished', 'Diminished', 'Diminished', 'Diminished', 'Diminished', 'Diminished', 'Diminished', 'Diminished', 'Diminished', 'Diminished', 'Diminished', 'Diminished', 'Diminished', 'Diminished', 'Diminished', 'Diminished', 'Diminished', 'Diminished', ...], {'score': <function _passthrough_scorer>}, array([  3,   4,   5,   6,   7,   8,   9,  10,  ...78, 179, 180, 181, 182, 183, 184, 185, 186, 187]), array([  0,   1,   2,  24,  25,  26,  48,  49,  ...,\n       117, 118, 119, 120, 121, 122, 123, 124]), 0, {'bootstrap': True, 'criterion': 'gini', 'max_depth': 3, 'max_features': 25, 'min_samples_split': 5})\n        kwargs = {'error_score': 'raise', 'fit_params': {}, 'return_n_test_samples': True, 'return_parameters': False, 'return_times': True, 'return_train_score': 'warn'}\n    132 \n    133     def __len__(self):\n    134         return self._size\n    135 \n\n...........................................................................\n/Users/mattgraziano/miniconda3/lib/python3.6/site-packages/sklearn/model_selection/_validation.py in _fit_and_score(estimator=RandomForestClassifier(bootstrap=True, class_wei...te=None, verbose=0,\n            warm_start=False), X=[array([0.02481608, 0.0313775 , 0.24114856, 0.012...6332, 0.02728165,\n       0.02227423, 0.45039065]), array([0.40705663, 0.02026695, 0.00874063, 0.219...3962, 0.00816055,\n       0.02328133, 0.01062685]), array([0.02735932, 0.23143827, 0.02453552, 0.011...9679, 0.02341322,\n       0.44781716, 0.03067329]), array([0.52898837, 0.00800182, 0.00499292, 0.189...1802, 0.1543587 ,\n       0.02179417, 0.01137577]), array([0.3903493 , 0.03200056, 0.00443344, 0.003...4676, 0.36613043,\n       0.00893862, 0.00907616]), array([0.0136039 , 0.40107865, 0.01288493, 0.005...9827, 0.00942667,\n       0.01106257, 0.03024889]), array([0.01042004, 0.02478611, 0.00657964, 0.162...2932, 0.2917056 ,\n       0.02009293, 0.00968262]), array([0.02699256, 0.00329047, 0.002592  , 0.037...1518, 0.00417402,\n       0.00597252, 0.20443057]), array([0.00814028, 0.33853393, 0.03313347, 0.004...4218, 0.0089601 ,\n       0.38818895, 0.00936599]), array([0.00612736, 0.00411492, 0.28488798, 0.030...1654, 0.02739191,\n       0.00749626, 0.3323454 ]), array([0.01321583, 0.01134956, 0.02140744, 0.007...543 , 0.01375234,\n       0.3739243 , 0.02151888]), array([0.03980718, 0.00957254, 0.30108334, 0.011...5659, 0.02792529,\n       0.01187424, 0.01223457]), array([0.01580541, 0.00686259, 0.46498465, 0.005...0719, 0.04697036,\n       0.01035984, 0.26750138]), array([0.24062859, 0.03586951, 0.01118935, 0.493...9752, 0.00441689,\n       0.04257396, 0.01066669]), array([0.45346388, 0.01963305, 0.01792912, 0.160...6999, 0.25219981,\n       0.02114304, 0.01648053]), array([0.22305868, 0.02020946, 0.01087926, 0.008...5692, 0.3566509 ,\n       0.00933768, 0.010286  ]), array([0.00813225, 0.50271524, 0.00701917, 0.003...7376, 0.00661752,\n       0.20091419, 0.01936108]), array([0.03435055, 0.01394274, 0.00964535, 0.011...4468, 0.00908611,\n       0.01190597, 0.36555494]), array([0.0140333 , 0.15483224, 0.01358498, 0.009...5164, 0.01181751,\n       0.58436943, 0.01920848]), array([0.00678359, 0.06537088, 0.00888842, 0.352...0498, 0.2358558 ,\n       0.03359509, 0.00580697]), ...], y=['Diminished', 'Diminished', 'Diminished', 'Diminished', 'Diminished', 'Diminished', 'Diminished', 'Diminished', 'Diminished', 'Diminished', 'Diminished', 'Diminished', 'Diminished', 'Diminished', 'Diminished', 'Diminished', 'Diminished', 'Diminished', 'Diminished', 'Diminished', ...], scorer={'score': <function _passthrough_scorer>}, train=array([  3,   4,   5,   6,   7,   8,   9,  10,  ...78, 179, 180, 181, 182, 183, 184, 185, 186, 187]), test=array([  0,   1,   2,  24,  25,  26,  48,  49,  ...,\n       117, 118, 119, 120, 121, 122, 123, 124]), verbose=0, parameters={'bootstrap': True, 'criterion': 'gini', 'max_depth': 3, 'max_features': 25, 'min_samples_split': 5}, fit_params={}, return_train_score='warn', return_parameters=False, return_n_test_samples=True, return_times=True, error_score='raise')\n    453 \n    454     try:\n    455         if y_train is None:\n    456             estimator.fit(X_train, **fit_params)\n    457         else:\n--> 458             estimator.fit(X_train, y_train, **fit_params)\n        estimator.fit = <bound method BaseForest.fit of RandomForestClas...e=None, verbose=0,\n            warm_start=False)>\n        X_train = [array([0.52898837, 0.00800182, 0.00499292, 0.189...1802, 0.1543587 ,\n       0.02179417, 0.01137577]), array([0.3903493 , 0.03200056, 0.00443344, 0.003...4676, 0.36613043,\n       0.00893862, 0.00907616]), array([0.0136039 , 0.40107865, 0.01288493, 0.005...9827, 0.00942667,\n       0.01106257, 0.03024889]), array([0.01042004, 0.02478611, 0.00657964, 0.162...2932, 0.2917056 ,\n       0.02009293, 0.00968262]), array([0.02699256, 0.00329047, 0.002592  , 0.037...1518, 0.00417402,\n       0.00597252, 0.20443057]), array([0.00814028, 0.33853393, 0.03313347, 0.004...4218, 0.0089601 ,\n       0.38818895, 0.00936599]), array([0.00612736, 0.00411492, 0.28488798, 0.030...1654, 0.02739191,\n       0.00749626, 0.3323454 ]), array([0.01321583, 0.01134956, 0.02140744, 0.007...543 , 0.01375234,\n       0.3739243 , 0.02151888]), array([0.03980718, 0.00957254, 0.30108334, 0.011...5659, 0.02792529,\n       0.01187424, 0.01223457]), array([0.01580541, 0.00686259, 0.46498465, 0.005...0719, 0.04697036,\n       0.01035984, 0.26750138]), array([0.24062859, 0.03586951, 0.01118935, 0.493...9752, 0.00441689,\n       0.04257396, 0.01066669]), array([0.45346388, 0.01963305, 0.01792912, 0.160...6999, 0.25219981,\n       0.02114304, 0.01648053]), array([0.22305868, 0.02020946, 0.01087926, 0.008...5692, 0.3566509 ,\n       0.00933768, 0.010286  ]), array([0.00813225, 0.50271524, 0.00701917, 0.003...7376, 0.00661752,\n       0.20091419, 0.01936108]), array([0.03435055, 0.01394274, 0.00964535, 0.011...4468, 0.00908611,\n       0.01190597, 0.36555494]), array([0.0140333 , 0.15483224, 0.01358498, 0.009...5164, 0.01181751,\n       0.58436943, 0.01920848]), array([0.00678359, 0.06537088, 0.00888842, 0.352...0498, 0.2358558 ,\n       0.03359509, 0.00580697]), array([0.00956548, 0.30625296, 0.03646417, 0.004...1907, 0.00328267,\n       0.00391388, 0.03370796]), array([0.00566623, 0.00583003, 0.05928722, 0.007...535 , 0.00686505,\n       0.18556004, 0.03466939]), array([0.03244662, 0.0058608 , 0.25733687, 0.029...5895, 0.00968093,\n       0.00398558, 0.00470945]), ...]\n        y_train = ['Diminished', 'Diminished', 'Diminished', 'Diminished', 'Diminished', 'Diminished', 'Diminished', 'Diminished', 'Diminished', 'Diminished', 'Diminished', 'Diminished', 'Diminished', 'Diminished', 'Diminished', 'Diminished', 'Diminished', 'Diminished', 'Diminished', 'Diminished', ...]\n        fit_params = {}\n    459 \n    460     except Exception as e:\n    461         # Note fit time as time until error\n    462         fit_time = time.time() - start_time\n\n...........................................................................\n/Users/mattgraziano/miniconda3/lib/python3.6/site-packages/sklearn/ensemble/forest.py in fit(self=RandomForestClassifier(bootstrap=True, class_wei...te=None, verbose=0,\n            warm_start=False), X=array([[0.52898836, 0.00800182, 0.00499292, ...,... 0.10649972,\n        0.04084063]], dtype=float32), y=array([[0.],\n       [0.],\n       [0.],\n       [0...    [3.],\n       [3.],\n       [3.],\n       [3.]]), sample_weight=None)\n    323             trees = Parallel(n_jobs=self.n_jobs, verbose=self.verbose,\n    324                              backend=\"threading\")(\n    325                 delayed(_parallel_build_trees)(\n    326                     t, self, X, y, sample_weight, i, len(trees),\n    327                     verbose=self.verbose, class_weight=self.class_weight)\n--> 328                 for i, t in enumerate(trees))\n        i = 499\n    329 \n    330             # Collect newly grown trees\n    331             self.estimators_.extend(trees)\n    332 \n\n...........................................................................\n/Users/mattgraziano/miniconda3/lib/python3.6/site-packages/sklearn/externals/joblib/parallel.py in __call__(self=Parallel(n_jobs=1), iterable=<generator object BaseForest.fit.<locals>.<genexpr>>)\n    774         self.n_completed_tasks = 0\n    775         try:\n    776             # Only set self._iterating to True if at least a batch\n    777             # was dispatched. In particular this covers the edge\n    778             # case of Parallel used with an exhausted iterator.\n--> 779             while self.dispatch_one_batch(iterator):\n        self.dispatch_one_batch = <bound method Parallel.dispatch_one_batch of Parallel(n_jobs=1)>\n        iterator = <generator object BaseForest.fit.<locals>.<genexpr>>\n    780                 self._iterating = True\n    781             else:\n    782                 self._iterating = False\n    783 \n\n...........................................................................\n/Users/mattgraziano/miniconda3/lib/python3.6/site-packages/sklearn/externals/joblib/parallel.py in dispatch_one_batch(self=Parallel(n_jobs=1), iterator=<generator object BaseForest.fit.<locals>.<genexpr>>)\n    620             tasks = BatchedCalls(itertools.islice(iterator, batch_size))\n    621             if len(tasks) == 0:\n    622                 # No more tasks available in the iterator: tell caller to stop.\n    623                 return False\n    624             else:\n--> 625                 self._dispatch(tasks)\n        self._dispatch = <bound method Parallel._dispatch of Parallel(n_jobs=1)>\n        tasks = <sklearn.externals.joblib.parallel.BatchedCalls object>\n    626                 return True\n    627 \n    628     def _print(self, msg, msg_args):\n    629         \"\"\"Display the message on stout or stderr depending on verbosity\"\"\"\n\n...........................................................................\n/Users/mattgraziano/miniconda3/lib/python3.6/site-packages/sklearn/externals/joblib/parallel.py in _dispatch(self=Parallel(n_jobs=1), batch=<sklearn.externals.joblib.parallel.BatchedCalls object>)\n    583         self.n_dispatched_tasks += len(batch)\n    584         self.n_dispatched_batches += 1\n    585 \n    586         dispatch_timestamp = time.time()\n    587         cb = BatchCompletionCallBack(dispatch_timestamp, len(batch), self)\n--> 588         job = self._backend.apply_async(batch, callback=cb)\n        job = undefined\n        self._backend.apply_async = <bound method SequentialBackend.apply_async of <...lib._parallel_backends.SequentialBackend object>>\n        batch = <sklearn.externals.joblib.parallel.BatchedCalls object>\n        cb = <sklearn.externals.joblib.parallel.BatchCompletionCallBack object>\n    589         self._jobs.append(job)\n    590 \n    591     def dispatch_next(self):\n    592         \"\"\"Dispatch more data for parallel processing\n\n...........................................................................\n/Users/mattgraziano/miniconda3/lib/python3.6/site-packages/sklearn/externals/joblib/_parallel_backends.py in apply_async(self=<sklearn.externals.joblib._parallel_backends.SequentialBackend object>, func=<sklearn.externals.joblib.parallel.BatchedCalls object>, callback=<sklearn.externals.joblib.parallel.BatchCompletionCallBack object>)\n    106             raise ValueError('n_jobs == 0 in Parallel has no meaning')\n    107         return 1\n    108 \n    109     def apply_async(self, func, callback=None):\n    110         \"\"\"Schedule a func to be run\"\"\"\n--> 111         result = ImmediateResult(func)\n        result = undefined\n        func = <sklearn.externals.joblib.parallel.BatchedCalls object>\n    112         if callback:\n    113             callback(result)\n    114         return result\n    115 \n\n...........................................................................\n/Users/mattgraziano/miniconda3/lib/python3.6/site-packages/sklearn/externals/joblib/_parallel_backends.py in __init__(self=<sklearn.externals.joblib._parallel_backends.ImmediateResult object>, batch=<sklearn.externals.joblib.parallel.BatchedCalls object>)\n    327 \n    328 class ImmediateResult(object):\n    329     def __init__(self, batch):\n    330         # Don't delay the application, to avoid keeping the input\n    331         # arguments in memory\n--> 332         self.results = batch()\n        self.results = undefined\n        batch = <sklearn.externals.joblib.parallel.BatchedCalls object>\n    333 \n    334     def get(self):\n    335         return self.results\n    336 \n\n...........................................................................\n/Users/mattgraziano/miniconda3/lib/python3.6/site-packages/sklearn/externals/joblib/parallel.py in __call__(self=<sklearn.externals.joblib.parallel.BatchedCalls object>)\n    126     def __init__(self, iterator_slice):\n    127         self.items = list(iterator_slice)\n    128         self._size = len(self.items)\n    129 \n    130     def __call__(self):\n--> 131         return [func(*args, **kwargs) for func, args, kwargs in self.items]\n        self.items = [(<function _parallel_build_trees>, (DecisionTreeClassifier(class_weight=None, criter...         random_state=478285657, splitter='best'), RandomForestClassifier(bootstrap=True, class_wei...te=None, verbose=0,\n            warm_start=False), array([[0.52898836, 0.00800182, 0.00499292, ...,... 0.10649972,\n        0.04084063]], dtype=float32), array([[0.],\n       [0.],\n       [0.],\n       [0...    [3.],\n       [3.],\n       [3.],\n       [3.]]), None, 0, 500), {'class_weight': None, 'verbose': 0})]\n    132 \n    133     def __len__(self):\n    134         return self._size\n    135 \n\n...........................................................................\n/Users/mattgraziano/miniconda3/lib/python3.6/site-packages/sklearn/externals/joblib/parallel.py in <listcomp>(.0=<list_iterator object>)\n    126     def __init__(self, iterator_slice):\n    127         self.items = list(iterator_slice)\n    128         self._size = len(self.items)\n    129 \n    130     def __call__(self):\n--> 131         return [func(*args, **kwargs) for func, args, kwargs in self.items]\n        func = <function _parallel_build_trees>\n        args = (DecisionTreeClassifier(class_weight=None, criter...         random_state=478285657, splitter='best'), RandomForestClassifier(bootstrap=True, class_wei...te=None, verbose=0,\n            warm_start=False), array([[0.52898836, 0.00800182, 0.00499292, ...,... 0.10649972,\n        0.04084063]], dtype=float32), array([[0.],\n       [0.],\n       [0.],\n       [0...    [3.],\n       [3.],\n       [3.],\n       [3.]]), None, 0, 500)\n        kwargs = {'class_weight': None, 'verbose': 0}\n    132 \n    133     def __len__(self):\n    134         return self._size\n    135 \n\n...........................................................................\n/Users/mattgraziano/miniconda3/lib/python3.6/site-packages/sklearn/ensemble/forest.py in _parallel_build_trees(tree=DecisionTreeClassifier(class_weight=None, criter...         random_state=478285657, splitter='best'), forest=RandomForestClassifier(bootstrap=True, class_wei...te=None, verbose=0,\n            warm_start=False), X=array([[0.52898836, 0.00800182, 0.00499292, ...,... 0.10649972,\n        0.04084063]], dtype=float32), y=array([[0.],\n       [0.],\n       [0.],\n       [0...    [3.],\n       [3.],\n       [3.],\n       [3.]]), sample_weight=None, tree_idx=0, n_trees=500, verbose=0, class_weight=None)\n    116                 warnings.simplefilter('ignore', DeprecationWarning)\n    117                 curr_sample_weight *= compute_sample_weight('auto', y, indices)\n    118         elif class_weight == 'balanced_subsample':\n    119             curr_sample_weight *= compute_sample_weight('balanced', y, indices)\n    120 \n--> 121         tree.fit(X, y, sample_weight=curr_sample_weight, check_input=False)\n        tree.fit = <bound method DecisionTreeClassifier.fit of Deci...        random_state=478285657, splitter='best')>\n        X = array([[0.52898836, 0.00800182, 0.00499292, ...,... 0.10649972,\n        0.04084063]], dtype=float32)\n        y = array([[0.],\n       [0.],\n       [0.],\n       [0...    [3.],\n       [3.],\n       [3.],\n       [3.]])\n        sample_weight = None\n        curr_sample_weight = array([0., 0., 1., 1., 0., 1., 1., 0., 0., 2., 1... 2., 4., 1., 0., 2., 0., 1., 2., 0., 0., 0., 2.])\n    122     else:\n    123         tree.fit(X, y, sample_weight=sample_weight, check_input=False)\n    124 \n    125     return tree\n\n...........................................................................\n/Users/mattgraziano/miniconda3/lib/python3.6/site-packages/sklearn/tree/tree.py in fit(self=DecisionTreeClassifier(class_weight=None, criter...         random_state=478285657, splitter='best'), X=array([[0.52898836, 0.00800182, 0.00499292, ...,... 0.10649972,\n        0.04084063]], dtype=float32), y=array([[0.],\n       [0.],\n       [0.],\n       [0...    [3.],\n       [3.],\n       [3.],\n       [3.]]), sample_weight=array([0., 0., 1., 1., 0., 1., 1., 0., 0., 2., 1... 2., 4., 1., 0., 2., 0., 1., 2., 0., 0., 0., 2.]), check_input=False, X_idx_sorted=None)\n    785 \n    786         super(DecisionTreeClassifier, self).fit(\n    787             X, y,\n    788             sample_weight=sample_weight,\n    789             check_input=check_input,\n--> 790             X_idx_sorted=X_idx_sorted)\n        X_idx_sorted = None\n    791         return self\n    792 \n    793     def predict_proba(self, X, check_input=True):\n    794         \"\"\"Predict class probabilities of the input samples X.\n\n...........................................................................\n/Users/mattgraziano/miniconda3/lib/python3.6/site-packages/sklearn/tree/tree.py in fit(self=DecisionTreeClassifier(class_weight=None, criter...         random_state=478285657, splitter='best'), X=array([[0.52898836, 0.00800182, 0.00499292, ...,... 0.10649972,\n        0.04084063]], dtype=float32), y=array([[0.],\n       [0.],\n       [0.],\n       [0...    [3.],\n       [3.],\n       [3.],\n       [3.]]), sample_weight=array([0., 0., 1., 1., 0., 1., 1., 0., 0., 2., 1... 2., 4., 1., 0., 2., 0., 1., 2., 0., 0., 0., 2.]), check_input=False, X_idx_sorted=None)\n    237         if not 0 <= self.min_weight_fraction_leaf <= 0.5:\n    238             raise ValueError(\"min_weight_fraction_leaf must in [0, 0.5]\")\n    239         if max_depth <= 0:\n    240             raise ValueError(\"max_depth must be greater than zero. \")\n    241         if not (0 < max_features <= self.n_features_):\n--> 242             raise ValueError(\"max_features must be in (0, n_features]\")\n    243         if not isinstance(max_leaf_nodes, (numbers.Integral, np.integer)):\n    244             raise ValueError(\"max_leaf_nodes must be integral number but was \"\n    245                              \"%r\" % max_leaf_nodes)\n    246         if -1 < max_leaf_nodes < 2:\n\nValueError: max_features must be in (0, n_features]\n___________________________________________________________________________",
     "output_type": "error",
     "traceback": [
      "\u001b[0;31m---------------------------------------------------------------------------\u001b[0m",
      "\u001b[0;31mRemoteTraceback\u001b[0m                           Traceback (most recent call last)",
      "\u001b[0;31mRemoteTraceback\u001b[0m: \n\"\"\"\nTraceback (most recent call last):\n  File \"/Users/mattgraziano/miniconda3/lib/python3.6/site-packages/sklearn/externals/joblib/_parallel_backends.py\", line 350, in __call__\n    return self.func(*args, **kwargs)\n  File \"/Users/mattgraziano/miniconda3/lib/python3.6/site-packages/sklearn/externals/joblib/parallel.py\", line 131, in __call__\n    return [func(*args, **kwargs) for func, args, kwargs in self.items]\n  File \"/Users/mattgraziano/miniconda3/lib/python3.6/site-packages/sklearn/externals/joblib/parallel.py\", line 131, in <listcomp>\n    return [func(*args, **kwargs) for func, args, kwargs in self.items]\n  File \"/Users/mattgraziano/miniconda3/lib/python3.6/site-packages/sklearn/model_selection/_validation.py\", line 458, in _fit_and_score\n    estimator.fit(X_train, y_train, **fit_params)\n  File \"/Users/mattgraziano/miniconda3/lib/python3.6/site-packages/sklearn/ensemble/forest.py\", line 328, in fit\n    for i, t in enumerate(trees))\n  File \"/Users/mattgraziano/miniconda3/lib/python3.6/site-packages/sklearn/externals/joblib/parallel.py\", line 779, in __call__\n    while self.dispatch_one_batch(iterator):\n  File \"/Users/mattgraziano/miniconda3/lib/python3.6/site-packages/sklearn/externals/joblib/parallel.py\", line 625, in dispatch_one_batch\n    self._dispatch(tasks)\n  File \"/Users/mattgraziano/miniconda3/lib/python3.6/site-packages/sklearn/externals/joblib/parallel.py\", line 588, in _dispatch\n    job = self._backend.apply_async(batch, callback=cb)\n  File \"/Users/mattgraziano/miniconda3/lib/python3.6/site-packages/sklearn/externals/joblib/_parallel_backends.py\", line 111, in apply_async\n    result = ImmediateResult(func)\n  File \"/Users/mattgraziano/miniconda3/lib/python3.6/site-packages/sklearn/externals/joblib/_parallel_backends.py\", line 332, in __init__\n    self.results = batch()\n  File \"/Users/mattgraziano/miniconda3/lib/python3.6/site-packages/sklearn/externals/joblib/parallel.py\", line 131, in __call__\n    return [func(*args, **kwargs) for func, args, kwargs in self.items]\n  File \"/Users/mattgraziano/miniconda3/lib/python3.6/site-packages/sklearn/externals/joblib/parallel.py\", line 131, in <listcomp>\n    return [func(*args, **kwargs) for func, args, kwargs in self.items]\n  File \"/Users/mattgraziano/miniconda3/lib/python3.6/site-packages/sklearn/ensemble/forest.py\", line 121, in _parallel_build_trees\n    tree.fit(X, y, sample_weight=curr_sample_weight, check_input=False)\n  File \"/Users/mattgraziano/miniconda3/lib/python3.6/site-packages/sklearn/tree/tree.py\", line 790, in fit\n    X_idx_sorted=X_idx_sorted)\n  File \"/Users/mattgraziano/miniconda3/lib/python3.6/site-packages/sklearn/tree/tree.py\", line 242, in fit\n    raise ValueError(\"max_features must be in (0, n_features]\")\nValueError: max_features must be in (0, n_features]\n\nDuring handling of the above exception, another exception occurred:\n\nTraceback (most recent call last):\n  File \"/Users/mattgraziano/miniconda3/lib/python3.6/multiprocessing/pool.py\", line 119, in worker\n    result = (True, func(*args, **kwds))\n  File \"/Users/mattgraziano/miniconda3/lib/python3.6/site-packages/sklearn/externals/joblib/_parallel_backends.py\", line 359, in __call__\n    raise TransportableException(text, e_type)\nsklearn.externals.joblib.my_exceptions.TransportableException: TransportableException\n___________________________________________________________________________\nValueError                                         Sun Dec  9 16:07:57 2018\nPID: 32961          Python 3.6.6: /Users/mattgraziano/miniconda3/bin/python\n...........................................................................\n/Users/mattgraziano/miniconda3/lib/python3.6/site-packages/sklearn/externals/joblib/parallel.py in __call__(self=<sklearn.externals.joblib.parallel.BatchedCalls object>)\n    126     def __init__(self, iterator_slice):\n    127         self.items = list(iterator_slice)\n    128         self._size = len(self.items)\n    129 \n    130     def __call__(self):\n--> 131         return [func(*args, **kwargs) for func, args, kwargs in self.items]\n        self.items = [(<function _fit_and_score>, (RandomForestClassifier(bootstrap=True, class_wei...te=None, verbose=0,\n            warm_start=False), [array([0.02481608, 0.0313775 , 0.24114856, 0.012...6332, 0.02728165,\n       0.02227423, 0.45039065]), array([0.40705663, 0.02026695, 0.00874063, 0.219...3962, 0.00816055,\n       0.02328133, 0.01062685]), array([0.02735932, 0.23143827, 0.02453552, 0.011...9679, 0.02341322,\n       0.44781716, 0.03067329]), array([0.52898837, 0.00800182, 0.00499292, 0.189...1802, 0.1543587 ,\n       0.02179417, 0.01137577]), array([0.3903493 , 0.03200056, 0.00443344, 0.003...4676, 0.36613043,\n       0.00893862, 0.00907616]), array([0.0136039 , 0.40107865, 0.01288493, 0.005...9827, 0.00942667,\n       0.01106257, 0.03024889]), array([0.01042004, 0.02478611, 0.00657964, 0.162...2932, 0.2917056 ,\n       0.02009293, 0.00968262]), array([0.02699256, 0.00329047, 0.002592  , 0.037...1518, 0.00417402,\n       0.00597252, 0.20443057]), array([0.00814028, 0.33853393, 0.03313347, 0.004...4218, 0.0089601 ,\n       0.38818895, 0.00936599]), array([0.00612736, 0.00411492, 0.28488798, 0.030...1654, 0.02739191,\n       0.00749626, 0.3323454 ]), array([0.01321583, 0.01134956, 0.02140744, 0.007...543 , 0.01375234,\n       0.3739243 , 0.02151888]), array([0.03980718, 0.00957254, 0.30108334, 0.011...5659, 0.02792529,\n       0.01187424, 0.01223457]), array([0.01580541, 0.00686259, 0.46498465, 0.005...0719, 0.04697036,\n       0.01035984, 0.26750138]), array([0.24062859, 0.03586951, 0.01118935, 0.493...9752, 0.00441689,\n       0.04257396, 0.01066669]), array([0.45346388, 0.01963305, 0.01792912, 0.160...6999, 0.25219981,\n       0.02114304, 0.01648053]), array([0.22305868, 0.02020946, 0.01087926, 0.008...5692, 0.3566509 ,\n       0.00933768, 0.010286  ]), array([0.00813225, 0.50271524, 0.00701917, 0.003...7376, 0.00661752,\n       0.20091419, 0.01936108]), array([0.03435055, 0.01394274, 0.00964535, 0.011...4468, 0.00908611,\n       0.01190597, 0.36555494]), array([0.0140333 , 0.15483224, 0.01358498, 0.009...5164, 0.01181751,\n       0.58436943, 0.01920848]), array([0.00678359, 0.06537088, 0.00888842, 0.352...0498, 0.2358558 ,\n       0.03359509, 0.00580697]), ...], ['Diminished', 'Diminished', 'Diminished', 'Diminished', 'Diminished', 'Diminished', 'Diminished', 'Diminished', 'Diminished', 'Diminished', 'Diminished', 'Diminished', 'Diminished', 'Diminished', 'Diminished', 'Diminished', 'Diminished', 'Diminished', 'Diminished', 'Diminished', ...], {'score': <function _passthrough_scorer>}, array([  3,   4,   5,   6,   7,   8,   9,  10,  ...78, 179, 180, 181, 182, 183, 184, 185, 186, 187]), array([  0,   1,   2,  24,  25,  26,  48,  49,  ...,\n       117, 118, 119, 120, 121, 122, 123, 124]), 0, {'bootstrap': True, 'criterion': 'gini', 'max_depth': 3, 'max_features': 25, 'min_samples_split': 5}), {'error_score': 'raise', 'fit_params': {}, 'return_n_test_samples': True, 'return_parameters': False, 'return_times': True, 'return_train_score': 'warn'})]\n    132 \n    133     def __len__(self):\n    134         return self._size\n    135 \n\n...........................................................................\n/Users/mattgraziano/miniconda3/lib/python3.6/site-packages/sklearn/externals/joblib/parallel.py in <listcomp>(.0=<list_iterator object>)\n    126     def __init__(self, iterator_slice):\n    127         self.items = list(iterator_slice)\n    128         self._size = len(self.items)\n    129 \n    130     def __call__(self):\n--> 131         return [func(*args, **kwargs) for func, args, kwargs in self.items]\n        func = <function _fit_and_score>\n        args = (RandomForestClassifier(bootstrap=True, class_wei...te=None, verbose=0,\n            warm_start=False), [array([0.02481608, 0.0313775 , 0.24114856, 0.012...6332, 0.02728165,\n       0.02227423, 0.45039065]), array([0.40705663, 0.02026695, 0.00874063, 0.219...3962, 0.00816055,\n       0.02328133, 0.01062685]), array([0.02735932, 0.23143827, 0.02453552, 0.011...9679, 0.02341322,\n       0.44781716, 0.03067329]), array([0.52898837, 0.00800182, 0.00499292, 0.189...1802, 0.1543587 ,\n       0.02179417, 0.01137577]), array([0.3903493 , 0.03200056, 0.00443344, 0.003...4676, 0.36613043,\n       0.00893862, 0.00907616]), array([0.0136039 , 0.40107865, 0.01288493, 0.005...9827, 0.00942667,\n       0.01106257, 0.03024889]), array([0.01042004, 0.02478611, 0.00657964, 0.162...2932, 0.2917056 ,\n       0.02009293, 0.00968262]), array([0.02699256, 0.00329047, 0.002592  , 0.037...1518, 0.00417402,\n       0.00597252, 0.20443057]), array([0.00814028, 0.33853393, 0.03313347, 0.004...4218, 0.0089601 ,\n       0.38818895, 0.00936599]), array([0.00612736, 0.00411492, 0.28488798, 0.030...1654, 0.02739191,\n       0.00749626, 0.3323454 ]), array([0.01321583, 0.01134956, 0.02140744, 0.007...543 , 0.01375234,\n       0.3739243 , 0.02151888]), array([0.03980718, 0.00957254, 0.30108334, 0.011...5659, 0.02792529,\n       0.01187424, 0.01223457]), array([0.01580541, 0.00686259, 0.46498465, 0.005...0719, 0.04697036,\n       0.01035984, 0.26750138]), array([0.24062859, 0.03586951, 0.01118935, 0.493...9752, 0.00441689,\n       0.04257396, 0.01066669]), array([0.45346388, 0.01963305, 0.01792912, 0.160...6999, 0.25219981,\n       0.02114304, 0.01648053]), array([0.22305868, 0.02020946, 0.01087926, 0.008...5692, 0.3566509 ,\n       0.00933768, 0.010286  ]), array([0.00813225, 0.50271524, 0.00701917, 0.003...7376, 0.00661752,\n       0.20091419, 0.01936108]), array([0.03435055, 0.01394274, 0.00964535, 0.011...4468, 0.00908611,\n       0.01190597, 0.36555494]), array([0.0140333 , 0.15483224, 0.01358498, 0.009...5164, 0.01181751,\n       0.58436943, 0.01920848]), array([0.00678359, 0.06537088, 0.00888842, 0.352...0498, 0.2358558 ,\n       0.03359509, 0.00580697]), ...], ['Diminished', 'Diminished', 'Diminished', 'Diminished', 'Diminished', 'Diminished', 'Diminished', 'Diminished', 'Diminished', 'Diminished', 'Diminished', 'Diminished', 'Diminished', 'Diminished', 'Diminished', 'Diminished', 'Diminished', 'Diminished', 'Diminished', 'Diminished', ...], {'score': <function _passthrough_scorer>}, array([  3,   4,   5,   6,   7,   8,   9,  10,  ...78, 179, 180, 181, 182, 183, 184, 185, 186, 187]), array([  0,   1,   2,  24,  25,  26,  48,  49,  ...,\n       117, 118, 119, 120, 121, 122, 123, 124]), 0, {'bootstrap': True, 'criterion': 'gini', 'max_depth': 3, 'max_features': 25, 'min_samples_split': 5})\n        kwargs = {'error_score': 'raise', 'fit_params': {}, 'return_n_test_samples': True, 'return_parameters': False, 'return_times': True, 'return_train_score': 'warn'}\n    132 \n    133     def __len__(self):\n    134         return self._size\n    135 \n\n...........................................................................\n/Users/mattgraziano/miniconda3/lib/python3.6/site-packages/sklearn/model_selection/_validation.py in _fit_and_score(estimator=RandomForestClassifier(bootstrap=True, class_wei...te=None, verbose=0,\n            warm_start=False), X=[array([0.02481608, 0.0313775 , 0.24114856, 0.012...6332, 0.02728165,\n       0.02227423, 0.45039065]), array([0.40705663, 0.02026695, 0.00874063, 0.219...3962, 0.00816055,\n       0.02328133, 0.01062685]), array([0.02735932, 0.23143827, 0.02453552, 0.011...9679, 0.02341322,\n       0.44781716, 0.03067329]), array([0.52898837, 0.00800182, 0.00499292, 0.189...1802, 0.1543587 ,\n       0.02179417, 0.01137577]), array([0.3903493 , 0.03200056, 0.00443344, 0.003...4676, 0.36613043,\n       0.00893862, 0.00907616]), array([0.0136039 , 0.40107865, 0.01288493, 0.005...9827, 0.00942667,\n       0.01106257, 0.03024889]), array([0.01042004, 0.02478611, 0.00657964, 0.162...2932, 0.2917056 ,\n       0.02009293, 0.00968262]), array([0.02699256, 0.00329047, 0.002592  , 0.037...1518, 0.00417402,\n       0.00597252, 0.20443057]), array([0.00814028, 0.33853393, 0.03313347, 0.004...4218, 0.0089601 ,\n       0.38818895, 0.00936599]), array([0.00612736, 0.00411492, 0.28488798, 0.030...1654, 0.02739191,\n       0.00749626, 0.3323454 ]), array([0.01321583, 0.01134956, 0.02140744, 0.007...543 , 0.01375234,\n       0.3739243 , 0.02151888]), array([0.03980718, 0.00957254, 0.30108334, 0.011...5659, 0.02792529,\n       0.01187424, 0.01223457]), array([0.01580541, 0.00686259, 0.46498465, 0.005...0719, 0.04697036,\n       0.01035984, 0.26750138]), array([0.24062859, 0.03586951, 0.01118935, 0.493...9752, 0.00441689,\n       0.04257396, 0.01066669]), array([0.45346388, 0.01963305, 0.01792912, 0.160...6999, 0.25219981,\n       0.02114304, 0.01648053]), array([0.22305868, 0.02020946, 0.01087926, 0.008...5692, 0.3566509 ,\n       0.00933768, 0.010286  ]), array([0.00813225, 0.50271524, 0.00701917, 0.003...7376, 0.00661752,\n       0.20091419, 0.01936108]), array([0.03435055, 0.01394274, 0.00964535, 0.011...4468, 0.00908611,\n       0.01190597, 0.36555494]), array([0.0140333 , 0.15483224, 0.01358498, 0.009...5164, 0.01181751,\n       0.58436943, 0.01920848]), array([0.00678359, 0.06537088, 0.00888842, 0.352...0498, 0.2358558 ,\n       0.03359509, 0.00580697]), ...], y=['Diminished', 'Diminished', 'Diminished', 'Diminished', 'Diminished', 'Diminished', 'Diminished', 'Diminished', 'Diminished', 'Diminished', 'Diminished', 'Diminished', 'Diminished', 'Diminished', 'Diminished', 'Diminished', 'Diminished', 'Diminished', 'Diminished', 'Diminished', ...], scorer={'score': <function _passthrough_scorer>}, train=array([  3,   4,   5,   6,   7,   8,   9,  10,  ...78, 179, 180, 181, 182, 183, 184, 185, 186, 187]), test=array([  0,   1,   2,  24,  25,  26,  48,  49,  ...,\n       117, 118, 119, 120, 121, 122, 123, 124]), verbose=0, parameters={'bootstrap': True, 'criterion': 'gini', 'max_depth': 3, 'max_features': 25, 'min_samples_split': 5}, fit_params={}, return_train_score='warn', return_parameters=False, return_n_test_samples=True, return_times=True, error_score='raise')\n    453 \n    454     try:\n    455         if y_train is None:\n    456             estimator.fit(X_train, **fit_params)\n    457         else:\n--> 458             estimator.fit(X_train, y_train, **fit_params)\n        estimator.fit = <bound method BaseForest.fit of RandomForestClas...e=None, verbose=0,\n            warm_start=False)>\n        X_train = [array([0.52898837, 0.00800182, 0.00499292, 0.189...1802, 0.1543587 ,\n       0.02179417, 0.01137577]), array([0.3903493 , 0.03200056, 0.00443344, 0.003...4676, 0.36613043,\n       0.00893862, 0.00907616]), array([0.0136039 , 0.40107865, 0.01288493, 0.005...9827, 0.00942667,\n       0.01106257, 0.03024889]), array([0.01042004, 0.02478611, 0.00657964, 0.162...2932, 0.2917056 ,\n       0.02009293, 0.00968262]), array([0.02699256, 0.00329047, 0.002592  , 0.037...1518, 0.00417402,\n       0.00597252, 0.20443057]), array([0.00814028, 0.33853393, 0.03313347, 0.004...4218, 0.0089601 ,\n       0.38818895, 0.00936599]), array([0.00612736, 0.00411492, 0.28488798, 0.030...1654, 0.02739191,\n       0.00749626, 0.3323454 ]), array([0.01321583, 0.01134956, 0.02140744, 0.007...543 , 0.01375234,\n       0.3739243 , 0.02151888]), array([0.03980718, 0.00957254, 0.30108334, 0.011...5659, 0.02792529,\n       0.01187424, 0.01223457]), array([0.01580541, 0.00686259, 0.46498465, 0.005...0719, 0.04697036,\n       0.01035984, 0.26750138]), array([0.24062859, 0.03586951, 0.01118935, 0.493...9752, 0.00441689,\n       0.04257396, 0.01066669]), array([0.45346388, 0.01963305, 0.01792912, 0.160...6999, 0.25219981,\n       0.02114304, 0.01648053]), array([0.22305868, 0.02020946, 0.01087926, 0.008...5692, 0.3566509 ,\n       0.00933768, 0.010286  ]), array([0.00813225, 0.50271524, 0.00701917, 0.003...7376, 0.00661752,\n       0.20091419, 0.01936108]), array([0.03435055, 0.01394274, 0.00964535, 0.011...4468, 0.00908611,\n       0.01190597, 0.36555494]), array([0.0140333 , 0.15483224, 0.01358498, 0.009...5164, 0.01181751,\n       0.58436943, 0.01920848]), array([0.00678359, 0.06537088, 0.00888842, 0.352...0498, 0.2358558 ,\n       0.03359509, 0.00580697]), array([0.00956548, 0.30625296, 0.03646417, 0.004...1907, 0.00328267,\n       0.00391388, 0.03370796]), array([0.00566623, 0.00583003, 0.05928722, 0.007...535 , 0.00686505,\n       0.18556004, 0.03466939]), array([0.03244662, 0.0058608 , 0.25733687, 0.029...5895, 0.00968093,\n       0.00398558, 0.00470945]), ...]\n        y_train = ['Diminished', 'Diminished', 'Diminished', 'Diminished', 'Diminished', 'Diminished', 'Diminished', 'Diminished', 'Diminished', 'Diminished', 'Diminished', 'Diminished', 'Diminished', 'Diminished', 'Diminished', 'Diminished', 'Diminished', 'Diminished', 'Diminished', 'Diminished', ...]\n        fit_params = {}\n    459 \n    460     except Exception as e:\n    461         # Note fit time as time until error\n    462         fit_time = time.time() - start_time\n\n...........................................................................\n/Users/mattgraziano/miniconda3/lib/python3.6/site-packages/sklearn/ensemble/forest.py in fit(self=RandomForestClassifier(bootstrap=True, class_wei...te=None, verbose=0,\n            warm_start=False), X=array([[0.52898836, 0.00800182, 0.00499292, ...,... 0.10649972,\n        0.04084063]], dtype=float32), y=array([[0.],\n       [0.],\n       [0.],\n       [0...    [3.],\n       [3.],\n       [3.],\n       [3.]]), sample_weight=None)\n    323             trees = Parallel(n_jobs=self.n_jobs, verbose=self.verbose,\n    324                              backend=\"threading\")(\n    325                 delayed(_parallel_build_trees)(\n    326                     t, self, X, y, sample_weight, i, len(trees),\n    327                     verbose=self.verbose, class_weight=self.class_weight)\n--> 328                 for i, t in enumerate(trees))\n        i = 499\n    329 \n    330             # Collect newly grown trees\n    331             self.estimators_.extend(trees)\n    332 \n\n...........................................................................\n/Users/mattgraziano/miniconda3/lib/python3.6/site-packages/sklearn/externals/joblib/parallel.py in __call__(self=Parallel(n_jobs=1), iterable=<generator object BaseForest.fit.<locals>.<genexpr>>)\n    774         self.n_completed_tasks = 0\n    775         try:\n    776             # Only set self._iterating to True if at least a batch\n    777             # was dispatched. In particular this covers the edge\n    778             # case of Parallel used with an exhausted iterator.\n--> 779             while self.dispatch_one_batch(iterator):\n        self.dispatch_one_batch = <bound method Parallel.dispatch_one_batch of Parallel(n_jobs=1)>\n        iterator = <generator object BaseForest.fit.<locals>.<genexpr>>\n    780                 self._iterating = True\n    781             else:\n    782                 self._iterating = False\n    783 \n\n...........................................................................\n/Users/mattgraziano/miniconda3/lib/python3.6/site-packages/sklearn/externals/joblib/parallel.py in dispatch_one_batch(self=Parallel(n_jobs=1), iterator=<generator object BaseForest.fit.<locals>.<genexpr>>)\n    620             tasks = BatchedCalls(itertools.islice(iterator, batch_size))\n    621             if len(tasks) == 0:\n    622                 # No more tasks available in the iterator: tell caller to stop.\n    623                 return False\n    624             else:\n--> 625                 self._dispatch(tasks)\n        self._dispatch = <bound method Parallel._dispatch of Parallel(n_jobs=1)>\n        tasks = <sklearn.externals.joblib.parallel.BatchedCalls object>\n    626                 return True\n    627 \n    628     def _print(self, msg, msg_args):\n    629         \"\"\"Display the message on stout or stderr depending on verbosity\"\"\"\n\n...........................................................................\n/Users/mattgraziano/miniconda3/lib/python3.6/site-packages/sklearn/externals/joblib/parallel.py in _dispatch(self=Parallel(n_jobs=1), batch=<sklearn.externals.joblib.parallel.BatchedCalls object>)\n    583         self.n_dispatched_tasks += len(batch)\n    584         self.n_dispatched_batches += 1\n    585 \n    586         dispatch_timestamp = time.time()\n    587         cb = BatchCompletionCallBack(dispatch_timestamp, len(batch), self)\n--> 588         job = self._backend.apply_async(batch, callback=cb)\n        job = undefined\n        self._backend.apply_async = <bound method SequentialBackend.apply_async of <...lib._parallel_backends.SequentialBackend object>>\n        batch = <sklearn.externals.joblib.parallel.BatchedCalls object>\n        cb = <sklearn.externals.joblib.parallel.BatchCompletionCallBack object>\n    589         self._jobs.append(job)\n    590 \n    591     def dispatch_next(self):\n    592         \"\"\"Dispatch more data for parallel processing\n\n...........................................................................\n/Users/mattgraziano/miniconda3/lib/python3.6/site-packages/sklearn/externals/joblib/_parallel_backends.py in apply_async(self=<sklearn.externals.joblib._parallel_backends.SequentialBackend object>, func=<sklearn.externals.joblib.parallel.BatchedCalls object>, callback=<sklearn.externals.joblib.parallel.BatchCompletionCallBack object>)\n    106             raise ValueError('n_jobs == 0 in Parallel has no meaning')\n    107         return 1\n    108 \n    109     def apply_async(self, func, callback=None):\n    110         \"\"\"Schedule a func to be run\"\"\"\n--> 111         result = ImmediateResult(func)\n        result = undefined\n        func = <sklearn.externals.joblib.parallel.BatchedCalls object>\n    112         if callback:\n    113             callback(result)\n    114         return result\n    115 \n\n...........................................................................\n/Users/mattgraziano/miniconda3/lib/python3.6/site-packages/sklearn/externals/joblib/_parallel_backends.py in __init__(self=<sklearn.externals.joblib._parallel_backends.ImmediateResult object>, batch=<sklearn.externals.joblib.parallel.BatchedCalls object>)\n    327 \n    328 class ImmediateResult(object):\n    329     def __init__(self, batch):\n    330         # Don't delay the application, to avoid keeping the input\n    331         # arguments in memory\n--> 332         self.results = batch()\n        self.results = undefined\n        batch = <sklearn.externals.joblib.parallel.BatchedCalls object>\n    333 \n    334     def get(self):\n    335         return self.results\n    336 \n\n...........................................................................\n/Users/mattgraziano/miniconda3/lib/python3.6/site-packages/sklearn/externals/joblib/parallel.py in __call__(self=<sklearn.externals.joblib.parallel.BatchedCalls object>)\n    126     def __init__(self, iterator_slice):\n    127         self.items = list(iterator_slice)\n    128         self._size = len(self.items)\n    129 \n    130     def __call__(self):\n--> 131         return [func(*args, **kwargs) for func, args, kwargs in self.items]\n        self.items = [(<function _parallel_build_trees>, (DecisionTreeClassifier(class_weight=None, criter...         random_state=478285657, splitter='best'), RandomForestClassifier(bootstrap=True, class_wei...te=None, verbose=0,\n            warm_start=False), array([[0.52898836, 0.00800182, 0.00499292, ...,... 0.10649972,\n        0.04084063]], dtype=float32), array([[0.],\n       [0.],\n       [0.],\n       [0...    [3.],\n       [3.],\n       [3.],\n       [3.]]), None, 0, 500), {'class_weight': None, 'verbose': 0})]\n    132 \n    133     def __len__(self):\n    134         return self._size\n    135 \n\n...........................................................................\n/Users/mattgraziano/miniconda3/lib/python3.6/site-packages/sklearn/externals/joblib/parallel.py in <listcomp>(.0=<list_iterator object>)\n    126     def __init__(self, iterator_slice):\n    127         self.items = list(iterator_slice)\n    128         self._size = len(self.items)\n    129 \n    130     def __call__(self):\n--> 131         return [func(*args, **kwargs) for func, args, kwargs in self.items]\n        func = <function _parallel_build_trees>\n        args = (DecisionTreeClassifier(class_weight=None, criter...         random_state=478285657, splitter='best'), RandomForestClassifier(bootstrap=True, class_wei...te=None, verbose=0,\n            warm_start=False), array([[0.52898836, 0.00800182, 0.00499292, ...,... 0.10649972,\n        0.04084063]], dtype=float32), array([[0.],\n       [0.],\n       [0.],\n       [0...    [3.],\n       [3.],\n       [3.],\n       [3.]]), None, 0, 500)\n        kwargs = {'class_weight': None, 'verbose': 0}\n    132 \n    133     def __len__(self):\n    134         return self._size\n    135 \n\n...........................................................................\n/Users/mattgraziano/miniconda3/lib/python3.6/site-packages/sklearn/ensemble/forest.py in _parallel_build_trees(tree=DecisionTreeClassifier(class_weight=None, criter...         random_state=478285657, splitter='best'), forest=RandomForestClassifier(bootstrap=True, class_wei...te=None, verbose=0,\n            warm_start=False), X=array([[0.52898836, 0.00800182, 0.00499292, ...,... 0.10649972,\n        0.04084063]], dtype=float32), y=array([[0.],\n       [0.],\n       [0.],\n       [0...    [3.],\n       [3.],\n       [3.],\n       [3.]]), sample_weight=None, tree_idx=0, n_trees=500, verbose=0, class_weight=None)\n    116                 warnings.simplefilter('ignore', DeprecationWarning)\n    117                 curr_sample_weight *= compute_sample_weight('auto', y, indices)\n    118         elif class_weight == 'balanced_subsample':\n    119             curr_sample_weight *= compute_sample_weight('balanced', y, indices)\n    120 \n--> 121         tree.fit(X, y, sample_weight=curr_sample_weight, check_input=False)\n        tree.fit = <bound method DecisionTreeClassifier.fit of Deci...        random_state=478285657, splitter='best')>\n        X = array([[0.52898836, 0.00800182, 0.00499292, ...,... 0.10649972,\n        0.04084063]], dtype=float32)\n        y = array([[0.],\n       [0.],\n       [0.],\n       [0...    [3.],\n       [3.],\n       [3.],\n       [3.]])\n        sample_weight = None\n        curr_sample_weight = array([0., 0., 1., 1., 0., 1., 1., 0., 0., 2., 1... 2., 4., 1., 0., 2., 0., 1., 2., 0., 0., 0., 2.])\n    122     else:\n    123         tree.fit(X, y, sample_weight=sample_weight, check_input=False)\n    124 \n    125     return tree\n\n...........................................................................\n/Users/mattgraziano/miniconda3/lib/python3.6/site-packages/sklearn/tree/tree.py in fit(self=DecisionTreeClassifier(class_weight=None, criter...         random_state=478285657, splitter='best'), X=array([[0.52898836, 0.00800182, 0.00499292, ...,... 0.10649972,\n        0.04084063]], dtype=float32), y=array([[0.],\n       [0.],\n       [0.],\n       [0...    [3.],\n       [3.],\n       [3.],\n       [3.]]), sample_weight=array([0., 0., 1., 1., 0., 1., 1., 0., 0., 2., 1... 2., 4., 1., 0., 2., 0., 1., 2., 0., 0., 0., 2.]), check_input=False, X_idx_sorted=None)\n    785 \n    786         super(DecisionTreeClassifier, self).fit(\n    787             X, y,\n    788             sample_weight=sample_weight,\n    789             check_input=check_input,\n--> 790             X_idx_sorted=X_idx_sorted)\n        X_idx_sorted = None\n    791         return self\n    792 \n    793     def predict_proba(self, X, check_input=True):\n    794         \"\"\"Predict class probabilities of the input samples X.\n\n...........................................................................\n/Users/mattgraziano/miniconda3/lib/python3.6/site-packages/sklearn/tree/tree.py in fit(self=DecisionTreeClassifier(class_weight=None, criter...         random_state=478285657, splitter='best'), X=array([[0.52898836, 0.00800182, 0.00499292, ...,... 0.10649972,\n        0.04084063]], dtype=float32), y=array([[0.],\n       [0.],\n       [0.],\n       [0...    [3.],\n       [3.],\n       [3.],\n       [3.]]), sample_weight=array([0., 0., 1., 1., 0., 1., 1., 0., 0., 2., 1... 2., 4., 1., 0., 2., 0., 1., 2., 0., 0., 0., 2.]), check_input=False, X_idx_sorted=None)\n    237         if not 0 <= self.min_weight_fraction_leaf <= 0.5:\n    238             raise ValueError(\"min_weight_fraction_leaf must in [0, 0.5]\")\n    239         if max_depth <= 0:\n    240             raise ValueError(\"max_depth must be greater than zero. \")\n    241         if not (0 < max_features <= self.n_features_):\n--> 242             raise ValueError(\"max_features must be in (0, n_features]\")\n    243         if not isinstance(max_leaf_nodes, (numbers.Integral, np.integer)):\n    244             raise ValueError(\"max_leaf_nodes must be integral number but was \"\n    245                              \"%r\" % max_leaf_nodes)\n    246         if -1 < max_leaf_nodes < 2:\n\nValueError: max_features must be in (0, n_features]\n___________________________________________________________________________\n\"\"\"",
      "\nThe above exception was the direct cause of the following exception:\n",
      "\u001b[0;31mTransportableException\u001b[0m                    Traceback (most recent call last)",
      "\u001b[0;32m~/miniconda3/lib/python3.6/site-packages/sklearn/externals/joblib/parallel.py\u001b[0m in \u001b[0;36mretrieve\u001b[0;34m(self)\u001b[0m\n\u001b[1;32m    698\u001b[0m                 \u001b[0;32mif\u001b[0m \u001b[0mgetattr\u001b[0m\u001b[0;34m(\u001b[0m\u001b[0mself\u001b[0m\u001b[0;34m.\u001b[0m\u001b[0m_backend\u001b[0m\u001b[0;34m,\u001b[0m \u001b[0;34m'supports_timeout'\u001b[0m\u001b[0;34m,\u001b[0m \u001b[0;32mFalse\u001b[0m\u001b[0;34m)\u001b[0m\u001b[0;34m:\u001b[0m\u001b[0;34m\u001b[0m\u001b[0m\n\u001b[0;32m--> 699\u001b[0;31m                     \u001b[0mself\u001b[0m\u001b[0;34m.\u001b[0m\u001b[0m_output\u001b[0m\u001b[0;34m.\u001b[0m\u001b[0mextend\u001b[0m\u001b[0;34m(\u001b[0m\u001b[0mjob\u001b[0m\u001b[0;34m.\u001b[0m\u001b[0mget\u001b[0m\u001b[0;34m(\u001b[0m\u001b[0mtimeout\u001b[0m\u001b[0;34m=\u001b[0m\u001b[0mself\u001b[0m\u001b[0;34m.\u001b[0m\u001b[0mtimeout\u001b[0m\u001b[0;34m)\u001b[0m\u001b[0;34m)\u001b[0m\u001b[0;34m\u001b[0m\u001b[0m\n\u001b[0m\u001b[1;32m    700\u001b[0m                 \u001b[0;32melse\u001b[0m\u001b[0;34m:\u001b[0m\u001b[0;34m\u001b[0m\u001b[0m\n",
      "\u001b[0;32m~/miniconda3/lib/python3.6/multiprocessing/pool.py\u001b[0m in \u001b[0;36mget\u001b[0;34m(self, timeout)\u001b[0m\n\u001b[1;32m    643\u001b[0m         \u001b[0;32melse\u001b[0m\u001b[0;34m:\u001b[0m\u001b[0;34m\u001b[0m\u001b[0m\n\u001b[0;32m--> 644\u001b[0;31m             \u001b[0;32mraise\u001b[0m \u001b[0mself\u001b[0m\u001b[0;34m.\u001b[0m\u001b[0m_value\u001b[0m\u001b[0;34m\u001b[0m\u001b[0m\n\u001b[0m\u001b[1;32m    645\u001b[0m \u001b[0;34m\u001b[0m\u001b[0m\n",
      "\u001b[0;31mTransportableException\u001b[0m: TransportableException\n___________________________________________________________________________\nValueError                                         Sun Dec  9 16:07:57 2018\nPID: 32961          Python 3.6.6: /Users/mattgraziano/miniconda3/bin/python\n...........................................................................\n/Users/mattgraziano/miniconda3/lib/python3.6/site-packages/sklearn/externals/joblib/parallel.py in __call__(self=<sklearn.externals.joblib.parallel.BatchedCalls object>)\n    126     def __init__(self, iterator_slice):\n    127         self.items = list(iterator_slice)\n    128         self._size = len(self.items)\n    129 \n    130     def __call__(self):\n--> 131         return [func(*args, **kwargs) for func, args, kwargs in self.items]\n        self.items = [(<function _fit_and_score>, (RandomForestClassifier(bootstrap=True, class_wei...te=None, verbose=0,\n            warm_start=False), [array([0.02481608, 0.0313775 , 0.24114856, 0.012...6332, 0.02728165,\n       0.02227423, 0.45039065]), array([0.40705663, 0.02026695, 0.00874063, 0.219...3962, 0.00816055,\n       0.02328133, 0.01062685]), array([0.02735932, 0.23143827, 0.02453552, 0.011...9679, 0.02341322,\n       0.44781716, 0.03067329]), array([0.52898837, 0.00800182, 0.00499292, 0.189...1802, 0.1543587 ,\n       0.02179417, 0.01137577]), array([0.3903493 , 0.03200056, 0.00443344, 0.003...4676, 0.36613043,\n       0.00893862, 0.00907616]), array([0.0136039 , 0.40107865, 0.01288493, 0.005...9827, 0.00942667,\n       0.01106257, 0.03024889]), array([0.01042004, 0.02478611, 0.00657964, 0.162...2932, 0.2917056 ,\n       0.02009293, 0.00968262]), array([0.02699256, 0.00329047, 0.002592  , 0.037...1518, 0.00417402,\n       0.00597252, 0.20443057]), array([0.00814028, 0.33853393, 0.03313347, 0.004...4218, 0.0089601 ,\n       0.38818895, 0.00936599]), array([0.00612736, 0.00411492, 0.28488798, 0.030...1654, 0.02739191,\n       0.00749626, 0.3323454 ]), array([0.01321583, 0.01134956, 0.02140744, 0.007...543 , 0.01375234,\n       0.3739243 , 0.02151888]), array([0.03980718, 0.00957254, 0.30108334, 0.011...5659, 0.02792529,\n       0.01187424, 0.01223457]), array([0.01580541, 0.00686259, 0.46498465, 0.005...0719, 0.04697036,\n       0.01035984, 0.26750138]), array([0.24062859, 0.03586951, 0.01118935, 0.493...9752, 0.00441689,\n       0.04257396, 0.01066669]), array([0.45346388, 0.01963305, 0.01792912, 0.160...6999, 0.25219981,\n       0.02114304, 0.01648053]), array([0.22305868, 0.02020946, 0.01087926, 0.008...5692, 0.3566509 ,\n       0.00933768, 0.010286  ]), array([0.00813225, 0.50271524, 0.00701917, 0.003...7376, 0.00661752,\n       0.20091419, 0.01936108]), array([0.03435055, 0.01394274, 0.00964535, 0.011...4468, 0.00908611,\n       0.01190597, 0.36555494]), array([0.0140333 , 0.15483224, 0.01358498, 0.009...5164, 0.01181751,\n       0.58436943, 0.01920848]), array([0.00678359, 0.06537088, 0.00888842, 0.352...0498, 0.2358558 ,\n       0.03359509, 0.00580697]), ...], ['Diminished', 'Diminished', 'Diminished', 'Diminished', 'Diminished', 'Diminished', 'Diminished', 'Diminished', 'Diminished', 'Diminished', 'Diminished', 'Diminished', 'Diminished', 'Diminished', 'Diminished', 'Diminished', 'Diminished', 'Diminished', 'Diminished', 'Diminished', ...], {'score': <function _passthrough_scorer>}, array([  3,   4,   5,   6,   7,   8,   9,  10,  ...78, 179, 180, 181, 182, 183, 184, 185, 186, 187]), array([  0,   1,   2,  24,  25,  26,  48,  49,  ...,\n       117, 118, 119, 120, 121, 122, 123, 124]), 0, {'bootstrap': True, 'criterion': 'gini', 'max_depth': 3, 'max_features': 25, 'min_samples_split': 5}), {'error_score': 'raise', 'fit_params': {}, 'return_n_test_samples': True, 'return_parameters': False, 'return_times': True, 'return_train_score': 'warn'})]\n    132 \n    133     def __len__(self):\n    134         return self._size\n    135 \n\n...........................................................................\n/Users/mattgraziano/miniconda3/lib/python3.6/site-packages/sklearn/externals/joblib/parallel.py in <listcomp>(.0=<list_iterator object>)\n    126     def __init__(self, iterator_slice):\n    127         self.items = list(iterator_slice)\n    128         self._size = len(self.items)\n    129 \n    130     def __call__(self):\n--> 131         return [func(*args, **kwargs) for func, args, kwargs in self.items]\n        func = <function _fit_and_score>\n        args = (RandomForestClassifier(bootstrap=True, class_wei...te=None, verbose=0,\n            warm_start=False), [array([0.02481608, 0.0313775 , 0.24114856, 0.012...6332, 0.02728165,\n       0.02227423, 0.45039065]), array([0.40705663, 0.02026695, 0.00874063, 0.219...3962, 0.00816055,\n       0.02328133, 0.01062685]), array([0.02735932, 0.23143827, 0.02453552, 0.011...9679, 0.02341322,\n       0.44781716, 0.03067329]), array([0.52898837, 0.00800182, 0.00499292, 0.189...1802, 0.1543587 ,\n       0.02179417, 0.01137577]), array([0.3903493 , 0.03200056, 0.00443344, 0.003...4676, 0.36613043,\n       0.00893862, 0.00907616]), array([0.0136039 , 0.40107865, 0.01288493, 0.005...9827, 0.00942667,\n       0.01106257, 0.03024889]), array([0.01042004, 0.02478611, 0.00657964, 0.162...2932, 0.2917056 ,\n       0.02009293, 0.00968262]), array([0.02699256, 0.00329047, 0.002592  , 0.037...1518, 0.00417402,\n       0.00597252, 0.20443057]), array([0.00814028, 0.33853393, 0.03313347, 0.004...4218, 0.0089601 ,\n       0.38818895, 0.00936599]), array([0.00612736, 0.00411492, 0.28488798, 0.030...1654, 0.02739191,\n       0.00749626, 0.3323454 ]), array([0.01321583, 0.01134956, 0.02140744, 0.007...543 , 0.01375234,\n       0.3739243 , 0.02151888]), array([0.03980718, 0.00957254, 0.30108334, 0.011...5659, 0.02792529,\n       0.01187424, 0.01223457]), array([0.01580541, 0.00686259, 0.46498465, 0.005...0719, 0.04697036,\n       0.01035984, 0.26750138]), array([0.24062859, 0.03586951, 0.01118935, 0.493...9752, 0.00441689,\n       0.04257396, 0.01066669]), array([0.45346388, 0.01963305, 0.01792912, 0.160...6999, 0.25219981,\n       0.02114304, 0.01648053]), array([0.22305868, 0.02020946, 0.01087926, 0.008...5692, 0.3566509 ,\n       0.00933768, 0.010286  ]), array([0.00813225, 0.50271524, 0.00701917, 0.003...7376, 0.00661752,\n       0.20091419, 0.01936108]), array([0.03435055, 0.01394274, 0.00964535, 0.011...4468, 0.00908611,\n       0.01190597, 0.36555494]), array([0.0140333 , 0.15483224, 0.01358498, 0.009...5164, 0.01181751,\n       0.58436943, 0.01920848]), array([0.00678359, 0.06537088, 0.00888842, 0.352...0498, 0.2358558 ,\n       0.03359509, 0.00580697]), ...], ['Diminished', 'Diminished', 'Diminished', 'Diminished', 'Diminished', 'Diminished', 'Diminished', 'Diminished', 'Diminished', 'Diminished', 'Diminished', 'Diminished', 'Diminished', 'Diminished', 'Diminished', 'Diminished', 'Diminished', 'Diminished', 'Diminished', 'Diminished', ...], {'score': <function _passthrough_scorer>}, array([  3,   4,   5,   6,   7,   8,   9,  10,  ...78, 179, 180, 181, 182, 183, 184, 185, 186, 187]), array([  0,   1,   2,  24,  25,  26,  48,  49,  ...,\n       117, 118, 119, 120, 121, 122, 123, 124]), 0, {'bootstrap': True, 'criterion': 'gini', 'max_depth': 3, 'max_features': 25, 'min_samples_split': 5})\n        kwargs = {'error_score': 'raise', 'fit_params': {}, 'return_n_test_samples': True, 'return_parameters': False, 'return_times': True, 'return_train_score': 'warn'}\n    132 \n    133     def __len__(self):\n    134         return self._size\n    135 \n\n...........................................................................\n/Users/mattgraziano/miniconda3/lib/python3.6/site-packages/sklearn/model_selection/_validation.py in _fit_and_score(estimator=RandomForestClassifier(bootstrap=True, class_wei...te=None, verbose=0,\n            warm_start=False), X=[array([0.02481608, 0.0313775 , 0.24114856, 0.012...6332, 0.02728165,\n       0.02227423, 0.45039065]), array([0.40705663, 0.02026695, 0.00874063, 0.219...3962, 0.00816055,\n       0.02328133, 0.01062685]), array([0.02735932, 0.23143827, 0.02453552, 0.011...9679, 0.02341322,\n       0.44781716, 0.03067329]), array([0.52898837, 0.00800182, 0.00499292, 0.189...1802, 0.1543587 ,\n       0.02179417, 0.01137577]), array([0.3903493 , 0.03200056, 0.00443344, 0.003...4676, 0.36613043,\n       0.00893862, 0.00907616]), array([0.0136039 , 0.40107865, 0.01288493, 0.005...9827, 0.00942667,\n       0.01106257, 0.03024889]), array([0.01042004, 0.02478611, 0.00657964, 0.162...2932, 0.2917056 ,\n       0.02009293, 0.00968262]), array([0.02699256, 0.00329047, 0.002592  , 0.037...1518, 0.00417402,\n       0.00597252, 0.20443057]), array([0.00814028, 0.33853393, 0.03313347, 0.004...4218, 0.0089601 ,\n       0.38818895, 0.00936599]), array([0.00612736, 0.00411492, 0.28488798, 0.030...1654, 0.02739191,\n       0.00749626, 0.3323454 ]), array([0.01321583, 0.01134956, 0.02140744, 0.007...543 , 0.01375234,\n       0.3739243 , 0.02151888]), array([0.03980718, 0.00957254, 0.30108334, 0.011...5659, 0.02792529,\n       0.01187424, 0.01223457]), array([0.01580541, 0.00686259, 0.46498465, 0.005...0719, 0.04697036,\n       0.01035984, 0.26750138]), array([0.24062859, 0.03586951, 0.01118935, 0.493...9752, 0.00441689,\n       0.04257396, 0.01066669]), array([0.45346388, 0.01963305, 0.01792912, 0.160...6999, 0.25219981,\n       0.02114304, 0.01648053]), array([0.22305868, 0.02020946, 0.01087926, 0.008...5692, 0.3566509 ,\n       0.00933768, 0.010286  ]), array([0.00813225, 0.50271524, 0.00701917, 0.003...7376, 0.00661752,\n       0.20091419, 0.01936108]), array([0.03435055, 0.01394274, 0.00964535, 0.011...4468, 0.00908611,\n       0.01190597, 0.36555494]), array([0.0140333 , 0.15483224, 0.01358498, 0.009...5164, 0.01181751,\n       0.58436943, 0.01920848]), array([0.00678359, 0.06537088, 0.00888842, 0.352...0498, 0.2358558 ,\n       0.03359509, 0.00580697]), ...], y=['Diminished', 'Diminished', 'Diminished', 'Diminished', 'Diminished', 'Diminished', 'Diminished', 'Diminished', 'Diminished', 'Diminished', 'Diminished', 'Diminished', 'Diminished', 'Diminished', 'Diminished', 'Diminished', 'Diminished', 'Diminished', 'Diminished', 'Diminished', ...], scorer={'score': <function _passthrough_scorer>}, train=array([  3,   4,   5,   6,   7,   8,   9,  10,  ...78, 179, 180, 181, 182, 183, 184, 185, 186, 187]), test=array([  0,   1,   2,  24,  25,  26,  48,  49,  ...,\n       117, 118, 119, 120, 121, 122, 123, 124]), verbose=0, parameters={'bootstrap': True, 'criterion': 'gini', 'max_depth': 3, 'max_features': 25, 'min_samples_split': 5}, fit_params={}, return_train_score='warn', return_parameters=False, return_n_test_samples=True, return_times=True, error_score='raise')\n    453 \n    454     try:\n    455         if y_train is None:\n    456             estimator.fit(X_train, **fit_params)\n    457         else:\n--> 458             estimator.fit(X_train, y_train, **fit_params)\n        estimator.fit = <bound method BaseForest.fit of RandomForestClas...e=None, verbose=0,\n            warm_start=False)>\n        X_train = [array([0.52898837, 0.00800182, 0.00499292, 0.189...1802, 0.1543587 ,\n       0.02179417, 0.01137577]), array([0.3903493 , 0.03200056, 0.00443344, 0.003...4676, 0.36613043,\n       0.00893862, 0.00907616]), array([0.0136039 , 0.40107865, 0.01288493, 0.005...9827, 0.00942667,\n       0.01106257, 0.03024889]), array([0.01042004, 0.02478611, 0.00657964, 0.162...2932, 0.2917056 ,\n       0.02009293, 0.00968262]), array([0.02699256, 0.00329047, 0.002592  , 0.037...1518, 0.00417402,\n       0.00597252, 0.20443057]), array([0.00814028, 0.33853393, 0.03313347, 0.004...4218, 0.0089601 ,\n       0.38818895, 0.00936599]), array([0.00612736, 0.00411492, 0.28488798, 0.030...1654, 0.02739191,\n       0.00749626, 0.3323454 ]), array([0.01321583, 0.01134956, 0.02140744, 0.007...543 , 0.01375234,\n       0.3739243 , 0.02151888]), array([0.03980718, 0.00957254, 0.30108334, 0.011...5659, 0.02792529,\n       0.01187424, 0.01223457]), array([0.01580541, 0.00686259, 0.46498465, 0.005...0719, 0.04697036,\n       0.01035984, 0.26750138]), array([0.24062859, 0.03586951, 0.01118935, 0.493...9752, 0.00441689,\n       0.04257396, 0.01066669]), array([0.45346388, 0.01963305, 0.01792912, 0.160...6999, 0.25219981,\n       0.02114304, 0.01648053]), array([0.22305868, 0.02020946, 0.01087926, 0.008...5692, 0.3566509 ,\n       0.00933768, 0.010286  ]), array([0.00813225, 0.50271524, 0.00701917, 0.003...7376, 0.00661752,\n       0.20091419, 0.01936108]), array([0.03435055, 0.01394274, 0.00964535, 0.011...4468, 0.00908611,\n       0.01190597, 0.36555494]), array([0.0140333 , 0.15483224, 0.01358498, 0.009...5164, 0.01181751,\n       0.58436943, 0.01920848]), array([0.00678359, 0.06537088, 0.00888842, 0.352...0498, 0.2358558 ,\n       0.03359509, 0.00580697]), array([0.00956548, 0.30625296, 0.03646417, 0.004...1907, 0.00328267,\n       0.00391388, 0.03370796]), array([0.00566623, 0.00583003, 0.05928722, 0.007...535 , 0.00686505,\n       0.18556004, 0.03466939]), array([0.03244662, 0.0058608 , 0.25733687, 0.029...5895, 0.00968093,\n       0.00398558, 0.00470945]), ...]\n        y_train = ['Diminished', 'Diminished', 'Diminished', 'Diminished', 'Diminished', 'Diminished', 'Diminished', 'Diminished', 'Diminished', 'Diminished', 'Diminished', 'Diminished', 'Diminished', 'Diminished', 'Diminished', 'Diminished', 'Diminished', 'Diminished', 'Diminished', 'Diminished', ...]\n        fit_params = {}\n    459 \n    460     except Exception as e:\n    461         # Note fit time as time until error\n    462         fit_time = time.time() - start_time\n\n...........................................................................\n/Users/mattgraziano/miniconda3/lib/python3.6/site-packages/sklearn/ensemble/forest.py in fit(self=RandomForestClassifier(bootstrap=True, class_wei...te=None, verbose=0,\n            warm_start=False), X=array([[0.52898836, 0.00800182, 0.00499292, ...,... 0.10649972,\n        0.04084063]], dtype=float32), y=array([[0.],\n       [0.],\n       [0.],\n       [0...    [3.],\n       [3.],\n       [3.],\n       [3.]]), sample_weight=None)\n    323             trees = Parallel(n_jobs=self.n_jobs, verbose=self.verbose,\n    324                              backend=\"threading\")(\n    325                 delayed(_parallel_build_trees)(\n    326                     t, self, X, y, sample_weight, i, len(trees),\n    327                     verbose=self.verbose, class_weight=self.class_weight)\n--> 328                 for i, t in enumerate(trees))\n        i = 499\n    329 \n    330             # Collect newly grown trees\n    331             self.estimators_.extend(trees)\n    332 \n\n...........................................................................\n/Users/mattgraziano/miniconda3/lib/python3.6/site-packages/sklearn/externals/joblib/parallel.py in __call__(self=Parallel(n_jobs=1), iterable=<generator object BaseForest.fit.<locals>.<genexpr>>)\n    774         self.n_completed_tasks = 0\n    775         try:\n    776             # Only set self._iterating to True if at least a batch\n    777             # was dispatched. In particular this covers the edge\n    778             # case of Parallel used with an exhausted iterator.\n--> 779             while self.dispatch_one_batch(iterator):\n        self.dispatch_one_batch = <bound method Parallel.dispatch_one_batch of Parallel(n_jobs=1)>\n        iterator = <generator object BaseForest.fit.<locals>.<genexpr>>\n    780                 self._iterating = True\n    781             else:\n    782                 self._iterating = False\n    783 \n\n...........................................................................\n/Users/mattgraziano/miniconda3/lib/python3.6/site-packages/sklearn/externals/joblib/parallel.py in dispatch_one_batch(self=Parallel(n_jobs=1), iterator=<generator object BaseForest.fit.<locals>.<genexpr>>)\n    620             tasks = BatchedCalls(itertools.islice(iterator, batch_size))\n    621             if len(tasks) == 0:\n    622                 # No more tasks available in the iterator: tell caller to stop.\n    623                 return False\n    624             else:\n--> 625                 self._dispatch(tasks)\n        self._dispatch = <bound method Parallel._dispatch of Parallel(n_jobs=1)>\n        tasks = <sklearn.externals.joblib.parallel.BatchedCalls object>\n    626                 return True\n    627 \n    628     def _print(self, msg, msg_args):\n    629         \"\"\"Display the message on stout or stderr depending on verbosity\"\"\"\n\n...........................................................................\n/Users/mattgraziano/miniconda3/lib/python3.6/site-packages/sklearn/externals/joblib/parallel.py in _dispatch(self=Parallel(n_jobs=1), batch=<sklearn.externals.joblib.parallel.BatchedCalls object>)\n    583         self.n_dispatched_tasks += len(batch)\n    584         self.n_dispatched_batches += 1\n    585 \n    586         dispatch_timestamp = time.time()\n    587         cb = BatchCompletionCallBack(dispatch_timestamp, len(batch), self)\n--> 588         job = self._backend.apply_async(batch, callback=cb)\n        job = undefined\n        self._backend.apply_async = <bound method SequentialBackend.apply_async of <...lib._parallel_backends.SequentialBackend object>>\n        batch = <sklearn.externals.joblib.parallel.BatchedCalls object>\n        cb = <sklearn.externals.joblib.parallel.BatchCompletionCallBack object>\n    589         self._jobs.append(job)\n    590 \n    591     def dispatch_next(self):\n    592         \"\"\"Dispatch more data for parallel processing\n\n...........................................................................\n/Users/mattgraziano/miniconda3/lib/python3.6/site-packages/sklearn/externals/joblib/_parallel_backends.py in apply_async(self=<sklearn.externals.joblib._parallel_backends.SequentialBackend object>, func=<sklearn.externals.joblib.parallel.BatchedCalls object>, callback=<sklearn.externals.joblib.parallel.BatchCompletionCallBack object>)\n    106             raise ValueError('n_jobs == 0 in Parallel has no meaning')\n    107         return 1\n    108 \n    109     def apply_async(self, func, callback=None):\n    110         \"\"\"Schedule a func to be run\"\"\"\n--> 111         result = ImmediateResult(func)\n        result = undefined\n        func = <sklearn.externals.joblib.parallel.BatchedCalls object>\n    112         if callback:\n    113             callback(result)\n    114         return result\n    115 \n\n...........................................................................\n/Users/mattgraziano/miniconda3/lib/python3.6/site-packages/sklearn/externals/joblib/_parallel_backends.py in __init__(self=<sklearn.externals.joblib._parallel_backends.ImmediateResult object>, batch=<sklearn.externals.joblib.parallel.BatchedCalls object>)\n    327 \n    328 class ImmediateResult(object):\n    329     def __init__(self, batch):\n    330         # Don't delay the application, to avoid keeping the input\n    331         # arguments in memory\n--> 332         self.results = batch()\n        self.results = undefined\n        batch = <sklearn.externals.joblib.parallel.BatchedCalls object>\n    333 \n    334     def get(self):\n    335         return self.results\n    336 \n\n...........................................................................\n/Users/mattgraziano/miniconda3/lib/python3.6/site-packages/sklearn/externals/joblib/parallel.py in __call__(self=<sklearn.externals.joblib.parallel.BatchedCalls object>)\n    126     def __init__(self, iterator_slice):\n    127         self.items = list(iterator_slice)\n    128         self._size = len(self.items)\n    129 \n    130     def __call__(self):\n--> 131         return [func(*args, **kwargs) for func, args, kwargs in self.items]\n        self.items = [(<function _parallel_build_trees>, (DecisionTreeClassifier(class_weight=None, criter...         random_state=478285657, splitter='best'), RandomForestClassifier(bootstrap=True, class_wei...te=None, verbose=0,\n            warm_start=False), array([[0.52898836, 0.00800182, 0.00499292, ...,... 0.10649972,\n        0.04084063]], dtype=float32), array([[0.],\n       [0.],\n       [0.],\n       [0...    [3.],\n       [3.],\n       [3.],\n       [3.]]), None, 0, 500), {'class_weight': None, 'verbose': 0})]\n    132 \n    133     def __len__(self):\n    134         return self._size\n    135 \n\n...........................................................................\n/Users/mattgraziano/miniconda3/lib/python3.6/site-packages/sklearn/externals/joblib/parallel.py in <listcomp>(.0=<list_iterator object>)\n    126     def __init__(self, iterator_slice):\n    127         self.items = list(iterator_slice)\n    128         self._size = len(self.items)\n    129 \n    130     def __call__(self):\n--> 131         return [func(*args, **kwargs) for func, args, kwargs in self.items]\n        func = <function _parallel_build_trees>\n        args = (DecisionTreeClassifier(class_weight=None, criter...         random_state=478285657, splitter='best'), RandomForestClassifier(bootstrap=True, class_wei...te=None, verbose=0,\n            warm_start=False), array([[0.52898836, 0.00800182, 0.00499292, ...,... 0.10649972,\n        0.04084063]], dtype=float32), array([[0.],\n       [0.],\n       [0.],\n       [0...    [3.],\n       [3.],\n       [3.],\n       [3.]]), None, 0, 500)\n        kwargs = {'class_weight': None, 'verbose': 0}\n    132 \n    133     def __len__(self):\n    134         return self._size\n    135 \n\n...........................................................................\n/Users/mattgraziano/miniconda3/lib/python3.6/site-packages/sklearn/ensemble/forest.py in _parallel_build_trees(tree=DecisionTreeClassifier(class_weight=None, criter...         random_state=478285657, splitter='best'), forest=RandomForestClassifier(bootstrap=True, class_wei...te=None, verbose=0,\n            warm_start=False), X=array([[0.52898836, 0.00800182, 0.00499292, ...,... 0.10649972,\n        0.04084063]], dtype=float32), y=array([[0.],\n       [0.],\n       [0.],\n       [0...    [3.],\n       [3.],\n       [3.],\n       [3.]]), sample_weight=None, tree_idx=0, n_trees=500, verbose=0, class_weight=None)\n    116                 warnings.simplefilter('ignore', DeprecationWarning)\n    117                 curr_sample_weight *= compute_sample_weight('auto', y, indices)\n    118         elif class_weight == 'balanced_subsample':\n    119             curr_sample_weight *= compute_sample_weight('balanced', y, indices)\n    120 \n--> 121         tree.fit(X, y, sample_weight=curr_sample_weight, check_input=False)\n        tree.fit = <bound method DecisionTreeClassifier.fit of Deci...        random_state=478285657, splitter='best')>\n        X = array([[0.52898836, 0.00800182, 0.00499292, ...,... 0.10649972,\n        0.04084063]], dtype=float32)\n        y = array([[0.],\n       [0.],\n       [0.],\n       [0...    [3.],\n       [3.],\n       [3.],\n       [3.]])\n        sample_weight = None\n        curr_sample_weight = array([0., 0., 1., 1., 0., 1., 1., 0., 0., 2., 1... 2., 4., 1., 0., 2., 0., 1., 2., 0., 0., 0., 2.])\n    122     else:\n    123         tree.fit(X, y, sample_weight=sample_weight, check_input=False)\n    124 \n    125     return tree\n\n...........................................................................\n/Users/mattgraziano/miniconda3/lib/python3.6/site-packages/sklearn/tree/tree.py in fit(self=DecisionTreeClassifier(class_weight=None, criter...         random_state=478285657, splitter='best'), X=array([[0.52898836, 0.00800182, 0.00499292, ...,... 0.10649972,\n        0.04084063]], dtype=float32), y=array([[0.],\n       [0.],\n       [0.],\n       [0...    [3.],\n       [3.],\n       [3.],\n       [3.]]), sample_weight=array([0., 0., 1., 1., 0., 1., 1., 0., 0., 2., 1... 2., 4., 1., 0., 2., 0., 1., 2., 0., 0., 0., 2.]), check_input=False, X_idx_sorted=None)\n    785 \n    786         super(DecisionTreeClassifier, self).fit(\n    787             X, y,\n    788             sample_weight=sample_weight,\n    789             check_input=check_input,\n--> 790             X_idx_sorted=X_idx_sorted)\n        X_idx_sorted = None\n    791         return self\n    792 \n    793     def predict_proba(self, X, check_input=True):\n    794         \"\"\"Predict class probabilities of the input samples X.\n\n...........................................................................\n/Users/mattgraziano/miniconda3/lib/python3.6/site-packages/sklearn/tree/tree.py in fit(self=DecisionTreeClassifier(class_weight=None, criter...         random_state=478285657, splitter='best'), X=array([[0.52898836, 0.00800182, 0.00499292, ...,... 0.10649972,\n        0.04084063]], dtype=float32), y=array([[0.],\n       [0.],\n       [0.],\n       [0...    [3.],\n       [3.],\n       [3.],\n       [3.]]), sample_weight=array([0., 0., 1., 1., 0., 1., 1., 0., 0., 2., 1... 2., 4., 1., 0., 2., 0., 1., 2., 0., 0., 0., 2.]), check_input=False, X_idx_sorted=None)\n    237         if not 0 <= self.min_weight_fraction_leaf <= 0.5:\n    238             raise ValueError(\"min_weight_fraction_leaf must in [0, 0.5]\")\n    239         if max_depth <= 0:\n    240             raise ValueError(\"max_depth must be greater than zero. \")\n    241         if not (0 < max_features <= self.n_features_):\n--> 242             raise ValueError(\"max_features must be in (0, n_features]\")\n    243         if not isinstance(max_leaf_nodes, (numbers.Integral, np.integer)):\n    244             raise ValueError(\"max_leaf_nodes must be integral number but was \"\n    245                              \"%r\" % max_leaf_nodes)\n    246         if -1 < max_leaf_nodes < 2:\n\nValueError: max_features must be in (0, n_features]\n___________________________________________________________________________",
      "\nDuring handling of the above exception, another exception occurred:\n",
      "\u001b[0;31mJoblibValueError\u001b[0m                          Traceback (most recent call last)",
      "\u001b[0;32m<ipython-input-16-2ddb62617fd1>\u001b[0m in \u001b[0;36m<module>\u001b[0;34m()\u001b[0m\n\u001b[1;32m     39\u001b[0m     \u001b[0mrf_grid_search\u001b[0m \u001b[0;34m=\u001b[0m \u001b[0mGridSearchCV\u001b[0m\u001b[0;34m(\u001b[0m\u001b[0mrf\u001b[0m\u001b[0;34m,\u001b[0m \u001b[0mparam_grid\u001b[0m\u001b[0;34m=\u001b[0m\u001b[0mparam_grid\u001b[0m\u001b[0;34m,\u001b[0m \u001b[0mcv\u001b[0m\u001b[0;34m=\u001b[0m\u001b[0;36m10\u001b[0m\u001b[0;34m,\u001b[0m \u001b[0mn_jobs\u001b[0m\u001b[0;34m=\u001b[0m\u001b[0;36m8\u001b[0m\u001b[0;34m)\u001b[0m\u001b[0;34m\u001b[0m\u001b[0m\n\u001b[1;32m     40\u001b[0m \u001b[0;34m\u001b[0m\u001b[0m\n\u001b[0;32m---> 41\u001b[0;31m     \u001b[0mrf_grid_search\u001b[0m\u001b[0;34m.\u001b[0m\u001b[0mfit\u001b[0m\u001b[0;34m(\u001b[0m\u001b[0mx_train\u001b[0m\u001b[0;34m,\u001b[0m \u001b[0my_train\u001b[0m\u001b[0;34m)\u001b[0m\u001b[0;34m\u001b[0m\u001b[0m\n\u001b[0m\u001b[1;32m     42\u001b[0m \u001b[0;34m\u001b[0m\u001b[0m\n\u001b[1;32m     43\u001b[0m     \u001b[0;31m# Convert parameter grid and cv results to dataframe\u001b[0m\u001b[0;34m\u001b[0m\u001b[0;34m\u001b[0m\u001b[0m\n",
      "\u001b[0;32m~/miniconda3/lib/python3.6/site-packages/sklearn/model_selection/_search.py\u001b[0m in \u001b[0;36mfit\u001b[0;34m(self, X, y, groups, **fit_params)\u001b[0m\n\u001b[1;32m    638\u001b[0m                                   error_score=self.error_score)\n\u001b[1;32m    639\u001b[0m           for parameters, (train, test) in product(candidate_params,\n\u001b[0;32m--> 640\u001b[0;31m                                                    cv.split(X, y, groups)))\n\u001b[0m\u001b[1;32m    641\u001b[0m \u001b[0;34m\u001b[0m\u001b[0m\n\u001b[1;32m    642\u001b[0m         \u001b[0;31m# if one choose to see train score, \"out\" will contain train score info\u001b[0m\u001b[0;34m\u001b[0m\u001b[0;34m\u001b[0m\u001b[0m\n",
      "\u001b[0;32m~/miniconda3/lib/python3.6/site-packages/sklearn/externals/joblib/parallel.py\u001b[0m in \u001b[0;36m__call__\u001b[0;34m(self, iterable)\u001b[0m\n\u001b[1;32m    787\u001b[0m                 \u001b[0;31m# consumption.\u001b[0m\u001b[0;34m\u001b[0m\u001b[0;34m\u001b[0m\u001b[0m\n\u001b[1;32m    788\u001b[0m                 \u001b[0mself\u001b[0m\u001b[0;34m.\u001b[0m\u001b[0m_iterating\u001b[0m \u001b[0;34m=\u001b[0m \u001b[0;32mFalse\u001b[0m\u001b[0;34m\u001b[0m\u001b[0m\n\u001b[0;32m--> 789\u001b[0;31m             \u001b[0mself\u001b[0m\u001b[0;34m.\u001b[0m\u001b[0mretrieve\u001b[0m\u001b[0;34m(\u001b[0m\u001b[0;34m)\u001b[0m\u001b[0;34m\u001b[0m\u001b[0m\n\u001b[0m\u001b[1;32m    790\u001b[0m             \u001b[0;31m# Make sure that we get a last message telling us we are done\u001b[0m\u001b[0;34m\u001b[0m\u001b[0;34m\u001b[0m\u001b[0m\n\u001b[1;32m    791\u001b[0m             \u001b[0melapsed_time\u001b[0m \u001b[0;34m=\u001b[0m \u001b[0mtime\u001b[0m\u001b[0;34m.\u001b[0m\u001b[0mtime\u001b[0m\u001b[0;34m(\u001b[0m\u001b[0;34m)\u001b[0m \u001b[0;34m-\u001b[0m \u001b[0mself\u001b[0m\u001b[0;34m.\u001b[0m\u001b[0m_start_time\u001b[0m\u001b[0;34m\u001b[0m\u001b[0m\n",
      "\u001b[0;32m~/miniconda3/lib/python3.6/site-packages/sklearn/externals/joblib/parallel.py\u001b[0m in \u001b[0;36mretrieve\u001b[0;34m(self)\u001b[0m\n\u001b[1;32m    738\u001b[0m                     \u001b[0mexception\u001b[0m \u001b[0;34m=\u001b[0m \u001b[0mexception_type\u001b[0m\u001b[0;34m(\u001b[0m\u001b[0mreport\u001b[0m\u001b[0;34m)\u001b[0m\u001b[0;34m\u001b[0m\u001b[0m\n\u001b[1;32m    739\u001b[0m \u001b[0;34m\u001b[0m\u001b[0m\n\u001b[0;32m--> 740\u001b[0;31m                     \u001b[0;32mraise\u001b[0m \u001b[0mexception\u001b[0m\u001b[0;34m\u001b[0m\u001b[0m\n\u001b[0m\u001b[1;32m    741\u001b[0m \u001b[0;34m\u001b[0m\u001b[0m\n\u001b[1;32m    742\u001b[0m     \u001b[0;32mdef\u001b[0m \u001b[0m__call__\u001b[0m\u001b[0;34m(\u001b[0m\u001b[0mself\u001b[0m\u001b[0;34m,\u001b[0m \u001b[0miterable\u001b[0m\u001b[0;34m)\u001b[0m\u001b[0;34m:\u001b[0m\u001b[0;34m\u001b[0m\u001b[0m\n",
      "\u001b[0;31mJoblibValueError\u001b[0m: JoblibValueError\n___________________________________________________________________________\nMultiprocessing exception:\n...........................................................................\n/Users/mattgraziano/miniconda3/lib/python3.6/runpy.py in _run_module_as_main(mod_name='ipykernel_launcher', alter_argv=1)\n    188         sys.exit(msg)\n    189     main_globals = sys.modules[\"__main__\"].__dict__\n    190     if alter_argv:\n    191         sys.argv[0] = mod_spec.origin\n    192     return _run_code(code, main_globals, None,\n--> 193                      \"__main__\", mod_spec)\n        mod_spec = ModuleSpec(name='ipykernel_launcher', loader=<_f...b/python3.6/site-packages/ipykernel_launcher.py')\n    194 \n    195 def run_module(mod_name, init_globals=None,\n    196                run_name=None, alter_sys=False):\n    197     \"\"\"Execute a module's code without importing it\n\n...........................................................................\n/Users/mattgraziano/miniconda3/lib/python3.6/runpy.py in _run_code(code=<code object <module> at 0x102b7ab70, file \"/Use...3.6/site-packages/ipykernel_launcher.py\", line 5>, run_globals={'__annotations__': {}, '__builtins__': <module 'builtins' (built-in)>, '__cached__': '/Users/mattgraziano/miniconda3/lib/python3.6/sit...ges/__pycache__/ipykernel_launcher.cpython-36.pyc', '__doc__': 'Entry point for launching an IPython kernel.\\n\\nTh...orts until\\nafter removing the cwd from sys.path.\\n', '__file__': '/Users/mattgraziano/miniconda3/lib/python3.6/site-packages/ipykernel_launcher.py', '__loader__': <_frozen_importlib_external.SourceFileLoader object>, '__name__': '__main__', '__package__': '', '__spec__': ModuleSpec(name='ipykernel_launcher', loader=<_f...b/python3.6/site-packages/ipykernel_launcher.py'), 'app': <module 'ipykernel.kernelapp' from '/Users/mattg.../python3.6/site-packages/ipykernel/kernelapp.py'>, ...}, init_globals=None, mod_name='__main__', mod_spec=ModuleSpec(name='ipykernel_launcher', loader=<_f...b/python3.6/site-packages/ipykernel_launcher.py'), pkg_name='', script_name=None)\n     80                        __cached__ = cached,\n     81                        __doc__ = None,\n     82                        __loader__ = loader,\n     83                        __package__ = pkg_name,\n     84                        __spec__ = mod_spec)\n---> 85     exec(code, run_globals)\n        code = <code object <module> at 0x102b7ab70, file \"/Use...3.6/site-packages/ipykernel_launcher.py\", line 5>\n        run_globals = {'__annotations__': {}, '__builtins__': <module 'builtins' (built-in)>, '__cached__': '/Users/mattgraziano/miniconda3/lib/python3.6/sit...ges/__pycache__/ipykernel_launcher.cpython-36.pyc', '__doc__': 'Entry point for launching an IPython kernel.\\n\\nTh...orts until\\nafter removing the cwd from sys.path.\\n', '__file__': '/Users/mattgraziano/miniconda3/lib/python3.6/site-packages/ipykernel_launcher.py', '__loader__': <_frozen_importlib_external.SourceFileLoader object>, '__name__': '__main__', '__package__': '', '__spec__': ModuleSpec(name='ipykernel_launcher', loader=<_f...b/python3.6/site-packages/ipykernel_launcher.py'), 'app': <module 'ipykernel.kernelapp' from '/Users/mattg.../python3.6/site-packages/ipykernel/kernelapp.py'>, ...}\n     86     return run_globals\n     87 \n     88 def _run_module_code(code, init_globals=None,\n     89                     mod_name=None, mod_spec=None,\n\n...........................................................................\n/Users/mattgraziano/miniconda3/lib/python3.6/site-packages/ipykernel_launcher.py in <module>()\n     11     # This is added back by InteractiveShellApp.init_path()\n     12     if sys.path[0] == '':\n     13         del sys.path[0]\n     14 \n     15     from ipykernel import kernelapp as app\n---> 16     app.launch_new_instance()\n\n...........................................................................\n/Users/mattgraziano/miniconda3/lib/python3.6/site-packages/traitlets/config/application.py in launch_instance(cls=<class 'ipykernel.kernelapp.IPKernelApp'>, argv=None, **kwargs={})\n    653 \n    654         If a global instance already exists, this reinitializes and starts it\n    655         \"\"\"\n    656         app = cls.instance(**kwargs)\n    657         app.initialize(argv)\n--> 658         app.start()\n        app.start = <bound method IPKernelApp.start of <ipykernel.kernelapp.IPKernelApp object>>\n    659 \n    660 #-----------------------------------------------------------------------------\n    661 # utility functions, for convenience\n    662 #-----------------------------------------------------------------------------\n\n...........................................................................\n/Users/mattgraziano/miniconda3/lib/python3.6/site-packages/ipykernel/kernelapp.py in start(self=<ipykernel.kernelapp.IPKernelApp object>)\n    492         if self.poller is not None:\n    493             self.poller.start()\n    494         self.kernel.start()\n    495         self.io_loop = ioloop.IOLoop.current()\n    496         try:\n--> 497             self.io_loop.start()\n        self.io_loop.start = <bound method BaseAsyncIOLoop.start of <tornado.platform.asyncio.AsyncIOMainLoop object>>\n    498         except KeyboardInterrupt:\n    499             pass\n    500 \n    501 launch_new_instance = IPKernelApp.launch_instance\n\n...........................................................................\n/Users/mattgraziano/miniconda3/lib/python3.6/site-packages/tornado/platform/asyncio.py in start(self=<tornado.platform.asyncio.AsyncIOMainLoop object>)\n    127         except (RuntimeError, AssertionError):\n    128             old_loop = None\n    129         try:\n    130             self._setup_logging()\n    131             asyncio.set_event_loop(self.asyncio_loop)\n--> 132             self.asyncio_loop.run_forever()\n        self.asyncio_loop.run_forever = <bound method BaseEventLoop.run_forever of <_Uni...EventLoop running=True closed=False debug=False>>\n    133         finally:\n    134             asyncio.set_event_loop(old_loop)\n    135 \n    136     def stop(self):\n\n...........................................................................\n/Users/mattgraziano/miniconda3/lib/python3.6/asyncio/base_events.py in run_forever(self=<_UnixSelectorEventLoop running=True closed=False debug=False>)\n    417             sys.set_asyncgen_hooks(firstiter=self._asyncgen_firstiter_hook,\n    418                                    finalizer=self._asyncgen_finalizer_hook)\n    419         try:\n    420             events._set_running_loop(self)\n    421             while True:\n--> 422                 self._run_once()\n        self._run_once = <bound method BaseEventLoop._run_once of <_UnixS...EventLoop running=True closed=False debug=False>>\n    423                 if self._stopping:\n    424                     break\n    425         finally:\n    426             self._stopping = False\n\n...........................................................................\n/Users/mattgraziano/miniconda3/lib/python3.6/asyncio/base_events.py in _run_once(self=<_UnixSelectorEventLoop running=True closed=False debug=False>)\n   1429                         logger.warning('Executing %s took %.3f seconds',\n   1430                                        _format_handle(handle), dt)\n   1431                 finally:\n   1432                     self._current_handle = None\n   1433             else:\n-> 1434                 handle._run()\n        handle._run = <bound method Handle._run of <Handle BaseAsyncIOLoop._handle_events(15, 1)>>\n   1435         handle = None  # Needed to break cycles when an exception occurs.\n   1436 \n   1437     def _set_coroutine_wrapper(self, enabled):\n   1438         try:\n\n...........................................................................\n/Users/mattgraziano/miniconda3/lib/python3.6/asyncio/events.py in _run(self=<Handle BaseAsyncIOLoop._handle_events(15, 1)>)\n    140             self._callback = None\n    141             self._args = None\n    142 \n    143     def _run(self):\n    144         try:\n--> 145             self._callback(*self._args)\n        self._callback = <bound method BaseAsyncIOLoop._handle_events of <tornado.platform.asyncio.AsyncIOMainLoop object>>\n        self._args = (15, 1)\n    146         except Exception as exc:\n    147             cb = _format_callback_source(self._callback, self._args)\n    148             msg = 'Exception in callback {}'.format(cb)\n    149             context = {\n\n...........................................................................\n/Users/mattgraziano/miniconda3/lib/python3.6/site-packages/tornado/platform/asyncio.py in _handle_events(self=<tornado.platform.asyncio.AsyncIOMainLoop object>, fd=15, events=1)\n    117             self.writers.remove(fd)\n    118         del self.handlers[fd]\n    119 \n    120     def _handle_events(self, fd, events):\n    121         fileobj, handler_func = self.handlers[fd]\n--> 122         handler_func(fileobj, events)\n        handler_func = <function wrap.<locals>.null_wrapper>\n        fileobj = <zmq.sugar.socket.Socket object>\n        events = 1\n    123 \n    124     def start(self):\n    125         try:\n    126             old_loop = asyncio.get_event_loop()\n\n...........................................................................\n/Users/mattgraziano/miniconda3/lib/python3.6/site-packages/tornado/stack_context.py in null_wrapper(*args=(<zmq.sugar.socket.Socket object>, 1), **kwargs={})\n    295         # Fast path when there are no active contexts.\n    296         def null_wrapper(*args, **kwargs):\n    297             try:\n    298                 current_state = _state.contexts\n    299                 _state.contexts = cap_contexts[0]\n--> 300                 return fn(*args, **kwargs)\n        args = (<zmq.sugar.socket.Socket object>, 1)\n        kwargs = {}\n    301             finally:\n    302                 _state.contexts = current_state\n    303         null_wrapper._wrapped = True\n    304         return null_wrapper\n\n...........................................................................\n/Users/mattgraziano/miniconda3/lib/python3.6/site-packages/zmq/eventloop/zmqstream.py in _handle_events(self=<zmq.eventloop.zmqstream.ZMQStream object>, fd=<zmq.sugar.socket.Socket object>, events=1)\n    445             return\n    446         zmq_events = self.socket.EVENTS\n    447         try:\n    448             # dispatch events:\n    449             if zmq_events & zmq.POLLIN and self.receiving():\n--> 450                 self._handle_recv()\n        self._handle_recv = <bound method ZMQStream._handle_recv of <zmq.eventloop.zmqstream.ZMQStream object>>\n    451                 if not self.socket:\n    452                     return\n    453             if zmq_events & zmq.POLLOUT and self.sending():\n    454                 self._handle_send()\n\n...........................................................................\n/Users/mattgraziano/miniconda3/lib/python3.6/site-packages/zmq/eventloop/zmqstream.py in _handle_recv(self=<zmq.eventloop.zmqstream.ZMQStream object>)\n    475             else:\n    476                 raise\n    477         else:\n    478             if self._recv_callback:\n    479                 callback = self._recv_callback\n--> 480                 self._run_callback(callback, msg)\n        self._run_callback = <bound method ZMQStream._run_callback of <zmq.eventloop.zmqstream.ZMQStream object>>\n        callback = <function wrap.<locals>.null_wrapper>\n        msg = [<zmq.sugar.frame.Frame object>, <zmq.sugar.frame.Frame object>, <zmq.sugar.frame.Frame object>, <zmq.sugar.frame.Frame object>, <zmq.sugar.frame.Frame object>, <zmq.sugar.frame.Frame object>, <zmq.sugar.frame.Frame object>]\n    481         \n    482 \n    483     def _handle_send(self):\n    484         \"\"\"Handle a send event.\"\"\"\n\n...........................................................................\n/Users/mattgraziano/miniconda3/lib/python3.6/site-packages/zmq/eventloop/zmqstream.py in _run_callback(self=<zmq.eventloop.zmqstream.ZMQStream object>, callback=<function wrap.<locals>.null_wrapper>, *args=([<zmq.sugar.frame.Frame object>, <zmq.sugar.frame.Frame object>, <zmq.sugar.frame.Frame object>, <zmq.sugar.frame.Frame object>, <zmq.sugar.frame.Frame object>, <zmq.sugar.frame.Frame object>, <zmq.sugar.frame.Frame object>],), **kwargs={})\n    427         close our socket.\"\"\"\n    428         try:\n    429             # Use a NullContext to ensure that all StackContexts are run\n    430             # inside our blanket exception handler rather than outside.\n    431             with stack_context.NullContext():\n--> 432                 callback(*args, **kwargs)\n        callback = <function wrap.<locals>.null_wrapper>\n        args = ([<zmq.sugar.frame.Frame object>, <zmq.sugar.frame.Frame object>, <zmq.sugar.frame.Frame object>, <zmq.sugar.frame.Frame object>, <zmq.sugar.frame.Frame object>, <zmq.sugar.frame.Frame object>, <zmq.sugar.frame.Frame object>],)\n        kwargs = {}\n    433         except:\n    434             gen_log.error(\"Uncaught exception in ZMQStream callback\",\n    435                           exc_info=True)\n    436             # Re-raise the exception so that IOLoop.handle_callback_exception\n\n...........................................................................\n/Users/mattgraziano/miniconda3/lib/python3.6/site-packages/tornado/stack_context.py in null_wrapper(*args=([<zmq.sugar.frame.Frame object>, <zmq.sugar.frame.Frame object>, <zmq.sugar.frame.Frame object>, <zmq.sugar.frame.Frame object>, <zmq.sugar.frame.Frame object>, <zmq.sugar.frame.Frame object>, <zmq.sugar.frame.Frame object>],), **kwargs={})\n    295         # Fast path when there are no active contexts.\n    296         def null_wrapper(*args, **kwargs):\n    297             try:\n    298                 current_state = _state.contexts\n    299                 _state.contexts = cap_contexts[0]\n--> 300                 return fn(*args, **kwargs)\n        args = ([<zmq.sugar.frame.Frame object>, <zmq.sugar.frame.Frame object>, <zmq.sugar.frame.Frame object>, <zmq.sugar.frame.Frame object>, <zmq.sugar.frame.Frame object>, <zmq.sugar.frame.Frame object>, <zmq.sugar.frame.Frame object>],)\n        kwargs = {}\n    301             finally:\n    302                 _state.contexts = current_state\n    303         null_wrapper._wrapped = True\n    304         return null_wrapper\n\n...........................................................................\n/Users/mattgraziano/miniconda3/lib/python3.6/site-packages/ipykernel/kernelbase.py in dispatcher(msg=[<zmq.sugar.frame.Frame object>, <zmq.sugar.frame.Frame object>, <zmq.sugar.frame.Frame object>, <zmq.sugar.frame.Frame object>, <zmq.sugar.frame.Frame object>, <zmq.sugar.frame.Frame object>, <zmq.sugar.frame.Frame object>])\n    278         if self.control_stream:\n    279             self.control_stream.on_recv(self.dispatch_control, copy=False)\n    280 \n    281         def make_dispatcher(stream):\n    282             def dispatcher(msg):\n--> 283                 return self.dispatch_shell(stream, msg)\n        msg = [<zmq.sugar.frame.Frame object>, <zmq.sugar.frame.Frame object>, <zmq.sugar.frame.Frame object>, <zmq.sugar.frame.Frame object>, <zmq.sugar.frame.Frame object>, <zmq.sugar.frame.Frame object>, <zmq.sugar.frame.Frame object>]\n    284             return dispatcher\n    285 \n    286         for s in self.shell_streams:\n    287             s.on_recv(make_dispatcher(s), copy=False)\n\n...........................................................................\n/Users/mattgraziano/miniconda3/lib/python3.6/site-packages/ipykernel/kernelbase.py in dispatch_shell(self=<ipykernel.ipkernel.IPythonKernel object>, stream=<zmq.eventloop.zmqstream.ZMQStream object>, msg={'buffers': [], 'content': {'allow_stdin': True, 'code': \"transforms = ['stft', 'mel', 'cqt', 'chroma']\\n\\nr...BM'\\n    results_param_df.append(gbm_results_df)\\n\\n\", 'silent': False, 'stop_on_error': True, 'store_history': True, 'user_expressions': {}}, 'header': {'date': datetime.datetime(2018, 12, 9, 20, 33, 24, 561460, tzinfo=tzutc()), 'msg_id': '7bbd338790d7445d8e1f6c3fe6bc250f', 'msg_type': 'execute_request', 'session': 'b5b52af9f3954bc2806e2537b7a59e02', 'username': 'username', 'version': '5.2'}, 'metadata': {}, 'msg_id': '7bbd338790d7445d8e1f6c3fe6bc250f', 'msg_type': 'execute_request', 'parent_header': {}})\n    228             self.log.warning(\"Unknown message type: %r\", msg_type)\n    229         else:\n    230             self.log.debug(\"%s: %s\", msg_type, msg)\n    231             self.pre_handler_hook()\n    232             try:\n--> 233                 handler(stream, idents, msg)\n        handler = <bound method Kernel.execute_request of <ipykernel.ipkernel.IPythonKernel object>>\n        stream = <zmq.eventloop.zmqstream.ZMQStream object>\n        idents = [b'b5b52af9f3954bc2806e2537b7a59e02']\n        msg = {'buffers': [], 'content': {'allow_stdin': True, 'code': \"transforms = ['stft', 'mel', 'cqt', 'chroma']\\n\\nr...BM'\\n    results_param_df.append(gbm_results_df)\\n\\n\", 'silent': False, 'stop_on_error': True, 'store_history': True, 'user_expressions': {}}, 'header': {'date': datetime.datetime(2018, 12, 9, 20, 33, 24, 561460, tzinfo=tzutc()), 'msg_id': '7bbd338790d7445d8e1f6c3fe6bc250f', 'msg_type': 'execute_request', 'session': 'b5b52af9f3954bc2806e2537b7a59e02', 'username': 'username', 'version': '5.2'}, 'metadata': {}, 'msg_id': '7bbd338790d7445d8e1f6c3fe6bc250f', 'msg_type': 'execute_request', 'parent_header': {}}\n    234             except Exception:\n    235                 self.log.error(\"Exception in message handler:\", exc_info=True)\n    236             finally:\n    237                 self.post_handler_hook()\n\n...........................................................................\n/Users/mattgraziano/miniconda3/lib/python3.6/site-packages/ipykernel/kernelbase.py in execute_request(self=<ipykernel.ipkernel.IPythonKernel object>, stream=<zmq.eventloop.zmqstream.ZMQStream object>, ident=[b'b5b52af9f3954bc2806e2537b7a59e02'], parent={'buffers': [], 'content': {'allow_stdin': True, 'code': \"transforms = ['stft', 'mel', 'cqt', 'chroma']\\n\\nr...BM'\\n    results_param_df.append(gbm_results_df)\\n\\n\", 'silent': False, 'stop_on_error': True, 'store_history': True, 'user_expressions': {}}, 'header': {'date': datetime.datetime(2018, 12, 9, 20, 33, 24, 561460, tzinfo=tzutc()), 'msg_id': '7bbd338790d7445d8e1f6c3fe6bc250f', 'msg_type': 'execute_request', 'session': 'b5b52af9f3954bc2806e2537b7a59e02', 'username': 'username', 'version': '5.2'}, 'metadata': {}, 'msg_id': '7bbd338790d7445d8e1f6c3fe6bc250f', 'msg_type': 'execute_request', 'parent_header': {}})\n    394         if not silent:\n    395             self.execution_count += 1\n    396             self._publish_execute_input(code, parent, self.execution_count)\n    397 \n    398         reply_content = self.do_execute(code, silent, store_history,\n--> 399                                         user_expressions, allow_stdin)\n        user_expressions = {}\n        allow_stdin = True\n    400 \n    401         # Flush output before sending the reply.\n    402         sys.stdout.flush()\n    403         sys.stderr.flush()\n\n...........................................................................\n/Users/mattgraziano/miniconda3/lib/python3.6/site-packages/ipykernel/ipkernel.py in do_execute(self=<ipykernel.ipkernel.IPythonKernel object>, code=\"transforms = ['stft', 'mel', 'cqt', 'chroma']\\n\\nr...BM'\\n    results_param_df.append(gbm_results_df)\\n\\n\", silent=False, store_history=True, user_expressions={}, allow_stdin=True)\n    203 \n    204         self._forward_input(allow_stdin)\n    205 \n    206         reply_content = {}\n    207         try:\n--> 208             res = shell.run_cell(code, store_history=store_history, silent=silent)\n        res = undefined\n        shell.run_cell = <bound method ZMQInteractiveShell.run_cell of <ipykernel.zmqshell.ZMQInteractiveShell object>>\n        code = \"transforms = ['stft', 'mel', 'cqt', 'chroma']\\n\\nr...BM'\\n    results_param_df.append(gbm_results_df)\\n\\n\"\n        store_history = True\n        silent = False\n    209         finally:\n    210             self._restore_input()\n    211 \n    212         if res.error_before_exec is not None:\n\n...........................................................................\n/Users/mattgraziano/miniconda3/lib/python3.6/site-packages/ipykernel/zmqshell.py in run_cell(self=<ipykernel.zmqshell.ZMQInteractiveShell object>, *args=(\"transforms = ['stft', 'mel', 'cqt', 'chroma']\\n\\nr...BM'\\n    results_param_df.append(gbm_results_df)\\n\\n\",), **kwargs={'silent': False, 'store_history': True})\n    532             )\n    533         self.payload_manager.write_payload(payload)\n    534 \n    535     def run_cell(self, *args, **kwargs):\n    536         self._last_traceback = None\n--> 537         return super(ZMQInteractiveShell, self).run_cell(*args, **kwargs)\n        self.run_cell = <bound method ZMQInteractiveShell.run_cell of <ipykernel.zmqshell.ZMQInteractiveShell object>>\n        args = (\"transforms = ['stft', 'mel', 'cqt', 'chroma']\\n\\nr...BM'\\n    results_param_df.append(gbm_results_df)\\n\\n\",)\n        kwargs = {'silent': False, 'store_history': True}\n    538 \n    539     def _showtraceback(self, etype, evalue, stb):\n    540         # try to preserve ordering of tracebacks and print statements\n    541         sys.stdout.flush()\n\n...........................................................................\n/Users/mattgraziano/miniconda3/lib/python3.6/site-packages/IPython/core/interactiveshell.py in run_cell(self=<ipykernel.zmqshell.ZMQInteractiveShell object>, raw_cell=\"transforms = ['stft', 'mel', 'cqt', 'chroma']\\n\\nr...BM'\\n    results_param_df.append(gbm_results_df)\\n\\n\", store_history=True, silent=False, shell_futures=True)\n   2657         -------\n   2658         result : :class:`ExecutionResult`\n   2659         \"\"\"\n   2660         try:\n   2661             result = self._run_cell(\n-> 2662                 raw_cell, store_history, silent, shell_futures)\n        raw_cell = \"transforms = ['stft', 'mel', 'cqt', 'chroma']\\n\\nr...BM'\\n    results_param_df.append(gbm_results_df)\\n\\n\"\n        store_history = True\n        silent = False\n        shell_futures = True\n   2663         finally:\n   2664             self.events.trigger('post_execute')\n   2665             if not silent:\n   2666                 self.events.trigger('post_run_cell', result)\n\n...........................................................................\n/Users/mattgraziano/miniconda3/lib/python3.6/site-packages/IPython/core/interactiveshell.py in _run_cell(self=<ipykernel.zmqshell.ZMQInteractiveShell object>, raw_cell=\"transforms = ['stft', 'mel', 'cqt', 'chroma']\\n\\nr...BM'\\n    results_param_df.append(gbm_results_df)\\n\\n\", store_history=True, silent=False, shell_futures=True)\n   2780                 self.displayhook.exec_result = result\n   2781 \n   2782                 # Execute the user code\n   2783                 interactivity = 'none' if silent else self.ast_node_interactivity\n   2784                 has_raised = self.run_ast_nodes(code_ast.body, cell_name,\n-> 2785                    interactivity=interactivity, compiler=compiler, result=result)\n        interactivity = 'last_expr'\n        compiler = <IPython.core.compilerop.CachingCompiler object>\n   2786                 \n   2787                 self.last_execution_succeeded = not has_raised\n   2788                 self.last_execution_result = result\n   2789 \n\n...........................................................................\n/Users/mattgraziano/miniconda3/lib/python3.6/site-packages/IPython/core/interactiveshell.py in run_ast_nodes(self=<ipykernel.zmqshell.ZMQInteractiveShell object>, nodelist=[<_ast.Assign object>, <_ast.Assign object>, <_ast.For object>], cell_name='<ipython-input-16-2ddb62617fd1>', interactivity='none', compiler=<IPython.core.compilerop.CachingCompiler object>, result=<ExecutionResult object at 12967b780, execution_...rue silent=False shell_futures=True> result=None>)\n   2896             raise ValueError(\"Interactivity was %r\" % interactivity)\n   2897         try:\n   2898             for i, node in enumerate(to_run_exec):\n   2899                 mod = ast.Module([node])\n   2900                 code = compiler(mod, cell_name, \"exec\")\n-> 2901                 if self.run_code(code, result):\n        self.run_code = <bound method InteractiveShell.run_code of <ipykernel.zmqshell.ZMQInteractiveShell object>>\n        code = <code object <module> at 0x135681ed0, file \"<ipython-input-16-2ddb62617fd1>\", line 4>\n        result = <ExecutionResult object at 12967b780, execution_...rue silent=False shell_futures=True> result=None>\n   2902                     return True\n   2903 \n   2904             for i, node in enumerate(to_run_interactive):\n   2905                 mod = ast.Interactive([node])\n\n...........................................................................\n/Users/mattgraziano/miniconda3/lib/python3.6/site-packages/IPython/core/interactiveshell.py in run_code(self=<ipykernel.zmqshell.ZMQInteractiveShell object>, code_obj=<code object <module> at 0x135681ed0, file \"<ipython-input-16-2ddb62617fd1>\", line 4>, result=<ExecutionResult object at 12967b780, execution_...rue silent=False shell_futures=True> result=None>)\n   2956         outflag = True  # happens in more places, so it's easier as default\n   2957         try:\n   2958             try:\n   2959                 self.hooks.pre_run_code_hook()\n   2960                 #rprint('Running code', repr(code_obj)) # dbg\n-> 2961                 exec(code_obj, self.user_global_ns, self.user_ns)\n        code_obj = <code object <module> at 0x135681ed0, file \"<ipython-input-16-2ddb62617fd1>\", line 4>\n        self.user_global_ns = {'A0': 27.5, 'A1': 55.0, 'A2': 110.0, 'Activation': <class 'keras.layers.core.Activation'>, 'BatchNormalization': <class 'keras.layers.normalization.BatchNormalization'>, 'C1': 32.7, 'C2': 65.41, 'C7': 2093.0, 'C8': 4186.01, 'CQT_transform': <function CQT_transform>, ...}\n        self.user_ns = {'A0': 27.5, 'A1': 55.0, 'A2': 110.0, 'Activation': <class 'keras.layers.core.Activation'>, 'BatchNormalization': <class 'keras.layers.normalization.BatchNormalization'>, 'C1': 32.7, 'C2': 65.41, 'C7': 2093.0, 'C8': 4186.01, 'CQT_transform': <function CQT_transform>, ...}\n   2962             finally:\n   2963                 # Reset our crash handler in place\n   2964                 sys.excepthook = old_excepthook\n   2965         except SystemExit as e:\n\n...........................................................................\n/Users/mattgraziano/Google Drive/Documents/Learning/IU/Fall18/engr511/project/engr511/<ipython-input-16-2ddb62617fd1> in <module>()\n     36                   \"criterion\": [\"gini\"]}\n     37 \n     38     # run grid search\n     39     rf_grid_search = GridSearchCV(rf, param_grid=param_grid, cv=10, n_jobs=8)\n     40 \n---> 41     rf_grid_search.fit(x_train, y_train)\n     42     \n     43     # Convert parameter grid and cv results to dataframe\n     44     rf_results_df = pd.DataFrame(rf_grid_search.cv_results_)[['params', 'mean_train_score', 'mean_test_score']]\n     45     rf_results_df['transform'] = transform\n\n...........................................................................\n/Users/mattgraziano/miniconda3/lib/python3.6/site-packages/sklearn/model_selection/_search.py in fit(self=GridSearchCV(cv=10, error_score='raise',\n       ...ain_score='warn',\n       scoring=None, verbose=0), X=[array([0.02481608, 0.0313775 , 0.24114856, 0.012...6332, 0.02728165,\n       0.02227423, 0.45039065]), array([0.40705663, 0.02026695, 0.00874063, 0.219...3962, 0.00816055,\n       0.02328133, 0.01062685]), array([0.02735932, 0.23143827, 0.02453552, 0.011...9679, 0.02341322,\n       0.44781716, 0.03067329]), array([0.52898837, 0.00800182, 0.00499292, 0.189...1802, 0.1543587 ,\n       0.02179417, 0.01137577]), array([0.3903493 , 0.03200056, 0.00443344, 0.003...4676, 0.36613043,\n       0.00893862, 0.00907616]), array([0.0136039 , 0.40107865, 0.01288493, 0.005...9827, 0.00942667,\n       0.01106257, 0.03024889]), array([0.01042004, 0.02478611, 0.00657964, 0.162...2932, 0.2917056 ,\n       0.02009293, 0.00968262]), array([0.02699256, 0.00329047, 0.002592  , 0.037...1518, 0.00417402,\n       0.00597252, 0.20443057]), array([0.00814028, 0.33853393, 0.03313347, 0.004...4218, 0.0089601 ,\n       0.38818895, 0.00936599]), array([0.00612736, 0.00411492, 0.28488798, 0.030...1654, 0.02739191,\n       0.00749626, 0.3323454 ]), array([0.01321583, 0.01134956, 0.02140744, 0.007...543 , 0.01375234,\n       0.3739243 , 0.02151888]), array([0.03980718, 0.00957254, 0.30108334, 0.011...5659, 0.02792529,\n       0.01187424, 0.01223457]), array([0.01580541, 0.00686259, 0.46498465, 0.005...0719, 0.04697036,\n       0.01035984, 0.26750138]), array([0.24062859, 0.03586951, 0.01118935, 0.493...9752, 0.00441689,\n       0.04257396, 0.01066669]), array([0.45346388, 0.01963305, 0.01792912, 0.160...6999, 0.25219981,\n       0.02114304, 0.01648053]), array([0.22305868, 0.02020946, 0.01087926, 0.008...5692, 0.3566509 ,\n       0.00933768, 0.010286  ]), array([0.00813225, 0.50271524, 0.00701917, 0.003...7376, 0.00661752,\n       0.20091419, 0.01936108]), array([0.03435055, 0.01394274, 0.00964535, 0.011...4468, 0.00908611,\n       0.01190597, 0.36555494]), array([0.0140333 , 0.15483224, 0.01358498, 0.009...5164, 0.01181751,\n       0.58436943, 0.01920848]), array([0.00678359, 0.06537088, 0.00888842, 0.352...0498, 0.2358558 ,\n       0.03359509, 0.00580697]), ...], y=['Diminished', 'Diminished', 'Diminished', 'Diminished', 'Diminished', 'Diminished', 'Diminished', 'Diminished', 'Diminished', 'Diminished', 'Diminished', 'Diminished', 'Diminished', 'Diminished', 'Diminished', 'Diminished', 'Diminished', 'Diminished', 'Diminished', 'Diminished', ...], groups=None, **fit_params={})\n    635                                   return_train_score=self.return_train_score,\n    636                                   return_n_test_samples=True,\n    637                                   return_times=True, return_parameters=False,\n    638                                   error_score=self.error_score)\n    639           for parameters, (train, test) in product(candidate_params,\n--> 640                                                    cv.split(X, y, groups)))\n        cv.split = <bound method StratifiedKFold.split of Stratifie...d(n_splits=10, random_state=None, shuffle=False)>\n        X = [array([0.02481608, 0.0313775 , 0.24114856, 0.012...6332, 0.02728165,\n       0.02227423, 0.45039065]), array([0.40705663, 0.02026695, 0.00874063, 0.219...3962, 0.00816055,\n       0.02328133, 0.01062685]), array([0.02735932, 0.23143827, 0.02453552, 0.011...9679, 0.02341322,\n       0.44781716, 0.03067329]), array([0.52898837, 0.00800182, 0.00499292, 0.189...1802, 0.1543587 ,\n       0.02179417, 0.01137577]), array([0.3903493 , 0.03200056, 0.00443344, 0.003...4676, 0.36613043,\n       0.00893862, 0.00907616]), array([0.0136039 , 0.40107865, 0.01288493, 0.005...9827, 0.00942667,\n       0.01106257, 0.03024889]), array([0.01042004, 0.02478611, 0.00657964, 0.162...2932, 0.2917056 ,\n       0.02009293, 0.00968262]), array([0.02699256, 0.00329047, 0.002592  , 0.037...1518, 0.00417402,\n       0.00597252, 0.20443057]), array([0.00814028, 0.33853393, 0.03313347, 0.004...4218, 0.0089601 ,\n       0.38818895, 0.00936599]), array([0.00612736, 0.00411492, 0.28488798, 0.030...1654, 0.02739191,\n       0.00749626, 0.3323454 ]), array([0.01321583, 0.01134956, 0.02140744, 0.007...543 , 0.01375234,\n       0.3739243 , 0.02151888]), array([0.03980718, 0.00957254, 0.30108334, 0.011...5659, 0.02792529,\n       0.01187424, 0.01223457]), array([0.01580541, 0.00686259, 0.46498465, 0.005...0719, 0.04697036,\n       0.01035984, 0.26750138]), array([0.24062859, 0.03586951, 0.01118935, 0.493...9752, 0.00441689,\n       0.04257396, 0.01066669]), array([0.45346388, 0.01963305, 0.01792912, 0.160...6999, 0.25219981,\n       0.02114304, 0.01648053]), array([0.22305868, 0.02020946, 0.01087926, 0.008...5692, 0.3566509 ,\n       0.00933768, 0.010286  ]), array([0.00813225, 0.50271524, 0.00701917, 0.003...7376, 0.00661752,\n       0.20091419, 0.01936108]), array([0.03435055, 0.01394274, 0.00964535, 0.011...4468, 0.00908611,\n       0.01190597, 0.36555494]), array([0.0140333 , 0.15483224, 0.01358498, 0.009...5164, 0.01181751,\n       0.58436943, 0.01920848]), array([0.00678359, 0.06537088, 0.00888842, 0.352...0498, 0.2358558 ,\n       0.03359509, 0.00580697]), ...]\n        y = ['Diminished', 'Diminished', 'Diminished', 'Diminished', 'Diminished', 'Diminished', 'Diminished', 'Diminished', 'Diminished', 'Diminished', 'Diminished', 'Diminished', 'Diminished', 'Diminished', 'Diminished', 'Diminished', 'Diminished', 'Diminished', 'Diminished', 'Diminished', ...]\n        groups = None\n    641 \n    642         # if one choose to see train score, \"out\" will contain train score info\n    643         if self.return_train_score:\n    644             (train_score_dicts, test_score_dicts, test_sample_counts, fit_time,\n\n...........................................................................\n/Users/mattgraziano/miniconda3/lib/python3.6/site-packages/sklearn/externals/joblib/parallel.py in __call__(self=Parallel(n_jobs=8), iterable=<generator object BaseSearchCV.fit.<locals>.<genexpr>>)\n    784             if pre_dispatch == \"all\" or n_jobs == 1:\n    785                 # The iterable was consumed all at once by the above for loop.\n    786                 # No need to wait for async callbacks to trigger to\n    787                 # consumption.\n    788                 self._iterating = False\n--> 789             self.retrieve()\n        self.retrieve = <bound method Parallel.retrieve of Parallel(n_jobs=8)>\n    790             # Make sure that we get a last message telling us we are done\n    791             elapsed_time = time.time() - self._start_time\n    792             self._print('Done %3i out of %3i | elapsed: %s finished',\n    793                         (len(self._output), len(self._output),\n\n---------------------------------------------------------------------------\nSub-process traceback:\n---------------------------------------------------------------------------\nValueError                                         Sun Dec  9 16:07:57 2018\nPID: 32961          Python 3.6.6: /Users/mattgraziano/miniconda3/bin/python\n...........................................................................\n/Users/mattgraziano/miniconda3/lib/python3.6/site-packages/sklearn/externals/joblib/parallel.py in __call__(self=<sklearn.externals.joblib.parallel.BatchedCalls object>)\n    126     def __init__(self, iterator_slice):\n    127         self.items = list(iterator_slice)\n    128         self._size = len(self.items)\n    129 \n    130     def __call__(self):\n--> 131         return [func(*args, **kwargs) for func, args, kwargs in self.items]\n        self.items = [(<function _fit_and_score>, (RandomForestClassifier(bootstrap=True, class_wei...te=None, verbose=0,\n            warm_start=False), [array([0.02481608, 0.0313775 , 0.24114856, 0.012...6332, 0.02728165,\n       0.02227423, 0.45039065]), array([0.40705663, 0.02026695, 0.00874063, 0.219...3962, 0.00816055,\n       0.02328133, 0.01062685]), array([0.02735932, 0.23143827, 0.02453552, 0.011...9679, 0.02341322,\n       0.44781716, 0.03067329]), array([0.52898837, 0.00800182, 0.00499292, 0.189...1802, 0.1543587 ,\n       0.02179417, 0.01137577]), array([0.3903493 , 0.03200056, 0.00443344, 0.003...4676, 0.36613043,\n       0.00893862, 0.00907616]), array([0.0136039 , 0.40107865, 0.01288493, 0.005...9827, 0.00942667,\n       0.01106257, 0.03024889]), array([0.01042004, 0.02478611, 0.00657964, 0.162...2932, 0.2917056 ,\n       0.02009293, 0.00968262]), array([0.02699256, 0.00329047, 0.002592  , 0.037...1518, 0.00417402,\n       0.00597252, 0.20443057]), array([0.00814028, 0.33853393, 0.03313347, 0.004...4218, 0.0089601 ,\n       0.38818895, 0.00936599]), array([0.00612736, 0.00411492, 0.28488798, 0.030...1654, 0.02739191,\n       0.00749626, 0.3323454 ]), array([0.01321583, 0.01134956, 0.02140744, 0.007...543 , 0.01375234,\n       0.3739243 , 0.02151888]), array([0.03980718, 0.00957254, 0.30108334, 0.011...5659, 0.02792529,\n       0.01187424, 0.01223457]), array([0.01580541, 0.00686259, 0.46498465, 0.005...0719, 0.04697036,\n       0.01035984, 0.26750138]), array([0.24062859, 0.03586951, 0.01118935, 0.493...9752, 0.00441689,\n       0.04257396, 0.01066669]), array([0.45346388, 0.01963305, 0.01792912, 0.160...6999, 0.25219981,\n       0.02114304, 0.01648053]), array([0.22305868, 0.02020946, 0.01087926, 0.008...5692, 0.3566509 ,\n       0.00933768, 0.010286  ]), array([0.00813225, 0.50271524, 0.00701917, 0.003...7376, 0.00661752,\n       0.20091419, 0.01936108]), array([0.03435055, 0.01394274, 0.00964535, 0.011...4468, 0.00908611,\n       0.01190597, 0.36555494]), array([0.0140333 , 0.15483224, 0.01358498, 0.009...5164, 0.01181751,\n       0.58436943, 0.01920848]), array([0.00678359, 0.06537088, 0.00888842, 0.352...0498, 0.2358558 ,\n       0.03359509, 0.00580697]), ...], ['Diminished', 'Diminished', 'Diminished', 'Diminished', 'Diminished', 'Diminished', 'Diminished', 'Diminished', 'Diminished', 'Diminished', 'Diminished', 'Diminished', 'Diminished', 'Diminished', 'Diminished', 'Diminished', 'Diminished', 'Diminished', 'Diminished', 'Diminished', ...], {'score': <function _passthrough_scorer>}, array([  3,   4,   5,   6,   7,   8,   9,  10,  ...78, 179, 180, 181, 182, 183, 184, 185, 186, 187]), array([  0,   1,   2,  24,  25,  26,  48,  49,  ...,\n       117, 118, 119, 120, 121, 122, 123, 124]), 0, {'bootstrap': True, 'criterion': 'gini', 'max_depth': 3, 'max_features': 25, 'min_samples_split': 5}), {'error_score': 'raise', 'fit_params': {}, 'return_n_test_samples': True, 'return_parameters': False, 'return_times': True, 'return_train_score': 'warn'})]\n    132 \n    133     def __len__(self):\n    134         return self._size\n    135 \n\n...........................................................................\n/Users/mattgraziano/miniconda3/lib/python3.6/site-packages/sklearn/externals/joblib/parallel.py in <listcomp>(.0=<list_iterator object>)\n    126     def __init__(self, iterator_slice):\n    127         self.items = list(iterator_slice)\n    128         self._size = len(self.items)\n    129 \n    130     def __call__(self):\n--> 131         return [func(*args, **kwargs) for func, args, kwargs in self.items]\n        func = <function _fit_and_score>\n        args = (RandomForestClassifier(bootstrap=True, class_wei...te=None, verbose=0,\n            warm_start=False), [array([0.02481608, 0.0313775 , 0.24114856, 0.012...6332, 0.02728165,\n       0.02227423, 0.45039065]), array([0.40705663, 0.02026695, 0.00874063, 0.219...3962, 0.00816055,\n       0.02328133, 0.01062685]), array([0.02735932, 0.23143827, 0.02453552, 0.011...9679, 0.02341322,\n       0.44781716, 0.03067329]), array([0.52898837, 0.00800182, 0.00499292, 0.189...1802, 0.1543587 ,\n       0.02179417, 0.01137577]), array([0.3903493 , 0.03200056, 0.00443344, 0.003...4676, 0.36613043,\n       0.00893862, 0.00907616]), array([0.0136039 , 0.40107865, 0.01288493, 0.005...9827, 0.00942667,\n       0.01106257, 0.03024889]), array([0.01042004, 0.02478611, 0.00657964, 0.162...2932, 0.2917056 ,\n       0.02009293, 0.00968262]), array([0.02699256, 0.00329047, 0.002592  , 0.037...1518, 0.00417402,\n       0.00597252, 0.20443057]), array([0.00814028, 0.33853393, 0.03313347, 0.004...4218, 0.0089601 ,\n       0.38818895, 0.00936599]), array([0.00612736, 0.00411492, 0.28488798, 0.030...1654, 0.02739191,\n       0.00749626, 0.3323454 ]), array([0.01321583, 0.01134956, 0.02140744, 0.007...543 , 0.01375234,\n       0.3739243 , 0.02151888]), array([0.03980718, 0.00957254, 0.30108334, 0.011...5659, 0.02792529,\n       0.01187424, 0.01223457]), array([0.01580541, 0.00686259, 0.46498465, 0.005...0719, 0.04697036,\n       0.01035984, 0.26750138]), array([0.24062859, 0.03586951, 0.01118935, 0.493...9752, 0.00441689,\n       0.04257396, 0.01066669]), array([0.45346388, 0.01963305, 0.01792912, 0.160...6999, 0.25219981,\n       0.02114304, 0.01648053]), array([0.22305868, 0.02020946, 0.01087926, 0.008...5692, 0.3566509 ,\n       0.00933768, 0.010286  ]), array([0.00813225, 0.50271524, 0.00701917, 0.003...7376, 0.00661752,\n       0.20091419, 0.01936108]), array([0.03435055, 0.01394274, 0.00964535, 0.011...4468, 0.00908611,\n       0.01190597, 0.36555494]), array([0.0140333 , 0.15483224, 0.01358498, 0.009...5164, 0.01181751,\n       0.58436943, 0.01920848]), array([0.00678359, 0.06537088, 0.00888842, 0.352...0498, 0.2358558 ,\n       0.03359509, 0.00580697]), ...], ['Diminished', 'Diminished', 'Diminished', 'Diminished', 'Diminished', 'Diminished', 'Diminished', 'Diminished', 'Diminished', 'Diminished', 'Diminished', 'Diminished', 'Diminished', 'Diminished', 'Diminished', 'Diminished', 'Diminished', 'Diminished', 'Diminished', 'Diminished', ...], {'score': <function _passthrough_scorer>}, array([  3,   4,   5,   6,   7,   8,   9,  10,  ...78, 179, 180, 181, 182, 183, 184, 185, 186, 187]), array([  0,   1,   2,  24,  25,  26,  48,  49,  ...,\n       117, 118, 119, 120, 121, 122, 123, 124]), 0, {'bootstrap': True, 'criterion': 'gini', 'max_depth': 3, 'max_features': 25, 'min_samples_split': 5})\n        kwargs = {'error_score': 'raise', 'fit_params': {}, 'return_n_test_samples': True, 'return_parameters': False, 'return_times': True, 'return_train_score': 'warn'}\n    132 \n    133     def __len__(self):\n    134         return self._size\n    135 \n\n...........................................................................\n/Users/mattgraziano/miniconda3/lib/python3.6/site-packages/sklearn/model_selection/_validation.py in _fit_and_score(estimator=RandomForestClassifier(bootstrap=True, class_wei...te=None, verbose=0,\n            warm_start=False), X=[array([0.02481608, 0.0313775 , 0.24114856, 0.012...6332, 0.02728165,\n       0.02227423, 0.45039065]), array([0.40705663, 0.02026695, 0.00874063, 0.219...3962, 0.00816055,\n       0.02328133, 0.01062685]), array([0.02735932, 0.23143827, 0.02453552, 0.011...9679, 0.02341322,\n       0.44781716, 0.03067329]), array([0.52898837, 0.00800182, 0.00499292, 0.189...1802, 0.1543587 ,\n       0.02179417, 0.01137577]), array([0.3903493 , 0.03200056, 0.00443344, 0.003...4676, 0.36613043,\n       0.00893862, 0.00907616]), array([0.0136039 , 0.40107865, 0.01288493, 0.005...9827, 0.00942667,\n       0.01106257, 0.03024889]), array([0.01042004, 0.02478611, 0.00657964, 0.162...2932, 0.2917056 ,\n       0.02009293, 0.00968262]), array([0.02699256, 0.00329047, 0.002592  , 0.037...1518, 0.00417402,\n       0.00597252, 0.20443057]), array([0.00814028, 0.33853393, 0.03313347, 0.004...4218, 0.0089601 ,\n       0.38818895, 0.00936599]), array([0.00612736, 0.00411492, 0.28488798, 0.030...1654, 0.02739191,\n       0.00749626, 0.3323454 ]), array([0.01321583, 0.01134956, 0.02140744, 0.007...543 , 0.01375234,\n       0.3739243 , 0.02151888]), array([0.03980718, 0.00957254, 0.30108334, 0.011...5659, 0.02792529,\n       0.01187424, 0.01223457]), array([0.01580541, 0.00686259, 0.46498465, 0.005...0719, 0.04697036,\n       0.01035984, 0.26750138]), array([0.24062859, 0.03586951, 0.01118935, 0.493...9752, 0.00441689,\n       0.04257396, 0.01066669]), array([0.45346388, 0.01963305, 0.01792912, 0.160...6999, 0.25219981,\n       0.02114304, 0.01648053]), array([0.22305868, 0.02020946, 0.01087926, 0.008...5692, 0.3566509 ,\n       0.00933768, 0.010286  ]), array([0.00813225, 0.50271524, 0.00701917, 0.003...7376, 0.00661752,\n       0.20091419, 0.01936108]), array([0.03435055, 0.01394274, 0.00964535, 0.011...4468, 0.00908611,\n       0.01190597, 0.36555494]), array([0.0140333 , 0.15483224, 0.01358498, 0.009...5164, 0.01181751,\n       0.58436943, 0.01920848]), array([0.00678359, 0.06537088, 0.00888842, 0.352...0498, 0.2358558 ,\n       0.03359509, 0.00580697]), ...], y=['Diminished', 'Diminished', 'Diminished', 'Diminished', 'Diminished', 'Diminished', 'Diminished', 'Diminished', 'Diminished', 'Diminished', 'Diminished', 'Diminished', 'Diminished', 'Diminished', 'Diminished', 'Diminished', 'Diminished', 'Diminished', 'Diminished', 'Diminished', ...], scorer={'score': <function _passthrough_scorer>}, train=array([  3,   4,   5,   6,   7,   8,   9,  10,  ...78, 179, 180, 181, 182, 183, 184, 185, 186, 187]), test=array([  0,   1,   2,  24,  25,  26,  48,  49,  ...,\n       117, 118, 119, 120, 121, 122, 123, 124]), verbose=0, parameters={'bootstrap': True, 'criterion': 'gini', 'max_depth': 3, 'max_features': 25, 'min_samples_split': 5}, fit_params={}, return_train_score='warn', return_parameters=False, return_n_test_samples=True, return_times=True, error_score='raise')\n    453 \n    454     try:\n    455         if y_train is None:\n    456             estimator.fit(X_train, **fit_params)\n    457         else:\n--> 458             estimator.fit(X_train, y_train, **fit_params)\n        estimator.fit = <bound method BaseForest.fit of RandomForestClas...e=None, verbose=0,\n            warm_start=False)>\n        X_train = [array([0.52898837, 0.00800182, 0.00499292, 0.189...1802, 0.1543587 ,\n       0.02179417, 0.01137577]), array([0.3903493 , 0.03200056, 0.00443344, 0.003...4676, 0.36613043,\n       0.00893862, 0.00907616]), array([0.0136039 , 0.40107865, 0.01288493, 0.005...9827, 0.00942667,\n       0.01106257, 0.03024889]), array([0.01042004, 0.02478611, 0.00657964, 0.162...2932, 0.2917056 ,\n       0.02009293, 0.00968262]), array([0.02699256, 0.00329047, 0.002592  , 0.037...1518, 0.00417402,\n       0.00597252, 0.20443057]), array([0.00814028, 0.33853393, 0.03313347, 0.004...4218, 0.0089601 ,\n       0.38818895, 0.00936599]), array([0.00612736, 0.00411492, 0.28488798, 0.030...1654, 0.02739191,\n       0.00749626, 0.3323454 ]), array([0.01321583, 0.01134956, 0.02140744, 0.007...543 , 0.01375234,\n       0.3739243 , 0.02151888]), array([0.03980718, 0.00957254, 0.30108334, 0.011...5659, 0.02792529,\n       0.01187424, 0.01223457]), array([0.01580541, 0.00686259, 0.46498465, 0.005...0719, 0.04697036,\n       0.01035984, 0.26750138]), array([0.24062859, 0.03586951, 0.01118935, 0.493...9752, 0.00441689,\n       0.04257396, 0.01066669]), array([0.45346388, 0.01963305, 0.01792912, 0.160...6999, 0.25219981,\n       0.02114304, 0.01648053]), array([0.22305868, 0.02020946, 0.01087926, 0.008...5692, 0.3566509 ,\n       0.00933768, 0.010286  ]), array([0.00813225, 0.50271524, 0.00701917, 0.003...7376, 0.00661752,\n       0.20091419, 0.01936108]), array([0.03435055, 0.01394274, 0.00964535, 0.011...4468, 0.00908611,\n       0.01190597, 0.36555494]), array([0.0140333 , 0.15483224, 0.01358498, 0.009...5164, 0.01181751,\n       0.58436943, 0.01920848]), array([0.00678359, 0.06537088, 0.00888842, 0.352...0498, 0.2358558 ,\n       0.03359509, 0.00580697]), array([0.00956548, 0.30625296, 0.03646417, 0.004...1907, 0.00328267,\n       0.00391388, 0.03370796]), array([0.00566623, 0.00583003, 0.05928722, 0.007...535 , 0.00686505,\n       0.18556004, 0.03466939]), array([0.03244662, 0.0058608 , 0.25733687, 0.029...5895, 0.00968093,\n       0.00398558, 0.00470945]), ...]\n        y_train = ['Diminished', 'Diminished', 'Diminished', 'Diminished', 'Diminished', 'Diminished', 'Diminished', 'Diminished', 'Diminished', 'Diminished', 'Diminished', 'Diminished', 'Diminished', 'Diminished', 'Diminished', 'Diminished', 'Diminished', 'Diminished', 'Diminished', 'Diminished', ...]\n        fit_params = {}\n    459 \n    460     except Exception as e:\n    461         # Note fit time as time until error\n    462         fit_time = time.time() - start_time\n\n...........................................................................\n/Users/mattgraziano/miniconda3/lib/python3.6/site-packages/sklearn/ensemble/forest.py in fit(self=RandomForestClassifier(bootstrap=True, class_wei...te=None, verbose=0,\n            warm_start=False), X=array([[0.52898836, 0.00800182, 0.00499292, ...,... 0.10649972,\n        0.04084063]], dtype=float32), y=array([[0.],\n       [0.],\n       [0.],\n       [0...    [3.],\n       [3.],\n       [3.],\n       [3.]]), sample_weight=None)\n    323             trees = Parallel(n_jobs=self.n_jobs, verbose=self.verbose,\n    324                              backend=\"threading\")(\n    325                 delayed(_parallel_build_trees)(\n    326                     t, self, X, y, sample_weight, i, len(trees),\n    327                     verbose=self.verbose, class_weight=self.class_weight)\n--> 328                 for i, t in enumerate(trees))\n        i = 499\n    329 \n    330             # Collect newly grown trees\n    331             self.estimators_.extend(trees)\n    332 \n\n...........................................................................\n/Users/mattgraziano/miniconda3/lib/python3.6/site-packages/sklearn/externals/joblib/parallel.py in __call__(self=Parallel(n_jobs=1), iterable=<generator object BaseForest.fit.<locals>.<genexpr>>)\n    774         self.n_completed_tasks = 0\n    775         try:\n    776             # Only set self._iterating to True if at least a batch\n    777             # was dispatched. In particular this covers the edge\n    778             # case of Parallel used with an exhausted iterator.\n--> 779             while self.dispatch_one_batch(iterator):\n        self.dispatch_one_batch = <bound method Parallel.dispatch_one_batch of Parallel(n_jobs=1)>\n        iterator = <generator object BaseForest.fit.<locals>.<genexpr>>\n    780                 self._iterating = True\n    781             else:\n    782                 self._iterating = False\n    783 \n\n...........................................................................\n/Users/mattgraziano/miniconda3/lib/python3.6/site-packages/sklearn/externals/joblib/parallel.py in dispatch_one_batch(self=Parallel(n_jobs=1), iterator=<generator object BaseForest.fit.<locals>.<genexpr>>)\n    620             tasks = BatchedCalls(itertools.islice(iterator, batch_size))\n    621             if len(tasks) == 0:\n    622                 # No more tasks available in the iterator: tell caller to stop.\n    623                 return False\n    624             else:\n--> 625                 self._dispatch(tasks)\n        self._dispatch = <bound method Parallel._dispatch of Parallel(n_jobs=1)>\n        tasks = <sklearn.externals.joblib.parallel.BatchedCalls object>\n    626                 return True\n    627 \n    628     def _print(self, msg, msg_args):\n    629         \"\"\"Display the message on stout or stderr depending on verbosity\"\"\"\n\n...........................................................................\n/Users/mattgraziano/miniconda3/lib/python3.6/site-packages/sklearn/externals/joblib/parallel.py in _dispatch(self=Parallel(n_jobs=1), batch=<sklearn.externals.joblib.parallel.BatchedCalls object>)\n    583         self.n_dispatched_tasks += len(batch)\n    584         self.n_dispatched_batches += 1\n    585 \n    586         dispatch_timestamp = time.time()\n    587         cb = BatchCompletionCallBack(dispatch_timestamp, len(batch), self)\n--> 588         job = self._backend.apply_async(batch, callback=cb)\n        job = undefined\n        self._backend.apply_async = <bound method SequentialBackend.apply_async of <...lib._parallel_backends.SequentialBackend object>>\n        batch = <sklearn.externals.joblib.parallel.BatchedCalls object>\n        cb = <sklearn.externals.joblib.parallel.BatchCompletionCallBack object>\n    589         self._jobs.append(job)\n    590 \n    591     def dispatch_next(self):\n    592         \"\"\"Dispatch more data for parallel processing\n\n...........................................................................\n/Users/mattgraziano/miniconda3/lib/python3.6/site-packages/sklearn/externals/joblib/_parallel_backends.py in apply_async(self=<sklearn.externals.joblib._parallel_backends.SequentialBackend object>, func=<sklearn.externals.joblib.parallel.BatchedCalls object>, callback=<sklearn.externals.joblib.parallel.BatchCompletionCallBack object>)\n    106             raise ValueError('n_jobs == 0 in Parallel has no meaning')\n    107         return 1\n    108 \n    109     def apply_async(self, func, callback=None):\n    110         \"\"\"Schedule a func to be run\"\"\"\n--> 111         result = ImmediateResult(func)\n        result = undefined\n        func = <sklearn.externals.joblib.parallel.BatchedCalls object>\n    112         if callback:\n    113             callback(result)\n    114         return result\n    115 \n\n...........................................................................\n/Users/mattgraziano/miniconda3/lib/python3.6/site-packages/sklearn/externals/joblib/_parallel_backends.py in __init__(self=<sklearn.externals.joblib._parallel_backends.ImmediateResult object>, batch=<sklearn.externals.joblib.parallel.BatchedCalls object>)\n    327 \n    328 class ImmediateResult(object):\n    329     def __init__(self, batch):\n    330         # Don't delay the application, to avoid keeping the input\n    331         # arguments in memory\n--> 332         self.results = batch()\n        self.results = undefined\n        batch = <sklearn.externals.joblib.parallel.BatchedCalls object>\n    333 \n    334     def get(self):\n    335         return self.results\n    336 \n\n...........................................................................\n/Users/mattgraziano/miniconda3/lib/python3.6/site-packages/sklearn/externals/joblib/parallel.py in __call__(self=<sklearn.externals.joblib.parallel.BatchedCalls object>)\n    126     def __init__(self, iterator_slice):\n    127         self.items = list(iterator_slice)\n    128         self._size = len(self.items)\n    129 \n    130     def __call__(self):\n--> 131         return [func(*args, **kwargs) for func, args, kwargs in self.items]\n        self.items = [(<function _parallel_build_trees>, (DecisionTreeClassifier(class_weight=None, criter...         random_state=478285657, splitter='best'), RandomForestClassifier(bootstrap=True, class_wei...te=None, verbose=0,\n            warm_start=False), array([[0.52898836, 0.00800182, 0.00499292, ...,... 0.10649972,\n        0.04084063]], dtype=float32), array([[0.],\n       [0.],\n       [0.],\n       [0...    [3.],\n       [3.],\n       [3.],\n       [3.]]), None, 0, 500), {'class_weight': None, 'verbose': 0})]\n    132 \n    133     def __len__(self):\n    134         return self._size\n    135 \n\n...........................................................................\n/Users/mattgraziano/miniconda3/lib/python3.6/site-packages/sklearn/externals/joblib/parallel.py in <listcomp>(.0=<list_iterator object>)\n    126     def __init__(self, iterator_slice):\n    127         self.items = list(iterator_slice)\n    128         self._size = len(self.items)\n    129 \n    130     def __call__(self):\n--> 131         return [func(*args, **kwargs) for func, args, kwargs in self.items]\n        func = <function _parallel_build_trees>\n        args = (DecisionTreeClassifier(class_weight=None, criter...         random_state=478285657, splitter='best'), RandomForestClassifier(bootstrap=True, class_wei...te=None, verbose=0,\n            warm_start=False), array([[0.52898836, 0.00800182, 0.00499292, ...,... 0.10649972,\n        0.04084063]], dtype=float32), array([[0.],\n       [0.],\n       [0.],\n       [0...    [3.],\n       [3.],\n       [3.],\n       [3.]]), None, 0, 500)\n        kwargs = {'class_weight': None, 'verbose': 0}\n    132 \n    133     def __len__(self):\n    134         return self._size\n    135 \n\n...........................................................................\n/Users/mattgraziano/miniconda3/lib/python3.6/site-packages/sklearn/ensemble/forest.py in _parallel_build_trees(tree=DecisionTreeClassifier(class_weight=None, criter...         random_state=478285657, splitter='best'), forest=RandomForestClassifier(bootstrap=True, class_wei...te=None, verbose=0,\n            warm_start=False), X=array([[0.52898836, 0.00800182, 0.00499292, ...,... 0.10649972,\n        0.04084063]], dtype=float32), y=array([[0.],\n       [0.],\n       [0.],\n       [0...    [3.],\n       [3.],\n       [3.],\n       [3.]]), sample_weight=None, tree_idx=0, n_trees=500, verbose=0, class_weight=None)\n    116                 warnings.simplefilter('ignore', DeprecationWarning)\n    117                 curr_sample_weight *= compute_sample_weight('auto', y, indices)\n    118         elif class_weight == 'balanced_subsample':\n    119             curr_sample_weight *= compute_sample_weight('balanced', y, indices)\n    120 \n--> 121         tree.fit(X, y, sample_weight=curr_sample_weight, check_input=False)\n        tree.fit = <bound method DecisionTreeClassifier.fit of Deci...        random_state=478285657, splitter='best')>\n        X = array([[0.52898836, 0.00800182, 0.00499292, ...,... 0.10649972,\n        0.04084063]], dtype=float32)\n        y = array([[0.],\n       [0.],\n       [0.],\n       [0...    [3.],\n       [3.],\n       [3.],\n       [3.]])\n        sample_weight = None\n        curr_sample_weight = array([0., 0., 1., 1., 0., 1., 1., 0., 0., 2., 1... 2., 4., 1., 0., 2., 0., 1., 2., 0., 0., 0., 2.])\n    122     else:\n    123         tree.fit(X, y, sample_weight=sample_weight, check_input=False)\n    124 \n    125     return tree\n\n...........................................................................\n/Users/mattgraziano/miniconda3/lib/python3.6/site-packages/sklearn/tree/tree.py in fit(self=DecisionTreeClassifier(class_weight=None, criter...         random_state=478285657, splitter='best'), X=array([[0.52898836, 0.00800182, 0.00499292, ...,... 0.10649972,\n        0.04084063]], dtype=float32), y=array([[0.],\n       [0.],\n       [0.],\n       [0...    [3.],\n       [3.],\n       [3.],\n       [3.]]), sample_weight=array([0., 0., 1., 1., 0., 1., 1., 0., 0., 2., 1... 2., 4., 1., 0., 2., 0., 1., 2., 0., 0., 0., 2.]), check_input=False, X_idx_sorted=None)\n    785 \n    786         super(DecisionTreeClassifier, self).fit(\n    787             X, y,\n    788             sample_weight=sample_weight,\n    789             check_input=check_input,\n--> 790             X_idx_sorted=X_idx_sorted)\n        X_idx_sorted = None\n    791         return self\n    792 \n    793     def predict_proba(self, X, check_input=True):\n    794         \"\"\"Predict class probabilities of the input samples X.\n\n...........................................................................\n/Users/mattgraziano/miniconda3/lib/python3.6/site-packages/sklearn/tree/tree.py in fit(self=DecisionTreeClassifier(class_weight=None, criter...         random_state=478285657, splitter='best'), X=array([[0.52898836, 0.00800182, 0.00499292, ...,... 0.10649972,\n        0.04084063]], dtype=float32), y=array([[0.],\n       [0.],\n       [0.],\n       [0...    [3.],\n       [3.],\n       [3.],\n       [3.]]), sample_weight=array([0., 0., 1., 1., 0., 1., 1., 0., 0., 2., 1... 2., 4., 1., 0., 2., 0., 1., 2., 0., 0., 0., 2.]), check_input=False, X_idx_sorted=None)\n    237         if not 0 <= self.min_weight_fraction_leaf <= 0.5:\n    238             raise ValueError(\"min_weight_fraction_leaf must in [0, 0.5]\")\n    239         if max_depth <= 0:\n    240             raise ValueError(\"max_depth must be greater than zero. \")\n    241         if not (0 < max_features <= self.n_features_):\n--> 242             raise ValueError(\"max_features must be in (0, n_features]\")\n    243         if not isinstance(max_leaf_nodes, (numbers.Integral, np.integer)):\n    244             raise ValueError(\"max_leaf_nodes must be integral number but was \"\n    245                              \"%r\" % max_leaf_nodes)\n    246         if -1 < max_leaf_nodes < 2:\n\nValueError: max_features must be in (0, n_features]\n___________________________________________________________________________"
     ]
    }
   ],
   "source": [
    "transforms = ['stft', 'mel', 'cqt', 'chroma']\n",
    "\n",
    "results_param_df = []\n",
    "for transform in tqdm(transforms):\n",
    "    # DATA IMPORT\n",
    "    raw_signals = []\n",
    "    samp_rates = []\n",
    "    x_train = []\n",
    "    for filename in tqdm(recording_filenames):\n",
    "        sound, sr = sf.read(filename)\n",
    "\n",
    "        raw_signals.append(sound)\n",
    "        samp_rates.append(sr)\n",
    "        cleaned = get_clean_x(sound, sr=sr, nth_largest=-10, spectype=transform)\n",
    "#         cleaned = cleaned[:, 0]\n",
    "        x_train.append(cleaned.flatten())\n",
    "\n",
    "\n",
    "    # Get y categories\n",
    "    y_train = [i.split('/')[2] for i in recording_filenames]\n",
    "    le_chord_structure = LabelEncoder()\n",
    "    le_chord_structure.fit(y_train)\n",
    "    y_train_int = to_categorical(le_chord_structure.transform(y_train))\n",
    "\n",
    "    \n",
    "    # TRAIN MODELS\n",
    "    \n",
    "    #RF\n",
    "    print(\"RF\")\n",
    "    rf = RandomForestClassifier(n_estimators=500)\n",
    "\n",
    "    # Adjust max_features based on features available after each transform\n",
    "    \n",
    "    features_avail = x_train[0].shape[0]\n",
    "    max_features_iter = [10, 40, 70, 100]\n",
    "    \n",
    "    param_grid = {\"max_depth\": [3, 5, 10],\n",
    "                  \"max_features\": list(np.array(max_features_iter)[np.where(features_avail >= np.array(max_features_iter))[0]]),\n",
    "                  \"min_samples_split\": [5, 10, 15],\n",
    "                  \"bootstrap\": [True],\n",
    "                  \"criterion\": [\"gini\"]}\n",
    "\n",
    "    # run grid search\n",
    "    rf_grid_search = GridSearchCV(rf, param_grid=param_grid, cv=10, n_jobs=8)\n",
    "\n",
    "    rf_grid_search.fit(x_train, y_train)\n",
    "    \n",
    "    # Convert parameter grid and cv results to dataframe\n",
    "    rf_results_df = pd.DataFrame(rf_grid_search.cv_results_)[['params', 'mean_train_score', 'mean_test_score']]\n",
    "    rf_results_df['transform'] = transform\n",
    "    rf_results_df['mod'] = 'RF'\n",
    "    results_param_df.append(rf_results_df)\n",
    "    \n",
    "    \n",
    "    # LR\n",
    "    print(\"LR\")\n",
    "    lr = LogisticRegression()\n",
    "\n",
    "    param_grid = {\"penalty\": ['l1', 'l2'],\n",
    "                  \"dual\": [False],\n",
    "                  \"fit_intercept\": [True, False],\n",
    "                  \"multi_class\": ['ovr']}\n",
    "\n",
    "    # run grid search\n",
    "    lr_grid_search = GridSearchCV(lr, param_grid=param_grid, cv=10, n_jobs=8)\n",
    "\n",
    "    lr_grid_search.fit(x_train, y_train)\n",
    "\n",
    "    # Convert parameter grid and cv results to dataframe\n",
    "    lr_results_df = pd.DataFrame(lr_grid_search.cv_results_)[['params', 'mean_train_score', 'mean_test_score']]\n",
    "    lr_results_df['transform'] = transform\n",
    "    lr_results_df['mod'] = 'LR'\n",
    "    results_param_df.append(lr_results_df)\n",
    "    \n",
    "\n",
    "    # SVM\n",
    "    print(\"SVM\")\n",
    "    svm = SVC()\n",
    "\n",
    "    param_grid = {\"C\": [.5, 1, 1.5],\n",
    "                  \"kernel\": ['rbf', 'poly', 'sigmoid'],\n",
    "                  \"degree\": [3, 4, 5],\n",
    "                  \"shrinking\": [True, False]}\n",
    "\n",
    "    # run grid search\n",
    "    svm_grid_search = GridSearchCV(svm, param_grid=param_grid, cv=10, n_jobs=8)\n",
    "\n",
    "    svm_grid_search.fit(x_train, y_train)\n",
    "\n",
    "    # Convert parameter grid and cv results to dataframe\n",
    "    svm_results_df = pd.DataFrame(svm_grid_search.cv_results_)[['params', 'mean_train_score', 'mean_test_score']]\n",
    "    svm_results_df['transform'] = transform\n",
    "    svm_results_df['mod'] = 'SVM'\n",
    "    results_param_df.append(svm_results_df)\n",
    "\n",
    "    \n",
    "    # GBM\n",
    "    print(\"GBM\")\n",
    "    gbm = GradientBoostingClassifier(learning_rate=.01, n_estimators=500)\n",
    "\n",
    "    param_grid = {\"subsample\": [.8, 1],\n",
    "                  \"learning_rate\": [2, 4, 6],\n",
    "                  \"min_samples_leaf\": [1, 3, 5],\n",
    "                  \"max_depth\": [3, 5, 10]}\n",
    "\n",
    "    # run grid search\n",
    "    gbm_grid_search = GridSearchCV(gbm, param_grid=param_grid, cv=10, n_jobs=8)\n",
    "\n",
    "    gbm_grid_search.fit(x_train, y_train)\n",
    "\n",
    "    # Convert parameter grid and cv results to dataframe\n",
    "    gbm_results_df = pd.DataFrame(gbm_grid_search.cv_results_)[['params', 'mean_train_score', 'mean_test_score']]\n",
    "    gbm_results_df['transform'] = transform\n",
    "    gbm_results_df['mod'] = 'GBM'\n",
    "    results_param_df.append(gbm_results_df)\n",
    "\n"
   ]
  },
  {
   "cell_type": "code",
   "execution_count": 46,
   "metadata": {},
   "outputs": [],
   "source": [
    "results_param_df_all = pd.concat(results_param_df)"
   ]
  },
  {
   "cell_type": "code",
   "execution_count": 47,
   "metadata": {},
   "outputs": [],
   "source": [
    "results_param_df_all.to_csv(\"data/otherMods_gridsearch_results.csv\")"
   ]
  },
  {
   "cell_type": "code",
   "execution_count": 21,
   "metadata": {},
   "outputs": [],
   "source": []
  },
  {
   "cell_type": "code",
   "execution_count": 27,
   "metadata": {},
   "outputs": [],
   "source": []
  },
  {
   "cell_type": "code",
   "execution_count": 38,
   "metadata": {},
   "outputs": [
    {
     "data": {
      "text/plain": [
       "[10]"
      ]
     },
     "execution_count": 38,
     "metadata": {},
     "output_type": "execute_result"
    }
   ],
   "source": [
    "list(np.array(max_features_iter)[np.where(features_avail >= np.array(max_features_iter))[0]])"
   ]
  },
  {
   "cell_type": "code",
   "execution_count": 24,
   "metadata": {},
   "outputs": [
    {
     "ename": "TypeError",
     "evalue": "'>=' not supported between instances of 'int' and 'list'",
     "output_type": "error",
     "traceback": [
      "\u001b[0;31m---------------------------------------------------------------------------\u001b[0m",
      "\u001b[0;31mTypeError\u001b[0m                                 Traceback (most recent call last)",
      "\u001b[0;32m<ipython-input-24-d0db1e3694a8>\u001b[0m in \u001b[0;36m<module>\u001b[0;34m()\u001b[0m\n\u001b[0;32m----> 1\u001b[0;31m \u001b[0mfeatures_avail\u001b[0m \u001b[0;34m>=\u001b[0m \u001b[0mmax_features_iter\u001b[0m\u001b[0;34m\u001b[0m\u001b[0m\n\u001b[0m",
      "\u001b[0;31mTypeError\u001b[0m: '>=' not supported between instances of 'int' and 'list'"
     ]
    }
   ],
   "source": [
    "features_avail >= max_features_iter"
   ]
  },
  {
   "cell_type": "code",
   "execution_count": null,
   "metadata": {},
   "outputs": [],
   "source": []
  },
  {
   "cell_type": "code",
   "execution_count": 40,
   "metadata": {},
   "outputs": [],
   "source": [
    "nn_output = glob(\"data/nn*.csv\")"
   ]
  },
  {
   "cell_type": "code",
   "execution_count": 41,
   "metadata": {},
   "outputs": [],
   "source": [
    "nn_output_list = [pd.read_csv(nn_output_iter) for nn_output_iter in nn_output]\n",
    "nn_output_df = pd.concat(nn_output_list)"
   ]
  },
  {
   "cell_type": "code",
   "execution_count": 43,
   "metadata": {},
   "outputs": [],
   "source": [
    "nn_output_df.to_csv(\"data/all_nn_nonstandard.csv\", index=False)"
   ]
  },
  {
   "cell_type": "code",
   "execution_count": 45,
   "metadata": {},
   "outputs": [
    {
     "data": {
      "text/plain": [
       "188"
      ]
     },
     "execution_count": 45,
     "metadata": {},
     "output_type": "execute_result"
    }
   ],
   "source": [
    "len(x_train)"
   ]
  },
  {
   "cell_type": "code",
   "execution_count": null,
   "metadata": {},
   "outputs": [],
   "source": []
  },
  {
   "cell_type": "code",
   "execution_count": null,
   "metadata": {},
   "outputs": [],
   "source": []
  },
  {
   "cell_type": "code",
   "execution_count": null,
   "metadata": {},
   "outputs": [],
   "source": []
  },
  {
   "cell_type": "code",
   "execution_count": null,
   "metadata": {},
   "outputs": [],
   "source": []
  },
  {
   "cell_type": "code",
   "execution_count": null,
   "metadata": {},
   "outputs": [],
   "source": []
  },
  {
   "cell_type": "code",
   "execution_count": null,
   "metadata": {},
   "outputs": [],
   "source": []
  },
  {
   "cell_type": "code",
   "execution_count": null,
   "metadata": {},
   "outputs": [],
   "source": []
  },
  {
   "cell_type": "code",
   "execution_count": null,
   "metadata": {},
   "outputs": [],
   "source": []
  },
  {
   "cell_type": "markdown",
   "metadata": {},
   "source": [
    "## Standardize input"
   ]
  },
  {
   "cell_type": "code",
   "execution_count": 16,
   "metadata": {},
   "outputs": [],
   "source": [
    "def get_clean_x(signal, sr=44100, nth_largest=-45, spectype=\"mel\"):\n",
    "    spectrogram = get_spectrogram(signal, sr=sr, spectype=spectype)\n",
    "\n",
    "    # Get 45th largest value\n",
    "    # This is needed to noisy data\n",
    "    nth_largest_threshold = nth_largest_col_sum(spectrogram, nth_largest)\n",
    "    \n",
    "    # remove all columsn whose sum is less than t\n",
    "    clean = spectrogram[:, np.sum(spectrogram, axis=0) >= nth_largest_threshold]\n",
    "    \n",
    "    # Get column averages of the max n columns in lieu of using the entire spectrogram\n",
    "    clean = np.mean(clean, axis=1)\n",
    "    \n",
    "    return clean"
   ]
  },
  {
   "cell_type": "code",
   "execution_count": null,
   "metadata": {},
   "outputs": [
    {
     "data": {
      "application/vnd.jupyter.widget-view+json": {
       "model_id": "f4e11b8eabc14a298614c7ad80aac417",
       "version_major": 2,
       "version_minor": 0
      },
      "text/plain": [
       "HBox(children=(IntProgress(value=0, max=1), HTML(value='')))"
      ]
     },
     "metadata": {},
     "output_type": "display_data"
    },
    {
     "data": {
      "application/vnd.jupyter.widget-view+json": {
       "model_id": "8940f7a4b9374c708178b9539e1944e7",
       "version_major": 2,
       "version_minor": 0
      },
      "text/plain": [
       "HBox(children=(IntProgress(value=0, max=188), HTML(value='')))"
      ]
     },
     "metadata": {},
     "output_type": "display_data"
    },
    {
     "name": "stdout",
     "output_type": "stream",
     "text": [
      "NN1\n",
      "NN1-a\n"
     ]
    }
   ],
   "source": [
    "# transforms = ['chroma']\n",
    "transforms = ['chroma']\n",
    "# transforms = ['stft', 'mel', 'cqt', 'chroma']\n",
    "\n",
    "results_param_df = []\n",
    "for transform in tqdm(transforms):\n",
    "    # DATA IMPORT\n",
    "    raw_signals = []\n",
    "    samp_rates = []\n",
    "    x_train = []\n",
    "    for filename in tqdm(recording_filenames):\n",
    "        sound, sr = sf.read(filename)\n",
    "\n",
    "        raw_signals.append(sound)\n",
    "        samp_rates.append(sr)\n",
    "        cleaned = get_clean_x(sound, sr=sr, nth_largest=-10, spectype=transform)\n",
    "        x_train.append(cleaned.flatten())\n",
    "    \n",
    "    x_train = np.array(x_train)\n",
    "    x_train = (x_train - x_train.min(0)) / x_train.ptp(0)\n",
    "    \n",
    "    # Get y categories\n",
    "    y_train = [i.split('/')[2] for i in recording_filenames]\n",
    "    le_chord_structure = LabelEncoder()\n",
    "    le_chord_structure.fit(y_train)\n",
    "    y_train_int = to_categorical(le_chord_structure.transform(y_train))\n",
    "\n",
    "    \n",
    "    \n",
    "    # NN mod 1\n",
    "    print(\"NN1\")\n",
    "    mod1_nn = KerasClassifier(build_fn=mod2,\n",
    "                              verbose=0)\n",
    "    \n",
    "    # define the grid search parameters    \n",
    "    param_grid = dict(input_shape=[x_train[0].shape[0]],\n",
    "                      output_shape=[y_train_int.shape[1]],\n",
    "                      lay1_units=[20, 50],\n",
    "                      lay2_units=[20, 50],\n",
    "                      lay3_units=[20, 50],\n",
    "                      activation=['relu', 'tanh', 'elu'],\n",
    "                      batch_size=[16],\n",
    "                      epochs=[15])\n",
    "\n",
    "    param_grid = dict(input_shape=[x_train[0].shape[0]],\n",
    "                  output_shape=[y_train_int.shape[1]],\n",
    "                  lay1_units=[50, 100],\n",
    "                  lay2_units=[50, 100],\n",
    "                  activation=['relu', 'tanh'],\n",
    "                  batch_size=[16, 32],\n",
    "                  epochs=[5, 20])\n",
    "    \n",
    "    mod1_nn_grid_search = GridSearchCV(estimator=mod1_nn, param_grid=param_grid, cv=10, n_jobs=-1)\n",
    "    print(\"NN1-a\")    \n",
    "    mod1_nn_grid_search.fit(np.array(x_train), y_train_int)\n",
    "    print(\"NN1-b\")\n",
    "\n",
    "    # Convert parameter grid and cv results to dataframe\n",
    "    mod1_nn_results_df = pd.DataFrame(mod1_nn_grid_search.cv_results_)[['params', 'mean_train_score', 'mean_test_score']]\n",
    "    mod1_nn_results_df['transform'] = transform\n",
    "    mod1_nn_results_df['mod'] = 'NN_1'\n",
    "    results_param_df.append(mod1_nn_results_df)"
   ]
  },
  {
   "cell_type": "code",
   "execution_count": 55,
   "metadata": {},
   "outputs": [],
   "source": [
    "results_param_df_all = pd.concat(results_param_df)\n",
    "results_param_df_all.to_csv(\"data/nn1_grid_output_chroma_standardized.csv\")"
   ]
  },
  {
   "cell_type": "code",
   "execution_count": null,
   "metadata": {},
   "outputs": [],
   "source": []
  },
  {
   "cell_type": "code",
   "execution_count": 18,
   "metadata": {},
   "outputs": [],
   "source": [
    "results_param_df_all = pd.concat(results_param_df)\n",
    "results_param_df_all.to_csv(\"data/nn2_grid_output_chroma_standardized.csv\")"
   ]
  },
  {
   "cell_type": "code",
   "execution_count": null,
   "metadata": {},
   "outputs": [],
   "source": []
  },
  {
   "cell_type": "code",
   "execution_count": null,
   "metadata": {},
   "outputs": [],
   "source": []
  },
  {
   "cell_type": "code",
   "execution_count": null,
   "metadata": {},
   "outputs": [],
   "source": []
  },
  {
   "cell_type": "code",
   "execution_count": null,
   "metadata": {},
   "outputs": [],
   "source": []
  },
  {
   "cell_type": "code",
   "execution_count": null,
   "metadata": {},
   "outputs": [],
   "source": []
  }
 ],
 "metadata": {
  "kernelspec": {
   "display_name": "Python 3",
   "language": "python",
   "name": "python3"
  },
  "language_info": {
   "codemirror_mode": {
    "name": "ipython",
    "version": 3
   },
   "file_extension": ".py",
   "mimetype": "text/x-python",
   "name": "python",
   "nbconvert_exporter": "python",
   "pygments_lexer": "ipython3",
   "version": "3.6.6"
  }
 },
 "nbformat": 4,
 "nbformat_minor": 2
}
